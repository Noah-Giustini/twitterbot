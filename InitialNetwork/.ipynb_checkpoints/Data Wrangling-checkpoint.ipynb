{
 "cells": [
  {
   "cell_type": "markdown",
   "id": "15012732",
   "metadata": {},
   "source": [
    "# Data Wrangling"
   ]
  },
  {
   "cell_type": "code",
   "execution_count": 1,
   "id": "90d22699",
   "metadata": {},
   "outputs": [],
   "source": [
    "import pandas as pd\n",
    "import networkx as nx\n",
    "import matplotlib.pyplot as plt\n",
    "import matplotlib as mpl\n",
    "%matplotlib inline"
   ]
  },
  {
   "cell_type": "markdown",
   "id": "a5817a9d",
   "metadata": {},
   "source": [
    "## Create Tweet Nodes"
   ]
  },
  {
   "cell_type": "code",
   "execution_count": 2,
   "id": "fd52a7d0",
   "metadata": {},
   "outputs": [],
   "source": [
    "tweets = pd.read_csv(\"tweet-user-edges.csv\")"
   ]
  },
  {
   "cell_type": "code",
   "execution_count": 3,
   "id": "ce7a066a",
   "metadata": {},
   "outputs": [
    {
     "data": {
      "text/html": [
       "<div>\n",
       "<style scoped>\n",
       "    .dataframe tbody tr th:only-of-type {\n",
       "        vertical-align: middle;\n",
       "    }\n",
       "\n",
       "    .dataframe tbody tr th {\n",
       "        vertical-align: top;\n",
       "    }\n",
       "\n",
       "    .dataframe thead th {\n",
       "        text-align: right;\n",
       "    }\n",
       "</style>\n",
       "<table border=\"1\" class=\"dataframe\">\n",
       "  <thead>\n",
       "    <tr style=\"text-align: right;\">\n",
       "      <th></th>\n",
       "      <th>tweetId</th>\n",
       "      <th>UserId</th>\n",
       "      <th>twitterName</th>\n",
       "      <th>dateCreated</th>\n",
       "      <th>First Name</th>\n",
       "      <th>Last Name</th>\n",
       "      <th>Political Affiliation</th>\n",
       "    </tr>\n",
       "  </thead>\n",
       "  <tbody>\n",
       "    <tr>\n",
       "      <th>0</th>\n",
       "      <td>1442922344037552128</td>\n",
       "      <td>83508245</td>\n",
       "      <td>dckurek</td>\n",
       "      <td>2021-09-28T18:41:09.000Z</td>\n",
       "      <td>Damien</td>\n",
       "      <td>Kurek</td>\n",
       "      <td>Conservative</td>\n",
       "    </tr>\n",
       "    <tr>\n",
       "      <th>1</th>\n",
       "      <td>1442922342644998150</td>\n",
       "      <td>83508245</td>\n",
       "      <td>dckurek</td>\n",
       "      <td>2021-09-28T18:41:09.000Z</td>\n",
       "      <td>Damien</td>\n",
       "      <td>Kurek</td>\n",
       "      <td>Conservative</td>\n",
       "    </tr>\n",
       "    <tr>\n",
       "      <th>2</th>\n",
       "      <td>1440394467337334798</td>\n",
       "      <td>83508245</td>\n",
       "      <td>dckurek</td>\n",
       "      <td>2021-09-21T19:16:16.000Z</td>\n",
       "      <td>Damien</td>\n",
       "      <td>Kurek</td>\n",
       "      <td>Conservative</td>\n",
       "    </tr>\n",
       "    <tr>\n",
       "      <th>3</th>\n",
       "      <td>1440126344067629056</td>\n",
       "      <td>83508245</td>\n",
       "      <td>dckurek</td>\n",
       "      <td>2021-09-21T01:30:51.000Z</td>\n",
       "      <td>Damien</td>\n",
       "      <td>Kurek</td>\n",
       "      <td>Conservative</td>\n",
       "    </tr>\n",
       "    <tr>\n",
       "      <th>4</th>\n",
       "      <td>1449082201023389703</td>\n",
       "      <td>4568748862</td>\n",
       "      <td>ziad_aboultaif</td>\n",
       "      <td>2021-10-15T18:38:14.000Z</td>\n",
       "      <td>Ziad</td>\n",
       "      <td>Aboultaif</td>\n",
       "      <td>Conservative</td>\n",
       "    </tr>\n",
       "  </tbody>\n",
       "</table>\n",
       "</div>"
      ],
      "text/plain": [
       "               tweetId      UserId     twitterName               dateCreated  \\\n",
       "0  1442922344037552128    83508245         dckurek  2021-09-28T18:41:09.000Z   \n",
       "1  1442922342644998150    83508245         dckurek  2021-09-28T18:41:09.000Z   \n",
       "2  1440394467337334798    83508245         dckurek  2021-09-21T19:16:16.000Z   \n",
       "3  1440126344067629056    83508245         dckurek  2021-09-21T01:30:51.000Z   \n",
       "4  1449082201023389703  4568748862  ziad_aboultaif  2021-10-15T18:38:14.000Z   \n",
       "\n",
       "  First Name  Last Name Political Affiliation  \n",
       "0     Damien      Kurek          Conservative  \n",
       "1     Damien      Kurek          Conservative  \n",
       "2     Damien      Kurek          Conservative  \n",
       "3     Damien      Kurek          Conservative  \n",
       "4       Ziad  Aboultaif          Conservative  "
      ]
     },
     "execution_count": 3,
     "metadata": {},
     "output_type": "execute_result"
    }
   ],
   "source": [
    "tweets.head()"
   ]
  },
  {
   "cell_type": "code",
   "execution_count": 4,
   "id": "53d69463",
   "metadata": {},
   "outputs": [],
   "source": [
    "justTweets = tweets[['tweetId', 'dateCreated']]"
   ]
  },
  {
   "cell_type": "code",
   "execution_count": 5,
   "id": "b8432094",
   "metadata": {},
   "outputs": [
    {
     "data": {
      "text/html": [
       "<div>\n",
       "<style scoped>\n",
       "    .dataframe tbody tr th:only-of-type {\n",
       "        vertical-align: middle;\n",
       "    }\n",
       "\n",
       "    .dataframe tbody tr th {\n",
       "        vertical-align: top;\n",
       "    }\n",
       "\n",
       "    .dataframe thead th {\n",
       "        text-align: right;\n",
       "    }\n",
       "</style>\n",
       "<table border=\"1\" class=\"dataframe\">\n",
       "  <thead>\n",
       "    <tr style=\"text-align: right;\">\n",
       "      <th></th>\n",
       "      <th>tweetId</th>\n",
       "      <th>dateCreated</th>\n",
       "    </tr>\n",
       "  </thead>\n",
       "  <tbody>\n",
       "    <tr>\n",
       "      <th>0</th>\n",
       "      <td>1442922344037552128</td>\n",
       "      <td>2021-09-28T18:41:09.000Z</td>\n",
       "    </tr>\n",
       "    <tr>\n",
       "      <th>1</th>\n",
       "      <td>1442922342644998150</td>\n",
       "      <td>2021-09-28T18:41:09.000Z</td>\n",
       "    </tr>\n",
       "    <tr>\n",
       "      <th>2</th>\n",
       "      <td>1440394467337334798</td>\n",
       "      <td>2021-09-21T19:16:16.000Z</td>\n",
       "    </tr>\n",
       "    <tr>\n",
       "      <th>3</th>\n",
       "      <td>1440126344067629056</td>\n",
       "      <td>2021-09-21T01:30:51.000Z</td>\n",
       "    </tr>\n",
       "    <tr>\n",
       "      <th>4</th>\n",
       "      <td>1449082201023389703</td>\n",
       "      <td>2021-10-15T18:38:14.000Z</td>\n",
       "    </tr>\n",
       "  </tbody>\n",
       "</table>\n",
       "</div>"
      ],
      "text/plain": [
       "               tweetId               dateCreated\n",
       "0  1442922344037552128  2021-09-28T18:41:09.000Z\n",
       "1  1442922342644998150  2021-09-28T18:41:09.000Z\n",
       "2  1440394467337334798  2021-09-21T19:16:16.000Z\n",
       "3  1440126344067629056  2021-09-21T01:30:51.000Z\n",
       "4  1449082201023389703  2021-10-15T18:38:14.000Z"
      ]
     },
     "execution_count": 5,
     "metadata": {},
     "output_type": "execute_result"
    }
   ],
   "source": [
    "justTweets.head()"
   ]
  },
  {
   "cell_type": "code",
   "execution_count": 6,
   "id": "107383f2",
   "metadata": {},
   "outputs": [],
   "source": [
    "justTweets = justTweets.set_index('tweetId')"
   ]
  },
  {
   "cell_type": "code",
   "execution_count": 7,
   "id": "ce34ce60",
   "metadata": {},
   "outputs": [],
   "source": [
    "justTweets.to_csv('tweet_nodes.csv')"
   ]
  },
  {
   "cell_type": "markdown",
   "id": "5e979fef",
   "metadata": {},
   "source": [
    "## Create MP Nodes "
   ]
  },
  {
   "cell_type": "code",
   "execution_count": 8,
   "id": "b9fc198a",
   "metadata": {},
   "outputs": [],
   "source": [
    "mps_df = tweets.drop(['tweetId','dateCreated'], axis=1)"
   ]
  },
  {
   "cell_type": "code",
   "execution_count": 9,
   "id": "d47c2c9d",
   "metadata": {},
   "outputs": [
    {
     "data": {
      "text/html": [
       "<div>\n",
       "<style scoped>\n",
       "    .dataframe tbody tr th:only-of-type {\n",
       "        vertical-align: middle;\n",
       "    }\n",
       "\n",
       "    .dataframe tbody tr th {\n",
       "        vertical-align: top;\n",
       "    }\n",
       "\n",
       "    .dataframe thead th {\n",
       "        text-align: right;\n",
       "    }\n",
       "</style>\n",
       "<table border=\"1\" class=\"dataframe\">\n",
       "  <thead>\n",
       "    <tr style=\"text-align: right;\">\n",
       "      <th></th>\n",
       "      <th>UserId</th>\n",
       "      <th>twitterName</th>\n",
       "      <th>First Name</th>\n",
       "      <th>Last Name</th>\n",
       "      <th>Political Affiliation</th>\n",
       "    </tr>\n",
       "  </thead>\n",
       "  <tbody>\n",
       "    <tr>\n",
       "      <th>0</th>\n",
       "      <td>83508245</td>\n",
       "      <td>dckurek</td>\n",
       "      <td>Damien</td>\n",
       "      <td>Kurek</td>\n",
       "      <td>Conservative</td>\n",
       "    </tr>\n",
       "    <tr>\n",
       "      <th>1</th>\n",
       "      <td>83508245</td>\n",
       "      <td>dckurek</td>\n",
       "      <td>Damien</td>\n",
       "      <td>Kurek</td>\n",
       "      <td>Conservative</td>\n",
       "    </tr>\n",
       "    <tr>\n",
       "      <th>2</th>\n",
       "      <td>83508245</td>\n",
       "      <td>dckurek</td>\n",
       "      <td>Damien</td>\n",
       "      <td>Kurek</td>\n",
       "      <td>Conservative</td>\n",
       "    </tr>\n",
       "    <tr>\n",
       "      <th>3</th>\n",
       "      <td>83508245</td>\n",
       "      <td>dckurek</td>\n",
       "      <td>Damien</td>\n",
       "      <td>Kurek</td>\n",
       "      <td>Conservative</td>\n",
       "    </tr>\n",
       "    <tr>\n",
       "      <th>4</th>\n",
       "      <td>4568748862</td>\n",
       "      <td>ziad_aboultaif</td>\n",
       "      <td>Ziad</td>\n",
       "      <td>Aboultaif</td>\n",
       "      <td>Conservative</td>\n",
       "    </tr>\n",
       "  </tbody>\n",
       "</table>\n",
       "</div>"
      ],
      "text/plain": [
       "       UserId     twitterName First Name  Last Name Political Affiliation\n",
       "0    83508245         dckurek     Damien      Kurek          Conservative\n",
       "1    83508245         dckurek     Damien      Kurek          Conservative\n",
       "2    83508245         dckurek     Damien      Kurek          Conservative\n",
       "3    83508245         dckurek     Damien      Kurek          Conservative\n",
       "4  4568748862  ziad_aboultaif       Ziad  Aboultaif          Conservative"
      ]
     },
     "execution_count": 9,
     "metadata": {},
     "output_type": "execute_result"
    }
   ],
   "source": [
    "mps_df.head()"
   ]
  },
  {
   "cell_type": "code",
   "execution_count": 10,
   "id": "11019bf3",
   "metadata": {},
   "outputs": [],
   "source": [
    "mps_df = mps_df.drop_duplicates()"
   ]
  },
  {
   "cell_type": "code",
   "execution_count": 11,
   "id": "ea5cc177",
   "metadata": {},
   "outputs": [
    {
     "data": {
      "text/html": [
       "<div>\n",
       "<style scoped>\n",
       "    .dataframe tbody tr th:only-of-type {\n",
       "        vertical-align: middle;\n",
       "    }\n",
       "\n",
       "    .dataframe tbody tr th {\n",
       "        vertical-align: top;\n",
       "    }\n",
       "\n",
       "    .dataframe thead th {\n",
       "        text-align: right;\n",
       "    }\n",
       "</style>\n",
       "<table border=\"1\" class=\"dataframe\">\n",
       "  <thead>\n",
       "    <tr style=\"text-align: right;\">\n",
       "      <th></th>\n",
       "      <th>UserId</th>\n",
       "      <th>twitterName</th>\n",
       "      <th>First Name</th>\n",
       "      <th>Last Name</th>\n",
       "      <th>Political Affiliation</th>\n",
       "    </tr>\n",
       "  </thead>\n",
       "  <tbody>\n",
       "    <tr>\n",
       "      <th>0</th>\n",
       "      <td>83508245</td>\n",
       "      <td>dckurek</td>\n",
       "      <td>Damien</td>\n",
       "      <td>Kurek</td>\n",
       "      <td>Conservative</td>\n",
       "    </tr>\n",
       "    <tr>\n",
       "      <th>4</th>\n",
       "      <td>4568748862</td>\n",
       "      <td>ziad_aboultaif</td>\n",
       "      <td>Ziad</td>\n",
       "      <td>Aboultaif</td>\n",
       "      <td>Conservative</td>\n",
       "    </tr>\n",
       "    <tr>\n",
       "      <th>14</th>\n",
       "      <td>44070432</td>\n",
       "      <td>LailaGoodridge</td>\n",
       "      <td>Laila</td>\n",
       "      <td>Goodridge</td>\n",
       "      <td>Conservative</td>\n",
       "    </tr>\n",
       "    <tr>\n",
       "      <th>21</th>\n",
       "      <td>1425866189780160514</td>\n",
       "      <td>POhara2021</td>\n",
       "      <td>Patrick</td>\n",
       "      <td>O'Hara</td>\n",
       "      <td>Bloc Québécois</td>\n",
       "    </tr>\n",
       "    <tr>\n",
       "      <th>34</th>\n",
       "      <td>1420552213253038080</td>\n",
       "      <td>NathalieSincla3</td>\n",
       "      <td>Nathalie</td>\n",
       "      <td>Sinclair-Desgagné</td>\n",
       "      <td>Bloc Québécois</td>\n",
       "    </tr>\n",
       "  </tbody>\n",
       "</table>\n",
       "</div>"
      ],
      "text/plain": [
       "                 UserId      twitterName First Name          Last Name  \\\n",
       "0              83508245          dckurek     Damien              Kurek   \n",
       "4            4568748862   ziad_aboultaif       Ziad          Aboultaif   \n",
       "14             44070432   LailaGoodridge      Laila          Goodridge   \n",
       "21  1425866189780160514       POhara2021    Patrick             O'Hara   \n",
       "34  1420552213253038080  NathalieSincla3   Nathalie  Sinclair-Desgagné   \n",
       "\n",
       "   Political Affiliation  \n",
       "0           Conservative  \n",
       "4           Conservative  \n",
       "14          Conservative  \n",
       "21        Bloc Québécois  \n",
       "34        Bloc Québécois  "
      ]
     },
     "execution_count": 11,
     "metadata": {},
     "output_type": "execute_result"
    }
   ],
   "source": [
    "mps_df.head()"
   ]
  },
  {
   "cell_type": "code",
   "execution_count": 12,
   "id": "e18951af",
   "metadata": {},
   "outputs": [],
   "source": [
    "mps_df = mps_df.set_index('UserId')"
   ]
  },
  {
   "cell_type": "code",
   "execution_count": 13,
   "id": "0a0aab37",
   "metadata": {},
   "outputs": [],
   "source": [
    "mps_df.to_csv('mps_nodes.csv')"
   ]
  },
  {
   "cell_type": "markdown",
   "id": "589b369e",
   "metadata": {},
   "source": [
    "## Get Retweeting User Nodes"
   ]
  },
  {
   "cell_type": "code",
   "execution_count": 14,
   "id": "b392bbe4",
   "metadata": {},
   "outputs": [],
   "source": [
    "tweet_retweet_df = pd.read_csv('tweet-retweet.csv')"
   ]
  },
  {
   "cell_type": "code",
   "execution_count": 15,
   "id": "fd63edd9",
   "metadata": {},
   "outputs": [
    {
     "data": {
      "text/html": [
       "<div>\n",
       "<style scoped>\n",
       "    .dataframe tbody tr th:only-of-type {\n",
       "        vertical-align: middle;\n",
       "    }\n",
       "\n",
       "    .dataframe tbody tr th {\n",
       "        vertical-align: top;\n",
       "    }\n",
       "\n",
       "    .dataframe thead th {\n",
       "        text-align: right;\n",
       "    }\n",
       "</style>\n",
       "<table border=\"1\" class=\"dataframe\">\n",
       "  <thead>\n",
       "    <tr style=\"text-align: right;\">\n",
       "      <th></th>\n",
       "      <th>tweetId</th>\n",
       "      <th>userId</th>\n",
       "    </tr>\n",
       "  </thead>\n",
       "  <tbody>\n",
       "    <tr>\n",
       "      <th>17599</th>\n",
       "      <td>1443563877774602249</td>\n",
       "      <td>422122218</td>\n",
       "    </tr>\n",
       "    <tr>\n",
       "      <th>17600</th>\n",
       "      <td>1443563877774602249</td>\n",
       "      <td>2176915064</td>\n",
       "    </tr>\n",
       "    <tr>\n",
       "      <th>17601</th>\n",
       "      <td>1443563877774602249</td>\n",
       "      <td>37552089</td>\n",
       "    </tr>\n",
       "    <tr>\n",
       "      <th>17602</th>\n",
       "      <td>1443563877774602249</td>\n",
       "      <td>1380961578288316416</td>\n",
       "    </tr>\n",
       "    <tr>\n",
       "      <th>17603</th>\n",
       "      <td>1443563877774602249</td>\n",
       "      <td>153515039</td>\n",
       "    </tr>\n",
       "  </tbody>\n",
       "</table>\n",
       "</div>"
      ],
      "text/plain": [
       "                   tweetId               userId\n",
       "17599  1443563877774602249            422122218\n",
       "17600  1443563877774602249           2176915064\n",
       "17601  1443563877774602249             37552089\n",
       "17602  1443563877774602249  1380961578288316416\n",
       "17603  1443563877774602249            153515039"
      ]
     },
     "execution_count": 15,
     "metadata": {},
     "output_type": "execute_result"
    }
   ],
   "source": [
    "tweet_retweet_df.tail()"
   ]
  },
  {
   "cell_type": "code",
   "execution_count": 16,
   "id": "74ccccdc",
   "metadata": {},
   "outputs": [],
   "source": [
    "retweeters_df = tweet_retweet_df['userId']"
   ]
  },
  {
   "cell_type": "code",
   "execution_count": 17,
   "id": "60e19c9c",
   "metadata": {},
   "outputs": [
    {
     "data": {
      "text/plain": [
       "17599              422122218\n",
       "17600             2176915064\n",
       "17601               37552089\n",
       "17602    1380961578288316416\n",
       "17603              153515039\n",
       "Name: userId, dtype: int64"
      ]
     },
     "execution_count": 17,
     "metadata": {},
     "output_type": "execute_result"
    }
   ],
   "source": [
    "retweeters_df.tail()"
   ]
  },
  {
   "cell_type": "code",
   "execution_count": 30,
   "id": "3c4712cd",
   "metadata": {},
   "outputs": [
    {
     "ename": "AttributeError",
     "evalue": "'Series' object has no attribute 'set_index'",
     "output_type": "error",
     "traceback": [
      "\u001b[1;31m---------------------------------------------------------------------------\u001b[0m",
      "\u001b[1;31mAttributeError\u001b[0m                            Traceback (most recent call last)",
      "\u001b[1;32m~\\AppData\\Local\\Temp/ipykernel_3196/135308151.py\u001b[0m in \u001b[0;36m<module>\u001b[1;34m\u001b[0m\n\u001b[0;32m      1\u001b[0m \u001b[0mnew_df\u001b[0m \u001b[1;33m=\u001b[0m \u001b[0mretweeters_df\u001b[0m\u001b[1;33m.\u001b[0m\u001b[0mdrop_duplicates\u001b[0m\u001b[1;33m(\u001b[0m\u001b[1;33m)\u001b[0m\u001b[1;33m\u001b[0m\u001b[0m\n\u001b[1;32m----> 2\u001b[1;33m \u001b[0mnew_df\u001b[0m \u001b[1;33m=\u001b[0m \u001b[0mnew_df\u001b[0m\u001b[1;33m.\u001b[0m\u001b[0mset_index\u001b[0m\u001b[1;33m(\u001b[0m\u001b[1;34m'userId'\u001b[0m\u001b[1;33m)\u001b[0m\u001b[1;33m\u001b[0m\u001b[0m\n\u001b[0m",
      "\u001b[1;32mc:\\users\\kaitl\\appdata\\local\\programs\\python\\python37\\lib\\site-packages\\pandas\\core\\generic.py\u001b[0m in \u001b[0;36m__getattr__\u001b[1;34m(self, name)\u001b[0m\n\u001b[0;32m   5139\u001b[0m             \u001b[1;32mif\u001b[0m \u001b[0mself\u001b[0m\u001b[1;33m.\u001b[0m\u001b[0m_info_axis\u001b[0m\u001b[1;33m.\u001b[0m\u001b[0m_can_hold_identifiers_and_holds_name\u001b[0m\u001b[1;33m(\u001b[0m\u001b[0mname\u001b[0m\u001b[1;33m)\u001b[0m\u001b[1;33m:\u001b[0m\u001b[1;33m\u001b[0m\u001b[0m\n\u001b[0;32m   5140\u001b[0m                 \u001b[1;32mreturn\u001b[0m \u001b[0mself\u001b[0m\u001b[1;33m[\u001b[0m\u001b[0mname\u001b[0m\u001b[1;33m]\u001b[0m\u001b[1;33m\u001b[0m\u001b[0m\n\u001b[1;32m-> 5141\u001b[1;33m             \u001b[1;32mreturn\u001b[0m \u001b[0mobject\u001b[0m\u001b[1;33m.\u001b[0m\u001b[0m__getattribute__\u001b[0m\u001b[1;33m(\u001b[0m\u001b[0mself\u001b[0m\u001b[1;33m,\u001b[0m \u001b[0mname\u001b[0m\u001b[1;33m)\u001b[0m\u001b[1;33m\u001b[0m\u001b[0m\n\u001b[0m\u001b[0;32m   5142\u001b[0m \u001b[1;33m\u001b[0m\u001b[0m\n\u001b[0;32m   5143\u001b[0m     \u001b[1;32mdef\u001b[0m \u001b[0m__setattr__\u001b[0m\u001b[1;33m(\u001b[0m\u001b[0mself\u001b[0m\u001b[1;33m,\u001b[0m \u001b[0mname\u001b[0m\u001b[1;33m:\u001b[0m \u001b[0mstr\u001b[0m\u001b[1;33m,\u001b[0m \u001b[0mvalue\u001b[0m\u001b[1;33m)\u001b[0m \u001b[1;33m->\u001b[0m \u001b[1;32mNone\u001b[0m\u001b[1;33m:\u001b[0m\u001b[1;33m\u001b[0m\u001b[0m\n",
      "\u001b[1;31mAttributeError\u001b[0m: 'Series' object has no attribute 'set_index'"
     ]
    }
   ],
   "source": [
    "new_df = retweeters_df.drop_duplicates()\n",
    "new_df = new_df.set_index('userId')"
   ]
  },
  {
   "cell_type": "raw",
   "id": "46ab5b55",
   "metadata": {},
   "source": [
    "new_df.to_csv('retweeters.csv')"
   ]
  },
  {
   "cell_type": "code",
   "execution_count": 22,
   "id": "113e6f7b",
   "metadata": {},
   "outputs": [
    {
     "data": {
      "text/plain": [
       "17604"
      ]
     },
     "execution_count": 22,
     "metadata": {},
     "output_type": "execute_result"
    }
   ],
   "source": [
    "tweet_retweet_df['userId'].size"
   ]
  },
  {
   "cell_type": "code",
   "execution_count": 23,
   "id": "a25683c8",
   "metadata": {},
   "outputs": [
    {
     "data": {
      "text/plain": [
       "6540"
      ]
     },
     "execution_count": 23,
     "metadata": {},
     "output_type": "execute_result"
    }
   ],
   "source": [
    "new_df.size"
   ]
  },
  {
   "cell_type": "code",
   "execution_count": 26,
   "id": "a57a758e",
   "metadata": {},
   "outputs": [
    {
     "ename": "AttributeError",
     "evalue": "'Series' object has no attribute 'set_index'",
     "output_type": "error",
     "traceback": [
      "\u001b[1;31m---------------------------------------------------------------------------\u001b[0m",
      "\u001b[1;31mAttributeError\u001b[0m                            Traceback (most recent call last)",
      "\u001b[1;32m~\\AppData\\Local\\Temp/ipykernel_3196/3677068551.py\u001b[0m in \u001b[0;36m<module>\u001b[1;34m\u001b[0m\n\u001b[1;32m----> 1\u001b[1;33m \u001b[0mnew_df\u001b[0m \u001b[1;33m=\u001b[0m \u001b[0mnew_df\u001b[0m\u001b[1;33m.\u001b[0m\u001b[0mset_index\u001b[0m\u001b[1;33m(\u001b[0m\u001b[1;34m'userId'\u001b[0m\u001b[1;33m)\u001b[0m\u001b[1;33m\u001b[0m\u001b[0m\n\u001b[0m\u001b[0;32m      2\u001b[0m \u001b[0mnew_df\u001b[0m\u001b[1;33m.\u001b[0m\u001b[0mto_csv\u001b[0m\u001b[1;33m(\u001b[0m\u001b[1;34m'retweetingUsers_nodes.csv'\u001b[0m\u001b[1;33m)\u001b[0m\u001b[1;33m\u001b[0m\u001b[0m\n",
      "\u001b[1;32mc:\\users\\kaitl\\appdata\\local\\programs\\python\\python37\\lib\\site-packages\\pandas\\core\\generic.py\u001b[0m in \u001b[0;36m__getattr__\u001b[1;34m(self, name)\u001b[0m\n\u001b[0;32m   5139\u001b[0m             \u001b[1;32mif\u001b[0m \u001b[0mself\u001b[0m\u001b[1;33m.\u001b[0m\u001b[0m_info_axis\u001b[0m\u001b[1;33m.\u001b[0m\u001b[0m_can_hold_identifiers_and_holds_name\u001b[0m\u001b[1;33m(\u001b[0m\u001b[0mname\u001b[0m\u001b[1;33m)\u001b[0m\u001b[1;33m:\u001b[0m\u001b[1;33m\u001b[0m\u001b[0m\n\u001b[0;32m   5140\u001b[0m                 \u001b[1;32mreturn\u001b[0m \u001b[0mself\u001b[0m\u001b[1;33m[\u001b[0m\u001b[0mname\u001b[0m\u001b[1;33m]\u001b[0m\u001b[1;33m\u001b[0m\u001b[0m\n\u001b[1;32m-> 5141\u001b[1;33m             \u001b[1;32mreturn\u001b[0m \u001b[0mobject\u001b[0m\u001b[1;33m.\u001b[0m\u001b[0m__getattribute__\u001b[0m\u001b[1;33m(\u001b[0m\u001b[0mself\u001b[0m\u001b[1;33m,\u001b[0m \u001b[0mname\u001b[0m\u001b[1;33m)\u001b[0m\u001b[1;33m\u001b[0m\u001b[0m\n\u001b[0m\u001b[0;32m   5142\u001b[0m \u001b[1;33m\u001b[0m\u001b[0m\n\u001b[0;32m   5143\u001b[0m     \u001b[1;32mdef\u001b[0m \u001b[0m__setattr__\u001b[0m\u001b[1;33m(\u001b[0m\u001b[0mself\u001b[0m\u001b[1;33m,\u001b[0m \u001b[0mname\u001b[0m\u001b[1;33m:\u001b[0m \u001b[0mstr\u001b[0m\u001b[1;33m,\u001b[0m \u001b[0mvalue\u001b[0m\u001b[1;33m)\u001b[0m \u001b[1;33m->\u001b[0m \u001b[1;32mNone\u001b[0m\u001b[1;33m:\u001b[0m\u001b[1;33m\u001b[0m\u001b[0m\n",
      "\u001b[1;31mAttributeError\u001b[0m: 'Series' object has no attribute 'set_index'"
     ]
    }
   ],
   "source": [
    "\n",
    "new_df.to_csv('retweetingUsers_nodes.csv')"
   ]
  },
  {
   "cell_type": "code",
   "execution_count": 32,
   "id": "45f9080a",
   "metadata": {},
   "outputs": [],
   "source": [
    "new_df = pd.read_csv('retweetingUsers_nodes.csv')"
   ]
  },
  {
   "cell_type": "code",
   "execution_count": 34,
   "id": "c9889e7c",
   "metadata": {},
   "outputs": [],
   "source": [
    "new_df = new_df.set_index('userId')"
   ]
  },
  {
   "cell_type": "code",
   "execution_count": 35,
   "id": "e61cbd68",
   "metadata": {},
   "outputs": [
    {
     "data": {
      "text/html": [
       "<div>\n",
       "<style scoped>\n",
       "    .dataframe tbody tr th:only-of-type {\n",
       "        vertical-align: middle;\n",
       "    }\n",
       "\n",
       "    .dataframe tbody tr th {\n",
       "        vertical-align: top;\n",
       "    }\n",
       "\n",
       "    .dataframe thead th {\n",
       "        text-align: right;\n",
       "    }\n",
       "</style>\n",
       "<table border=\"1\" class=\"dataframe\">\n",
       "  <thead>\n",
       "    <tr style=\"text-align: right;\">\n",
       "      <th></th>\n",
       "      <th>Unnamed: 0</th>\n",
       "    </tr>\n",
       "    <tr>\n",
       "      <th>userId</th>\n",
       "      <th></th>\n",
       "    </tr>\n",
       "  </thead>\n",
       "  <tbody>\n",
       "    <tr>\n",
       "      <th>260265236</th>\n",
       "      <td>0</td>\n",
       "    </tr>\n",
       "    <tr>\n",
       "      <th>787774368566816768</th>\n",
       "      <td>1</td>\n",
       "    </tr>\n",
       "    <tr>\n",
       "      <th>857464194626727936</th>\n",
       "      <td>2</td>\n",
       "    </tr>\n",
       "    <tr>\n",
       "      <th>1307814874999742464</th>\n",
       "      <td>3</td>\n",
       "    </tr>\n",
       "    <tr>\n",
       "      <th>2550603348</th>\n",
       "      <td>4</td>\n",
       "    </tr>\n",
       "  </tbody>\n",
       "</table>\n",
       "</div>"
      ],
      "text/plain": [
       "                     Unnamed: 0\n",
       "userId                         \n",
       "260265236                     0\n",
       "787774368566816768            1\n",
       "857464194626727936            2\n",
       "1307814874999742464           3\n",
       "2550603348                    4"
      ]
     },
     "execution_count": 35,
     "metadata": {},
     "output_type": "execute_result"
    }
   ],
   "source": [
    "new_df.head()"
   ]
  },
  {
   "cell_type": "code",
   "execution_count": 36,
   "id": "4b8a61d7",
   "metadata": {},
   "outputs": [],
   "source": [
    "new_df = new_df.drop('Unnamed: 0', axis = 1)"
   ]
  },
  {
   "cell_type": "code",
   "execution_count": 37,
   "id": "489012ab",
   "metadata": {},
   "outputs": [],
   "source": [
    "new_df.to_csv('retweetingUsers_nodes.csv')"
   ]
  },
  {
   "cell_type": "markdown",
   "id": "ab6446a3",
   "metadata": {},
   "source": [
    "## Edges for MPs and Tweets"
   ]
  },
  {
   "cell_type": "code",
   "execution_count": 38,
   "id": "a4b72d60",
   "metadata": {},
   "outputs": [],
   "source": [
    "mp_tweets = pd.read_csv('tweet-user-edges.csv')"
   ]
  },
  {
   "cell_type": "code",
   "execution_count": 42,
   "id": "392a43c4",
   "metadata": {},
   "outputs": [
    {
     "data": {
      "text/html": [
       "<div>\n",
       "<style scoped>\n",
       "    .dataframe tbody tr th:only-of-type {\n",
       "        vertical-align: middle;\n",
       "    }\n",
       "\n",
       "    .dataframe tbody tr th {\n",
       "        vertical-align: top;\n",
       "    }\n",
       "\n",
       "    .dataframe thead th {\n",
       "        text-align: right;\n",
       "    }\n",
       "</style>\n",
       "<table border=\"1\" class=\"dataframe\">\n",
       "  <thead>\n",
       "    <tr style=\"text-align: right;\">\n",
       "      <th></th>\n",
       "      <th>tweetId</th>\n",
       "      <th>UserId</th>\n",
       "    </tr>\n",
       "  </thead>\n",
       "  <tbody>\n",
       "    <tr>\n",
       "      <th>0</th>\n",
       "      <td>1442922344037552128</td>\n",
       "      <td>83508245</td>\n",
       "    </tr>\n",
       "    <tr>\n",
       "      <th>1</th>\n",
       "      <td>1442922342644998150</td>\n",
       "      <td>83508245</td>\n",
       "    </tr>\n",
       "    <tr>\n",
       "      <th>2</th>\n",
       "      <td>1440394467337334798</td>\n",
       "      <td>83508245</td>\n",
       "    </tr>\n",
       "    <tr>\n",
       "      <th>3</th>\n",
       "      <td>1440126344067629056</td>\n",
       "      <td>83508245</td>\n",
       "    </tr>\n",
       "    <tr>\n",
       "      <th>4</th>\n",
       "      <td>1449082201023389703</td>\n",
       "      <td>4568748862</td>\n",
       "    </tr>\n",
       "  </tbody>\n",
       "</table>\n",
       "</div>"
      ],
      "text/plain": [
       "               tweetId      UserId\n",
       "0  1442922344037552128    83508245\n",
       "1  1442922342644998150    83508245\n",
       "2  1440394467337334798    83508245\n",
       "3  1440126344067629056    83508245\n",
       "4  1449082201023389703  4568748862"
      ]
     },
     "execution_count": 42,
     "metadata": {},
     "output_type": "execute_result"
    }
   ],
   "source": [
    "mp_tweets.head()"
   ]
  },
  {
   "cell_type": "code",
   "execution_count": 41,
   "id": "e2bf6460",
   "metadata": {},
   "outputs": [],
   "source": [
    "mp_tweets = mp_tweets[['tweetId', 'UserId']]"
   ]
  },
  {
   "cell_type": "code",
   "execution_count": 45,
   "id": "d70b5872",
   "metadata": {},
   "outputs": [],
   "source": [
    "mp_tweets = mp_tweets.rename(columns={'tweetId': 'Source', 'UserId': 'Target'})"
   ]
  },
  {
   "cell_type": "code",
   "execution_count": 48,
   "id": "4d070176",
   "metadata": {},
   "outputs": [],
   "source": [
    "mp_tweets = mp_tweets.set_index('Source')"
   ]
  },
  {
   "cell_type": "code",
   "execution_count": 50,
   "id": "f60424a8",
   "metadata": {},
   "outputs": [
    {
     "data": {
      "text/html": [
       "<div>\n",
       "<style scoped>\n",
       "    .dataframe tbody tr th:only-of-type {\n",
       "        vertical-align: middle;\n",
       "    }\n",
       "\n",
       "    .dataframe tbody tr th {\n",
       "        vertical-align: top;\n",
       "    }\n",
       "\n",
       "    .dataframe thead th {\n",
       "        text-align: right;\n",
       "    }\n",
       "</style>\n",
       "<table border=\"1\" class=\"dataframe\">\n",
       "  <thead>\n",
       "    <tr style=\"text-align: right;\">\n",
       "      <th></th>\n",
       "      <th>Target</th>\n",
       "    </tr>\n",
       "    <tr>\n",
       "      <th>Source</th>\n",
       "      <th></th>\n",
       "    </tr>\n",
       "  </thead>\n",
       "  <tbody>\n",
       "    <tr>\n",
       "      <th>1442922344037552128</th>\n",
       "      <td>83508245</td>\n",
       "    </tr>\n",
       "    <tr>\n",
       "      <th>1442922342644998150</th>\n",
       "      <td>83508245</td>\n",
       "    </tr>\n",
       "    <tr>\n",
       "      <th>1440394467337334798</th>\n",
       "      <td>83508245</td>\n",
       "    </tr>\n",
       "    <tr>\n",
       "      <th>1440126344067629056</th>\n",
       "      <td>83508245</td>\n",
       "    </tr>\n",
       "    <tr>\n",
       "      <th>1449082201023389703</th>\n",
       "      <td>4568748862</td>\n",
       "    </tr>\n",
       "  </tbody>\n",
       "</table>\n",
       "</div>"
      ],
      "text/plain": [
       "                         Target\n",
       "Source                         \n",
       "1442922344037552128    83508245\n",
       "1442922342644998150    83508245\n",
       "1440394467337334798    83508245\n",
       "1440126344067629056    83508245\n",
       "1449082201023389703  4568748862"
      ]
     },
     "execution_count": 50,
     "metadata": {},
     "output_type": "execute_result"
    }
   ],
   "source": [
    "mp_tweets.head()"
   ]
  },
  {
   "cell_type": "code",
   "execution_count": 49,
   "id": "07049281",
   "metadata": {},
   "outputs": [],
   "source": [
    "mp_tweets.to_csv('tweet-mp-edges.csv')"
   ]
  },
  {
   "cell_type": "markdown",
   "id": "852d6aeb",
   "metadata": {},
   "source": [
    "# Subset Network Creation"
   ]
  },
  {
   "cell_type": "markdown",
   "id": "8cb32518",
   "metadata": {},
   "source": [
    "Take a subset of MP's to show off the network"
   ]
  },
  {
   "cell_type": "code",
   "execution_count": 51,
   "id": "c670e0b7",
   "metadata": {},
   "outputs": [],
   "source": [
    "mps_nodes = pd.read_csv('mps_nodes.csv')"
   ]
  },
  {
   "cell_type": "code",
   "execution_count": 52,
   "id": "16490766",
   "metadata": {},
   "outputs": [],
   "source": [
    "mps_nodes_subset = mps_nodes.sample(5)"
   ]
  },
  {
   "cell_type": "code",
   "execution_count": 53,
   "id": "64705496",
   "metadata": {},
   "outputs": [
    {
     "data": {
      "text/html": [
       "<div>\n",
       "<style scoped>\n",
       "    .dataframe tbody tr th:only-of-type {\n",
       "        vertical-align: middle;\n",
       "    }\n",
       "\n",
       "    .dataframe tbody tr th {\n",
       "        vertical-align: top;\n",
       "    }\n",
       "\n",
       "    .dataframe thead th {\n",
       "        text-align: right;\n",
       "    }\n",
       "</style>\n",
       "<table border=\"1\" class=\"dataframe\">\n",
       "  <thead>\n",
       "    <tr style=\"text-align: right;\">\n",
       "      <th></th>\n",
       "      <th>UserId</th>\n",
       "      <th>twitterName</th>\n",
       "      <th>First Name</th>\n",
       "      <th>Last Name</th>\n",
       "      <th>Political Affiliation</th>\n",
       "    </tr>\n",
       "  </thead>\n",
       "  <tbody>\n",
       "    <tr>\n",
       "      <th>94</th>\n",
       "      <td>564207331</td>\n",
       "      <td>MichaelKramSK</td>\n",
       "      <td>Michael</td>\n",
       "      <td>Kram</td>\n",
       "      <td>Conservative</td>\n",
       "    </tr>\n",
       "    <tr>\n",
       "      <th>180</th>\n",
       "      <td>2352629420</td>\n",
       "      <td>JennaSudds</td>\n",
       "      <td>Jenna</td>\n",
       "      <td>Sudds</td>\n",
       "      <td>Liberal</td>\n",
       "    </tr>\n",
       "    <tr>\n",
       "      <th>24</th>\n",
       "      <td>1044738781171961856</td>\n",
       "      <td>GregMcLeanYYC</td>\n",
       "      <td>Greg</td>\n",
       "      <td>McLean</td>\n",
       "      <td>Conservative</td>\n",
       "    </tr>\n",
       "    <tr>\n",
       "      <th>60</th>\n",
       "      <td>4504267216</td>\n",
       "      <td>m_pauze</td>\n",
       "      <td>Monique</td>\n",
       "      <td>Pauzé</td>\n",
       "      <td>Bloc Québécois</td>\n",
       "    </tr>\n",
       "    <tr>\n",
       "      <th>51</th>\n",
       "      <td>1686740173</td>\n",
       "      <td>LarryMaguireMP</td>\n",
       "      <td>Larry</td>\n",
       "      <td>Maguire</td>\n",
       "      <td>Conservative</td>\n",
       "    </tr>\n",
       "  </tbody>\n",
       "</table>\n",
       "</div>"
      ],
      "text/plain": [
       "                  UserId     twitterName First Name Last Name  \\\n",
       "94             564207331   MichaelKramSK    Michael      Kram   \n",
       "180           2352629420      JennaSudds      Jenna     Sudds   \n",
       "24   1044738781171961856   GregMcLeanYYC       Greg    McLean   \n",
       "60            4504267216         m_pauze    Monique     Pauzé   \n",
       "51            1686740173  LarryMaguireMP      Larry   Maguire   \n",
       "\n",
       "    Political Affiliation  \n",
       "94           Conservative  \n",
       "180               Liberal  \n",
       "24           Conservative  \n",
       "60         Bloc Québécois  \n",
       "51           Conservative  "
      ]
     },
     "execution_count": 53,
     "metadata": {},
     "output_type": "execute_result"
    }
   ],
   "source": [
    "mps_nodes_subset.head()"
   ]
  },
  {
   "cell_type": "markdown",
   "id": "45578ca1",
   "metadata": {},
   "source": [
    "Get all tweets from these users"
   ]
  },
  {
   "cell_type": "code",
   "execution_count": 55,
   "id": "dba14634",
   "metadata": {},
   "outputs": [],
   "source": [
    "tweet_mp_edges = pd.read_csv('tweet-mp-edges.csv')"
   ]
  },
  {
   "cell_type": "code",
   "execution_count": 56,
   "id": "0497778b",
   "metadata": {},
   "outputs": [
    {
     "data": {
      "text/html": [
       "<div>\n",
       "<style scoped>\n",
       "    .dataframe tbody tr th:only-of-type {\n",
       "        vertical-align: middle;\n",
       "    }\n",
       "\n",
       "    .dataframe tbody tr th {\n",
       "        vertical-align: top;\n",
       "    }\n",
       "\n",
       "    .dataframe thead th {\n",
       "        text-align: right;\n",
       "    }\n",
       "</style>\n",
       "<table border=\"1\" class=\"dataframe\">\n",
       "  <thead>\n",
       "    <tr style=\"text-align: right;\">\n",
       "      <th></th>\n",
       "      <th>Source</th>\n",
       "      <th>Target</th>\n",
       "    </tr>\n",
       "  </thead>\n",
       "  <tbody>\n",
       "    <tr>\n",
       "      <th>0</th>\n",
       "      <td>1442922344037552128</td>\n",
       "      <td>83508245</td>\n",
       "    </tr>\n",
       "    <tr>\n",
       "      <th>1</th>\n",
       "      <td>1442922342644998150</td>\n",
       "      <td>83508245</td>\n",
       "    </tr>\n",
       "    <tr>\n",
       "      <th>2</th>\n",
       "      <td>1440394467337334798</td>\n",
       "      <td>83508245</td>\n",
       "    </tr>\n",
       "    <tr>\n",
       "      <th>3</th>\n",
       "      <td>1440126344067629056</td>\n",
       "      <td>83508245</td>\n",
       "    </tr>\n",
       "    <tr>\n",
       "      <th>4</th>\n",
       "      <td>1449082201023389703</td>\n",
       "      <td>4568748862</td>\n",
       "    </tr>\n",
       "  </tbody>\n",
       "</table>\n",
       "</div>"
      ],
      "text/plain": [
       "                Source      Target\n",
       "0  1442922344037552128    83508245\n",
       "1  1442922342644998150    83508245\n",
       "2  1440394467337334798    83508245\n",
       "3  1440126344067629056    83508245\n",
       "4  1449082201023389703  4568748862"
      ]
     },
     "execution_count": 56,
     "metadata": {},
     "output_type": "execute_result"
    }
   ],
   "source": [
    "tweet_mp_edges.head()"
   ]
  },
  {
   "cell_type": "markdown",
   "id": "3b05e3aa",
   "metadata": {},
   "source": [
    "Run a join to get the correct tweets"
   ]
  },
  {
   "cell_type": "code",
   "execution_count": 57,
   "id": "8beaf83f",
   "metadata": {},
   "outputs": [],
   "source": [
    "tweet_mp_edges_subset = pd.merge(tweet_mp_edges, mps_nodes_subset, left_on='Target', right_on='UserId')"
   ]
  },
  {
   "cell_type": "code",
   "execution_count": 59,
   "id": "bc18f53d",
   "metadata": {},
   "outputs": [
    {
     "data": {
      "text/html": [
       "<div>\n",
       "<style scoped>\n",
       "    .dataframe tbody tr th:only-of-type {\n",
       "        vertical-align: middle;\n",
       "    }\n",
       "\n",
       "    .dataframe tbody tr th {\n",
       "        vertical-align: top;\n",
       "    }\n",
       "\n",
       "    .dataframe thead th {\n",
       "        text-align: right;\n",
       "    }\n",
       "</style>\n",
       "<table border=\"1\" class=\"dataframe\">\n",
       "  <thead>\n",
       "    <tr style=\"text-align: right;\">\n",
       "      <th></th>\n",
       "      <th>Source</th>\n",
       "      <th>Target</th>\n",
       "      <th>UserId</th>\n",
       "      <th>twitterName</th>\n",
       "      <th>First Name</th>\n",
       "      <th>Last Name</th>\n",
       "      <th>Political Affiliation</th>\n",
       "    </tr>\n",
       "  </thead>\n",
       "  <tbody>\n",
       "    <tr>\n",
       "      <th>0</th>\n",
       "      <td>1445512064978542592</td>\n",
       "      <td>1044738781171961856</td>\n",
       "      <td>1044738781171961856</td>\n",
       "      <td>GregMcLeanYYC</td>\n",
       "      <td>Greg</td>\n",
       "      <td>McLean</td>\n",
       "      <td>Conservative</td>\n",
       "    </tr>\n",
       "    <tr>\n",
       "      <th>1</th>\n",
       "      <td>1444012251720011777</td>\n",
       "      <td>1044738781171961856</td>\n",
       "      <td>1044738781171961856</td>\n",
       "      <td>GregMcLeanYYC</td>\n",
       "      <td>Greg</td>\n",
       "      <td>McLean</td>\n",
       "      <td>Conservative</td>\n",
       "    </tr>\n",
       "    <tr>\n",
       "      <th>2</th>\n",
       "      <td>1443606785194033157</td>\n",
       "      <td>1044738781171961856</td>\n",
       "      <td>1044738781171961856</td>\n",
       "      <td>GregMcLeanYYC</td>\n",
       "      <td>Greg</td>\n",
       "      <td>McLean</td>\n",
       "      <td>Conservative</td>\n",
       "    </tr>\n",
       "    <tr>\n",
       "      <th>3</th>\n",
       "      <td>1440809249307697153</td>\n",
       "      <td>1044738781171961856</td>\n",
       "      <td>1044738781171961856</td>\n",
       "      <td>GregMcLeanYYC</td>\n",
       "      <td>Greg</td>\n",
       "      <td>McLean</td>\n",
       "      <td>Conservative</td>\n",
       "    </tr>\n",
       "    <tr>\n",
       "      <th>4</th>\n",
       "      <td>1439760917349109763</td>\n",
       "      <td>1044738781171961856</td>\n",
       "      <td>1044738781171961856</td>\n",
       "      <td>GregMcLeanYYC</td>\n",
       "      <td>Greg</td>\n",
       "      <td>McLean</td>\n",
       "      <td>Conservative</td>\n",
       "    </tr>\n",
       "    <tr>\n",
       "      <th>...</th>\n",
       "      <td>...</td>\n",
       "      <td>...</td>\n",
       "      <td>...</td>\n",
       "      <td>...</td>\n",
       "      <td>...</td>\n",
       "      <td>...</td>\n",
       "      <td>...</td>\n",
       "    </tr>\n",
       "    <tr>\n",
       "      <th>86</th>\n",
       "      <td>1440154571511193602</td>\n",
       "      <td>2352629420</td>\n",
       "      <td>2352629420</td>\n",
       "      <td>JennaSudds</td>\n",
       "      <td>Jenna</td>\n",
       "      <td>Sudds</td>\n",
       "      <td>Liberal</td>\n",
       "    </tr>\n",
       "    <tr>\n",
       "      <th>87</th>\n",
       "      <td>1440114449336213504</td>\n",
       "      <td>2352629420</td>\n",
       "      <td>2352629420</td>\n",
       "      <td>JennaSudds</td>\n",
       "      <td>Jenna</td>\n",
       "      <td>Sudds</td>\n",
       "      <td>Liberal</td>\n",
       "    </tr>\n",
       "    <tr>\n",
       "      <th>88</th>\n",
       "      <td>1440010814644264961</td>\n",
       "      <td>2352629420</td>\n",
       "      <td>2352629420</td>\n",
       "      <td>JennaSudds</td>\n",
       "      <td>Jenna</td>\n",
       "      <td>Sudds</td>\n",
       "      <td>Liberal</td>\n",
       "    </tr>\n",
       "    <tr>\n",
       "      <th>89</th>\n",
       "      <td>1439945181780979713</td>\n",
       "      <td>2352629420</td>\n",
       "      <td>2352629420</td>\n",
       "      <td>JennaSudds</td>\n",
       "      <td>Jenna</td>\n",
       "      <td>Sudds</td>\n",
       "      <td>Liberal</td>\n",
       "    </tr>\n",
       "    <tr>\n",
       "      <th>90</th>\n",
       "      <td>1439754813290553344</td>\n",
       "      <td>2352629420</td>\n",
       "      <td>2352629420</td>\n",
       "      <td>JennaSudds</td>\n",
       "      <td>Jenna</td>\n",
       "      <td>Sudds</td>\n",
       "      <td>Liberal</td>\n",
       "    </tr>\n",
       "  </tbody>\n",
       "</table>\n",
       "<p>91 rows × 7 columns</p>\n",
       "</div>"
      ],
      "text/plain": [
       "                 Source               Target               UserId  \\\n",
       "0   1445512064978542592  1044738781171961856  1044738781171961856   \n",
       "1   1444012251720011777  1044738781171961856  1044738781171961856   \n",
       "2   1443606785194033157  1044738781171961856  1044738781171961856   \n",
       "3   1440809249307697153  1044738781171961856  1044738781171961856   \n",
       "4   1439760917349109763  1044738781171961856  1044738781171961856   \n",
       "..                  ...                  ...                  ...   \n",
       "86  1440154571511193602           2352629420           2352629420   \n",
       "87  1440114449336213504           2352629420           2352629420   \n",
       "88  1440010814644264961           2352629420           2352629420   \n",
       "89  1439945181780979713           2352629420           2352629420   \n",
       "90  1439754813290553344           2352629420           2352629420   \n",
       "\n",
       "      twitterName First Name Last Name Political Affiliation  \n",
       "0   GregMcLeanYYC       Greg    McLean          Conservative  \n",
       "1   GregMcLeanYYC       Greg    McLean          Conservative  \n",
       "2   GregMcLeanYYC       Greg    McLean          Conservative  \n",
       "3   GregMcLeanYYC       Greg    McLean          Conservative  \n",
       "4   GregMcLeanYYC       Greg    McLean          Conservative  \n",
       "..            ...        ...       ...                   ...  \n",
       "86     JennaSudds      Jenna     Sudds               Liberal  \n",
       "87     JennaSudds      Jenna     Sudds               Liberal  \n",
       "88     JennaSudds      Jenna     Sudds               Liberal  \n",
       "89     JennaSudds      Jenna     Sudds               Liberal  \n",
       "90     JennaSudds      Jenna     Sudds               Liberal  \n",
       "\n",
       "[91 rows x 7 columns]"
      ]
     },
     "execution_count": 59,
     "metadata": {},
     "output_type": "execute_result"
    }
   ],
   "source": [
    "tweet_mp_edges_subset.head(100)"
   ]
  },
  {
   "cell_type": "markdown",
   "id": "996c48a3",
   "metadata": {},
   "source": [
    "Get the Retweeters of these tweets "
   ]
  },
  {
   "cell_type": "code",
   "execution_count": 66,
   "id": "b582f159",
   "metadata": {},
   "outputs": [],
   "source": [
    "tweet_retweet_edges = pd.read_csv('tweet-retweet-edges.csv')\n",
    "tweet_retweet_edges = tweet_retweet_edges.rename(columns={'Target': 'Tweet', 'Source': 'Retweeter'})"
   ]
  },
  {
   "cell_type": "code",
   "execution_count": 67,
   "id": "32387a75",
   "metadata": {},
   "outputs": [
    {
     "data": {
      "text/html": [
       "<div>\n",
       "<style scoped>\n",
       "    .dataframe tbody tr th:only-of-type {\n",
       "        vertical-align: middle;\n",
       "    }\n",
       "\n",
       "    .dataframe tbody tr th {\n",
       "        vertical-align: top;\n",
       "    }\n",
       "\n",
       "    .dataframe thead th {\n",
       "        text-align: right;\n",
       "    }\n",
       "</style>\n",
       "<table border=\"1\" class=\"dataframe\">\n",
       "  <thead>\n",
       "    <tr style=\"text-align: right;\">\n",
       "      <th></th>\n",
       "      <th>Tweet</th>\n",
       "      <th>Retweeter</th>\n",
       "    </tr>\n",
       "  </thead>\n",
       "  <tbody>\n",
       "    <tr>\n",
       "      <th>0</th>\n",
       "      <td>1442922344037552128</td>\n",
       "      <td>260265236</td>\n",
       "    </tr>\n",
       "    <tr>\n",
       "      <th>1</th>\n",
       "      <td>1442922344037552128</td>\n",
       "      <td>787774368566816768</td>\n",
       "    </tr>\n",
       "    <tr>\n",
       "      <th>2</th>\n",
       "      <td>1442922344037552128</td>\n",
       "      <td>857464194626727936</td>\n",
       "    </tr>\n",
       "    <tr>\n",
       "      <th>3</th>\n",
       "      <td>1442922344037552128</td>\n",
       "      <td>1307814874999742464</td>\n",
       "    </tr>\n",
       "    <tr>\n",
       "      <th>4</th>\n",
       "      <td>1442922344037552128</td>\n",
       "      <td>2550603348</td>\n",
       "    </tr>\n",
       "  </tbody>\n",
       "</table>\n",
       "</div>"
      ],
      "text/plain": [
       "                 Tweet            Retweeter\n",
       "0  1442922344037552128            260265236\n",
       "1  1442922344037552128   787774368566816768\n",
       "2  1442922344037552128   857464194626727936\n",
       "3  1442922344037552128  1307814874999742464\n",
       "4  1442922344037552128           2550603348"
      ]
     },
     "execution_count": 67,
     "metadata": {},
     "output_type": "execute_result"
    }
   ],
   "source": [
    "tweet_retweet_edges.head()"
   ]
  },
  {
   "cell_type": "markdown",
   "id": "ba693d0c",
   "metadata": {},
   "source": [
    "Run a join on the tweet ids to get that subset "
   ]
  },
  {
   "cell_type": "code",
   "execution_count": 68,
   "id": "0d78b78a",
   "metadata": {},
   "outputs": [],
   "source": [
    "tweet_retweet_edges_subset = pd.merge(tweet_retweet_edges, tweet_mp_edges_subset, left_on='Tweet', right_on='Source')"
   ]
  },
  {
   "cell_type": "code",
   "execution_count": 71,
   "id": "a9b3c153",
   "metadata": {},
   "outputs": [
    {
     "data": {
      "text/html": [
       "<div>\n",
       "<style scoped>\n",
       "    .dataframe tbody tr th:only-of-type {\n",
       "        vertical-align: middle;\n",
       "    }\n",
       "\n",
       "    .dataframe tbody tr th {\n",
       "        vertical-align: top;\n",
       "    }\n",
       "\n",
       "    .dataframe thead th {\n",
       "        text-align: right;\n",
       "    }\n",
       "</style>\n",
       "<table border=\"1\" class=\"dataframe\">\n",
       "  <thead>\n",
       "    <tr style=\"text-align: right;\">\n",
       "      <th></th>\n",
       "      <th>Tweet</th>\n",
       "      <th>Retweeter</th>\n",
       "      <th>Source</th>\n",
       "      <th>Target</th>\n",
       "      <th>UserId</th>\n",
       "      <th>twitterName</th>\n",
       "      <th>First Name</th>\n",
       "      <th>Last Name</th>\n",
       "      <th>Political Affiliation</th>\n",
       "    </tr>\n",
       "  </thead>\n",
       "  <tbody>\n",
       "    <tr>\n",
       "      <th>0</th>\n",
       "      <td>1445512064978542592</td>\n",
       "      <td>1016018605907906560</td>\n",
       "      <td>1445512064978542592</td>\n",
       "      <td>1044738781171961856</td>\n",
       "      <td>1044738781171961856</td>\n",
       "      <td>GregMcLeanYYC</td>\n",
       "      <td>Greg</td>\n",
       "      <td>McLean</td>\n",
       "      <td>Conservative</td>\n",
       "    </tr>\n",
       "    <tr>\n",
       "      <th>1</th>\n",
       "      <td>1445512064978542592</td>\n",
       "      <td>78627903</td>\n",
       "      <td>1445512064978542592</td>\n",
       "      <td>1044738781171961856</td>\n",
       "      <td>1044738781171961856</td>\n",
       "      <td>GregMcLeanYYC</td>\n",
       "      <td>Greg</td>\n",
       "      <td>McLean</td>\n",
       "      <td>Conservative</td>\n",
       "    </tr>\n",
       "    <tr>\n",
       "      <th>2</th>\n",
       "      <td>1445512064978542592</td>\n",
       "      <td>1103082890030604288</td>\n",
       "      <td>1445512064978542592</td>\n",
       "      <td>1044738781171961856</td>\n",
       "      <td>1044738781171961856</td>\n",
       "      <td>GregMcLeanYYC</td>\n",
       "      <td>Greg</td>\n",
       "      <td>McLean</td>\n",
       "      <td>Conservative</td>\n",
       "    </tr>\n",
       "    <tr>\n",
       "      <th>3</th>\n",
       "      <td>1445512064978542592</td>\n",
       "      <td>98449349</td>\n",
       "      <td>1445512064978542592</td>\n",
       "      <td>1044738781171961856</td>\n",
       "      <td>1044738781171961856</td>\n",
       "      <td>GregMcLeanYYC</td>\n",
       "      <td>Greg</td>\n",
       "      <td>McLean</td>\n",
       "      <td>Conservative</td>\n",
       "    </tr>\n",
       "    <tr>\n",
       "      <th>4</th>\n",
       "      <td>1444012251720011777</td>\n",
       "      <td>1293510025680478208</td>\n",
       "      <td>1444012251720011777</td>\n",
       "      <td>1044738781171961856</td>\n",
       "      <td>1044738781171961856</td>\n",
       "      <td>GregMcLeanYYC</td>\n",
       "      <td>Greg</td>\n",
       "      <td>McLean</td>\n",
       "      <td>Conservative</td>\n",
       "    </tr>\n",
       "    <tr>\n",
       "      <th>...</th>\n",
       "      <td>...</td>\n",
       "      <td>...</td>\n",
       "      <td>...</td>\n",
       "      <td>...</td>\n",
       "      <td>...</td>\n",
       "      <td>...</td>\n",
       "      <td>...</td>\n",
       "      <td>...</td>\n",
       "      <td>...</td>\n",
       "    </tr>\n",
       "    <tr>\n",
       "      <th>412</th>\n",
       "      <td>1439945181780979713</td>\n",
       "      <td>2324359094</td>\n",
       "      <td>1439945181780979713</td>\n",
       "      <td>2352629420</td>\n",
       "      <td>2352629420</td>\n",
       "      <td>JennaSudds</td>\n",
       "      <td>Jenna</td>\n",
       "      <td>Sudds</td>\n",
       "      <td>Liberal</td>\n",
       "    </tr>\n",
       "    <tr>\n",
       "      <th>413</th>\n",
       "      <td>1439945181780979713</td>\n",
       "      <td>302005426</td>\n",
       "      <td>1439945181780979713</td>\n",
       "      <td>2352629420</td>\n",
       "      <td>2352629420</td>\n",
       "      <td>JennaSudds</td>\n",
       "      <td>Jenna</td>\n",
       "      <td>Sudds</td>\n",
       "      <td>Liberal</td>\n",
       "    </tr>\n",
       "    <tr>\n",
       "      <th>414</th>\n",
       "      <td>1439945181780979713</td>\n",
       "      <td>177651264</td>\n",
       "      <td>1439945181780979713</td>\n",
       "      <td>2352629420</td>\n",
       "      <td>2352629420</td>\n",
       "      <td>JennaSudds</td>\n",
       "      <td>Jenna</td>\n",
       "      <td>Sudds</td>\n",
       "      <td>Liberal</td>\n",
       "    </tr>\n",
       "    <tr>\n",
       "      <th>415</th>\n",
       "      <td>1439945181780979713</td>\n",
       "      <td>1079374636608114689</td>\n",
       "      <td>1439945181780979713</td>\n",
       "      <td>2352629420</td>\n",
       "      <td>2352629420</td>\n",
       "      <td>JennaSudds</td>\n",
       "      <td>Jenna</td>\n",
       "      <td>Sudds</td>\n",
       "      <td>Liberal</td>\n",
       "    </tr>\n",
       "    <tr>\n",
       "      <th>416</th>\n",
       "      <td>1439945181780979713</td>\n",
       "      <td>1350637053160120321</td>\n",
       "      <td>1439945181780979713</td>\n",
       "      <td>2352629420</td>\n",
       "      <td>2352629420</td>\n",
       "      <td>JennaSudds</td>\n",
       "      <td>Jenna</td>\n",
       "      <td>Sudds</td>\n",
       "      <td>Liberal</td>\n",
       "    </tr>\n",
       "  </tbody>\n",
       "</table>\n",
       "<p>417 rows × 9 columns</p>\n",
       "</div>"
      ],
      "text/plain": [
       "                   Tweet            Retweeter               Source  \\\n",
       "0    1445512064978542592  1016018605907906560  1445512064978542592   \n",
       "1    1445512064978542592             78627903  1445512064978542592   \n",
       "2    1445512064978542592  1103082890030604288  1445512064978542592   \n",
       "3    1445512064978542592             98449349  1445512064978542592   \n",
       "4    1444012251720011777  1293510025680478208  1444012251720011777   \n",
       "..                   ...                  ...                  ...   \n",
       "412  1439945181780979713           2324359094  1439945181780979713   \n",
       "413  1439945181780979713            302005426  1439945181780979713   \n",
       "414  1439945181780979713            177651264  1439945181780979713   \n",
       "415  1439945181780979713  1079374636608114689  1439945181780979713   \n",
       "416  1439945181780979713  1350637053160120321  1439945181780979713   \n",
       "\n",
       "                  Target               UserId    twitterName First Name  \\\n",
       "0    1044738781171961856  1044738781171961856  GregMcLeanYYC       Greg   \n",
       "1    1044738781171961856  1044738781171961856  GregMcLeanYYC       Greg   \n",
       "2    1044738781171961856  1044738781171961856  GregMcLeanYYC       Greg   \n",
       "3    1044738781171961856  1044738781171961856  GregMcLeanYYC       Greg   \n",
       "4    1044738781171961856  1044738781171961856  GregMcLeanYYC       Greg   \n",
       "..                   ...                  ...            ...        ...   \n",
       "412           2352629420           2352629420     JennaSudds      Jenna   \n",
       "413           2352629420           2352629420     JennaSudds      Jenna   \n",
       "414           2352629420           2352629420     JennaSudds      Jenna   \n",
       "415           2352629420           2352629420     JennaSudds      Jenna   \n",
       "416           2352629420           2352629420     JennaSudds      Jenna   \n",
       "\n",
       "    Last Name Political Affiliation  \n",
       "0      McLean          Conservative  \n",
       "1      McLean          Conservative  \n",
       "2      McLean          Conservative  \n",
       "3      McLean          Conservative  \n",
       "4      McLean          Conservative  \n",
       "..        ...                   ...  \n",
       "412     Sudds               Liberal  \n",
       "413     Sudds               Liberal  \n",
       "414     Sudds               Liberal  \n",
       "415     Sudds               Liberal  \n",
       "416     Sudds               Liberal  \n",
       "\n",
       "[417 rows x 9 columns]"
      ]
     },
     "execution_count": 71,
     "metadata": {},
     "output_type": "execute_result"
    }
   ],
   "source": [
    "tweet_retweet_edges_subset.head(1000)"
   ]
  },
  {
   "cell_type": "markdown",
   "id": "78142353",
   "metadata": {},
   "source": [
    "# Clean DF's and persist"
   ]
  },
  {
   "cell_type": "code",
   "execution_count": 75,
   "id": "a7e735c9",
   "metadata": {},
   "outputs": [],
   "source": [
    "clean_mps_nodes_subset = mps_nodes_subset.set_index('UserId')"
   ]
  },
  {
   "cell_type": "code",
   "execution_count": 76,
   "id": "96c7d278",
   "metadata": {},
   "outputs": [
    {
     "data": {
      "text/html": [
       "<div>\n",
       "<style scoped>\n",
       "    .dataframe tbody tr th:only-of-type {\n",
       "        vertical-align: middle;\n",
       "    }\n",
       "\n",
       "    .dataframe tbody tr th {\n",
       "        vertical-align: top;\n",
       "    }\n",
       "\n",
       "    .dataframe thead th {\n",
       "        text-align: right;\n",
       "    }\n",
       "</style>\n",
       "<table border=\"1\" class=\"dataframe\">\n",
       "  <thead>\n",
       "    <tr style=\"text-align: right;\">\n",
       "      <th></th>\n",
       "      <th>twitterName</th>\n",
       "      <th>First Name</th>\n",
       "      <th>Last Name</th>\n",
       "      <th>Political Affiliation</th>\n",
       "    </tr>\n",
       "    <tr>\n",
       "      <th>UserId</th>\n",
       "      <th></th>\n",
       "      <th></th>\n",
       "      <th></th>\n",
       "      <th></th>\n",
       "    </tr>\n",
       "  </thead>\n",
       "  <tbody>\n",
       "    <tr>\n",
       "      <th>564207331</th>\n",
       "      <td>MichaelKramSK</td>\n",
       "      <td>Michael</td>\n",
       "      <td>Kram</td>\n",
       "      <td>Conservative</td>\n",
       "    </tr>\n",
       "    <tr>\n",
       "      <th>2352629420</th>\n",
       "      <td>JennaSudds</td>\n",
       "      <td>Jenna</td>\n",
       "      <td>Sudds</td>\n",
       "      <td>Liberal</td>\n",
       "    </tr>\n",
       "    <tr>\n",
       "      <th>1044738781171961856</th>\n",
       "      <td>GregMcLeanYYC</td>\n",
       "      <td>Greg</td>\n",
       "      <td>McLean</td>\n",
       "      <td>Conservative</td>\n",
       "    </tr>\n",
       "    <tr>\n",
       "      <th>4504267216</th>\n",
       "      <td>m_pauze</td>\n",
       "      <td>Monique</td>\n",
       "      <td>Pauzé</td>\n",
       "      <td>Bloc Québécois</td>\n",
       "    </tr>\n",
       "    <tr>\n",
       "      <th>1686740173</th>\n",
       "      <td>LarryMaguireMP</td>\n",
       "      <td>Larry</td>\n",
       "      <td>Maguire</td>\n",
       "      <td>Conservative</td>\n",
       "    </tr>\n",
       "  </tbody>\n",
       "</table>\n",
       "</div>"
      ],
      "text/plain": [
       "                        twitterName First Name Last Name Political Affiliation\n",
       "UserId                                                                        \n",
       "564207331             MichaelKramSK    Michael      Kram          Conservative\n",
       "2352629420               JennaSudds      Jenna     Sudds               Liberal\n",
       "1044738781171961856   GregMcLeanYYC       Greg    McLean          Conservative\n",
       "4504267216                  m_pauze    Monique     Pauzé        Bloc Québécois\n",
       "1686740173           LarryMaguireMP      Larry   Maguire          Conservative"
      ]
     },
     "execution_count": 76,
     "metadata": {},
     "output_type": "execute_result"
    }
   ],
   "source": [
    "clean_mps_nodes_subset.head()"
   ]
  },
  {
   "cell_type": "code",
   "execution_count": 77,
   "id": "28573d78",
   "metadata": {},
   "outputs": [],
   "source": [
    "clean_mps_nodes_subset.to_csv('SubsetNetwork/mp_nodes.csv')"
   ]
  },
  {
   "cell_type": "code",
   "execution_count": 78,
   "id": "6d7656cc",
   "metadata": {},
   "outputs": [
    {
     "data": {
      "text/html": [
       "<div>\n",
       "<style scoped>\n",
       "    .dataframe tbody tr th:only-of-type {\n",
       "        vertical-align: middle;\n",
       "    }\n",
       "\n",
       "    .dataframe tbody tr th {\n",
       "        vertical-align: top;\n",
       "    }\n",
       "\n",
       "    .dataframe thead th {\n",
       "        text-align: right;\n",
       "    }\n",
       "</style>\n",
       "<table border=\"1\" class=\"dataframe\">\n",
       "  <thead>\n",
       "    <tr style=\"text-align: right;\">\n",
       "      <th></th>\n",
       "      <th>Target</th>\n",
       "    </tr>\n",
       "    <tr>\n",
       "      <th>Source</th>\n",
       "      <th></th>\n",
       "    </tr>\n",
       "  </thead>\n",
       "  <tbody>\n",
       "    <tr>\n",
       "      <th>1445512064978542592</th>\n",
       "      <td>1044738781171961856</td>\n",
       "    </tr>\n",
       "    <tr>\n",
       "      <th>1444012251720011777</th>\n",
       "      <td>1044738781171961856</td>\n",
       "    </tr>\n",
       "    <tr>\n",
       "      <th>1443606785194033157</th>\n",
       "      <td>1044738781171961856</td>\n",
       "    </tr>\n",
       "    <tr>\n",
       "      <th>1440809249307697153</th>\n",
       "      <td>1044738781171961856</td>\n",
       "    </tr>\n",
       "    <tr>\n",
       "      <th>1439760917349109763</th>\n",
       "      <td>1044738781171961856</td>\n",
       "    </tr>\n",
       "  </tbody>\n",
       "</table>\n",
       "</div>"
      ],
      "text/plain": [
       "                                  Target\n",
       "Source                                  \n",
       "1445512064978542592  1044738781171961856\n",
       "1444012251720011777  1044738781171961856\n",
       "1443606785194033157  1044738781171961856\n",
       "1440809249307697153  1044738781171961856\n",
       "1439760917349109763  1044738781171961856"
      ]
     },
     "execution_count": 78,
     "metadata": {},
     "output_type": "execute_result"
    }
   ],
   "source": [
    "clean_tweet_mp_edges_subset = tweet_mp_edges_subset[['Source','Target']]\n",
    "clean_tweet_mp_edges_subset =clean_tweet_mp_edges_subset.set_index('Source')\n",
    "clean_tweet_mp_edges_subset.head()"
   ]
  },
  {
   "cell_type": "code",
   "execution_count": 80,
   "id": "148c8033",
   "metadata": {},
   "outputs": [],
   "source": [
    "clean_tweet_mp_edges_subset.to_csv('SubsetNetwork/tweet_mp_edge.csv')"
   ]
  },
  {
   "cell_type": "code",
   "execution_count": 82,
   "id": "e94e864f",
   "metadata": {},
   "outputs": [
    {
     "data": {
      "text/html": [
       "<div>\n",
       "<style scoped>\n",
       "    .dataframe tbody tr th:only-of-type {\n",
       "        vertical-align: middle;\n",
       "    }\n",
       "\n",
       "    .dataframe tbody tr th {\n",
       "        vertical-align: top;\n",
       "    }\n",
       "\n",
       "    .dataframe thead th {\n",
       "        text-align: right;\n",
       "    }\n",
       "</style>\n",
       "<table border=\"1\" class=\"dataframe\">\n",
       "  <thead>\n",
       "    <tr style=\"text-align: right;\">\n",
       "      <th></th>\n",
       "      <th>Source</th>\n",
       "    </tr>\n",
       "    <tr>\n",
       "      <th>Target</th>\n",
       "      <th></th>\n",
       "    </tr>\n",
       "  </thead>\n",
       "  <tbody>\n",
       "    <tr>\n",
       "      <th>1445512064978542592</th>\n",
       "      <td>1016018605907906560</td>\n",
       "    </tr>\n",
       "    <tr>\n",
       "      <th>1445512064978542592</th>\n",
       "      <td>78627903</td>\n",
       "    </tr>\n",
       "    <tr>\n",
       "      <th>1445512064978542592</th>\n",
       "      <td>1103082890030604288</td>\n",
       "    </tr>\n",
       "    <tr>\n",
       "      <th>1445512064978542592</th>\n",
       "      <td>98449349</td>\n",
       "    </tr>\n",
       "    <tr>\n",
       "      <th>1444012251720011777</th>\n",
       "      <td>1293510025680478208</td>\n",
       "    </tr>\n",
       "  </tbody>\n",
       "</table>\n",
       "</div>"
      ],
      "text/plain": [
       "                                  Source\n",
       "Target                                  \n",
       "1445512064978542592  1016018605907906560\n",
       "1445512064978542592             78627903\n",
       "1445512064978542592  1103082890030604288\n",
       "1445512064978542592             98449349\n",
       "1444012251720011777  1293510025680478208"
      ]
     },
     "execution_count": 82,
     "metadata": {},
     "output_type": "execute_result"
    }
   ],
   "source": [
    "clean_tweet_retweet_edges_subset = tweet_retweet_edges_subset[['Tweet', 'Retweeter']]\n",
    "clean_tweet_retweet_edges_subset = clean_tweet_retweet_edges_subset.rename(columns={'Tweet': 'Target', 'Retweeter': 'Source'})\n",
    "clean_tweet_retweet_edges_subset = clean_tweet_retweet_edges_subset.set_index('Target')\n",
    "clean_tweet_retweet_edges_subset.head()"
   ]
  }
 ],
 "metadata": {
  "kernelspec": {
   "display_name": "Python 3 (ipykernel)",
   "language": "python",
   "name": "python3"
  },
  "language_info": {
   "codemirror_mode": {
    "name": "ipython",
    "version": 3
   },
   "file_extension": ".py",
   "mimetype": "text/x-python",
   "name": "python",
   "nbconvert_exporter": "python",
   "pygments_lexer": "ipython3",
   "version": "3.7.0"
  }
 },
 "nbformat": 4,
 "nbformat_minor": 5
}
