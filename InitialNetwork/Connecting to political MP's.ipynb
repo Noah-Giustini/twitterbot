{
 "cells": [
  {
   "cell_type": "markdown",
   "id": "fdb04228",
   "metadata": {},
   "source": [
    "# Tweets are MP's"
   ]
  },
  {
   "cell_type": "code",
   "execution_count": 1,
   "id": "8c59db7f",
   "metadata": {},
   "outputs": [],
   "source": [
    "import pandas as pd\n",
    "import networkx as nx\n",
    "import matplotlib.pyplot as plt\n",
    "import matplotlib as mpl\n",
    "%matplotlib inline"
   ]
  },
  {
   "cell_type": "code",
   "execution_count": 2,
   "id": "615259cc",
   "metadata": {},
   "outputs": [],
   "source": [
    "tweets = pd.read_csv(\"tweet-user-edges.csv\")"
   ]
  },
  {
   "cell_type": "code",
   "execution_count": 3,
   "id": "f1b30c18",
   "metadata": {},
   "outputs": [
    {
     "data": {
      "text/html": [
       "<div>\n",
       "<style scoped>\n",
       "    .dataframe tbody tr th:only-of-type {\n",
       "        vertical-align: middle;\n",
       "    }\n",
       "\n",
       "    .dataframe tbody tr th {\n",
       "        vertical-align: top;\n",
       "    }\n",
       "\n",
       "    .dataframe thead th {\n",
       "        text-align: right;\n",
       "    }\n",
       "</style>\n",
       "<table border=\"1\" class=\"dataframe\">\n",
       "  <thead>\n",
       "    <tr style=\"text-align: right;\">\n",
       "      <th></th>\n",
       "      <th>tweetId</th>\n",
       "      <th>UserId</th>\n",
       "      <th>twitterName</th>\n",
       "      <th>dateCreated</th>\n",
       "      <th>First Name</th>\n",
       "      <th>Last Name</th>\n",
       "      <th>Political Affiliation</th>\n",
       "    </tr>\n",
       "  </thead>\n",
       "  <tbody>\n",
       "    <tr>\n",
       "      <th>0</th>\n",
       "      <td>1442922344037552128</td>\n",
       "      <td>83508245</td>\n",
       "      <td>dckurek</td>\n",
       "      <td>2021-09-28T18:41:09.000Z</td>\n",
       "      <td>Damien</td>\n",
       "      <td>Kurek</td>\n",
       "      <td>Conservative</td>\n",
       "    </tr>\n",
       "    <tr>\n",
       "      <th>1</th>\n",
       "      <td>1442922342644998150</td>\n",
       "      <td>83508245</td>\n",
       "      <td>dckurek</td>\n",
       "      <td>2021-09-28T18:41:09.000Z</td>\n",
       "      <td>Damien</td>\n",
       "      <td>Kurek</td>\n",
       "      <td>Conservative</td>\n",
       "    </tr>\n",
       "    <tr>\n",
       "      <th>2</th>\n",
       "      <td>1440394467337334798</td>\n",
       "      <td>83508245</td>\n",
       "      <td>dckurek</td>\n",
       "      <td>2021-09-21T19:16:16.000Z</td>\n",
       "      <td>Damien</td>\n",
       "      <td>Kurek</td>\n",
       "      <td>Conservative</td>\n",
       "    </tr>\n",
       "    <tr>\n",
       "      <th>3</th>\n",
       "      <td>1440126344067629056</td>\n",
       "      <td>83508245</td>\n",
       "      <td>dckurek</td>\n",
       "      <td>2021-09-21T01:30:51.000Z</td>\n",
       "      <td>Damien</td>\n",
       "      <td>Kurek</td>\n",
       "      <td>Conservative</td>\n",
       "    </tr>\n",
       "    <tr>\n",
       "      <th>4</th>\n",
       "      <td>1449082201023389703</td>\n",
       "      <td>4568748862</td>\n",
       "      <td>ziad_aboultaif</td>\n",
       "      <td>2021-10-15T18:38:14.000Z</td>\n",
       "      <td>Ziad</td>\n",
       "      <td>Aboultaif</td>\n",
       "      <td>Conservative</td>\n",
       "    </tr>\n",
       "  </tbody>\n",
       "</table>\n",
       "</div>"
      ],
      "text/plain": [
       "               tweetId      UserId     twitterName               dateCreated  \\\n",
       "0  1442922344037552128    83508245         dckurek  2021-09-28T18:41:09.000Z   \n",
       "1  1442922342644998150    83508245         dckurek  2021-09-28T18:41:09.000Z   \n",
       "2  1440394467337334798    83508245         dckurek  2021-09-21T19:16:16.000Z   \n",
       "3  1440126344067629056    83508245         dckurek  2021-09-21T01:30:51.000Z   \n",
       "4  1449082201023389703  4568748862  ziad_aboultaif  2021-10-15T18:38:14.000Z   \n",
       "\n",
       "  First Name  Last Name Political Affiliation  \n",
       "0     Damien      Kurek          Conservative  \n",
       "1     Damien      Kurek          Conservative  \n",
       "2     Damien      Kurek          Conservative  \n",
       "3     Damien      Kurek          Conservative  \n",
       "4       Ziad  Aboultaif          Conservative  "
      ]
     },
     "execution_count": 3,
     "metadata": {},
     "output_type": "execute_result"
    }
   ],
   "source": [
    "tweets.head()"
   ]
  },
  {
   "cell_type": "code",
   "execution_count": 5,
   "id": "e267d5d6",
   "metadata": {},
   "outputs": [],
   "source": [
    "tweets = tweets.rename(columns={'UserId': 'MPUserId'})"
   ]
  },
  {
   "cell_type": "code",
   "execution_count": 6,
   "id": "b8fae09a",
   "metadata": {},
   "outputs": [],
   "source": [
    "tweet_retweet_df = pd.read_csv('tweet-retweet.csv')"
   ]
  },
  {
   "cell_type": "code",
   "execution_count": 7,
   "id": "161b7ebb",
   "metadata": {},
   "outputs": [
    {
     "data": {
      "text/html": [
       "<div>\n",
       "<style scoped>\n",
       "    .dataframe tbody tr th:only-of-type {\n",
       "        vertical-align: middle;\n",
       "    }\n",
       "\n",
       "    .dataframe tbody tr th {\n",
       "        vertical-align: top;\n",
       "    }\n",
       "\n",
       "    .dataframe thead th {\n",
       "        text-align: right;\n",
       "    }\n",
       "</style>\n",
       "<table border=\"1\" class=\"dataframe\">\n",
       "  <thead>\n",
       "    <tr style=\"text-align: right;\">\n",
       "      <th></th>\n",
       "      <th>tweetId</th>\n",
       "      <th>userId</th>\n",
       "    </tr>\n",
       "  </thead>\n",
       "  <tbody>\n",
       "    <tr>\n",
       "      <th>0</th>\n",
       "      <td>1442922344037552128</td>\n",
       "      <td>260265236</td>\n",
       "    </tr>\n",
       "    <tr>\n",
       "      <th>1</th>\n",
       "      <td>1442922344037552128</td>\n",
       "      <td>787774368566816768</td>\n",
       "    </tr>\n",
       "    <tr>\n",
       "      <th>2</th>\n",
       "      <td>1442922344037552128</td>\n",
       "      <td>857464194626727936</td>\n",
       "    </tr>\n",
       "    <tr>\n",
       "      <th>3</th>\n",
       "      <td>1442922344037552128</td>\n",
       "      <td>1307814874999742464</td>\n",
       "    </tr>\n",
       "    <tr>\n",
       "      <th>4</th>\n",
       "      <td>1442922344037552128</td>\n",
       "      <td>2550603348</td>\n",
       "    </tr>\n",
       "  </tbody>\n",
       "</table>\n",
       "</div>"
      ],
      "text/plain": [
       "               tweetId               userId\n",
       "0  1442922344037552128            260265236\n",
       "1  1442922344037552128   787774368566816768\n",
       "2  1442922344037552128   857464194626727936\n",
       "3  1442922344037552128  1307814874999742464\n",
       "4  1442922344037552128           2550603348"
      ]
     },
     "execution_count": 7,
     "metadata": {},
     "output_type": "execute_result"
    }
   ],
   "source": [
    "tweet_retweet_df.head()"
   ]
  },
  {
   "cell_type": "code",
   "execution_count": 8,
   "id": "43c33016",
   "metadata": {},
   "outputs": [],
   "source": [
    "merge = pd.merge(tweet_retweet_df, tweets, left_on='tweetId', right_on='tweetId')"
   ]
  },
  {
   "cell_type": "code",
   "execution_count": 9,
   "id": "58fcd47c",
   "metadata": {},
   "outputs": [
    {
     "data": {
      "text/html": [
       "<div>\n",
       "<style scoped>\n",
       "    .dataframe tbody tr th:only-of-type {\n",
       "        vertical-align: middle;\n",
       "    }\n",
       "\n",
       "    .dataframe tbody tr th {\n",
       "        vertical-align: top;\n",
       "    }\n",
       "\n",
       "    .dataframe thead th {\n",
       "        text-align: right;\n",
       "    }\n",
       "</style>\n",
       "<table border=\"1\" class=\"dataframe\">\n",
       "  <thead>\n",
       "    <tr style=\"text-align: right;\">\n",
       "      <th></th>\n",
       "      <th>tweetId</th>\n",
       "      <th>userId</th>\n",
       "      <th>MPUserId</th>\n",
       "      <th>twitterName</th>\n",
       "      <th>dateCreated</th>\n",
       "      <th>First Name</th>\n",
       "      <th>Last Name</th>\n",
       "      <th>Political Affiliation</th>\n",
       "    </tr>\n",
       "  </thead>\n",
       "  <tbody>\n",
       "    <tr>\n",
       "      <th>0</th>\n",
       "      <td>1442922344037552128</td>\n",
       "      <td>260265236</td>\n",
       "      <td>83508245</td>\n",
       "      <td>dckurek</td>\n",
       "      <td>2021-09-28T18:41:09.000Z</td>\n",
       "      <td>Damien</td>\n",
       "      <td>Kurek</td>\n",
       "      <td>Conservative</td>\n",
       "    </tr>\n",
       "    <tr>\n",
       "      <th>1</th>\n",
       "      <td>1442922344037552128</td>\n",
       "      <td>787774368566816768</td>\n",
       "      <td>83508245</td>\n",
       "      <td>dckurek</td>\n",
       "      <td>2021-09-28T18:41:09.000Z</td>\n",
       "      <td>Damien</td>\n",
       "      <td>Kurek</td>\n",
       "      <td>Conservative</td>\n",
       "    </tr>\n",
       "    <tr>\n",
       "      <th>2</th>\n",
       "      <td>1442922344037552128</td>\n",
       "      <td>857464194626727936</td>\n",
       "      <td>83508245</td>\n",
       "      <td>dckurek</td>\n",
       "      <td>2021-09-28T18:41:09.000Z</td>\n",
       "      <td>Damien</td>\n",
       "      <td>Kurek</td>\n",
       "      <td>Conservative</td>\n",
       "    </tr>\n",
       "    <tr>\n",
       "      <th>3</th>\n",
       "      <td>1442922344037552128</td>\n",
       "      <td>1307814874999742464</td>\n",
       "      <td>83508245</td>\n",
       "      <td>dckurek</td>\n",
       "      <td>2021-09-28T18:41:09.000Z</td>\n",
       "      <td>Damien</td>\n",
       "      <td>Kurek</td>\n",
       "      <td>Conservative</td>\n",
       "    </tr>\n",
       "    <tr>\n",
       "      <th>4</th>\n",
       "      <td>1442922344037552128</td>\n",
       "      <td>2550603348</td>\n",
       "      <td>83508245</td>\n",
       "      <td>dckurek</td>\n",
       "      <td>2021-09-28T18:41:09.000Z</td>\n",
       "      <td>Damien</td>\n",
       "      <td>Kurek</td>\n",
       "      <td>Conservative</td>\n",
       "    </tr>\n",
       "  </tbody>\n",
       "</table>\n",
       "</div>"
      ],
      "text/plain": [
       "               tweetId               userId  MPUserId twitterName  \\\n",
       "0  1442922344037552128            260265236  83508245     dckurek   \n",
       "1  1442922344037552128   787774368566816768  83508245     dckurek   \n",
       "2  1442922344037552128   857464194626727936  83508245     dckurek   \n",
       "3  1442922344037552128  1307814874999742464  83508245     dckurek   \n",
       "4  1442922344037552128           2550603348  83508245     dckurek   \n",
       "\n",
       "                dateCreated First Name Last Name Political Affiliation  \n",
       "0  2021-09-28T18:41:09.000Z     Damien     Kurek          Conservative  \n",
       "1  2021-09-28T18:41:09.000Z     Damien     Kurek          Conservative  \n",
       "2  2021-09-28T18:41:09.000Z     Damien     Kurek          Conservative  \n",
       "3  2021-09-28T18:41:09.000Z     Damien     Kurek          Conservative  \n",
       "4  2021-09-28T18:41:09.000Z     Damien     Kurek          Conservative  "
      ]
     },
     "execution_count": 9,
     "metadata": {},
     "output_type": "execute_result"
    }
   ],
   "source": [
    "merge.head()"
   ]
  },
  {
   "cell_type": "code",
   "execution_count": 16,
   "id": "7f70c2a3",
   "metadata": {},
   "outputs": [],
   "source": [
    "user_to_mp = merge[[\"userId\",\"MPUserId\"]].set_index(\"userId\")"
   ]
  },
  {
   "cell_type": "code",
   "execution_count": 17,
   "id": "f0df3a9d",
   "metadata": {},
   "outputs": [],
   "source": [
    "user_to_party = merge[[\"userId\",\"Political Affiliation\"]].set_index(\"userId\")"
   ]
  },
  {
   "cell_type": "code",
   "execution_count": 18,
   "id": "6bdfe7c4",
   "metadata": {},
   "outputs": [
    {
     "data": {
      "text/html": [
       "<div>\n",
       "<style scoped>\n",
       "    .dataframe tbody tr th:only-of-type {\n",
       "        vertical-align: middle;\n",
       "    }\n",
       "\n",
       "    .dataframe tbody tr th {\n",
       "        vertical-align: top;\n",
       "    }\n",
       "\n",
       "    .dataframe thead th {\n",
       "        text-align: right;\n",
       "    }\n",
       "</style>\n",
       "<table border=\"1\" class=\"dataframe\">\n",
       "  <thead>\n",
       "    <tr style=\"text-align: right;\">\n",
       "      <th></th>\n",
       "      <th>MPUserId</th>\n",
       "    </tr>\n",
       "    <tr>\n",
       "      <th>userId</th>\n",
       "      <th></th>\n",
       "    </tr>\n",
       "  </thead>\n",
       "  <tbody>\n",
       "    <tr>\n",
       "      <th>1232471924145577985</th>\n",
       "      <td>196717787</td>\n",
       "    </tr>\n",
       "    <tr>\n",
       "      <th>760497115</th>\n",
       "      <td>196717787</td>\n",
       "    </tr>\n",
       "    <tr>\n",
       "      <th>872810605</th>\n",
       "      <td>196717787</td>\n",
       "    </tr>\n",
       "    <tr>\n",
       "      <th>37552089</th>\n",
       "      <td>196717787</td>\n",
       "    </tr>\n",
       "    <tr>\n",
       "      <th>1483413924</th>\n",
       "      <td>196717787</td>\n",
       "    </tr>\n",
       "  </tbody>\n",
       "</table>\n",
       "</div>"
      ],
      "text/plain": [
       "                      MPUserId\n",
       "userId                        \n",
       "1232471924145577985  196717787\n",
       "760497115            196717787\n",
       "872810605            196717787\n",
       "37552089             196717787\n",
       "1483413924           196717787"
      ]
     },
     "execution_count": 18,
     "metadata": {},
     "output_type": "execute_result"
    }
   ],
   "source": [
    "user_to_mp.tail()"
   ]
  },
  {
   "cell_type": "markdown",
   "id": "b58a6811",
   "metadata": {},
   "source": [
    "## Persist Files"
   ]
  },
  {
   "cell_type": "code",
   "execution_count": 19,
   "id": "fa8ff43d",
   "metadata": {},
   "outputs": [],
   "source": [
    "user_to_mp.to_csv(\"user-to-mp-edges.csv\")"
   ]
  },
  {
   "cell_type": "code",
   "execution_count": 20,
   "id": "d66056b0",
   "metadata": {},
   "outputs": [],
   "source": [
    "user_to_party.to_csv(\"user-to-party-edges.csv\")"
   ]
  },
  {
   "cell_type": "code",
   "execution_count": null,
   "id": "9d6a827f",
   "metadata": {},
   "outputs": [],
   "source": []
  }
 ],
 "metadata": {
  "kernelspec": {
   "display_name": "Python 3 (ipykernel)",
   "language": "python",
   "name": "python3"
  },
  "language_info": {
   "codemirror_mode": {
    "name": "ipython",
    "version": 3
   },
   "file_extension": ".py",
   "mimetype": "text/x-python",
   "name": "python",
   "nbconvert_exporter": "python",
   "pygments_lexer": "ipython3",
   "version": "3.8.10"
  }
 },
 "nbformat": 4,
 "nbformat_minor": 5
}
