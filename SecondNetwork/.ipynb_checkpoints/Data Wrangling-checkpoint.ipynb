{
 "cells": [
  {
   "cell_type": "markdown",
   "id": "15012732",
   "metadata": {},
   "source": [
    "# Data Wrangling"
   ]
  },
  {
   "cell_type": "code",
   "execution_count": 1,
   "id": "90d22699",
   "metadata": {},
   "outputs": [],
   "source": [
    "import pandas as pd\n",
    "import networkx as nx\n",
    "import matplotlib.pyplot as plt\n",
    "import matplotlib as mpl\n",
    "%matplotlib inline"
   ]
  },
  {
   "cell_type": "markdown",
   "id": "a5817a9d",
   "metadata": {},
   "source": [
    "## Create Tweet Nodes"
   ]
  },
  {
   "cell_type": "code",
   "execution_count": 2,
   "id": "fd52a7d0",
   "metadata": {},
   "outputs": [],
   "source": [
    "tweets = pd.read_csv(\"tweet-user-edges.csv\")"
   ]
  },
  {
   "cell_type": "code",
   "execution_count": 3,
   "id": "ce7a066a",
   "metadata": {},
   "outputs": [
    {
     "data": {
      "text/html": [
       "<div>\n",
       "<style scoped>\n",
       "    .dataframe tbody tr th:only-of-type {\n",
       "        vertical-align: middle;\n",
       "    }\n",
       "\n",
       "    .dataframe tbody tr th {\n",
       "        vertical-align: top;\n",
       "    }\n",
       "\n",
       "    .dataframe thead th {\n",
       "        text-align: right;\n",
       "    }\n",
       "</style>\n",
       "<table border=\"1\" class=\"dataframe\">\n",
       "  <thead>\n",
       "    <tr style=\"text-align: right;\">\n",
       "      <th></th>\n",
       "      <th>tweetId</th>\n",
       "      <th>UserId</th>\n",
       "      <th>twitterName</th>\n",
       "      <th>dateCreated</th>\n",
       "      <th>First Name</th>\n",
       "      <th>Last Name</th>\n",
       "      <th>Political Affiliation</th>\n",
       "    </tr>\n",
       "  </thead>\n",
       "  <tbody>\n",
       "    <tr>\n",
       "      <th>0</th>\n",
       "      <td>1442922344037552128</td>\n",
       "      <td>83508245</td>\n",
       "      <td>dckurek</td>\n",
       "      <td>2021-09-28T18:41:09.000Z</td>\n",
       "      <td>Damien</td>\n",
       "      <td>Kurek</td>\n",
       "      <td>Conservative</td>\n",
       "    </tr>\n",
       "    <tr>\n",
       "      <th>1</th>\n",
       "      <td>1442922342644998150</td>\n",
       "      <td>83508245</td>\n",
       "      <td>dckurek</td>\n",
       "      <td>2021-09-28T18:41:09.000Z</td>\n",
       "      <td>Damien</td>\n",
       "      <td>Kurek</td>\n",
       "      <td>Conservative</td>\n",
       "    </tr>\n",
       "    <tr>\n",
       "      <th>2</th>\n",
       "      <td>1440394467337334798</td>\n",
       "      <td>83508245</td>\n",
       "      <td>dckurek</td>\n",
       "      <td>2021-09-21T19:16:16.000Z</td>\n",
       "      <td>Damien</td>\n",
       "      <td>Kurek</td>\n",
       "      <td>Conservative</td>\n",
       "    </tr>\n",
       "    <tr>\n",
       "      <th>3</th>\n",
       "      <td>1440126344067629056</td>\n",
       "      <td>83508245</td>\n",
       "      <td>dckurek</td>\n",
       "      <td>2021-09-21T01:30:51.000Z</td>\n",
       "      <td>Damien</td>\n",
       "      <td>Kurek</td>\n",
       "      <td>Conservative</td>\n",
       "    </tr>\n",
       "    <tr>\n",
       "      <th>4</th>\n",
       "      <td>1449082201023389703</td>\n",
       "      <td>4568748862</td>\n",
       "      <td>ziad_aboultaif</td>\n",
       "      <td>2021-10-15T18:38:14.000Z</td>\n",
       "      <td>Ziad</td>\n",
       "      <td>Aboultaif</td>\n",
       "      <td>Conservative</td>\n",
       "    </tr>\n",
       "  </tbody>\n",
       "</table>\n",
       "</div>"
      ],
      "text/plain": [
       "               tweetId      UserId     twitterName               dateCreated  \\\n",
       "0  1442922344037552128    83508245         dckurek  2021-09-28T18:41:09.000Z   \n",
       "1  1442922342644998150    83508245         dckurek  2021-09-28T18:41:09.000Z   \n",
       "2  1440394467337334798    83508245         dckurek  2021-09-21T19:16:16.000Z   \n",
       "3  1440126344067629056    83508245         dckurek  2021-09-21T01:30:51.000Z   \n",
       "4  1449082201023389703  4568748862  ziad_aboultaif  2021-10-15T18:38:14.000Z   \n",
       "\n",
       "  First Name  Last Name Political Affiliation  \n",
       "0     Damien      Kurek          Conservative  \n",
       "1     Damien      Kurek          Conservative  \n",
       "2     Damien      Kurek          Conservative  \n",
       "3     Damien      Kurek          Conservative  \n",
       "4       Ziad  Aboultaif          Conservative  "
      ]
     },
     "execution_count": 3,
     "metadata": {},
     "output_type": "execute_result"
    }
   ],
   "source": [
    "tweets.head()"
   ]
  },
  {
   "cell_type": "code",
   "execution_count": 4,
   "id": "53d69463",
   "metadata": {},
   "outputs": [],
   "source": [
    "justTweets = tweets[['tweetId', 'dateCreated']]"
   ]
  },
  {
   "cell_type": "code",
   "execution_count": 5,
   "id": "b8432094",
   "metadata": {},
   "outputs": [
    {
     "data": {
      "text/html": [
       "<div>\n",
       "<style scoped>\n",
       "    .dataframe tbody tr th:only-of-type {\n",
       "        vertical-align: middle;\n",
       "    }\n",
       "\n",
       "    .dataframe tbody tr th {\n",
       "        vertical-align: top;\n",
       "    }\n",
       "\n",
       "    .dataframe thead th {\n",
       "        text-align: right;\n",
       "    }\n",
       "</style>\n",
       "<table border=\"1\" class=\"dataframe\">\n",
       "  <thead>\n",
       "    <tr style=\"text-align: right;\">\n",
       "      <th></th>\n",
       "      <th>tweetId</th>\n",
       "      <th>dateCreated</th>\n",
       "    </tr>\n",
       "  </thead>\n",
       "  <tbody>\n",
       "    <tr>\n",
       "      <th>0</th>\n",
       "      <td>1442922344037552128</td>\n",
       "      <td>2021-09-28T18:41:09.000Z</td>\n",
       "    </tr>\n",
       "    <tr>\n",
       "      <th>1</th>\n",
       "      <td>1442922342644998150</td>\n",
       "      <td>2021-09-28T18:41:09.000Z</td>\n",
       "    </tr>\n",
       "    <tr>\n",
       "      <th>2</th>\n",
       "      <td>1440394467337334798</td>\n",
       "      <td>2021-09-21T19:16:16.000Z</td>\n",
       "    </tr>\n",
       "    <tr>\n",
       "      <th>3</th>\n",
       "      <td>1440126344067629056</td>\n",
       "      <td>2021-09-21T01:30:51.000Z</td>\n",
       "    </tr>\n",
       "    <tr>\n",
       "      <th>4</th>\n",
       "      <td>1449082201023389703</td>\n",
       "      <td>2021-10-15T18:38:14.000Z</td>\n",
       "    </tr>\n",
       "  </tbody>\n",
       "</table>\n",
       "</div>"
      ],
      "text/plain": [
       "               tweetId               dateCreated\n",
       "0  1442922344037552128  2021-09-28T18:41:09.000Z\n",
       "1  1442922342644998150  2021-09-28T18:41:09.000Z\n",
       "2  1440394467337334798  2021-09-21T19:16:16.000Z\n",
       "3  1440126344067629056  2021-09-21T01:30:51.000Z\n",
       "4  1449082201023389703  2021-10-15T18:38:14.000Z"
      ]
     },
     "execution_count": 5,
     "metadata": {},
     "output_type": "execute_result"
    }
   ],
   "source": [
    "justTweets.head()"
   ]
  },
  {
   "cell_type": "code",
   "execution_count": 6,
   "id": "107383f2",
   "metadata": {},
   "outputs": [],
   "source": [
    "justTweets = justTweets.set_index('tweetId')"
   ]
  },
  {
   "cell_type": "code",
   "execution_count": 7,
   "id": "ce34ce60",
   "metadata": {},
   "outputs": [],
   "source": [
    "justTweets.to_csv('tweet_nodes.csv')"
   ]
  },
  {
   "cell_type": "markdown",
   "id": "5e979fef",
   "metadata": {},
   "source": [
    "## Create MP Nodes "
   ]
  },
  {
   "cell_type": "code",
   "execution_count": 8,
   "id": "b9fc198a",
   "metadata": {},
   "outputs": [],
   "source": [
    "mps_df = tweets.drop(['tweetId','dateCreated'], axis=1)"
   ]
  },
  {
   "cell_type": "code",
   "execution_count": 9,
   "id": "d47c2c9d",
   "metadata": {},
   "outputs": [
    {
     "data": {
      "text/html": [
       "<div>\n",
       "<style scoped>\n",
       "    .dataframe tbody tr th:only-of-type {\n",
       "        vertical-align: middle;\n",
       "    }\n",
       "\n",
       "    .dataframe tbody tr th {\n",
       "        vertical-align: top;\n",
       "    }\n",
       "\n",
       "    .dataframe thead th {\n",
       "        text-align: right;\n",
       "    }\n",
       "</style>\n",
       "<table border=\"1\" class=\"dataframe\">\n",
       "  <thead>\n",
       "    <tr style=\"text-align: right;\">\n",
       "      <th></th>\n",
       "      <th>UserId</th>\n",
       "      <th>twitterName</th>\n",
       "      <th>First Name</th>\n",
       "      <th>Last Name</th>\n",
       "      <th>Political Affiliation</th>\n",
       "    </tr>\n",
       "  </thead>\n",
       "  <tbody>\n",
       "    <tr>\n",
       "      <th>0</th>\n",
       "      <td>83508245</td>\n",
       "      <td>dckurek</td>\n",
       "      <td>Damien</td>\n",
       "      <td>Kurek</td>\n",
       "      <td>Conservative</td>\n",
       "    </tr>\n",
       "    <tr>\n",
       "      <th>1</th>\n",
       "      <td>83508245</td>\n",
       "      <td>dckurek</td>\n",
       "      <td>Damien</td>\n",
       "      <td>Kurek</td>\n",
       "      <td>Conservative</td>\n",
       "    </tr>\n",
       "    <tr>\n",
       "      <th>2</th>\n",
       "      <td>83508245</td>\n",
       "      <td>dckurek</td>\n",
       "      <td>Damien</td>\n",
       "      <td>Kurek</td>\n",
       "      <td>Conservative</td>\n",
       "    </tr>\n",
       "    <tr>\n",
       "      <th>3</th>\n",
       "      <td>83508245</td>\n",
       "      <td>dckurek</td>\n",
       "      <td>Damien</td>\n",
       "      <td>Kurek</td>\n",
       "      <td>Conservative</td>\n",
       "    </tr>\n",
       "    <tr>\n",
       "      <th>4</th>\n",
       "      <td>4568748862</td>\n",
       "      <td>ziad_aboultaif</td>\n",
       "      <td>Ziad</td>\n",
       "      <td>Aboultaif</td>\n",
       "      <td>Conservative</td>\n",
       "    </tr>\n",
       "  </tbody>\n",
       "</table>\n",
       "</div>"
      ],
      "text/plain": [
       "       UserId     twitterName First Name  Last Name Political Affiliation\n",
       "0    83508245         dckurek     Damien      Kurek          Conservative\n",
       "1    83508245         dckurek     Damien      Kurek          Conservative\n",
       "2    83508245         dckurek     Damien      Kurek          Conservative\n",
       "3    83508245         dckurek     Damien      Kurek          Conservative\n",
       "4  4568748862  ziad_aboultaif       Ziad  Aboultaif          Conservative"
      ]
     },
     "execution_count": 9,
     "metadata": {},
     "output_type": "execute_result"
    }
   ],
   "source": [
    "mps_df.head()"
   ]
  },
  {
   "cell_type": "code",
   "execution_count": 10,
   "id": "11019bf3",
   "metadata": {},
   "outputs": [],
   "source": [
    "mps_df = mps_df.drop_duplicates()"
   ]
  },
  {
   "cell_type": "code",
   "execution_count": 11,
   "id": "ea5cc177",
   "metadata": {},
   "outputs": [
    {
     "data": {
      "text/html": [
       "<div>\n",
       "<style scoped>\n",
       "    .dataframe tbody tr th:only-of-type {\n",
       "        vertical-align: middle;\n",
       "    }\n",
       "\n",
       "    .dataframe tbody tr th {\n",
       "        vertical-align: top;\n",
       "    }\n",
       "\n",
       "    .dataframe thead th {\n",
       "        text-align: right;\n",
       "    }\n",
       "</style>\n",
       "<table border=\"1\" class=\"dataframe\">\n",
       "  <thead>\n",
       "    <tr style=\"text-align: right;\">\n",
       "      <th></th>\n",
       "      <th>UserId</th>\n",
       "      <th>twitterName</th>\n",
       "      <th>First Name</th>\n",
       "      <th>Last Name</th>\n",
       "      <th>Political Affiliation</th>\n",
       "    </tr>\n",
       "  </thead>\n",
       "  <tbody>\n",
       "    <tr>\n",
       "      <th>0</th>\n",
       "      <td>83508245</td>\n",
       "      <td>dckurek</td>\n",
       "      <td>Damien</td>\n",
       "      <td>Kurek</td>\n",
       "      <td>Conservative</td>\n",
       "    </tr>\n",
       "    <tr>\n",
       "      <th>4</th>\n",
       "      <td>4568748862</td>\n",
       "      <td>ziad_aboultaif</td>\n",
       "      <td>Ziad</td>\n",
       "      <td>Aboultaif</td>\n",
       "      <td>Conservative</td>\n",
       "    </tr>\n",
       "    <tr>\n",
       "      <th>14</th>\n",
       "      <td>44070432</td>\n",
       "      <td>LailaGoodridge</td>\n",
       "      <td>Laila</td>\n",
       "      <td>Goodridge</td>\n",
       "      <td>Conservative</td>\n",
       "    </tr>\n",
       "    <tr>\n",
       "      <th>21</th>\n",
       "      <td>1425866189780160514</td>\n",
       "      <td>POhara2021</td>\n",
       "      <td>Patrick</td>\n",
       "      <td>O'Hara</td>\n",
       "      <td>Bloc Québécois</td>\n",
       "    </tr>\n",
       "    <tr>\n",
       "      <th>34</th>\n",
       "      <td>1420552213253038080</td>\n",
       "      <td>NathalieSincla3</td>\n",
       "      <td>Nathalie</td>\n",
       "      <td>Sinclair-Desgagné</td>\n",
       "      <td>Bloc Québécois</td>\n",
       "    </tr>\n",
       "  </tbody>\n",
       "</table>\n",
       "</div>"
      ],
      "text/plain": [
       "                 UserId      twitterName First Name          Last Name  \\\n",
       "0              83508245          dckurek     Damien              Kurek   \n",
       "4            4568748862   ziad_aboultaif       Ziad          Aboultaif   \n",
       "14             44070432   LailaGoodridge      Laila          Goodridge   \n",
       "21  1425866189780160514       POhara2021    Patrick             O'Hara   \n",
       "34  1420552213253038080  NathalieSincla3   Nathalie  Sinclair-Desgagné   \n",
       "\n",
       "   Political Affiliation  \n",
       "0           Conservative  \n",
       "4           Conservative  \n",
       "14          Conservative  \n",
       "21        Bloc Québécois  \n",
       "34        Bloc Québécois  "
      ]
     },
     "execution_count": 11,
     "metadata": {},
     "output_type": "execute_result"
    }
   ],
   "source": [
    "mps_df.head()"
   ]
  },
  {
   "cell_type": "code",
   "execution_count": 12,
   "id": "e18951af",
   "metadata": {},
   "outputs": [],
   "source": [
    "mps_df = mps_df.set_index('UserId')"
   ]
  },
  {
   "cell_type": "code",
   "execution_count": 13,
   "id": "0a0aab37",
   "metadata": {},
   "outputs": [],
   "source": [
    "mps_df.to_csv('mps_nodes.csv')"
   ]
  },
  {
   "cell_type": "markdown",
   "id": "589b369e",
   "metadata": {},
   "source": [
    "## Get Retweeting User Nodes"
   ]
  },
  {
   "cell_type": "code",
   "execution_count": 14,
   "id": "b392bbe4",
   "metadata": {},
   "outputs": [],
   "source": [
    "tweet_retweet_df = pd.read_csv('tweet-retweet.csv')"
   ]
  },
  {
   "cell_type": "code",
   "execution_count": 15,
   "id": "fd63edd9",
   "metadata": {},
   "outputs": [
    {
     "data": {
      "text/html": [
       "<div>\n",
       "<style scoped>\n",
       "    .dataframe tbody tr th:only-of-type {\n",
       "        vertical-align: middle;\n",
       "    }\n",
       "\n",
       "    .dataframe tbody tr th {\n",
       "        vertical-align: top;\n",
       "    }\n",
       "\n",
       "    .dataframe thead th {\n",
       "        text-align: right;\n",
       "    }\n",
       "</style>\n",
       "<table border=\"1\" class=\"dataframe\">\n",
       "  <thead>\n",
       "    <tr style=\"text-align: right;\">\n",
       "      <th></th>\n",
       "      <th>tweetId</th>\n",
       "      <th>userId</th>\n",
       "    </tr>\n",
       "  </thead>\n",
       "  <tbody>\n",
       "    <tr>\n",
       "      <th>17599</th>\n",
       "      <td>1443563877774602249</td>\n",
       "      <td>422122218</td>\n",
       "    </tr>\n",
       "    <tr>\n",
       "      <th>17600</th>\n",
       "      <td>1443563877774602249</td>\n",
       "      <td>2176915064</td>\n",
       "    </tr>\n",
       "    <tr>\n",
       "      <th>17601</th>\n",
       "      <td>1443563877774602249</td>\n",
       "      <td>37552089</td>\n",
       "    </tr>\n",
       "    <tr>\n",
       "      <th>17602</th>\n",
       "      <td>1443563877774602249</td>\n",
       "      <td>1380961578288316416</td>\n",
       "    </tr>\n",
       "    <tr>\n",
       "      <th>17603</th>\n",
       "      <td>1443563877774602249</td>\n",
       "      <td>153515039</td>\n",
       "    </tr>\n",
       "  </tbody>\n",
       "</table>\n",
       "</div>"
      ],
      "text/plain": [
       "                   tweetId               userId\n",
       "17599  1443563877774602249            422122218\n",
       "17600  1443563877774602249           2176915064\n",
       "17601  1443563877774602249             37552089\n",
       "17602  1443563877774602249  1380961578288316416\n",
       "17603  1443563877774602249            153515039"
      ]
     },
     "execution_count": 15,
     "metadata": {},
     "output_type": "execute_result"
    }
   ],
   "source": [
    "tweet_retweet_df.tail()"
   ]
  },
  {
   "cell_type": "code",
   "execution_count": 18,
   "id": "74ccccdc",
   "metadata": {},
   "outputs": [],
   "source": [
    "retweeters_df = tweet_retweet_df[['userId']]"
   ]
  },
  {
   "cell_type": "code",
   "execution_count": 19,
   "id": "60e19c9c",
   "metadata": {},
   "outputs": [
    {
     "data": {
      "text/html": [
       "<div>\n",
       "<style scoped>\n",
       "    .dataframe tbody tr th:only-of-type {\n",
       "        vertical-align: middle;\n",
       "    }\n",
       "\n",
       "    .dataframe tbody tr th {\n",
       "        vertical-align: top;\n",
       "    }\n",
       "\n",
       "    .dataframe thead th {\n",
       "        text-align: right;\n",
       "    }\n",
       "</style>\n",
       "<table border=\"1\" class=\"dataframe\">\n",
       "  <thead>\n",
       "    <tr style=\"text-align: right;\">\n",
       "      <th></th>\n",
       "      <th>userId</th>\n",
       "    </tr>\n",
       "  </thead>\n",
       "  <tbody>\n",
       "    <tr>\n",
       "      <th>17599</th>\n",
       "      <td>422122218</td>\n",
       "    </tr>\n",
       "    <tr>\n",
       "      <th>17600</th>\n",
       "      <td>2176915064</td>\n",
       "    </tr>\n",
       "    <tr>\n",
       "      <th>17601</th>\n",
       "      <td>37552089</td>\n",
       "    </tr>\n",
       "    <tr>\n",
       "      <th>17602</th>\n",
       "      <td>1380961578288316416</td>\n",
       "    </tr>\n",
       "    <tr>\n",
       "      <th>17603</th>\n",
       "      <td>153515039</td>\n",
       "    </tr>\n",
       "  </tbody>\n",
       "</table>\n",
       "</div>"
      ],
      "text/plain": [
       "                    userId\n",
       "17599            422122218\n",
       "17600           2176915064\n",
       "17601             37552089\n",
       "17602  1380961578288316416\n",
       "17603            153515039"
      ]
     },
     "execution_count": 19,
     "metadata": {},
     "output_type": "execute_result"
    }
   ],
   "source": [
    "retweeters_df.tail()"
   ]
  },
  {
   "cell_type": "code",
   "execution_count": 20,
   "id": "3c4712cd",
   "metadata": {},
   "outputs": [],
   "source": [
    "new_df = retweeters_df.drop_duplicates()\n",
    "new_df = new_df.set_index('userId')"
   ]
  },
  {
   "cell_type": "raw",
   "id": "46ab5b55",
   "metadata": {},
   "source": [
    "new_df.to_csv('retweeters.csv')"
   ]
  },
  {
   "cell_type": "code",
   "execution_count": null,
   "id": "113e6f7b",
   "metadata": {},
   "outputs": [],
   "source": [
    "tweet_retweet_df['userId'].size"
   ]
  },
  {
   "cell_type": "code",
   "execution_count": null,
   "id": "a25683c8",
   "metadata": {},
   "outputs": [],
   "source": [
    "new_df.size"
   ]
  },
  {
   "cell_type": "code",
   "execution_count": null,
   "id": "a57a758e",
   "metadata": {},
   "outputs": [],
   "source": [
    "\n",
    "new_df.to_csv('retweetingUsers_nodes.csv')"
   ]
  },
  {
   "cell_type": "code",
   "execution_count": null,
   "id": "45f9080a",
   "metadata": {},
   "outputs": [],
   "source": [
    "new_df = pd.read_csv('retweetingUsers_nodes.csv')"
   ]
  },
  {
   "cell_type": "code",
   "execution_count": null,
   "id": "c9889e7c",
   "metadata": {},
   "outputs": [],
   "source": [
    "new_df = new_df.set_index('userId')"
   ]
  },
  {
   "cell_type": "code",
   "execution_count": null,
   "id": "e61cbd68",
   "metadata": {},
   "outputs": [],
   "source": [
    "new_df.head()"
   ]
  },
  {
   "cell_type": "code",
   "execution_count": null,
   "id": "4b8a61d7",
   "metadata": {},
   "outputs": [],
   "source": [
    "new_df = new_df.drop('Unnamed: 0', axis = 1)"
   ]
  },
  {
   "cell_type": "code",
   "execution_count": null,
   "id": "489012ab",
   "metadata": {},
   "outputs": [],
   "source": [
    "new_df.to_csv('retweetingUsers_nodes.csv')"
   ]
  },
  {
   "cell_type": "markdown",
   "id": "1f0e7cbe",
   "metadata": {},
   "source": [
    "## Edges for MPs and Tweets"
   ]
  },
  {
   "cell_type": "code",
   "execution_count": 21,
   "id": "a4bcdde5",
   "metadata": {},
   "outputs": [],
   "source": [
    "mp_tweets = pd.read_csv('tweet-user-edges.csv')"
   ]
  },
  {
   "cell_type": "code",
   "execution_count": 22,
   "id": "055c8b4c",
   "metadata": {},
   "outputs": [
    {
     "data": {
      "text/html": [
       "<div>\n",
       "<style scoped>\n",
       "    .dataframe tbody tr th:only-of-type {\n",
       "        vertical-align: middle;\n",
       "    }\n",
       "\n",
       "    .dataframe tbody tr th {\n",
       "        vertical-align: top;\n",
       "    }\n",
       "\n",
       "    .dataframe thead th {\n",
       "        text-align: right;\n",
       "    }\n",
       "</style>\n",
       "<table border=\"1\" class=\"dataframe\">\n",
       "  <thead>\n",
       "    <tr style=\"text-align: right;\">\n",
       "      <th></th>\n",
       "      <th>tweetId</th>\n",
       "      <th>UserId</th>\n",
       "      <th>twitterName</th>\n",
       "      <th>dateCreated</th>\n",
       "      <th>First Name</th>\n",
       "      <th>Last Name</th>\n",
       "      <th>Political Affiliation</th>\n",
       "    </tr>\n",
       "  </thead>\n",
       "  <tbody>\n",
       "    <tr>\n",
       "      <th>0</th>\n",
       "      <td>1442922344037552128</td>\n",
       "      <td>83508245</td>\n",
       "      <td>dckurek</td>\n",
       "      <td>2021-09-28T18:41:09.000Z</td>\n",
       "      <td>Damien</td>\n",
       "      <td>Kurek</td>\n",
       "      <td>Conservative</td>\n",
       "    </tr>\n",
       "    <tr>\n",
       "      <th>1</th>\n",
       "      <td>1442922342644998150</td>\n",
       "      <td>83508245</td>\n",
       "      <td>dckurek</td>\n",
       "      <td>2021-09-28T18:41:09.000Z</td>\n",
       "      <td>Damien</td>\n",
       "      <td>Kurek</td>\n",
       "      <td>Conservative</td>\n",
       "    </tr>\n",
       "    <tr>\n",
       "      <th>2</th>\n",
       "      <td>1440394467337334798</td>\n",
       "      <td>83508245</td>\n",
       "      <td>dckurek</td>\n",
       "      <td>2021-09-21T19:16:16.000Z</td>\n",
       "      <td>Damien</td>\n",
       "      <td>Kurek</td>\n",
       "      <td>Conservative</td>\n",
       "    </tr>\n",
       "    <tr>\n",
       "      <th>3</th>\n",
       "      <td>1440126344067629056</td>\n",
       "      <td>83508245</td>\n",
       "      <td>dckurek</td>\n",
       "      <td>2021-09-21T01:30:51.000Z</td>\n",
       "      <td>Damien</td>\n",
       "      <td>Kurek</td>\n",
       "      <td>Conservative</td>\n",
       "    </tr>\n",
       "    <tr>\n",
       "      <th>4</th>\n",
       "      <td>1449082201023389703</td>\n",
       "      <td>4568748862</td>\n",
       "      <td>ziad_aboultaif</td>\n",
       "      <td>2021-10-15T18:38:14.000Z</td>\n",
       "      <td>Ziad</td>\n",
       "      <td>Aboultaif</td>\n",
       "      <td>Conservative</td>\n",
       "    </tr>\n",
       "  </tbody>\n",
       "</table>\n",
       "</div>"
      ],
      "text/plain": [
       "               tweetId      UserId     twitterName               dateCreated  \\\n",
       "0  1442922344037552128    83508245         dckurek  2021-09-28T18:41:09.000Z   \n",
       "1  1442922342644998150    83508245         dckurek  2021-09-28T18:41:09.000Z   \n",
       "2  1440394467337334798    83508245         dckurek  2021-09-21T19:16:16.000Z   \n",
       "3  1440126344067629056    83508245         dckurek  2021-09-21T01:30:51.000Z   \n",
       "4  1449082201023389703  4568748862  ziad_aboultaif  2021-10-15T18:38:14.000Z   \n",
       "\n",
       "  First Name  Last Name Political Affiliation  \n",
       "0     Damien      Kurek          Conservative  \n",
       "1     Damien      Kurek          Conservative  \n",
       "2     Damien      Kurek          Conservative  \n",
       "3     Damien      Kurek          Conservative  \n",
       "4       Ziad  Aboultaif          Conservative  "
      ]
     },
     "execution_count": 22,
     "metadata": {},
     "output_type": "execute_result"
    }
   ],
   "source": [
    "mp_tweets.head()"
   ]
  },
  {
   "cell_type": "code",
   "execution_count": 23,
   "id": "c561c4e7",
   "metadata": {},
   "outputs": [],
   "source": [
    "mp_tweets = mp_tweets[['tweetId', 'UserId']]"
   ]
  },
  {
   "cell_type": "code",
   "execution_count": null,
   "id": "ea5db715",
   "metadata": {},
   "outputs": [],
   "source": [
    "mp_tweets = mp_tweets.rename(columns={'tweetId': 'Source', 'UserId': 'Target'})"
   ]
  },
  {
   "cell_type": "code",
   "execution_count": null,
   "id": "ea116d24",
   "metadata": {},
   "outputs": [],
   "source": [
    "mp_tweets = mp_tweets.set_index('Source')"
   ]
  },
  {
   "cell_type": "code",
   "execution_count": 24,
   "id": "d98b0fdc",
   "metadata": {},
   "outputs": [
    {
     "data": {
      "text/html": [
       "<div>\n",
       "<style scoped>\n",
       "    .dataframe tbody tr th:only-of-type {\n",
       "        vertical-align: middle;\n",
       "    }\n",
       "\n",
       "    .dataframe tbody tr th {\n",
       "        vertical-align: top;\n",
       "    }\n",
       "\n",
       "    .dataframe thead th {\n",
       "        text-align: right;\n",
       "    }\n",
       "</style>\n",
       "<table border=\"1\" class=\"dataframe\">\n",
       "  <thead>\n",
       "    <tr style=\"text-align: right;\">\n",
       "      <th></th>\n",
       "      <th>tweetId</th>\n",
       "      <th>UserId</th>\n",
       "    </tr>\n",
       "  </thead>\n",
       "  <tbody>\n",
       "    <tr>\n",
       "      <th>0</th>\n",
       "      <td>1442922344037552128</td>\n",
       "      <td>83508245</td>\n",
       "    </tr>\n",
       "    <tr>\n",
       "      <th>1</th>\n",
       "      <td>1442922342644998150</td>\n",
       "      <td>83508245</td>\n",
       "    </tr>\n",
       "    <tr>\n",
       "      <th>2</th>\n",
       "      <td>1440394467337334798</td>\n",
       "      <td>83508245</td>\n",
       "    </tr>\n",
       "    <tr>\n",
       "      <th>3</th>\n",
       "      <td>1440126344067629056</td>\n",
       "      <td>83508245</td>\n",
       "    </tr>\n",
       "    <tr>\n",
       "      <th>4</th>\n",
       "      <td>1449082201023389703</td>\n",
       "      <td>4568748862</td>\n",
       "    </tr>\n",
       "  </tbody>\n",
       "</table>\n",
       "</div>"
      ],
      "text/plain": [
       "               tweetId      UserId\n",
       "0  1442922344037552128    83508245\n",
       "1  1442922342644998150    83508245\n",
       "2  1440394467337334798    83508245\n",
       "3  1440126344067629056    83508245\n",
       "4  1449082201023389703  4568748862"
      ]
     },
     "execution_count": 24,
     "metadata": {},
     "output_type": "execute_result"
    }
   ],
   "source": [
    "mp_tweets.head()"
   ]
  },
  {
   "cell_type": "code",
   "execution_count": null,
   "id": "abeefd44",
   "metadata": {},
   "outputs": [],
   "source": [
    "mp_tweets.to_csv('tweet-mp-edges.csv')"
   ]
  },
  {
   "cell_type": "markdown",
   "id": "7ef9c060",
   "metadata": {},
   "source": [
    "# Subset Network Creation"
   ]
  },
  {
   "cell_type": "markdown",
   "id": "6df23675",
   "metadata": {},
   "source": [
    "Take a subset of MP's to show off the network"
   ]
  },
  {
   "cell_type": "code",
   "execution_count": null,
   "id": "2775c8e7",
   "metadata": {},
   "outputs": [],
   "source": [
    "mps_nodes = pd.read_csv('mps_nodes.csv')"
   ]
  },
  {
   "cell_type": "code",
   "execution_count": null,
   "id": "8c79641c",
   "metadata": {},
   "outputs": [],
   "source": [
    "mps_nodes_subset = mps_nodes.sample(5)"
   ]
  },
  {
   "cell_type": "code",
   "execution_count": null,
   "id": "1dd4c1ae",
   "metadata": {},
   "outputs": [],
   "source": [
    "mps_nodes_subset.head()"
   ]
  },
  {
   "cell_type": "markdown",
   "id": "efafb1e9",
   "metadata": {},
   "source": [
    "Get all tweets from these users"
   ]
  },
  {
   "cell_type": "code",
   "execution_count": null,
   "id": "c5654044",
   "metadata": {},
   "outputs": [],
   "source": [
    "tweet_mp_edges = pd.read_csv('tweet-mp-edges.csv')"
   ]
  },
  {
   "cell_type": "code",
   "execution_count": null,
   "id": "7f798671",
   "metadata": {},
   "outputs": [],
   "source": [
    "tweet_mp_edges.head()"
   ]
  },
  {
   "cell_type": "markdown",
   "id": "329eac99",
   "metadata": {},
   "source": [
    "Run a join to get the correct tweets"
   ]
  },
  {
   "cell_type": "code",
   "execution_count": null,
   "id": "609e6994",
   "metadata": {},
   "outputs": [],
   "source": [
    "tweet_mp_edges_subset = pd.merge(tweet_mp_edges, mps_nodes_subset, left_on='Target', right_on='UserId')"
   ]
  },
  {
   "cell_type": "code",
   "execution_count": null,
   "id": "d900e941",
   "metadata": {},
   "outputs": [],
   "source": [
    "tweet_mp_edges_subset.head(100)"
   ]
  },
  {
   "cell_type": "markdown",
   "id": "b532c3e6",
   "metadata": {},
   "source": [
    "Get the Retweeters of these tweets "
   ]
  },
  {
   "cell_type": "code",
   "execution_count": null,
   "id": "bf213564",
   "metadata": {},
   "outputs": [],
   "source": [
    "tweet_retweet_edges = pd.read_csv('tweet-retweet-edges.csv')\n",
    "tweet_retweet_edges = tweet_retweet_edges.rename(columns={'Target': 'Tweet', 'Source': 'Retweeter'})"
   ]
  },
  {
   "cell_type": "code",
   "execution_count": null,
   "id": "1730b520",
   "metadata": {},
   "outputs": [],
   "source": [
    "tweet_retweet_edges.head()"
   ]
  },
  {
   "cell_type": "markdown",
   "id": "590eea7a",
   "metadata": {},
   "source": [
    "Run a join on the tweet ids to get that subset "
   ]
  },
  {
   "cell_type": "code",
   "execution_count": null,
   "id": "60d674be",
   "metadata": {},
   "outputs": [],
   "source": [
    "tweet_retweet_edges_subset = pd.merge(tweet_retweet_edges, tweet_mp_edges_subset, left_on='Tweet', right_on='Source')"
   ]
  },
  {
   "cell_type": "code",
   "execution_count": null,
   "id": "7dce98e8",
   "metadata": {},
   "outputs": [],
   "source": [
    "tweet_retweet_edges_subset.head(1000)"
   ]
  },
  {
   "cell_type": "markdown",
   "id": "8c417cea",
   "metadata": {},
   "source": [
    "# Clean DF's and persist"
   ]
  },
  {
   "cell_type": "code",
   "execution_count": null,
   "id": "742af942",
   "metadata": {},
   "outputs": [],
   "source": [
    "clean_mps_nodes_subset = mps_nodes_subset.set_index('UserId')"
   ]
  },
  {
   "cell_type": "code",
   "execution_count": null,
   "id": "b4eb9030",
   "metadata": {},
   "outputs": [],
   "source": [
    "clean_mps_nodes_subset.head()"
   ]
  },
  {
   "cell_type": "code",
   "execution_count": null,
   "id": "5f85fa50",
   "metadata": {},
   "outputs": [],
   "source": [
    "clean_mps_nodes_subset.to_csv('SubsetNetwork/mp_nodes.csv')"
   ]
  },
  {
   "cell_type": "code",
   "execution_count": null,
   "id": "25eb2fe7",
   "metadata": {},
   "outputs": [],
   "source": [
    "clean_tweet_mp_edges_subset = tweet_mp_edges_subset[['Source','Target']]\n",
    "clean_tweet_mp_edges_subset =clean_tweet_mp_edges_subset.set_index('Source')\n",
    "clean_tweet_mp_edges_subset.head(300)"
   ]
  },
  {
   "cell_type": "code",
   "execution_count": null,
   "id": "d61cff89",
   "metadata": {},
   "outputs": [],
   "source": [
    "clean_tweet_mp_edges_subset.to_csv('SubsetNetwork/tweet_mp_edge.csv')"
   ]
  },
  {
   "cell_type": "code",
   "execution_count": null,
   "id": "befd33fb",
   "metadata": {},
   "outputs": [],
   "source": [
    "clean_tweet_retweet_edges_subset = tweet_retweet_edges_subset[['Tweet', 'Retweeter']]\n",
    "clean_tweet_retweet_edges_subset = clean_tweet_retweet_edges_subset.rename(columns={'Tweet': 'Target', 'Retweeter': 'Source'})\n",
    "clean_tweet_retweet_edges_subset = clean_tweet_retweet_edges_subset.set_index('Target')\n",
    "clean_tweet_retweet_edges_subset.head()"
   ]
  },
  {
   "cell_type": "code",
   "execution_count": null,
   "id": "60cbbfa1",
   "metadata": {},
   "outputs": [],
   "source": [
    "clean_tweet_retweet_edges_subset.to_csv('SubsetNetwork/tweet_retweet_edge.csv')"
   ]
  },
  {
   "cell_type": "markdown",
   "id": "eccfa2f4",
   "metadata": {},
   "source": [
    "Nodes"
   ]
  },
  {
   "cell_type": "code",
   "execution_count": null,
   "id": "198cbf6e",
   "metadata": {},
   "outputs": [],
   "source": [
    "import csv"
   ]
  },
  {
   "cell_type": "code",
   "execution_count": null,
   "id": "0e9f65f8",
   "metadata": {},
   "outputs": [],
   "source": [
    "f1 = open('SubsetNetwork/retweeterNodes.csv', 'w')\n",
    "writer1 = csv.writer(f1)\n",
    "for id in clean_tweet_retweet_edges_subset['Source'].unique():\n",
    "    f1.write(\"{},\\n\".format(id))\n",
    "    "
   ]
  },
  {
   "cell_type": "code",
   "execution_count": null,
   "id": "957a85a7",
   "metadata": {},
   "outputs": [],
   "source": [
    "tweet_mp_edges_subset[['Source']].set_index('Source').to_csv('SubsetNetwork/tweetNodes.csv')"
   ]
  },
  {
   "cell_type": "code",
   "execution_count": null,
   "id": "341fc30c",
   "metadata": {},
   "outputs": [],
   "source": []
  }
 ],
 "metadata": {
  "kernelspec": {
   "display_name": "Python 3 (ipykernel)",
   "language": "python",
   "name": "python3"
  },
  "language_info": {
   "codemirror_mode": {
    "name": "ipython",
    "version": 3
   },
   "file_extension": ".py",
   "mimetype": "text/x-python",
   "name": "python",
   "nbconvert_exporter": "python",
   "pygments_lexer": "ipython3",
   "version": "3.8.10"
  }
 },
 "nbformat": 4,
 "nbformat_minor": 5
}
