{
 "cells": [
  {
   "cell_type": "code",
   "execution_count": 1,
   "id": "ff3dfbec",
   "metadata": {},
   "outputs": [],
   "source": [
    "import networkx as nx\n",
    "import math\n",
    "import numpy as np\n",
    "import matplotlib as mat\n",
    "import matplotlib.pyplot as plt \n",
    "import random\n",
    "%matplotlib inline"
   ]
  },
  {
   "cell_type": "code",
   "execution_count": 2,
   "id": "e32e9148",
   "metadata": {},
   "outputs": [],
   "source": [
    "# plot settings\n",
    "almost_black = '#262626'\n",
    "plt.rcParams['text.usetex'] = False\n",
    "plt.rcParams['font.family'] = 'sans-serif'\n",
    "plt.rcParams['font.sans-serif'] = 'Arial'\n",
    "plt.rcParams['axes.edgecolor'] = almost_black\n",
    "plt.rcParams['text.color'] = almost_black\n",
    "plt.rcParams['axes.linewidth'] = 0.5\n",
    "plt.rcParams['axes.labelsize'] = 12"
   ]
  },
  {
   "cell_type": "markdown",
   "id": "891133f1",
   "metadata": {},
   "source": [
    "Implement an information cascade model, in which the probability of node i activating node j is proportional to the weight of the edge from i to j."
   ]
  },
  {
   "cell_type": "code",
   "execution_count": 3,
   "id": "9b2b07c7",
   "metadata": {},
   "outputs": [],
   "source": [
    "def information_cascade(G,t_tot,init):\n",
    "    \n",
    "    t = 0\n",
    "    \n",
    "    max_weight = max([e[2]['weight'] for e in G.edges(data=True)])\n",
    "    \n",
    "    activation_times = {}\n",
    "    for i in init:\n",
    "        activation_times[i]=0\n",
    "    \n",
    "    while t<t_tot:\n",
    "    \n",
    "        curr_infectious = [n for n in activation_times if activation_times[n]==t]\n",
    "\n",
    "        for n in curr_infectious:\n",
    "            for m in G.neighbors(n):\n",
    "                if m not in activation_times.keys():\n",
    "                    p = G[n][m]['weight']\n",
    "                    if p>random.uniform(0,1)*max_weight:\n",
    "                        activation_times[m] = t+1\n",
    "                        \n",
    "        t+=1\n",
    "\n",
    "    return activation_times\n",
    "    "
   ]
  },
  {
   "cell_type": "markdown",
   "id": "4eae3c6e",
   "metadata": {},
   "source": [
    "# Selecting the Initial activation nodes"
   ]
  },
  {
   "cell_type": "code",
   "execution_count": 33,
   "id": "d4e05ce7",
   "metadata": {},
   "outputs": [],
   "source": [
    "import pandas as pd"
   ]
  },
  {
   "cell_type": "code",
   "execution_count": 34,
   "id": "94f531ea",
   "metadata": {},
   "outputs": [],
   "source": [
    "nodes = pd.read_csv(\"../nodes_with_metadata.csv\")"
   ]
  },
  {
   "cell_type": "code",
   "execution_count": 35,
   "id": "5b5833eb",
   "metadata": {},
   "outputs": [
    {
     "data": {
      "text/html": [
       "<div>\n",
       "<style scoped>\n",
       "    .dataframe tbody tr th:only-of-type {\n",
       "        vertical-align: middle;\n",
       "    }\n",
       "\n",
       "    .dataframe tbody tr th {\n",
       "        vertical-align: top;\n",
       "    }\n",
       "\n",
       "    .dataframe thead th {\n",
       "        text-align: right;\n",
       "    }\n",
       "</style>\n",
       "<table border=\"1\" class=\"dataframe\">\n",
       "  <thead>\n",
       "    <tr style=\"text-align: right;\">\n",
       "      <th></th>\n",
       "      <th>Id</th>\n",
       "      <th>Label</th>\n",
       "      <th>timeset</th>\n",
       "      <th>communityid</th>\n",
       "      <th>twittername</th>\n",
       "      <th>first name</th>\n",
       "      <th>last name</th>\n",
       "      <th>political affiliation</th>\n",
       "      <th>indegree</th>\n",
       "      <th>outdegree</th>\n",
       "      <th>degree</th>\n",
       "      <th>eigencentrality</th>\n",
       "      <th>community</th>\n",
       "      <th>polygon</th>\n",
       "    </tr>\n",
       "  </thead>\n",
       "  <tbody>\n",
       "    <tr>\n",
       "      <th>0</th>\n",
       "      <td>1417929933800751104</td>\n",
       "      <td>NaN</td>\n",
       "      <td>NaN</td>\n",
       "      <td>1</td>\n",
       "      <td>NaN</td>\n",
       "      <td>NaN</td>\n",
       "      <td>NaN</td>\n",
       "      <td>NaN</td>\n",
       "      <td>0</td>\n",
       "      <td>1</td>\n",
       "      <td>1</td>\n",
       "      <td>0.0</td>\n",
       "      <td>Liberal</td>\n",
       "      <td>1</td>\n",
       "    </tr>\n",
       "    <tr>\n",
       "      <th>1</th>\n",
       "      <td>1052290795942731777</td>\n",
       "      <td>NaN</td>\n",
       "      <td>NaN</td>\n",
       "      <td>1</td>\n",
       "      <td>NaN</td>\n",
       "      <td>NaN</td>\n",
       "      <td>NaN</td>\n",
       "      <td>NaN</td>\n",
       "      <td>0</td>\n",
       "      <td>1</td>\n",
       "      <td>1</td>\n",
       "      <td>0.0</td>\n",
       "      <td>Liberal</td>\n",
       "      <td>1</td>\n",
       "    </tr>\n",
       "    <tr>\n",
       "      <th>2</th>\n",
       "      <td>1247907027650838528</td>\n",
       "      <td>NaN</td>\n",
       "      <td>NaN</td>\n",
       "      <td>1</td>\n",
       "      <td>NaN</td>\n",
       "      <td>NaN</td>\n",
       "      <td>NaN</td>\n",
       "      <td>NaN</td>\n",
       "      <td>0</td>\n",
       "      <td>1</td>\n",
       "      <td>1</td>\n",
       "      <td>0.0</td>\n",
       "      <td>Liberal</td>\n",
       "      <td>1</td>\n",
       "    </tr>\n",
       "    <tr>\n",
       "      <th>3</th>\n",
       "      <td>1103476860187369472</td>\n",
       "      <td>NaN</td>\n",
       "      <td>NaN</td>\n",
       "      <td>1</td>\n",
       "      <td>NaN</td>\n",
       "      <td>NaN</td>\n",
       "      <td>NaN</td>\n",
       "      <td>NaN</td>\n",
       "      <td>0</td>\n",
       "      <td>1</td>\n",
       "      <td>1</td>\n",
       "      <td>0.0</td>\n",
       "      <td>Liberal</td>\n",
       "      <td>1</td>\n",
       "    </tr>\n",
       "    <tr>\n",
       "      <th>4</th>\n",
       "      <td>998590102573023232</td>\n",
       "      <td>NaN</td>\n",
       "      <td>NaN</td>\n",
       "      <td>1</td>\n",
       "      <td>NaN</td>\n",
       "      <td>NaN</td>\n",
       "      <td>NaN</td>\n",
       "      <td>NaN</td>\n",
       "      <td>0</td>\n",
       "      <td>1</td>\n",
       "      <td>1</td>\n",
       "      <td>0.0</td>\n",
       "      <td>Liberal</td>\n",
       "      <td>1</td>\n",
       "    </tr>\n",
       "  </tbody>\n",
       "</table>\n",
       "</div>"
      ],
      "text/plain": [
       "                    Id  Label  timeset  communityid twittername first name  \\\n",
       "0  1417929933800751104    NaN      NaN            1         NaN        NaN   \n",
       "1  1052290795942731777    NaN      NaN            1         NaN        NaN   \n",
       "2  1247907027650838528    NaN      NaN            1         NaN        NaN   \n",
       "3  1103476860187369472    NaN      NaN            1         NaN        NaN   \n",
       "4   998590102573023232    NaN      NaN            1         NaN        NaN   \n",
       "\n",
       "  last name political affiliation  indegree  outdegree  degree  \\\n",
       "0       NaN                   NaN         0          1       1   \n",
       "1       NaN                   NaN         0          1       1   \n",
       "2       NaN                   NaN         0          1       1   \n",
       "3       NaN                   NaN         0          1       1   \n",
       "4       NaN                   NaN         0          1       1   \n",
       "\n",
       "   eigencentrality community  polygon  \n",
       "0              0.0   Liberal        1  \n",
       "1              0.0   Liberal        1  \n",
       "2              0.0   Liberal        1  \n",
       "3              0.0   Liberal        1  \n",
       "4              0.0   Liberal        1  "
      ]
     },
     "execution_count": 35,
     "metadata": {},
     "output_type": "execute_result"
    }
   ],
   "source": [
    "nodes.head()"
   ]
  },
  {
   "cell_type": "code",
   "execution_count": 36,
   "id": "ed98ee72",
   "metadata": {},
   "outputs": [],
   "source": [
    "retweeting_activists_mps = nodes.dropna(subset=[\"political affiliation\"])"
   ]
  },
  {
   "cell_type": "code",
   "execution_count": 37,
   "id": "29742cd2",
   "metadata": {},
   "outputs": [
    {
     "data": {
      "text/html": [
       "<div>\n",
       "<style scoped>\n",
       "    .dataframe tbody tr th:only-of-type {\n",
       "        vertical-align: middle;\n",
       "    }\n",
       "\n",
       "    .dataframe tbody tr th {\n",
       "        vertical-align: top;\n",
       "    }\n",
       "\n",
       "    .dataframe thead th {\n",
       "        text-align: right;\n",
       "    }\n",
       "</style>\n",
       "<table border=\"1\" class=\"dataframe\">\n",
       "  <thead>\n",
       "    <tr style=\"text-align: right;\">\n",
       "      <th></th>\n",
       "      <th>Id</th>\n",
       "      <th>Label</th>\n",
       "      <th>timeset</th>\n",
       "      <th>communityid</th>\n",
       "      <th>twittername</th>\n",
       "      <th>first name</th>\n",
       "      <th>last name</th>\n",
       "      <th>political affiliation</th>\n",
       "      <th>indegree</th>\n",
       "      <th>outdegree</th>\n",
       "      <th>degree</th>\n",
       "      <th>eigencentrality</th>\n",
       "      <th>community</th>\n",
       "      <th>polygon</th>\n",
       "    </tr>\n",
       "  </thead>\n",
       "  <tbody>\n",
       "    <tr>\n",
       "      <th>21</th>\n",
       "      <td>86384661</td>\n",
       "      <td>NaN</td>\n",
       "      <td>NaN</td>\n",
       "      <td>1</td>\n",
       "      <td>Yasir_Naqvi</td>\n",
       "      <td>Yasir</td>\n",
       "      <td>Naqvi</td>\n",
       "      <td>Liberal</td>\n",
       "      <td>132</td>\n",
       "      <td>0</td>\n",
       "      <td>132</td>\n",
       "      <td>0.230067</td>\n",
       "      <td>Liberal</td>\n",
       "      <td>6</td>\n",
       "    </tr>\n",
       "    <tr>\n",
       "      <th>25</th>\n",
       "      <td>2344419362</td>\n",
       "      <td>NaN</td>\n",
       "      <td>NaN</td>\n",
       "      <td>1</td>\n",
       "      <td>SalmaZahid15</td>\n",
       "      <td>Salma</td>\n",
       "      <td>Zahid</td>\n",
       "      <td>Liberal</td>\n",
       "      <td>75</td>\n",
       "      <td>3</td>\n",
       "      <td>78</td>\n",
       "      <td>0.169595</td>\n",
       "      <td>Liberal</td>\n",
       "      <td>6</td>\n",
       "    </tr>\n",
       "    <tr>\n",
       "      <th>61</th>\n",
       "      <td>170377354</td>\n",
       "      <td>NaN</td>\n",
       "      <td>NaN</td>\n",
       "      <td>1</td>\n",
       "      <td>AnthonyRota</td>\n",
       "      <td>Anthony</td>\n",
       "      <td>Rota</td>\n",
       "      <td>Liberal</td>\n",
       "      <td>5</td>\n",
       "      <td>0</td>\n",
       "      <td>5</td>\n",
       "      <td>0.012606</td>\n",
       "      <td>Liberal</td>\n",
       "      <td>6</td>\n",
       "    </tr>\n",
       "    <tr>\n",
       "      <th>79</th>\n",
       "      <td>2942312619</td>\n",
       "      <td>NaN</td>\n",
       "      <td>NaN</td>\n",
       "      <td>1</td>\n",
       "      <td>YRobillardPLC</td>\n",
       "      <td>Yves</td>\n",
       "      <td>Robillard</td>\n",
       "      <td>Liberal</td>\n",
       "      <td>1</td>\n",
       "      <td>0</td>\n",
       "      <td>1</td>\n",
       "      <td>0.000000</td>\n",
       "      <td>Liberal</td>\n",
       "      <td>6</td>\n",
       "    </tr>\n",
       "    <tr>\n",
       "      <th>120</th>\n",
       "      <td>3242606862</td>\n",
       "      <td>NaN</td>\n",
       "      <td>NaN</td>\n",
       "      <td>1</td>\n",
       "      <td>MMcLeodNWT</td>\n",
       "      <td>Michael</td>\n",
       "      <td>McLeod</td>\n",
       "      <td>Liberal</td>\n",
       "      <td>19</td>\n",
       "      <td>1</td>\n",
       "      <td>20</td>\n",
       "      <td>0.040971</td>\n",
       "      <td>Liberal</td>\n",
       "      <td>6</td>\n",
       "    </tr>\n",
       "  </tbody>\n",
       "</table>\n",
       "</div>"
      ],
      "text/plain": [
       "             Id  Label  timeset  communityid    twittername first name  \\\n",
       "21     86384661    NaN      NaN            1    Yasir_Naqvi      Yasir   \n",
       "25   2344419362    NaN      NaN            1   SalmaZahid15      Salma   \n",
       "61    170377354    NaN      NaN            1    AnthonyRota    Anthony   \n",
       "79   2942312619    NaN      NaN            1  YRobillardPLC       Yves   \n",
       "120  3242606862    NaN      NaN            1     MMcLeodNWT    Michael   \n",
       "\n",
       "     last name political affiliation  indegree  outdegree  degree  \\\n",
       "21       Naqvi               Liberal       132          0     132   \n",
       "25       Zahid               Liberal        75          3      78   \n",
       "61        Rota               Liberal         5          0       5   \n",
       "79   Robillard               Liberal         1          0       1   \n",
       "120     McLeod               Liberal        19          1      20   \n",
       "\n",
       "     eigencentrality community  polygon  \n",
       "21          0.230067   Liberal        6  \n",
       "25          0.169595   Liberal        6  \n",
       "61          0.012606   Liberal        6  \n",
       "79          0.000000   Liberal        6  \n",
       "120         0.040971   Liberal        6  "
      ]
     },
     "execution_count": 37,
     "metadata": {},
     "output_type": "execute_result"
    }
   ],
   "source": [
    "retweeting_activists_mps.head()"
   ]
  },
  {
   "cell_type": "code",
   "execution_count": 38,
   "id": "de138b67",
   "metadata": {},
   "outputs": [
    {
     "data": {
      "text/html": [
       "<div>\n",
       "<style scoped>\n",
       "    .dataframe tbody tr th:only-of-type {\n",
       "        vertical-align: middle;\n",
       "    }\n",
       "\n",
       "    .dataframe tbody tr th {\n",
       "        vertical-align: top;\n",
       "    }\n",
       "\n",
       "    .dataframe thead th {\n",
       "        text-align: right;\n",
       "    }\n",
       "</style>\n",
       "<table border=\"1\" class=\"dataframe\">\n",
       "  <thead>\n",
       "    <tr style=\"text-align: right;\">\n",
       "      <th></th>\n",
       "      <th>Id</th>\n",
       "      <th>Label</th>\n",
       "      <th>timeset</th>\n",
       "      <th>communityid</th>\n",
       "      <th>indegree</th>\n",
       "      <th>outdegree</th>\n",
       "      <th>degree</th>\n",
       "      <th>eigencentrality</th>\n",
       "      <th>polygon</th>\n",
       "    </tr>\n",
       "  </thead>\n",
       "  <tbody>\n",
       "    <tr>\n",
       "      <th>count</th>\n",
       "      <td>2.770000e+02</td>\n",
       "      <td>0.0</td>\n",
       "      <td>0.0</td>\n",
       "      <td>277.000000</td>\n",
       "      <td>277.000000</td>\n",
       "      <td>277.000000</td>\n",
       "      <td>277.000000</td>\n",
       "      <td>277.000000</td>\n",
       "      <td>277.000000</td>\n",
       "    </tr>\n",
       "    <tr>\n",
       "      <th>mean</th>\n",
       "      <td>1.669641e+17</td>\n",
       "      <td>NaN</td>\n",
       "      <td>NaN</td>\n",
       "      <td>2.833935</td>\n",
       "      <td>50.685921</td>\n",
       "      <td>0.584838</td>\n",
       "      <td>51.270758</td>\n",
       "      <td>0.131738</td>\n",
       "      <td>5.393502</td>\n",
       "    </tr>\n",
       "    <tr>\n",
       "      <th>std</th>\n",
       "      <td>4.086269e+17</td>\n",
       "      <td>NaN</td>\n",
       "      <td>NaN</td>\n",
       "      <td>3.159046</td>\n",
       "      <td>57.596034</td>\n",
       "      <td>1.214729</td>\n",
       "      <td>57.906180</td>\n",
       "      <td>0.177564</td>\n",
       "      <td>1.207027</td>\n",
       "    </tr>\n",
       "    <tr>\n",
       "      <th>min</th>\n",
       "      <td>3.358671e+06</td>\n",
       "      <td>NaN</td>\n",
       "      <td>NaN</td>\n",
       "      <td>1.000000</td>\n",
       "      <td>0.000000</td>\n",
       "      <td>0.000000</td>\n",
       "      <td>1.000000</td>\n",
       "      <td>0.000000</td>\n",
       "      <td>3.000000</td>\n",
       "    </tr>\n",
       "    <tr>\n",
       "      <th>25%</th>\n",
       "      <td>1.580958e+08</td>\n",
       "      <td>NaN</td>\n",
       "      <td>NaN</td>\n",
       "      <td>1.000000</td>\n",
       "      <td>11.000000</td>\n",
       "      <td>0.000000</td>\n",
       "      <td>11.000000</td>\n",
       "      <td>0.012606</td>\n",
       "      <td>6.000000</td>\n",
       "    </tr>\n",
       "    <tr>\n",
       "      <th>50%</th>\n",
       "      <td>4.173898e+08</td>\n",
       "      <td>NaN</td>\n",
       "      <td>NaN</td>\n",
       "      <td>2.000000</td>\n",
       "      <td>30.000000</td>\n",
       "      <td>0.000000</td>\n",
       "      <td>31.000000</td>\n",
       "      <td>0.059880</td>\n",
       "      <td>6.000000</td>\n",
       "    </tr>\n",
       "    <tr>\n",
       "      <th>75%</th>\n",
       "      <td>2.874773e+09</td>\n",
       "      <td>NaN</td>\n",
       "      <td>NaN</td>\n",
       "      <td>3.000000</td>\n",
       "      <td>68.000000</td>\n",
       "      <td>1.000000</td>\n",
       "      <td>69.000000</td>\n",
       "      <td>0.170186</td>\n",
       "      <td>6.000000</td>\n",
       "    </tr>\n",
       "    <tr>\n",
       "      <th>max</th>\n",
       "      <td>1.427259e+18</td>\n",
       "      <td>NaN</td>\n",
       "      <td>NaN</td>\n",
       "      <td>21.000000</td>\n",
       "      <td>378.000000</td>\n",
       "      <td>8.000000</td>\n",
       "      <td>381.000000</td>\n",
       "      <td>1.000000</td>\n",
       "      <td>6.000000</td>\n",
       "    </tr>\n",
       "  </tbody>\n",
       "</table>\n",
       "</div>"
      ],
      "text/plain": [
       "                 Id  Label  timeset  communityid    indegree   outdegree  \\\n",
       "count  2.770000e+02    0.0      0.0   277.000000  277.000000  277.000000   \n",
       "mean   1.669641e+17    NaN      NaN     2.833935   50.685921    0.584838   \n",
       "std    4.086269e+17    NaN      NaN     3.159046   57.596034    1.214729   \n",
       "min    3.358671e+06    NaN      NaN     1.000000    0.000000    0.000000   \n",
       "25%    1.580958e+08    NaN      NaN     1.000000   11.000000    0.000000   \n",
       "50%    4.173898e+08    NaN      NaN     2.000000   30.000000    0.000000   \n",
       "75%    2.874773e+09    NaN      NaN     3.000000   68.000000    1.000000   \n",
       "max    1.427259e+18    NaN      NaN    21.000000  378.000000    8.000000   \n",
       "\n",
       "           degree  eigencentrality     polygon  \n",
       "count  277.000000       277.000000  277.000000  \n",
       "mean    51.270758         0.131738    5.393502  \n",
       "std     57.906180         0.177564    1.207027  \n",
       "min      1.000000         0.000000    3.000000  \n",
       "25%     11.000000         0.012606    6.000000  \n",
       "50%     31.000000         0.059880    6.000000  \n",
       "75%     69.000000         0.170186    6.000000  \n",
       "max    381.000000         1.000000    6.000000  "
      ]
     },
     "execution_count": 38,
     "metadata": {},
     "output_type": "execute_result"
    }
   ],
   "source": [
    "retweeting_activists_mps.describe()"
   ]
  },
  {
   "cell_type": "code",
   "execution_count": 39,
   "id": "a4c37893",
   "metadata": {},
   "outputs": [],
   "source": [
    "retweeting_activists_mps = retweeting_activists_mps[retweeting_activists_mps[\"outdegree\"] > 0]"
   ]
  },
  {
   "cell_type": "code",
   "execution_count": 40,
   "id": "866fe816",
   "metadata": {},
   "outputs": [
    {
     "data": {
      "text/html": [
       "<div>\n",
       "<style scoped>\n",
       "    .dataframe tbody tr th:only-of-type {\n",
       "        vertical-align: middle;\n",
       "    }\n",
       "\n",
       "    .dataframe tbody tr th {\n",
       "        vertical-align: top;\n",
       "    }\n",
       "\n",
       "    .dataframe thead th {\n",
       "        text-align: right;\n",
       "    }\n",
       "</style>\n",
       "<table border=\"1\" class=\"dataframe\">\n",
       "  <thead>\n",
       "    <tr style=\"text-align: right;\">\n",
       "      <th></th>\n",
       "      <th>Id</th>\n",
       "      <th>Label</th>\n",
       "      <th>timeset</th>\n",
       "      <th>communityid</th>\n",
       "      <th>twittername</th>\n",
       "      <th>first name</th>\n",
       "      <th>last name</th>\n",
       "      <th>political affiliation</th>\n",
       "      <th>indegree</th>\n",
       "      <th>outdegree</th>\n",
       "      <th>degree</th>\n",
       "      <th>eigencentrality</th>\n",
       "      <th>community</th>\n",
       "      <th>polygon</th>\n",
       "    </tr>\n",
       "  </thead>\n",
       "  <tbody>\n",
       "    <tr>\n",
       "      <th>25</th>\n",
       "      <td>2344419362</td>\n",
       "      <td>NaN</td>\n",
       "      <td>NaN</td>\n",
       "      <td>1</td>\n",
       "      <td>SalmaZahid15</td>\n",
       "      <td>Salma</td>\n",
       "      <td>Zahid</td>\n",
       "      <td>Liberal</td>\n",
       "      <td>75</td>\n",
       "      <td>3</td>\n",
       "      <td>78</td>\n",
       "      <td>0.169595</td>\n",
       "      <td>Liberal</td>\n",
       "      <td>6</td>\n",
       "    </tr>\n",
       "    <tr>\n",
       "      <th>120</th>\n",
       "      <td>3242606862</td>\n",
       "      <td>NaN</td>\n",
       "      <td>NaN</td>\n",
       "      <td>1</td>\n",
       "      <td>MMcLeodNWT</td>\n",
       "      <td>Michael</td>\n",
       "      <td>McLeod</td>\n",
       "      <td>Liberal</td>\n",
       "      <td>19</td>\n",
       "      <td>1</td>\n",
       "      <td>20</td>\n",
       "      <td>0.040971</td>\n",
       "      <td>Liberal</td>\n",
       "      <td>6</td>\n",
       "    </tr>\n",
       "    <tr>\n",
       "      <th>152</th>\n",
       "      <td>360677740</td>\n",
       "      <td>NaN</td>\n",
       "      <td>NaN</td>\n",
       "      <td>1</td>\n",
       "      <td>lisahepfner2021</td>\n",
       "      <td>Lisa</td>\n",
       "      <td>Hepfner</td>\n",
       "      <td>Liberal</td>\n",
       "      <td>72</td>\n",
       "      <td>1</td>\n",
       "      <td>73</td>\n",
       "      <td>0.157580</td>\n",
       "      <td>Liberal</td>\n",
       "      <td>6</td>\n",
       "    </tr>\n",
       "    <tr>\n",
       "      <th>364</th>\n",
       "      <td>25813888</td>\n",
       "      <td>NaN</td>\n",
       "      <td>NaN</td>\n",
       "      <td>1</td>\n",
       "      <td>NaN</td>\n",
       "      <td>NaN</td>\n",
       "      <td>NaN</td>\n",
       "      <td>Activist Organization</td>\n",
       "      <td>47</td>\n",
       "      <td>1</td>\n",
       "      <td>48</td>\n",
       "      <td>0.034668</td>\n",
       "      <td>Liberal</td>\n",
       "      <td>3</td>\n",
       "    </tr>\n",
       "    <tr>\n",
       "      <th>519</th>\n",
       "      <td>2322580746</td>\n",
       "      <td>NaN</td>\n",
       "      <td>NaN</td>\n",
       "      <td>1</td>\n",
       "      <td>jimcarr_wpg</td>\n",
       "      <td>Jim</td>\n",
       "      <td>Carr</td>\n",
       "      <td>Liberal</td>\n",
       "      <td>7</td>\n",
       "      <td>1</td>\n",
       "      <td>8</td>\n",
       "      <td>0.012606</td>\n",
       "      <td>Liberal</td>\n",
       "      <td>6</td>\n",
       "    </tr>\n",
       "  </tbody>\n",
       "</table>\n",
       "</div>"
      ],
      "text/plain": [
       "             Id  Label  timeset  communityid      twittername first name  \\\n",
       "25   2344419362    NaN      NaN            1     SalmaZahid15      Salma   \n",
       "120  3242606862    NaN      NaN            1       MMcLeodNWT    Michael   \n",
       "152   360677740    NaN      NaN            1  lisahepfner2021       Lisa   \n",
       "364    25813888    NaN      NaN            1              NaN        NaN   \n",
       "519  2322580746    NaN      NaN            1      jimcarr_wpg        Jim   \n",
       "\n",
       "    last name  political affiliation  indegree  outdegree  degree  \\\n",
       "25      Zahid                Liberal        75          3      78   \n",
       "120    McLeod                Liberal        19          1      20   \n",
       "152   Hepfner                Liberal        72          1      73   \n",
       "364       NaN  Activist Organization        47          1      48   \n",
       "519      Carr                Liberal         7          1       8   \n",
       "\n",
       "     eigencentrality community  polygon  \n",
       "25          0.169595   Liberal        6  \n",
       "120         0.040971   Liberal        6  \n",
       "152         0.157580   Liberal        6  \n",
       "364         0.034668   Liberal        3  \n",
       "519         0.012606   Liberal        6  "
      ]
     },
     "execution_count": 40,
     "metadata": {},
     "output_type": "execute_result"
    }
   ],
   "source": [
    "retweeting_activists_mps.head()"
   ]
  },
  {
   "cell_type": "code",
   "execution_count": 41,
   "id": "1fdef065",
   "metadata": {},
   "outputs": [
    {
     "data": {
      "text/html": [
       "<div>\n",
       "<style scoped>\n",
       "    .dataframe tbody tr th:only-of-type {\n",
       "        vertical-align: middle;\n",
       "    }\n",
       "\n",
       "    .dataframe tbody tr th {\n",
       "        vertical-align: top;\n",
       "    }\n",
       "\n",
       "    .dataframe thead th {\n",
       "        text-align: right;\n",
       "    }\n",
       "</style>\n",
       "<table border=\"1\" class=\"dataframe\">\n",
       "  <thead>\n",
       "    <tr style=\"text-align: right;\">\n",
       "      <th></th>\n",
       "      <th>Id</th>\n",
       "      <th>Label</th>\n",
       "      <th>timeset</th>\n",
       "      <th>communityid</th>\n",
       "      <th>indegree</th>\n",
       "      <th>outdegree</th>\n",
       "      <th>degree</th>\n",
       "      <th>eigencentrality</th>\n",
       "      <th>polygon</th>\n",
       "    </tr>\n",
       "  </thead>\n",
       "  <tbody>\n",
       "    <tr>\n",
       "      <th>count</th>\n",
       "      <td>8.100000e+01</td>\n",
       "      <td>0.0</td>\n",
       "      <td>0.0</td>\n",
       "      <td>81.000000</td>\n",
       "      <td>81.000000</td>\n",
       "      <td>81.000000</td>\n",
       "      <td>81.000000</td>\n",
       "      <td>81.000000</td>\n",
       "      <td>81.000000</td>\n",
       "    </tr>\n",
       "    <tr>\n",
       "      <th>mean</th>\n",
       "      <td>1.940011e+17</td>\n",
       "      <td>NaN</td>\n",
       "      <td>NaN</td>\n",
       "      <td>1.839506</td>\n",
       "      <td>72.148148</td>\n",
       "      <td>2.000000</td>\n",
       "      <td>74.148148</td>\n",
       "      <td>0.228402</td>\n",
       "      <td>5.740741</td>\n",
       "    </tr>\n",
       "    <tr>\n",
       "      <th>std</th>\n",
       "      <td>4.506026e+17</td>\n",
       "      <td>NaN</td>\n",
       "      <td>NaN</td>\n",
       "      <td>1.156036</td>\n",
       "      <td>67.549817</td>\n",
       "      <td>1.491643</td>\n",
       "      <td>67.799541</td>\n",
       "      <td>0.219144</td>\n",
       "      <td>0.848201</td>\n",
       "    </tr>\n",
       "    <tr>\n",
       "      <th>min</th>\n",
       "      <td>1.601440e+07</td>\n",
       "      <td>NaN</td>\n",
       "      <td>NaN</td>\n",
       "      <td>1.000000</td>\n",
       "      <td>0.000000</td>\n",
       "      <td>1.000000</td>\n",
       "      <td>1.000000</td>\n",
       "      <td>0.000000</td>\n",
       "      <td>3.000000</td>\n",
       "    </tr>\n",
       "    <tr>\n",
       "      <th>25%</th>\n",
       "      <td>2.345509e+08</td>\n",
       "      <td>NaN</td>\n",
       "      <td>NaN</td>\n",
       "      <td>1.000000</td>\n",
       "      <td>22.000000</td>\n",
       "      <td>1.000000</td>\n",
       "      <td>24.000000</td>\n",
       "      <td>0.059880</td>\n",
       "      <td>6.000000</td>\n",
       "    </tr>\n",
       "    <tr>\n",
       "      <th>50%</th>\n",
       "      <td>4.880522e+08</td>\n",
       "      <td>NaN</td>\n",
       "      <td>NaN</td>\n",
       "      <td>1.000000</td>\n",
       "      <td>54.000000</td>\n",
       "      <td>1.000000</td>\n",
       "      <td>55.000000</td>\n",
       "      <td>0.162127</td>\n",
       "      <td>6.000000</td>\n",
       "    </tr>\n",
       "    <tr>\n",
       "      <th>75%</th>\n",
       "      <td>2.891741e+09</td>\n",
       "      <td>NaN</td>\n",
       "      <td>NaN</td>\n",
       "      <td>3.000000</td>\n",
       "      <td>97.000000</td>\n",
       "      <td>3.000000</td>\n",
       "      <td>102.000000</td>\n",
       "      <td>0.330466</td>\n",
       "      <td>6.000000</td>\n",
       "    </tr>\n",
       "    <tr>\n",
       "      <th>max</th>\n",
       "      <td>1.427259e+18</td>\n",
       "      <td>NaN</td>\n",
       "      <td>NaN</td>\n",
       "      <td>5.000000</td>\n",
       "      <td>378.000000</td>\n",
       "      <td>8.000000</td>\n",
       "      <td>381.000000</td>\n",
       "      <td>1.000000</td>\n",
       "      <td>6.000000</td>\n",
       "    </tr>\n",
       "  </tbody>\n",
       "</table>\n",
       "</div>"
      ],
      "text/plain": [
       "                 Id  Label  timeset  communityid    indegree  outdegree  \\\n",
       "count  8.100000e+01    0.0      0.0    81.000000   81.000000  81.000000   \n",
       "mean   1.940011e+17    NaN      NaN     1.839506   72.148148   2.000000   \n",
       "std    4.506026e+17    NaN      NaN     1.156036   67.549817   1.491643   \n",
       "min    1.601440e+07    NaN      NaN     1.000000    0.000000   1.000000   \n",
       "25%    2.345509e+08    NaN      NaN     1.000000   22.000000   1.000000   \n",
       "50%    4.880522e+08    NaN      NaN     1.000000   54.000000   1.000000   \n",
       "75%    2.891741e+09    NaN      NaN     3.000000   97.000000   3.000000   \n",
       "max    1.427259e+18    NaN      NaN     5.000000  378.000000   8.000000   \n",
       "\n",
       "           degree  eigencentrality    polygon  \n",
       "count   81.000000        81.000000  81.000000  \n",
       "mean    74.148148         0.228402   5.740741  \n",
       "std     67.799541         0.219144   0.848201  \n",
       "min      1.000000         0.000000   3.000000  \n",
       "25%     24.000000         0.059880   6.000000  \n",
       "50%     55.000000         0.162127   6.000000  \n",
       "75%    102.000000         0.330466   6.000000  \n",
       "max    381.000000         1.000000   6.000000  "
      ]
     },
     "execution_count": 41,
     "metadata": {},
     "output_type": "execute_result"
    }
   ],
   "source": [
    "retweeting_activists_mps.describe()"
   ]
  },
  {
   "cell_type": "code",
   "execution_count": 42,
   "id": "91719a95",
   "metadata": {},
   "outputs": [
    {
     "data": {
      "text/plain": [
       "81"
      ]
     },
     "execution_count": 42,
     "metadata": {},
     "output_type": "execute_result"
    }
   ],
   "source": [
    "len(retweeting_activists_mps[\"outdegree\"])"
   ]
  },
  {
   "cell_type": "markdown",
   "id": "12532fbc",
   "metadata": {},
   "source": [
    "## Selecting the targets from the edges"
   ]
  },
  {
   "cell_type": "code",
   "execution_count": 43,
   "id": "9a18292c",
   "metadata": {},
   "outputs": [],
   "source": [
    "edges = pd.read_csv(\"../Null Model Comparison/largest_component_networkx_format.csv\", names=[\"Source\", \"Target\", \"Weight\"])"
   ]
  },
  {
   "cell_type": "code",
   "execution_count": 44,
   "id": "a60404dc",
   "metadata": {},
   "outputs": [
    {
     "data": {
      "text/html": [
       "<div>\n",
       "<style scoped>\n",
       "    .dataframe tbody tr th:only-of-type {\n",
       "        vertical-align: middle;\n",
       "    }\n",
       "\n",
       "    .dataframe tbody tr th {\n",
       "        vertical-align: top;\n",
       "    }\n",
       "\n",
       "    .dataframe thead th {\n",
       "        text-align: right;\n",
       "    }\n",
       "</style>\n",
       "<table border=\"1\" class=\"dataframe\">\n",
       "  <thead>\n",
       "    <tr style=\"text-align: right;\">\n",
       "      <th></th>\n",
       "      <th>Source</th>\n",
       "      <th>Target</th>\n",
       "      <th>Weight</th>\n",
       "    </tr>\n",
       "  </thead>\n",
       "  <tbody>\n",
       "    <tr>\n",
       "      <th>0</th>\n",
       "      <td>1385933370090209280</td>\n",
       "      <td>158095776</td>\n",
       "      <td>{\"weight\":1}</td>\n",
       "    </tr>\n",
       "    <tr>\n",
       "      <th>1</th>\n",
       "      <td>1416535505454338050</td>\n",
       "      <td>158095776</td>\n",
       "      <td>{\"weight\":8}</td>\n",
       "    </tr>\n",
       "    <tr>\n",
       "      <th>2</th>\n",
       "      <td>1416535505454338050</td>\n",
       "      <td>1604931252</td>\n",
       "      <td>{\"weight\":1}</td>\n",
       "    </tr>\n",
       "    <tr>\n",
       "      <th>3</th>\n",
       "      <td>544695802</td>\n",
       "      <td>158095776</td>\n",
       "      <td>{\"weight\":1}</td>\n",
       "    </tr>\n",
       "    <tr>\n",
       "      <th>4</th>\n",
       "      <td>716257068538327040</td>\n",
       "      <td>158095776</td>\n",
       "      <td>{\"weight\":1}</td>\n",
       "    </tr>\n",
       "  </tbody>\n",
       "</table>\n",
       "</div>"
      ],
      "text/plain": [
       "                Source      Target        Weight\n",
       "0  1385933370090209280   158095776  {\"weight\":1}\n",
       "1  1416535505454338050   158095776  {\"weight\":8}\n",
       "2  1416535505454338050  1604931252  {\"weight\":1}\n",
       "3            544695802   158095776  {\"weight\":1}\n",
       "4   716257068538327040   158095776  {\"weight\":1}"
      ]
     },
     "execution_count": 44,
     "metadata": {},
     "output_type": "execute_result"
    }
   ],
   "source": [
    "edges.head()"
   ]
  },
  {
   "cell_type": "code",
   "execution_count": 45,
   "id": "d215bf72",
   "metadata": {},
   "outputs": [],
   "source": [
    "relevant_paths = pd.merge(edges, retweeting_activists_mps, left_on='Source', right_on='Id')"
   ]
  },
  {
   "cell_type": "code",
   "execution_count": 46,
   "id": "a18a3649",
   "metadata": {},
   "outputs": [
    {
     "data": {
      "text/html": [
       "<div>\n",
       "<style scoped>\n",
       "    .dataframe tbody tr th:only-of-type {\n",
       "        vertical-align: middle;\n",
       "    }\n",
       "\n",
       "    .dataframe tbody tr th {\n",
       "        vertical-align: top;\n",
       "    }\n",
       "\n",
       "    .dataframe thead th {\n",
       "        text-align: right;\n",
       "    }\n",
       "</style>\n",
       "<table border=\"1\" class=\"dataframe\">\n",
       "  <thead>\n",
       "    <tr style=\"text-align: right;\">\n",
       "      <th></th>\n",
       "      <th>Source</th>\n",
       "      <th>Target</th>\n",
       "      <th>Weight</th>\n",
       "      <th>Id</th>\n",
       "      <th>Label</th>\n",
       "      <th>timeset</th>\n",
       "      <th>communityid</th>\n",
       "      <th>twittername</th>\n",
       "      <th>first name</th>\n",
       "      <th>last name</th>\n",
       "      <th>political affiliation</th>\n",
       "      <th>indegree</th>\n",
       "      <th>outdegree</th>\n",
       "      <th>degree</th>\n",
       "      <th>eigencentrality</th>\n",
       "      <th>community</th>\n",
       "      <th>polygon</th>\n",
       "    </tr>\n",
       "  </thead>\n",
       "  <tbody>\n",
       "    <tr>\n",
       "      <th>0</th>\n",
       "      <td>150270263</td>\n",
       "      <td>18681111</td>\n",
       "      <td>{\"weight\":1}</td>\n",
       "      <td>150270263</td>\n",
       "      <td>NaN</td>\n",
       "      <td>NaN</td>\n",
       "      <td>1</td>\n",
       "      <td>NaN</td>\n",
       "      <td>NaN</td>\n",
       "      <td>NaN</td>\n",
       "      <td>Activist Organization</td>\n",
       "      <td>30</td>\n",
       "      <td>1</td>\n",
       "      <td>31</td>\n",
       "      <td>0.037561</td>\n",
       "      <td>Liberal</td>\n",
       "      <td>3</td>\n",
       "    </tr>\n",
       "    <tr>\n",
       "      <th>1</th>\n",
       "      <td>29545977</td>\n",
       "      <td>59686058</td>\n",
       "      <td>{\"weight\":1}</td>\n",
       "      <td>29545977</td>\n",
       "      <td>NaN</td>\n",
       "      <td>NaN</td>\n",
       "      <td>2</td>\n",
       "      <td>NaN</td>\n",
       "      <td>NaN</td>\n",
       "      <td>NaN</td>\n",
       "      <td>Activist Organization</td>\n",
       "      <td>7</td>\n",
       "      <td>1</td>\n",
       "      <td>8</td>\n",
       "      <td>0.006303</td>\n",
       "      <td>NDP</td>\n",
       "      <td>3</td>\n",
       "    </tr>\n",
       "    <tr>\n",
       "      <th>2</th>\n",
       "      <td>25813888</td>\n",
       "      <td>150270263</td>\n",
       "      <td>{\"weight\":1}</td>\n",
       "      <td>25813888</td>\n",
       "      <td>NaN</td>\n",
       "      <td>NaN</td>\n",
       "      <td>1</td>\n",
       "      <td>NaN</td>\n",
       "      <td>NaN</td>\n",
       "      <td>NaN</td>\n",
       "      <td>Activist Organization</td>\n",
       "      <td>47</td>\n",
       "      <td>1</td>\n",
       "      <td>48</td>\n",
       "      <td>0.034668</td>\n",
       "      <td>Liberal</td>\n",
       "      <td>3</td>\n",
       "    </tr>\n",
       "    <tr>\n",
       "      <th>3</th>\n",
       "      <td>577727470</td>\n",
       "      <td>119925381</td>\n",
       "      <td>{\"weight\":1}</td>\n",
       "      <td>577727470</td>\n",
       "      <td>NaN</td>\n",
       "      <td>NaN</td>\n",
       "      <td>2</td>\n",
       "      <td>NaN</td>\n",
       "      <td>NaN</td>\n",
       "      <td>NaN</td>\n",
       "      <td>Activist Organization</td>\n",
       "      <td>45</td>\n",
       "      <td>1</td>\n",
       "      <td>46</td>\n",
       "      <td>0.031516</td>\n",
       "      <td>NDP</td>\n",
       "      <td>3</td>\n",
       "    </tr>\n",
       "    <tr>\n",
       "      <th>4</th>\n",
       "      <td>294660973</td>\n",
       "      <td>294660973</td>\n",
       "      <td>{\"weight\":1}</td>\n",
       "      <td>294660973</td>\n",
       "      <td>NaN</td>\n",
       "      <td>NaN</td>\n",
       "      <td>5</td>\n",
       "      <td>NaN</td>\n",
       "      <td>NaN</td>\n",
       "      <td>NaN</td>\n",
       "      <td>Activist Organization</td>\n",
       "      <td>63</td>\n",
       "      <td>1</td>\n",
       "      <td>64</td>\n",
       "      <td>0.014769</td>\n",
       "      <td>LGBTQ2S+</td>\n",
       "      <td>3</td>\n",
       "    </tr>\n",
       "  </tbody>\n",
       "</table>\n",
       "</div>"
      ],
      "text/plain": [
       "      Source     Target        Weight         Id  Label  timeset  communityid  \\\n",
       "0  150270263   18681111  {\"weight\":1}  150270263    NaN      NaN            1   \n",
       "1   29545977   59686058  {\"weight\":1}   29545977    NaN      NaN            2   \n",
       "2   25813888  150270263  {\"weight\":1}   25813888    NaN      NaN            1   \n",
       "3  577727470  119925381  {\"weight\":1}  577727470    NaN      NaN            2   \n",
       "4  294660973  294660973  {\"weight\":1}  294660973    NaN      NaN            5   \n",
       "\n",
       "  twittername first name last name  political affiliation  indegree  \\\n",
       "0         NaN        NaN       NaN  Activist Organization        30   \n",
       "1         NaN        NaN       NaN  Activist Organization         7   \n",
       "2         NaN        NaN       NaN  Activist Organization        47   \n",
       "3         NaN        NaN       NaN  Activist Organization        45   \n",
       "4         NaN        NaN       NaN  Activist Organization        63   \n",
       "\n",
       "   outdegree  degree  eigencentrality community  polygon  \n",
       "0          1      31         0.037561   Liberal        3  \n",
       "1          1       8         0.006303       NDP        3  \n",
       "2          1      48         0.034668   Liberal        3  \n",
       "3          1      46         0.031516       NDP        3  \n",
       "4          1      64         0.014769  LGBTQ2S+        3  "
      ]
     },
     "execution_count": 46,
     "metadata": {},
     "output_type": "execute_result"
    }
   ],
   "source": [
    "relevant_paths.head()"
   ]
  },
  {
   "cell_type": "code",
   "execution_count": 47,
   "id": "93e5437e",
   "metadata": {},
   "outputs": [],
   "source": [
    "activation_nodes = relevant_paths['Target'].unique()"
   ]
  },
  {
   "cell_type": "code",
   "execution_count": 48,
   "id": "88336ef1",
   "metadata": {},
   "outputs": [
    {
     "data": {
      "text/plain": [
       "array([           18681111,            59686058,           150270263,\n",
       "                 119925381,           294660973,            14079041,\n",
       "                  17969963,          2715275551,           377588094,\n",
       "       1342125115383939073,           273262205,            24990450,\n",
       "                3025416359, 1425866189780160514,          2530008414,\n",
       "                2800741820,            16014404, 1063494232126689280,\n",
       "                 408072407,           234550882,          3402128080,\n",
       "                 803381983,           261772246,           417389780,\n",
       "       1170770038208565248,          1707636642, 1143229947932229632,\n",
       "                2254171724,          2555308646,           739149720,\n",
       "        989311745100566529,           268832287,  883774859452579840,\n",
       "                  15810950,           129395750,  791282631006621696,\n",
       "                 256552850, 1086084557009575936,            36133644,\n",
       "                  34606493,           564207331,           414218319,\n",
       "        943174774154498048,           412708728,          2852899113,\n",
       "                 240786249, 1318671397560979456,          2937436849,\n",
       "                 283226685,            45848808,  720579941184757760,\n",
       "                  22849568,          1899063048,           579377522,\n",
       "                1646334073,          2242940071,          3257047456,\n",
       "                  20199202,          2891740872,           488052222,\n",
       "                 272185225,          1072270926,          3188558830,\n",
       "                 282526718,            47692251,           205786669,\n",
       "                2678072299,           780323935,          2848993491,\n",
       "                 276713213,            40550119,            29754743,\n",
       "                  19634262,          2332742508,           272250877,\n",
       "                 631988630,            61521038,            47338701,\n",
       "                4026045455,           415774799,           524557553,\n",
       "                2344419362,          2513973205, 1382336580518621186,\n",
       "                 339752726,           911471588,           165812196,\n",
       "                 175259033,           215632349,           341866567,\n",
       "                 196717787], dtype=int64)"
      ]
     },
     "execution_count": 48,
     "metadata": {},
     "output_type": "execute_result"
    }
   ],
   "source": [
    "activation_nodes"
   ]
  },
  {
   "cell_type": "code",
   "execution_count": 49,
   "id": "b1f8c0d8",
   "metadata": {},
   "outputs": [
    {
     "data": {
      "text/plain": [
       "91"
      ]
     },
     "execution_count": 49,
     "metadata": {},
     "output_type": "execute_result"
    }
   ],
   "source": [
    "len(activation_nodes)"
   ]
  },
  {
   "cell_type": "code",
   "execution_count": 50,
   "id": "6dbf98e3",
   "metadata": {},
   "outputs": [],
   "source": [
    "df = pd.DataFrame(data=activation_nodes, columns=[\"id\"])\n"
   ]
  },
  {
   "cell_type": "code",
   "execution_count": 51,
   "id": "df712309",
   "metadata": {},
   "outputs": [
    {
     "data": {
      "text/html": [
       "<div>\n",
       "<style scoped>\n",
       "    .dataframe tbody tr th:only-of-type {\n",
       "        vertical-align: middle;\n",
       "    }\n",
       "\n",
       "    .dataframe tbody tr th {\n",
       "        vertical-align: top;\n",
       "    }\n",
       "\n",
       "    .dataframe thead th {\n",
       "        text-align: right;\n",
       "    }\n",
       "</style>\n",
       "<table border=\"1\" class=\"dataframe\">\n",
       "  <thead>\n",
       "    <tr style=\"text-align: right;\">\n",
       "      <th></th>\n",
       "      <th>id</th>\n",
       "      <th>Id</th>\n",
       "      <th>Label</th>\n",
       "      <th>timeset</th>\n",
       "      <th>communityid</th>\n",
       "      <th>twittername</th>\n",
       "      <th>first name</th>\n",
       "      <th>last name</th>\n",
       "      <th>political affiliation</th>\n",
       "      <th>indegree</th>\n",
       "      <th>outdegree</th>\n",
       "      <th>degree</th>\n",
       "      <th>eigencentrality</th>\n",
       "      <th>community</th>\n",
       "      <th>polygon</th>\n",
       "    </tr>\n",
       "  </thead>\n",
       "  <tbody>\n",
       "    <tr>\n",
       "      <th>0</th>\n",
       "      <td>18681111</td>\n",
       "      <td>18681111</td>\n",
       "      <td>NaN</td>\n",
       "      <td>NaN</td>\n",
       "      <td>2</td>\n",
       "      <td>NaN</td>\n",
       "      <td>NaN</td>\n",
       "      <td>NaN</td>\n",
       "      <td>Activist Organization</td>\n",
       "      <td>46</td>\n",
       "      <td>0</td>\n",
       "      <td>46</td>\n",
       "      <td>0.025898</td>\n",
       "      <td>NDP</td>\n",
       "      <td>3</td>\n",
       "    </tr>\n",
       "    <tr>\n",
       "      <th>1</th>\n",
       "      <td>59686058</td>\n",
       "      <td>59686058</td>\n",
       "      <td>NaN</td>\n",
       "      <td>NaN</td>\n",
       "      <td>2</td>\n",
       "      <td>NaN</td>\n",
       "      <td>NaN</td>\n",
       "      <td>NaN</td>\n",
       "      <td>Activist Organization</td>\n",
       "      <td>11</td>\n",
       "      <td>0</td>\n",
       "      <td>11</td>\n",
       "      <td>0.021728</td>\n",
       "      <td>NDP</td>\n",
       "      <td>3</td>\n",
       "    </tr>\n",
       "    <tr>\n",
       "      <th>2</th>\n",
       "      <td>150270263</td>\n",
       "      <td>150270263</td>\n",
       "      <td>NaN</td>\n",
       "      <td>NaN</td>\n",
       "      <td>1</td>\n",
       "      <td>NaN</td>\n",
       "      <td>NaN</td>\n",
       "      <td>NaN</td>\n",
       "      <td>Activist Organization</td>\n",
       "      <td>30</td>\n",
       "      <td>1</td>\n",
       "      <td>31</td>\n",
       "      <td>0.037561</td>\n",
       "      <td>Liberal</td>\n",
       "      <td>3</td>\n",
       "    </tr>\n",
       "    <tr>\n",
       "      <th>3</th>\n",
       "      <td>119925381</td>\n",
       "      <td>119925381</td>\n",
       "      <td>NaN</td>\n",
       "      <td>NaN</td>\n",
       "      <td>5</td>\n",
       "      <td>NaN</td>\n",
       "      <td>NaN</td>\n",
       "      <td>NaN</td>\n",
       "      <td>Activist Organization</td>\n",
       "      <td>108</td>\n",
       "      <td>0</td>\n",
       "      <td>108</td>\n",
       "      <td>0.080274</td>\n",
       "      <td>LGBTQ2S+</td>\n",
       "      <td>3</td>\n",
       "    </tr>\n",
       "    <tr>\n",
       "      <th>4</th>\n",
       "      <td>294660973</td>\n",
       "      <td>294660973</td>\n",
       "      <td>NaN</td>\n",
       "      <td>NaN</td>\n",
       "      <td>5</td>\n",
       "      <td>NaN</td>\n",
       "      <td>NaN</td>\n",
       "      <td>NaN</td>\n",
       "      <td>Activist Organization</td>\n",
       "      <td>63</td>\n",
       "      <td>1</td>\n",
       "      <td>64</td>\n",
       "      <td>0.014769</td>\n",
       "      <td>LGBTQ2S+</td>\n",
       "      <td>3</td>\n",
       "    </tr>\n",
       "    <tr>\n",
       "      <th>...</th>\n",
       "      <td>...</td>\n",
       "      <td>...</td>\n",
       "      <td>...</td>\n",
       "      <td>...</td>\n",
       "      <td>...</td>\n",
       "      <td>...</td>\n",
       "      <td>...</td>\n",
       "      <td>...</td>\n",
       "      <td>...</td>\n",
       "      <td>...</td>\n",
       "      <td>...</td>\n",
       "      <td>...</td>\n",
       "      <td>...</td>\n",
       "      <td>...</td>\n",
       "      <td>...</td>\n",
       "    </tr>\n",
       "    <tr>\n",
       "      <th>86</th>\n",
       "      <td>165812196</td>\n",
       "      <td>165812196</td>\n",
       "      <td>NaN</td>\n",
       "      <td>NaN</td>\n",
       "      <td>1</td>\n",
       "      <td>stevenmackinnon</td>\n",
       "      <td>Steven</td>\n",
       "      <td>MacKinnon</td>\n",
       "      <td>Liberal</td>\n",
       "      <td>5</td>\n",
       "      <td>0</td>\n",
       "      <td>5</td>\n",
       "      <td>0.010864</td>\n",
       "      <td>Liberal</td>\n",
       "      <td>6</td>\n",
       "    </tr>\n",
       "    <tr>\n",
       "      <th>87</th>\n",
       "      <td>175259033</td>\n",
       "      <td>175259033</td>\n",
       "      <td>NaN</td>\n",
       "      <td>NaN</td>\n",
       "      <td>2</td>\n",
       "      <td>taylorbachrach</td>\n",
       "      <td>Taylor</td>\n",
       "      <td>Bachrach</td>\n",
       "      <td>NDP</td>\n",
       "      <td>60</td>\n",
       "      <td>0</td>\n",
       "      <td>60</td>\n",
       "      <td>0.463605</td>\n",
       "      <td>NDP</td>\n",
       "      <td>6</td>\n",
       "    </tr>\n",
       "    <tr>\n",
       "      <th>88</th>\n",
       "      <td>215632349</td>\n",
       "      <td>215632349</td>\n",
       "      <td>NaN</td>\n",
       "      <td>NaN</td>\n",
       "      <td>2</td>\n",
       "      <td>CharlieAngusNDP</td>\n",
       "      <td>Charlie</td>\n",
       "      <td>Angus</td>\n",
       "      <td>NDP</td>\n",
       "      <td>378</td>\n",
       "      <td>3</td>\n",
       "      <td>381</td>\n",
       "      <td>0.657356</td>\n",
       "      <td>NDP</td>\n",
       "      <td>6</td>\n",
       "    </tr>\n",
       "    <tr>\n",
       "      <th>89</th>\n",
       "      <td>341866567</td>\n",
       "      <td>341866567</td>\n",
       "      <td>NaN</td>\n",
       "      <td>NaN</td>\n",
       "      <td>2</td>\n",
       "      <td>LoriIdlout</td>\n",
       "      <td>Lori</td>\n",
       "      <td>Idlout</td>\n",
       "      <td>NDP</td>\n",
       "      <td>67</td>\n",
       "      <td>2</td>\n",
       "      <td>69</td>\n",
       "      <td>0.456031</td>\n",
       "      <td>NDP</td>\n",
       "      <td>6</td>\n",
       "    </tr>\n",
       "    <tr>\n",
       "      <th>90</th>\n",
       "      <td>196717787</td>\n",
       "      <td>196717787</td>\n",
       "      <td>NaN</td>\n",
       "      <td>NaN</td>\n",
       "      <td>2</td>\n",
       "      <td>alexboulerice</td>\n",
       "      <td>Alexandre</td>\n",
       "      <td>Boulerice</td>\n",
       "      <td>NDP</td>\n",
       "      <td>112</td>\n",
       "      <td>2</td>\n",
       "      <td>114</td>\n",
       "      <td>0.380116</td>\n",
       "      <td>NDP</td>\n",
       "      <td>6</td>\n",
       "    </tr>\n",
       "  </tbody>\n",
       "</table>\n",
       "<p>91 rows × 15 columns</p>\n",
       "</div>"
      ],
      "text/plain": [
       "           id         Id  Label  timeset  communityid      twittername  \\\n",
       "0    18681111   18681111    NaN      NaN            2              NaN   \n",
       "1    59686058   59686058    NaN      NaN            2              NaN   \n",
       "2   150270263  150270263    NaN      NaN            1              NaN   \n",
       "3   119925381  119925381    NaN      NaN            5              NaN   \n",
       "4   294660973  294660973    NaN      NaN            5              NaN   \n",
       "..        ...        ...    ...      ...          ...              ...   \n",
       "86  165812196  165812196    NaN      NaN            1  stevenmackinnon   \n",
       "87  175259033  175259033    NaN      NaN            2   taylorbachrach   \n",
       "88  215632349  215632349    NaN      NaN            2  CharlieAngusNDP   \n",
       "89  341866567  341866567    NaN      NaN            2       LoriIdlout   \n",
       "90  196717787  196717787    NaN      NaN            2    alexboulerice   \n",
       "\n",
       "   first name  last name  political affiliation  indegree  outdegree  degree  \\\n",
       "0         NaN        NaN  Activist Organization        46          0      46   \n",
       "1         NaN        NaN  Activist Organization        11          0      11   \n",
       "2         NaN        NaN  Activist Organization        30          1      31   \n",
       "3         NaN        NaN  Activist Organization       108          0     108   \n",
       "4         NaN        NaN  Activist Organization        63          1      64   \n",
       "..        ...        ...                    ...       ...        ...     ...   \n",
       "86     Steven  MacKinnon                Liberal         5          0       5   \n",
       "87     Taylor   Bachrach                    NDP        60          0      60   \n",
       "88    Charlie      Angus                    NDP       378          3     381   \n",
       "89       Lori     Idlout                    NDP        67          2      69   \n",
       "90  Alexandre  Boulerice                    NDP       112          2     114   \n",
       "\n",
       "    eigencentrality community  polygon  \n",
       "0          0.025898       NDP        3  \n",
       "1          0.021728       NDP        3  \n",
       "2          0.037561   Liberal        3  \n",
       "3          0.080274  LGBTQ2S+        3  \n",
       "4          0.014769  LGBTQ2S+        3  \n",
       "..              ...       ...      ...  \n",
       "86         0.010864   Liberal        6  \n",
       "87         0.463605       NDP        6  \n",
       "88         0.657356       NDP        6  \n",
       "89         0.456031       NDP        6  \n",
       "90         0.380116       NDP        6  \n",
       "\n",
       "[91 rows x 15 columns]"
      ]
     },
     "execution_count": 51,
     "metadata": {},
     "output_type": "execute_result"
    }
   ],
   "source": [
    "activation_nodes_profile_df = pd.merge(df, nodes, how=\"inner\", left_on=\"id\", right_on=\"Id\")\n",
    "activation_nodes_profile_df"
   ]
  },
  {
   "cell_type": "code",
   "execution_count": 53,
   "id": "769fcc38",
   "metadata": {},
   "outputs": [],
   "source": [
    "activation_nodes_profile_df.to_csv(\"activation_nodes.csv\")"
   ]
  },
  {
   "cell_type": "markdown",
   "id": "23872b1e",
   "metadata": {},
   "source": [
    "Run a Groupby so we can Randomly pick a subset of nodes to run our diffusion on from one community "
   ]
  },
  {
   "cell_type": "code",
   "execution_count": 55,
   "id": "831294f9",
   "metadata": {},
   "outputs": [],
   "source": [
    "activation_community_groups = activation_nodes_profile_df.groupby(\"community\")"
   ]
  },
  {
   "cell_type": "code",
   "execution_count": 59,
   "id": "f0265b95",
   "metadata": {},
   "outputs": [
    {
     "data": {
      "text/plain": [
       "{'Bloc Québécois': [9, 10, 11, 12, 13, 14, 15, 16, 17, 20, 21, 22, 26], 'Conservative': [6, 27, 28, 29, 30, 31, 32, 33, 34, 35, 36, 37, 38, 39, 40, 41, 42, 43], 'LGBTQ2S+': [3, 4], 'Liberal': [2, 18, 19, 23, 24, 25, 44, 45, 46, 47, 48, 49, 50, 51, 52, 53, 54, 55, 56, 57, 58, 59, 60, 61, 62, 63, 64, 65, 66, 67, 68, 69, 70, 71, 72, 73, 74, 75, 76, 77, 78, 79, 80, 81, 82, 83, 84, 85, 86], 'NDP': [0, 1, 5, 7, 8, 87, 88, 89, 90]}"
      ]
     },
     "execution_count": 59,
     "metadata": {},
     "output_type": "execute_result"
    }
   ],
   "source": [
    "activation_community_groups.groups"
   ]
  },
  {
   "cell_type": "markdown",
   "id": "d8e4d4f3",
   "metadata": {},
   "source": [
    "# Preparing Edges"
   ]
  },
  {
   "cell_type": "markdown",
   "id": "2c52f87f",
   "metadata": {},
   "source": [
    "The edges in this network are going to be flipped so we can let information be travel down to those the person was retweeted by"
   ]
  },
  {
   "cell_type": "code",
   "execution_count": 21,
   "id": "34e94d7a",
   "metadata": {},
   "outputs": [
    {
     "data": {
      "text/html": [
       "<div>\n",
       "<style scoped>\n",
       "    .dataframe tbody tr th:only-of-type {\n",
       "        vertical-align: middle;\n",
       "    }\n",
       "\n",
       "    .dataframe tbody tr th {\n",
       "        vertical-align: top;\n",
       "    }\n",
       "\n",
       "    .dataframe thead th {\n",
       "        text-align: right;\n",
       "    }\n",
       "</style>\n",
       "<table border=\"1\" class=\"dataframe\">\n",
       "  <thead>\n",
       "    <tr style=\"text-align: right;\">\n",
       "      <th></th>\n",
       "      <th>Source</th>\n",
       "      <th>Target</th>\n",
       "      <th>Weight</th>\n",
       "    </tr>\n",
       "  </thead>\n",
       "  <tbody>\n",
       "    <tr>\n",
       "      <th>0</th>\n",
       "      <td>1385933370090209280</td>\n",
       "      <td>158095776</td>\n",
       "      <td>{\"weight\":1}</td>\n",
       "    </tr>\n",
       "    <tr>\n",
       "      <th>1</th>\n",
       "      <td>1416535505454338050</td>\n",
       "      <td>158095776</td>\n",
       "      <td>{\"weight\":8}</td>\n",
       "    </tr>\n",
       "    <tr>\n",
       "      <th>2</th>\n",
       "      <td>1416535505454338050</td>\n",
       "      <td>1604931252</td>\n",
       "      <td>{\"weight\":1}</td>\n",
       "    </tr>\n",
       "    <tr>\n",
       "      <th>3</th>\n",
       "      <td>544695802</td>\n",
       "      <td>158095776</td>\n",
       "      <td>{\"weight\":1}</td>\n",
       "    </tr>\n",
       "    <tr>\n",
       "      <th>4</th>\n",
       "      <td>716257068538327040</td>\n",
       "      <td>158095776</td>\n",
       "      <td>{\"weight\":1}</td>\n",
       "    </tr>\n",
       "  </tbody>\n",
       "</table>\n",
       "</div>"
      ],
      "text/plain": [
       "                Source      Target        Weight\n",
       "0  1385933370090209280   158095776  {\"weight\":1}\n",
       "1  1416535505454338050   158095776  {\"weight\":8}\n",
       "2  1416535505454338050  1604931252  {\"weight\":1}\n",
       "3            544695802   158095776  {\"weight\":1}\n",
       "4   716257068538327040   158095776  {\"weight\":1}"
      ]
     },
     "execution_count": 21,
     "metadata": {},
     "output_type": "execute_result"
    }
   ],
   "source": [
    "edges.head()"
   ]
  },
  {
   "cell_type": "code",
   "execution_count": 22,
   "id": "b27a66ee",
   "metadata": {},
   "outputs": [],
   "source": [
    "edges = edges[['Target', 'Source', 'Weight']]"
   ]
  },
  {
   "cell_type": "code",
   "execution_count": 23,
   "id": "a36ce9b6",
   "metadata": {},
   "outputs": [
    {
     "data": {
      "text/html": [
       "<div>\n",
       "<style scoped>\n",
       "    .dataframe tbody tr th:only-of-type {\n",
       "        vertical-align: middle;\n",
       "    }\n",
       "\n",
       "    .dataframe tbody tr th {\n",
       "        vertical-align: top;\n",
       "    }\n",
       "\n",
       "    .dataframe thead th {\n",
       "        text-align: right;\n",
       "    }\n",
       "</style>\n",
       "<table border=\"1\" class=\"dataframe\">\n",
       "  <thead>\n",
       "    <tr style=\"text-align: right;\">\n",
       "      <th></th>\n",
       "      <th>Target</th>\n",
       "      <th>Source</th>\n",
       "      <th>Weight</th>\n",
       "    </tr>\n",
       "  </thead>\n",
       "  <tbody>\n",
       "    <tr>\n",
       "      <th>0</th>\n",
       "      <td>158095776</td>\n",
       "      <td>1385933370090209280</td>\n",
       "      <td>{\"weight\":1}</td>\n",
       "    </tr>\n",
       "    <tr>\n",
       "      <th>1</th>\n",
       "      <td>158095776</td>\n",
       "      <td>1416535505454338050</td>\n",
       "      <td>{\"weight\":8}</td>\n",
       "    </tr>\n",
       "    <tr>\n",
       "      <th>2</th>\n",
       "      <td>1604931252</td>\n",
       "      <td>1416535505454338050</td>\n",
       "      <td>{\"weight\":1}</td>\n",
       "    </tr>\n",
       "    <tr>\n",
       "      <th>3</th>\n",
       "      <td>158095776</td>\n",
       "      <td>544695802</td>\n",
       "      <td>{\"weight\":1}</td>\n",
       "    </tr>\n",
       "    <tr>\n",
       "      <th>4</th>\n",
       "      <td>158095776</td>\n",
       "      <td>716257068538327040</td>\n",
       "      <td>{\"weight\":1}</td>\n",
       "    </tr>\n",
       "    <tr>\n",
       "      <th>...</th>\n",
       "      <td>...</td>\n",
       "      <td>...</td>\n",
       "      <td>...</td>\n",
       "    </tr>\n",
       "    <tr>\n",
       "      <th>13996</th>\n",
       "      <td>196717787</td>\n",
       "      <td>77596220</td>\n",
       "      <td>{\"weight\":1}</td>\n",
       "    </tr>\n",
       "    <tr>\n",
       "      <th>13997</th>\n",
       "      <td>196717787</td>\n",
       "      <td>891058415195303939</td>\n",
       "      <td>{\"weight\":1}</td>\n",
       "    </tr>\n",
       "    <tr>\n",
       "      <th>13998</th>\n",
       "      <td>196717787</td>\n",
       "      <td>1095768409449459712</td>\n",
       "      <td>{\"weight\":1}</td>\n",
       "    </tr>\n",
       "    <tr>\n",
       "      <th>13999</th>\n",
       "      <td>196717787</td>\n",
       "      <td>881426857</td>\n",
       "      <td>{\"weight\":1}</td>\n",
       "    </tr>\n",
       "    <tr>\n",
       "      <th>14000</th>\n",
       "      <td>196717787</td>\n",
       "      <td>17388526</td>\n",
       "      <td>{\"weight\":1}</td>\n",
       "    </tr>\n",
       "  </tbody>\n",
       "</table>\n",
       "<p>14001 rows × 3 columns</p>\n",
       "</div>"
      ],
      "text/plain": [
       "           Target               Source        Weight\n",
       "0       158095776  1385933370090209280  {\"weight\":1}\n",
       "1       158095776  1416535505454338050  {\"weight\":8}\n",
       "2      1604931252  1416535505454338050  {\"weight\":1}\n",
       "3       158095776            544695802  {\"weight\":1}\n",
       "4       158095776   716257068538327040  {\"weight\":1}\n",
       "...           ...                  ...           ...\n",
       "13996   196717787             77596220  {\"weight\":1}\n",
       "13997   196717787   891058415195303939  {\"weight\":1}\n",
       "13998   196717787  1095768409449459712  {\"weight\":1}\n",
       "13999   196717787            881426857  {\"weight\":1}\n",
       "14000   196717787             17388526  {\"weight\":1}\n",
       "\n",
       "[14001 rows x 3 columns]"
      ]
     },
     "execution_count": 23,
     "metadata": {},
     "output_type": "execute_result"
    }
   ],
   "source": [
    "edges \n"
   ]
  },
  {
   "cell_type": "code",
   "execution_count": 24,
   "id": "81390efc",
   "metadata": {},
   "outputs": [],
   "source": [
    "edges = edges.set_index(\"Target\")"
   ]
  },
  {
   "cell_type": "code",
   "execution_count": 25,
   "id": "10a70d13",
   "metadata": {},
   "outputs": [],
   "source": [
    "edges.to_csv(\"Source_retweeted_by_target.csv\")"
   ]
  },
  {
   "cell_type": "markdown",
   "id": "f799c9d3",
   "metadata": {},
   "source": [
    "# Running an information cascade "
   ]
  },
  {
   "cell_type": "code",
   "execution_count": 60,
   "id": "39983a89",
   "metadata": {},
   "outputs": [],
   "source": [
    "G = nx.read_edgelist('Source_retweeted_by_target.csv', comments='#',\n",
    "                     create_using=nx.DiGraph(), \n",
    "                     delimiter=','\"\", \n",
    "                     nodetype=int, \n",
    "                     encoding='utf-8')"
   ]
  },
  {
   "cell_type": "markdown",
   "id": "047c5112",
   "metadata": {},
   "source": [
    "Running an initial cascade, starting with the nodes where the path lengths are going to be more than 1 \n",
    "- G: the Graph with the edges reversed to allow for information to flow down to the retweeters\n",
    "- Time: let this initally be 4 to see what we get with little spread\n",
    "- activation nodes: These are the nodes where another MP or activist organization has retweeted them"
   ]
  },
  {
   "cell_type": "markdown",
   "id": "956a2d88",
   "metadata": {},
   "source": [
    "### Liberal Experiment"
   ]
  },
  {
   "cell_type": "code",
   "execution_count": 299,
   "id": "1105feb0",
   "metadata": {},
   "outputs": [
    {
     "data": {
      "text/plain": [
       "49"
      ]
     },
     "execution_count": 299,
     "metadata": {},
     "output_type": "execute_result"
    }
   ],
   "source": [
    "len(activation_community_groups.get_group(\"Liberal\")['id'].tolist())"
   ]
  },
  {
   "cell_type": "code",
   "execution_count": 300,
   "id": "a395f9ac",
   "metadata": {},
   "outputs": [],
   "source": [
    "liberal_starters = activation_community_groups.get_group(\"Liberal\")['id'].tolist()"
   ]
  },
  {
   "cell_type": "markdown",
   "id": "4a5f56b3",
   "metadata": {},
   "source": [
    "^ These are the starting nodes ^"
   ]
  },
  {
   "cell_type": "code",
   "execution_count": 301,
   "id": "6ad73e5d",
   "metadata": {},
   "outputs": [],
   "source": [
    "t5 = information_cascade(G,5,liberal_starters)"
   ]
  },
  {
   "cell_type": "code",
   "execution_count": 302,
   "id": "9373f6a0",
   "metadata": {},
   "outputs": [],
   "source": [
    "experiments = []\n",
    "for i in range(1,1000):\n",
    "    t5 = information_cascade(G,5,liberal_starters)\n",
    "    experiment = pd.DataFrame.from_dict(t5, orient='index',\n",
    "                       columns=[ \"activation_time_exp_{}\".format(i)])\n",
    "    experiments.append(experiment)"
   ]
  },
  {
   "cell_type": "code",
   "execution_count": 303,
   "id": "314b0a97",
   "metadata": {},
   "outputs": [],
   "source": [
    "experiments_df = experiments[0]\n",
    "\n",
    "for i in range (1, 999):\n",
    "    experiments_df = pd.merge(experiments[i], experiments_df, left_index=True, right_index=True, how='outer')"
   ]
  },
  {
   "cell_type": "code",
   "execution_count": 304,
   "id": "8871b70f",
   "metadata": {},
   "outputs": [],
   "source": [
    "experiments_df['average_activation_time'] = experiments_df.max(axis=1)\n",
    "experiments_df['average_activation_time'] = experiments_df['average_activation_time'].apply(np.ceil)"
   ]
  },
  {
   "cell_type": "code",
   "execution_count": 305,
   "id": "6fdba6aa",
   "metadata": {},
   "outputs": [
    {
     "data": {
      "text/html": [
       "<div>\n",
       "<style scoped>\n",
       "    .dataframe tbody tr th:only-of-type {\n",
       "        vertical-align: middle;\n",
       "    }\n",
       "\n",
       "    .dataframe tbody tr th {\n",
       "        vertical-align: top;\n",
       "    }\n",
       "\n",
       "    .dataframe thead th {\n",
       "        text-align: right;\n",
       "    }\n",
       "</style>\n",
       "<table border=\"1\" class=\"dataframe\">\n",
       "  <thead>\n",
       "    <tr style=\"text-align: right;\">\n",
       "      <th></th>\n",
       "      <th>activation_time_exp_999</th>\n",
       "      <th>activation_time_exp_998</th>\n",
       "      <th>activation_time_exp_997</th>\n",
       "      <th>activation_time_exp_996</th>\n",
       "      <th>activation_time_exp_995</th>\n",
       "      <th>activation_time_exp_994</th>\n",
       "      <th>activation_time_exp_993</th>\n",
       "      <th>activation_time_exp_992</th>\n",
       "      <th>activation_time_exp_991</th>\n",
       "      <th>activation_time_exp_990</th>\n",
       "      <th>...</th>\n",
       "      <th>activation_time_exp_9</th>\n",
       "      <th>activation_time_exp_8</th>\n",
       "      <th>activation_time_exp_7</th>\n",
       "      <th>activation_time_exp_6</th>\n",
       "      <th>activation_time_exp_5</th>\n",
       "      <th>activation_time_exp_4</th>\n",
       "      <th>activation_time_exp_3</th>\n",
       "      <th>activation_time_exp_2</th>\n",
       "      <th>activation_time_exp_1</th>\n",
       "      <th>average_activation_time</th>\n",
       "    </tr>\n",
       "  </thead>\n",
       "  <tbody>\n",
       "    <tr>\n",
       "      <th>count</th>\n",
       "      <td>139.000000</td>\n",
       "      <td>137.000000</td>\n",
       "      <td>135.000000</td>\n",
       "      <td>129.000000</td>\n",
       "      <td>132.000000</td>\n",
       "      <td>128.000000</td>\n",
       "      <td>121.000000</td>\n",
       "      <td>130.000000</td>\n",
       "      <td>128.000000</td>\n",
       "      <td>122.000000</td>\n",
       "      <td>...</td>\n",
       "      <td>124.000000</td>\n",
       "      <td>110.000000</td>\n",
       "      <td>130.000000</td>\n",
       "      <td>116.000000</td>\n",
       "      <td>120.000000</td>\n",
       "      <td>135.000000</td>\n",
       "      <td>129.000000</td>\n",
       "      <td>134.000000</td>\n",
       "      <td>126.000000</td>\n",
       "      <td>2702.000000</td>\n",
       "    </tr>\n",
       "    <tr>\n",
       "      <th>mean</th>\n",
       "      <td>0.647482</td>\n",
       "      <td>0.642336</td>\n",
       "      <td>0.637037</td>\n",
       "      <td>0.620155</td>\n",
       "      <td>0.636364</td>\n",
       "      <td>0.632812</td>\n",
       "      <td>0.595041</td>\n",
       "      <td>0.623077</td>\n",
       "      <td>0.617188</td>\n",
       "      <td>0.598361</td>\n",
       "      <td>...</td>\n",
       "      <td>0.604839</td>\n",
       "      <td>0.563636</td>\n",
       "      <td>0.623077</td>\n",
       "      <td>0.577586</td>\n",
       "      <td>0.591667</td>\n",
       "      <td>0.637037</td>\n",
       "      <td>0.620155</td>\n",
       "      <td>0.634328</td>\n",
       "      <td>0.611111</td>\n",
       "      <td>1.072909</td>\n",
       "    </tr>\n",
       "    <tr>\n",
       "      <th>std</th>\n",
       "      <td>0.479482</td>\n",
       "      <td>0.481072</td>\n",
       "      <td>0.482645</td>\n",
       "      <td>0.487240</td>\n",
       "      <td>0.498436</td>\n",
       "      <td>0.515448</td>\n",
       "      <td>0.492925</td>\n",
       "      <td>0.486490</td>\n",
       "      <td>0.487983</td>\n",
       "      <td>0.492251</td>\n",
       "      <td>...</td>\n",
       "      <td>0.490869</td>\n",
       "      <td>0.516290</td>\n",
       "      <td>0.486490</td>\n",
       "      <td>0.496087</td>\n",
       "      <td>0.493586</td>\n",
       "      <td>0.482645</td>\n",
       "      <td>0.487240</td>\n",
       "      <td>0.483425</td>\n",
       "      <td>0.489444</td>\n",
       "      <td>0.322337</td>\n",
       "    </tr>\n",
       "    <tr>\n",
       "      <th>min</th>\n",
       "      <td>0.000000</td>\n",
       "      <td>0.000000</td>\n",
       "      <td>0.000000</td>\n",
       "      <td>0.000000</td>\n",
       "      <td>0.000000</td>\n",
       "      <td>0.000000</td>\n",
       "      <td>0.000000</td>\n",
       "      <td>0.000000</td>\n",
       "      <td>0.000000</td>\n",
       "      <td>0.000000</td>\n",
       "      <td>...</td>\n",
       "      <td>0.000000</td>\n",
       "      <td>0.000000</td>\n",
       "      <td>0.000000</td>\n",
       "      <td>0.000000</td>\n",
       "      <td>0.000000</td>\n",
       "      <td>0.000000</td>\n",
       "      <td>0.000000</td>\n",
       "      <td>0.000000</td>\n",
       "      <td>0.000000</td>\n",
       "      <td>0.000000</td>\n",
       "    </tr>\n",
       "    <tr>\n",
       "      <th>25%</th>\n",
       "      <td>0.000000</td>\n",
       "      <td>0.000000</td>\n",
       "      <td>0.000000</td>\n",
       "      <td>0.000000</td>\n",
       "      <td>0.000000</td>\n",
       "      <td>0.000000</td>\n",
       "      <td>0.000000</td>\n",
       "      <td>0.000000</td>\n",
       "      <td>0.000000</td>\n",
       "      <td>0.000000</td>\n",
       "      <td>...</td>\n",
       "      <td>0.000000</td>\n",
       "      <td>0.000000</td>\n",
       "      <td>0.000000</td>\n",
       "      <td>0.000000</td>\n",
       "      <td>0.000000</td>\n",
       "      <td>0.000000</td>\n",
       "      <td>0.000000</td>\n",
       "      <td>0.000000</td>\n",
       "      <td>0.000000</td>\n",
       "      <td>1.000000</td>\n",
       "    </tr>\n",
       "    <tr>\n",
       "      <th>50%</th>\n",
       "      <td>1.000000</td>\n",
       "      <td>1.000000</td>\n",
       "      <td>1.000000</td>\n",
       "      <td>1.000000</td>\n",
       "      <td>1.000000</td>\n",
       "      <td>1.000000</td>\n",
       "      <td>1.000000</td>\n",
       "      <td>1.000000</td>\n",
       "      <td>1.000000</td>\n",
       "      <td>1.000000</td>\n",
       "      <td>...</td>\n",
       "      <td>1.000000</td>\n",
       "      <td>1.000000</td>\n",
       "      <td>1.000000</td>\n",
       "      <td>1.000000</td>\n",
       "      <td>1.000000</td>\n",
       "      <td>1.000000</td>\n",
       "      <td>1.000000</td>\n",
       "      <td>1.000000</td>\n",
       "      <td>1.000000</td>\n",
       "      <td>1.000000</td>\n",
       "    </tr>\n",
       "    <tr>\n",
       "      <th>75%</th>\n",
       "      <td>1.000000</td>\n",
       "      <td>1.000000</td>\n",
       "      <td>1.000000</td>\n",
       "      <td>1.000000</td>\n",
       "      <td>1.000000</td>\n",
       "      <td>1.000000</td>\n",
       "      <td>1.000000</td>\n",
       "      <td>1.000000</td>\n",
       "      <td>1.000000</td>\n",
       "      <td>1.000000</td>\n",
       "      <td>...</td>\n",
       "      <td>1.000000</td>\n",
       "      <td>1.000000</td>\n",
       "      <td>1.000000</td>\n",
       "      <td>1.000000</td>\n",
       "      <td>1.000000</td>\n",
       "      <td>1.000000</td>\n",
       "      <td>1.000000</td>\n",
       "      <td>1.000000</td>\n",
       "      <td>1.000000</td>\n",
       "      <td>1.000000</td>\n",
       "    </tr>\n",
       "    <tr>\n",
       "      <th>max</th>\n",
       "      <td>1.000000</td>\n",
       "      <td>1.000000</td>\n",
       "      <td>1.000000</td>\n",
       "      <td>1.000000</td>\n",
       "      <td>2.000000</td>\n",
       "      <td>2.000000</td>\n",
       "      <td>1.000000</td>\n",
       "      <td>1.000000</td>\n",
       "      <td>1.000000</td>\n",
       "      <td>1.000000</td>\n",
       "      <td>...</td>\n",
       "      <td>1.000000</td>\n",
       "      <td>2.000000</td>\n",
       "      <td>1.000000</td>\n",
       "      <td>1.000000</td>\n",
       "      <td>1.000000</td>\n",
       "      <td>1.000000</td>\n",
       "      <td>1.000000</td>\n",
       "      <td>1.000000</td>\n",
       "      <td>1.000000</td>\n",
       "      <td>2.000000</td>\n",
       "    </tr>\n",
       "  </tbody>\n",
       "</table>\n",
       "<p>8 rows × 1000 columns</p>\n",
       "</div>"
      ],
      "text/plain": [
       "       activation_time_exp_999  activation_time_exp_998  \\\n",
       "count               139.000000               137.000000   \n",
       "mean                  0.647482                 0.642336   \n",
       "std                   0.479482                 0.481072   \n",
       "min                   0.000000                 0.000000   \n",
       "25%                   0.000000                 0.000000   \n",
       "50%                   1.000000                 1.000000   \n",
       "75%                   1.000000                 1.000000   \n",
       "max                   1.000000                 1.000000   \n",
       "\n",
       "       activation_time_exp_997  activation_time_exp_996  \\\n",
       "count               135.000000               129.000000   \n",
       "mean                  0.637037                 0.620155   \n",
       "std                   0.482645                 0.487240   \n",
       "min                   0.000000                 0.000000   \n",
       "25%                   0.000000                 0.000000   \n",
       "50%                   1.000000                 1.000000   \n",
       "75%                   1.000000                 1.000000   \n",
       "max                   1.000000                 1.000000   \n",
       "\n",
       "       activation_time_exp_995  activation_time_exp_994  \\\n",
       "count               132.000000               128.000000   \n",
       "mean                  0.636364                 0.632812   \n",
       "std                   0.498436                 0.515448   \n",
       "min                   0.000000                 0.000000   \n",
       "25%                   0.000000                 0.000000   \n",
       "50%                   1.000000                 1.000000   \n",
       "75%                   1.000000                 1.000000   \n",
       "max                   2.000000                 2.000000   \n",
       "\n",
       "       activation_time_exp_993  activation_time_exp_992  \\\n",
       "count               121.000000               130.000000   \n",
       "mean                  0.595041                 0.623077   \n",
       "std                   0.492925                 0.486490   \n",
       "min                   0.000000                 0.000000   \n",
       "25%                   0.000000                 0.000000   \n",
       "50%                   1.000000                 1.000000   \n",
       "75%                   1.000000                 1.000000   \n",
       "max                   1.000000                 1.000000   \n",
       "\n",
       "       activation_time_exp_991  activation_time_exp_990  ...  \\\n",
       "count               128.000000               122.000000  ...   \n",
       "mean                  0.617188                 0.598361  ...   \n",
       "std                   0.487983                 0.492251  ...   \n",
       "min                   0.000000                 0.000000  ...   \n",
       "25%                   0.000000                 0.000000  ...   \n",
       "50%                   1.000000                 1.000000  ...   \n",
       "75%                   1.000000                 1.000000  ...   \n",
       "max                   1.000000                 1.000000  ...   \n",
       "\n",
       "       activation_time_exp_9  activation_time_exp_8  activation_time_exp_7  \\\n",
       "count             124.000000             110.000000             130.000000   \n",
       "mean                0.604839               0.563636               0.623077   \n",
       "std                 0.490869               0.516290               0.486490   \n",
       "min                 0.000000               0.000000               0.000000   \n",
       "25%                 0.000000               0.000000               0.000000   \n",
       "50%                 1.000000               1.000000               1.000000   \n",
       "75%                 1.000000               1.000000               1.000000   \n",
       "max                 1.000000               2.000000               1.000000   \n",
       "\n",
       "       activation_time_exp_6  activation_time_exp_5  activation_time_exp_4  \\\n",
       "count             116.000000             120.000000             135.000000   \n",
       "mean                0.577586               0.591667               0.637037   \n",
       "std                 0.496087               0.493586               0.482645   \n",
       "min                 0.000000               0.000000               0.000000   \n",
       "25%                 0.000000               0.000000               0.000000   \n",
       "50%                 1.000000               1.000000               1.000000   \n",
       "75%                 1.000000               1.000000               1.000000   \n",
       "max                 1.000000               1.000000               1.000000   \n",
       "\n",
       "       activation_time_exp_3  activation_time_exp_2  activation_time_exp_1  \\\n",
       "count             129.000000             134.000000             126.000000   \n",
       "mean                0.620155               0.634328               0.611111   \n",
       "std                 0.487240               0.483425               0.489444   \n",
       "min                 0.000000               0.000000               0.000000   \n",
       "25%                 0.000000               0.000000               0.000000   \n",
       "50%                 1.000000               1.000000               1.000000   \n",
       "75%                 1.000000               1.000000               1.000000   \n",
       "max                 1.000000               1.000000               1.000000   \n",
       "\n",
       "       average_activation_time  \n",
       "count              2702.000000  \n",
       "mean                  1.072909  \n",
       "std                   0.322337  \n",
       "min                   0.000000  \n",
       "25%                   1.000000  \n",
       "50%                   1.000000  \n",
       "75%                   1.000000  \n",
       "max                   2.000000  \n",
       "\n",
       "[8 rows x 1000 columns]"
      ]
     },
     "execution_count": 305,
     "metadata": {},
     "output_type": "execute_result"
    }
   ],
   "source": [
    "experiments_df.describe()"
   ]
  },
  {
   "cell_type": "markdown",
   "id": "bc5991c3",
   "metadata": {},
   "source": [
    "This shows that the maxiumum steps needed after a 1000 tries of diffusing the information was 3"
   ]
  },
  {
   "cell_type": "code",
   "execution_count": 306,
   "id": "fb98f512",
   "metadata": {},
   "outputs": [
    {
     "data": {
      "text/plain": [
       "1263631                1.0\n",
       "5548282                1.0\n",
       "7801522                1.0\n",
       "9898272                1.0\n",
       "9946272                2.0\n",
       "                      ... \n",
       "1445901048951017472    1.0\n",
       "1445905244500676608    1.0\n",
       "1446352422272528385    2.0\n",
       "1447502440820002819    1.0\n",
       "1449405859772047365    1.0\n",
       "Name: average_activation_time, Length: 2702, dtype: float64"
      ]
     },
     "execution_count": 306,
     "metadata": {},
     "output_type": "execute_result"
    }
   ],
   "source": [
    "experiments_df['average_activation_time']"
   ]
  },
  {
   "cell_type": "markdown",
   "id": "ba5dd97e",
   "metadata": {},
   "source": [
    "Perform An Inner Join on the nodes and the experiments to get community information"
   ]
  },
  {
   "cell_type": "code",
   "execution_count": 307,
   "id": "4aca405e",
   "metadata": {},
   "outputs": [],
   "source": [
    "community_info = pd.merge(experiments_df['average_activation_time'], nodes, left_index=True, right_on=\"Id\")"
   ]
  },
  {
   "cell_type": "code",
   "execution_count": 308,
   "id": "6ec80ee0",
   "metadata": {},
   "outputs": [],
   "source": [
    "def bins_labels(bins, **kwargs):\n",
    "    bin_w = (max(bins) - min(bins)) / (len(bins) - 1)\n",
    "    plt.xticks(np.arange(min(bins)+bin_w/2, max(bins), bin_w), bins , **kwargs)\n",
    "    plt.xlim(bins[0], bins[-1])"
   ]
  },
  {
   "cell_type": "code",
   "execution_count": 309,
   "id": "8b5d8745",
   "metadata": {},
   "outputs": [
    {
     "ename": "ValueError",
     "evalue": "The number of FixedLocator locations (9), usually from a call to set_ticks, does not match the number of ticklabels (10).",
     "output_type": "error",
     "traceback": [
      "\u001b[1;31m---------------------------------------------------------------------------\u001b[0m",
      "\u001b[1;31mValueError\u001b[0m                                Traceback (most recent call last)",
      "\u001b[1;32m~\\AppData\\Local\\Temp/ipykernel_22484/1000492912.py\u001b[0m in \u001b[0;36m<module>\u001b[1;34m\u001b[0m\n\u001b[0;32m     17\u001b[0m \u001b[0mplt\u001b[0m\u001b[1;33m.\u001b[0m\u001b[0mgrid\u001b[0m\u001b[1;33m(\u001b[0m\u001b[0maxis\u001b[0m\u001b[1;33m=\u001b[0m\u001b[1;34m'y'\u001b[0m\u001b[1;33m)\u001b[0m\u001b[1;33m\u001b[0m\u001b[1;33m\u001b[0m\u001b[0m\n\u001b[0;32m     18\u001b[0m \u001b[0mplt\u001b[0m\u001b[1;33m.\u001b[0m\u001b[0mtitle\u001b[0m\u001b[1;33m(\u001b[0m\u001b[0mlabel\u001b[0m\u001b[1;33m=\u001b[0m\u001b[1;34m\"Number of People by Community Who Saw the Tweet\"\u001b[0m\u001b[1;33m)\u001b[0m\u001b[1;33m\u001b[0m\u001b[1;33m\u001b[0m\u001b[0m\n\u001b[1;32m---> 19\u001b[1;33m \u001b[0mbins_labels\u001b[0m\u001b[1;33m(\u001b[0m\u001b[0mbins\u001b[0m\u001b[1;33m,\u001b[0m \u001b[0mfontsize\u001b[0m\u001b[1;33m=\u001b[0m\u001b[1;36m20\u001b[0m\u001b[1;33m)\u001b[0m\u001b[1;33m\u001b[0m\u001b[1;33m\u001b[0m\u001b[0m\n\u001b[0m\u001b[0;32m     20\u001b[0m \u001b[1;33m\u001b[0m\u001b[0m\n\u001b[0;32m     21\u001b[0m \u001b[0mplt\u001b[0m\u001b[1;33m.\u001b[0m\u001b[0mshow\u001b[0m\u001b[1;33m(\u001b[0m\u001b[1;33m)\u001b[0m\u001b[1;33m\u001b[0m\u001b[1;33m\u001b[0m\u001b[0m\n",
      "\u001b[1;32m~\\AppData\\Local\\Temp/ipykernel_22484/1864252372.py\u001b[0m in \u001b[0;36mbins_labels\u001b[1;34m(bins, **kwargs)\u001b[0m\n\u001b[0;32m      1\u001b[0m \u001b[1;32mdef\u001b[0m \u001b[0mbins_labels\u001b[0m\u001b[1;33m(\u001b[0m\u001b[0mbins\u001b[0m\u001b[1;33m,\u001b[0m \u001b[1;33m**\u001b[0m\u001b[0mkwargs\u001b[0m\u001b[1;33m)\u001b[0m\u001b[1;33m:\u001b[0m\u001b[1;33m\u001b[0m\u001b[1;33m\u001b[0m\u001b[0m\n\u001b[0;32m      2\u001b[0m     \u001b[0mbin_w\u001b[0m \u001b[1;33m=\u001b[0m \u001b[1;33m(\u001b[0m\u001b[0mmax\u001b[0m\u001b[1;33m(\u001b[0m\u001b[0mbins\u001b[0m\u001b[1;33m)\u001b[0m \u001b[1;33m-\u001b[0m \u001b[0mmin\u001b[0m\u001b[1;33m(\u001b[0m\u001b[0mbins\u001b[0m\u001b[1;33m)\u001b[0m\u001b[1;33m)\u001b[0m \u001b[1;33m/\u001b[0m \u001b[1;33m(\u001b[0m\u001b[0mlen\u001b[0m\u001b[1;33m(\u001b[0m\u001b[0mbins\u001b[0m\u001b[1;33m)\u001b[0m \u001b[1;33m-\u001b[0m \u001b[1;36m1\u001b[0m\u001b[1;33m)\u001b[0m\u001b[1;33m\u001b[0m\u001b[1;33m\u001b[0m\u001b[0m\n\u001b[1;32m----> 3\u001b[1;33m     \u001b[0mplt\u001b[0m\u001b[1;33m.\u001b[0m\u001b[0mxticks\u001b[0m\u001b[1;33m(\u001b[0m\u001b[0mnp\u001b[0m\u001b[1;33m.\u001b[0m\u001b[0marange\u001b[0m\u001b[1;33m(\u001b[0m\u001b[0mmin\u001b[0m\u001b[1;33m(\u001b[0m\u001b[0mbins\u001b[0m\u001b[1;33m)\u001b[0m\u001b[1;33m+\u001b[0m\u001b[0mbin_w\u001b[0m\u001b[1;33m/\u001b[0m\u001b[1;36m2\u001b[0m\u001b[1;33m,\u001b[0m \u001b[0mmax\u001b[0m\u001b[1;33m(\u001b[0m\u001b[0mbins\u001b[0m\u001b[1;33m)\u001b[0m\u001b[1;33m,\u001b[0m \u001b[0mbin_w\u001b[0m\u001b[1;33m)\u001b[0m\u001b[1;33m,\u001b[0m \u001b[0mbins\u001b[0m \u001b[1;33m,\u001b[0m \u001b[1;33m**\u001b[0m\u001b[0mkwargs\u001b[0m\u001b[1;33m)\u001b[0m\u001b[1;33m\u001b[0m\u001b[1;33m\u001b[0m\u001b[0m\n\u001b[0m\u001b[0;32m      4\u001b[0m     \u001b[0mplt\u001b[0m\u001b[1;33m.\u001b[0m\u001b[0mxlim\u001b[0m\u001b[1;33m(\u001b[0m\u001b[0mbins\u001b[0m\u001b[1;33m[\u001b[0m\u001b[1;36m0\u001b[0m\u001b[1;33m]\u001b[0m\u001b[1;33m,\u001b[0m \u001b[0mbins\u001b[0m\u001b[1;33m[\u001b[0m\u001b[1;33m-\u001b[0m\u001b[1;36m1\u001b[0m\u001b[1;33m]\u001b[0m\u001b[1;33m)\u001b[0m\u001b[1;33m\u001b[0m\u001b[1;33m\u001b[0m\u001b[0m\n",
      "\u001b[1;32mc:\\users\\kaitlin\\appdata\\local\\programs\\python\\python37\\lib\\site-packages\\matplotlib\\pyplot.py\u001b[0m in \u001b[0;36mxticks\u001b[1;34m(ticks, labels, **kwargs)\u001b[0m\n\u001b[0;32m   1812\u001b[0m         \u001b[0mlabels\u001b[0m \u001b[1;33m=\u001b[0m \u001b[0max\u001b[0m\u001b[1;33m.\u001b[0m\u001b[0mget_xticklabels\u001b[0m\u001b[1;33m(\u001b[0m\u001b[1;33m)\u001b[0m\u001b[1;33m\u001b[0m\u001b[1;33m\u001b[0m\u001b[0m\n\u001b[0;32m   1813\u001b[0m     \u001b[1;32melse\u001b[0m\u001b[1;33m:\u001b[0m\u001b[1;33m\u001b[0m\u001b[1;33m\u001b[0m\u001b[0m\n\u001b[1;32m-> 1814\u001b[1;33m         \u001b[0mlabels\u001b[0m \u001b[1;33m=\u001b[0m \u001b[0max\u001b[0m\u001b[1;33m.\u001b[0m\u001b[0mset_xticklabels\u001b[0m\u001b[1;33m(\u001b[0m\u001b[0mlabels\u001b[0m\u001b[1;33m,\u001b[0m \u001b[1;33m**\u001b[0m\u001b[0mkwargs\u001b[0m\u001b[1;33m)\u001b[0m\u001b[1;33m\u001b[0m\u001b[1;33m\u001b[0m\u001b[0m\n\u001b[0m\u001b[0;32m   1815\u001b[0m     \u001b[1;32mfor\u001b[0m \u001b[0ml\u001b[0m \u001b[1;32min\u001b[0m \u001b[0mlabels\u001b[0m\u001b[1;33m:\u001b[0m\u001b[1;33m\u001b[0m\u001b[1;33m\u001b[0m\u001b[0m\n\u001b[0;32m   1816\u001b[0m         \u001b[0ml\u001b[0m\u001b[1;33m.\u001b[0m\u001b[0mupdate\u001b[0m\u001b[1;33m(\u001b[0m\u001b[0mkwargs\u001b[0m\u001b[1;33m)\u001b[0m\u001b[1;33m\u001b[0m\u001b[1;33m\u001b[0m\u001b[0m\n",
      "\u001b[1;32mc:\\users\\kaitlin\\appdata\\local\\programs\\python\\python37\\lib\\site-packages\\matplotlib\\axes\\_base.py\u001b[0m in \u001b[0;36mwrapper\u001b[1;34m(self, *args, **kwargs)\u001b[0m\n\u001b[0;32m     71\u001b[0m \u001b[1;33m\u001b[0m\u001b[0m\n\u001b[0;32m     72\u001b[0m         \u001b[1;32mdef\u001b[0m \u001b[0mwrapper\u001b[0m\u001b[1;33m(\u001b[0m\u001b[0mself\u001b[0m\u001b[1;33m,\u001b[0m \u001b[1;33m*\u001b[0m\u001b[0margs\u001b[0m\u001b[1;33m,\u001b[0m \u001b[1;33m**\u001b[0m\u001b[0mkwargs\u001b[0m\u001b[1;33m)\u001b[0m\u001b[1;33m:\u001b[0m\u001b[1;33m\u001b[0m\u001b[1;33m\u001b[0m\u001b[0m\n\u001b[1;32m---> 73\u001b[1;33m             \u001b[1;32mreturn\u001b[0m \u001b[0mget_method\u001b[0m\u001b[1;33m(\u001b[0m\u001b[0mself\u001b[0m\u001b[1;33m)\u001b[0m\u001b[1;33m(\u001b[0m\u001b[1;33m*\u001b[0m\u001b[0margs\u001b[0m\u001b[1;33m,\u001b[0m \u001b[1;33m**\u001b[0m\u001b[0mkwargs\u001b[0m\u001b[1;33m)\u001b[0m\u001b[1;33m\u001b[0m\u001b[1;33m\u001b[0m\u001b[0m\n\u001b[0m\u001b[0;32m     74\u001b[0m \u001b[1;33m\u001b[0m\u001b[0m\n\u001b[0;32m     75\u001b[0m         \u001b[0mwrapper\u001b[0m\u001b[1;33m.\u001b[0m\u001b[0m__module__\u001b[0m \u001b[1;33m=\u001b[0m \u001b[0mowner\u001b[0m\u001b[1;33m.\u001b[0m\u001b[0m__module__\u001b[0m\u001b[1;33m\u001b[0m\u001b[1;33m\u001b[0m\u001b[0m\n",
      "\u001b[1;32mc:\\users\\kaitlin\\appdata\\local\\programs\\python\\python37\\lib\\site-packages\\matplotlib\\_api\\deprecation.py\u001b[0m in \u001b[0;36mwrapper\u001b[1;34m(*args, **kwargs)\u001b[0m\n\u001b[0;32m    469\u001b[0m                 \u001b[1;34m\"parameter will become keyword-only %(removal)s.\"\u001b[0m\u001b[1;33m,\u001b[0m\u001b[1;33m\u001b[0m\u001b[1;33m\u001b[0m\u001b[0m\n\u001b[0;32m    470\u001b[0m                 name=name, obj_type=f\"parameter of {func.__name__}()\")\n\u001b[1;32m--> 471\u001b[1;33m         \u001b[1;32mreturn\u001b[0m \u001b[0mfunc\u001b[0m\u001b[1;33m(\u001b[0m\u001b[1;33m*\u001b[0m\u001b[0margs\u001b[0m\u001b[1;33m,\u001b[0m \u001b[1;33m**\u001b[0m\u001b[0mkwargs\u001b[0m\u001b[1;33m)\u001b[0m\u001b[1;33m\u001b[0m\u001b[1;33m\u001b[0m\u001b[0m\n\u001b[0m\u001b[0;32m    472\u001b[0m \u001b[1;33m\u001b[0m\u001b[0m\n\u001b[0;32m    473\u001b[0m     \u001b[1;32mreturn\u001b[0m \u001b[0mwrapper\u001b[0m\u001b[1;33m\u001b[0m\u001b[1;33m\u001b[0m\u001b[0m\n",
      "\u001b[1;32mc:\\users\\kaitlin\\appdata\\local\\programs\\python\\python37\\lib\\site-packages\\matplotlib\\axis.py\u001b[0m in \u001b[0;36m_set_ticklabels\u001b[1;34m(self, labels, fontdict, minor, **kwargs)\u001b[0m\n\u001b[0;32m   1793\u001b[0m         \u001b[1;32mif\u001b[0m \u001b[0mfontdict\u001b[0m \u001b[1;32mis\u001b[0m \u001b[1;32mnot\u001b[0m \u001b[1;32mNone\u001b[0m\u001b[1;33m:\u001b[0m\u001b[1;33m\u001b[0m\u001b[1;33m\u001b[0m\u001b[0m\n\u001b[0;32m   1794\u001b[0m             \u001b[0mkwargs\u001b[0m\u001b[1;33m.\u001b[0m\u001b[0mupdate\u001b[0m\u001b[1;33m(\u001b[0m\u001b[0mfontdict\u001b[0m\u001b[1;33m)\u001b[0m\u001b[1;33m\u001b[0m\u001b[1;33m\u001b[0m\u001b[0m\n\u001b[1;32m-> 1795\u001b[1;33m         \u001b[1;32mreturn\u001b[0m \u001b[0mself\u001b[0m\u001b[1;33m.\u001b[0m\u001b[0mset_ticklabels\u001b[0m\u001b[1;33m(\u001b[0m\u001b[0mlabels\u001b[0m\u001b[1;33m,\u001b[0m \u001b[0mminor\u001b[0m\u001b[1;33m=\u001b[0m\u001b[0mminor\u001b[0m\u001b[1;33m,\u001b[0m \u001b[1;33m**\u001b[0m\u001b[0mkwargs\u001b[0m\u001b[1;33m)\u001b[0m\u001b[1;33m\u001b[0m\u001b[1;33m\u001b[0m\u001b[0m\n\u001b[0m\u001b[0;32m   1796\u001b[0m \u001b[1;33m\u001b[0m\u001b[0m\n\u001b[0;32m   1797\u001b[0m     \u001b[1;32mdef\u001b[0m \u001b[0mset_ticks\u001b[0m\u001b[1;33m(\u001b[0m\u001b[0mself\u001b[0m\u001b[1;33m,\u001b[0m \u001b[0mticks\u001b[0m\u001b[1;33m,\u001b[0m \u001b[1;33m*\u001b[0m\u001b[1;33m,\u001b[0m \u001b[0mminor\u001b[0m\u001b[1;33m=\u001b[0m\u001b[1;32mFalse\u001b[0m\u001b[1;33m)\u001b[0m\u001b[1;33m:\u001b[0m\u001b[1;33m\u001b[0m\u001b[1;33m\u001b[0m\u001b[0m\n",
      "\u001b[1;32mc:\\users\\kaitlin\\appdata\\local\\programs\\python\\python37\\lib\\site-packages\\matplotlib\\axis.py\u001b[0m in \u001b[0;36mset_ticklabels\u001b[1;34m(self, ticklabels, minor, **kwargs)\u001b[0m\n\u001b[0;32m   1715\u001b[0m             \u001b[1;32mif\u001b[0m \u001b[0mlen\u001b[0m\u001b[1;33m(\u001b[0m\u001b[0mlocator\u001b[0m\u001b[1;33m.\u001b[0m\u001b[0mlocs\u001b[0m\u001b[1;33m)\u001b[0m \u001b[1;33m!=\u001b[0m \u001b[0mlen\u001b[0m\u001b[1;33m(\u001b[0m\u001b[0mticklabels\u001b[0m\u001b[1;33m)\u001b[0m \u001b[1;32mand\u001b[0m \u001b[0mlen\u001b[0m\u001b[1;33m(\u001b[0m\u001b[0mticklabels\u001b[0m\u001b[1;33m)\u001b[0m \u001b[1;33m!=\u001b[0m \u001b[1;36m0\u001b[0m\u001b[1;33m:\u001b[0m\u001b[1;33m\u001b[0m\u001b[1;33m\u001b[0m\u001b[0m\n\u001b[0;32m   1716\u001b[0m                 raise ValueError(\n\u001b[1;32m-> 1717\u001b[1;33m                     \u001b[1;34m\"The number of FixedLocator locations\"\u001b[0m\u001b[1;33m\u001b[0m\u001b[1;33m\u001b[0m\u001b[0m\n\u001b[0m\u001b[0;32m   1718\u001b[0m                     \u001b[1;34mf\" ({len(locator.locs)}), usually from a call to\"\u001b[0m\u001b[1;33m\u001b[0m\u001b[1;33m\u001b[0m\u001b[0m\n\u001b[0;32m   1719\u001b[0m                     \u001b[1;34m\" set_ticks, does not match\"\u001b[0m\u001b[1;33m\u001b[0m\u001b[1;33m\u001b[0m\u001b[0m\n",
      "\u001b[1;31mValueError\u001b[0m: The number of FixedLocator locations (9), usually from a call to set_ticks, does not match the number of ticklabels (10)."
     ]
    },
    {
     "data": {
      "image/png": "[encoded data removed]",
      "text/plain": [
       "<Figure size 720x648 with 1 Axes>"
      ]
     },
     "metadata": {
      "needs_background": "light"
     },
     "output_type": "display_data"
    }
   ],
   "source": [
    "import matplotlib.pyplot as plt\n",
    "import numpy as np\n",
    "\n",
    "fig, ax = plt.subplots(figsize=(10, 9))\n",
    "data = community_info[\"community\"].to_numpy()\n",
    "\n",
    "N, bins, patches = ax.hist(data, edgecolor='white', bins=9, linewidth=1)\n",
    "\n",
    "\n",
    "patches[0].set_facecolor('red')\n",
    "patches[1].set_facecolor('blue')\n",
    "patches[2].set_facecolor('orange')\n",
    "patches[3].set_facecolor('black')\n",
    "\n",
    "plt.xlabel(\"Community\")\n",
    "plt.ylabel(\"Number of Members\")\n",
    "plt.grid(axis='y')\n",
    "plt.title(label=\"Number of People by Community Who Saw the Tweet\")\n",
    "bins_labels(bins, fontsize=20)\n",
    "\n",
    "plt.show()"
   ]
  },
  {
   "cell_type": "code",
   "execution_count": 310,
   "id": "5f0d9859",
   "metadata": {},
   "outputs": [
    {
     "data": {
      "image/png": "[encoded data removed]",
      "text/plain": [
       "<Figure size 432x288 with 1 Axes>"
      ]
     },
     "metadata": {
      "needs_background": "light"
     },
     "output_type": "display_data"
    }
   ],
   "source": [
    "import matplotlib.pyplot as plt\n",
    "import numpy as np\n",
    "\n",
    "fig, ax = plt.subplots(figsize=(6, 4\n",
    "                               ))\n",
    "data = community_info[\"average_activation_time\"].to_numpy()\n",
    "\n",
    "N, bins, patches = ax.hist(data, edgecolor='white', bins=4, linewidth=1 , density=False)\n",
    "plt.xlabel(\"Time t\")\n",
    "plt.ylabel(\"Number of Nodes Activated\")\n",
    "plt.grid(axis='y')\n",
    "plt.title(label=\"Distribution of Activation by Time\")\n",
    "ax.set(xticks=range(4), xlim=[0, 3])\n",
    "\n",
    "plt.show()"
   ]
  },
  {
   "cell_type": "markdown",
   "id": "4dd9ae0c",
   "metadata": {},
   "source": [
    "https://stackoverflow.com/questions/23246125/how-to-center-labels-in-histogram-plot/23246992"
   ]
  },
  {
   "cell_type": "markdown",
   "id": "43ee5e73",
   "metadata": {},
   "source": [
    "https://www.tutorialspoint.com/how-to-plot-a-line-graph-from-histogram-data-in-matplotlib"
   ]
  },
  {
   "cell_type": "code",
   "execution_count": 311,
   "id": "e0ca981e",
   "metadata": {
    "scrolled": false
   },
   "outputs": [
    {
     "data": {
      "image/png": "[encoded data removed]",
      "text/plain": [
       "<Figure size 504x252 with 2 Axes>"
      ]
     },
     "metadata": {
      "needs_background": "light"
     },
     "output_type": "display_data"
    }
   ],
   "source": [
    "import numpy as np\n",
    "from matplotlib import pyplot as plt\n",
    "plt.rcParams[\"figure.figsize\"] = [7.00, 3.50]\n",
    "plt.rcParams[\"figure.autolayout\"] = True\n",
    "plt.subplot(211)\n",
    "data = experiments_df['average_activation_time'].tolist()\n",
    "y, binEdges = np.histogram(data, bins=4)\n",
    "plt.hist(data, bins=4, edgecolor='black')\n",
    "plt.subplot(212)\n",
    "bincenters = (binEdges[1:] + binEdges[:-1])\n",
    "plt.plot(bincenters, y, '-', c='black')\n",
    "plt.show()"
   ]
  },
  {
   "cell_type": "code",
   "execution_count": 312,
   "id": "421ce1dd",
   "metadata": {},
   "outputs": [],
   "source": [
    "experiments_df['average_activation_time'].to_csv(\"liberal_Information_Cascade_EXP2.csv\")"
   ]
  },
  {
   "cell_type": "markdown",
   "id": "4f8c67a2",
   "metadata": {},
   "source": [
    "### Looking for Notable Nodes "
   ]
  },
  {
   "cell_type": "markdown",
   "id": "224fcbc9",
   "metadata": {},
   "source": [
    "Notable Nodes Are:"
   ]
  },
  {
   "cell_type": "code",
   "execution_count": 313,
   "id": "916b4df5",
   "metadata": {},
   "outputs": [],
   "source": [
    "diversly_retweeted = [215632349, 196717787]"
   ]
  },
  {
   "cell_type": "code",
   "execution_count": 314,
   "id": "c88076b9",
   "metadata": {},
   "outputs": [],
   "source": [
    "diversly_retweeting = [596787864, 12034642, 711980580813066240]"
   ]
  },
  {
   "cell_type": "code",
   "execution_count": 315,
   "id": "fedb7126",
   "metadata": {},
   "outputs": [],
   "source": [
    "high_undirected_betweenness_retweeters = [16272844]"
   ]
  },
  {
   "cell_type": "markdown",
   "id": "82abbade",
   "metadata": {},
   "source": [
    "### Conservative Experiment"
   ]
  },
  {
   "cell_type": "code",
   "execution_count": 316,
   "id": "0b48b304",
   "metadata": {},
   "outputs": [
    {
     "data": {
      "text/plain": [
       "18"
      ]
     },
     "execution_count": 316,
     "metadata": {},
     "output_type": "execute_result"
    }
   ],
   "source": [
    "len(activation_community_groups.get_group(\"Conservative\")['id'].tolist())"
   ]
  },
  {
   "cell_type": "code",
   "execution_count": 322,
   "id": "61136d7e",
   "metadata": {},
   "outputs": [],
   "source": [
    "conservative_starters = activation_community_groups.get_group(\"Conservative\")['id'].tolist()"
   ]
  },
  {
   "cell_type": "code",
   "execution_count": 323,
   "id": "e46e6f79",
   "metadata": {},
   "outputs": [
    {
     "data": {
      "text/plain": [
       "[17969963,\n",
       " 2254171724,\n",
       " 2555308646,\n",
       " 739149720,\n",
       " 989311745100566529,\n",
       " 268832287,\n",
       " 883774859452579840,\n",
       " 15810950,\n",
       " 129395750,\n",
       " 791282631006621696,\n",
       " 256552850,\n",
       " 1086084557009575936,\n",
       " 36133644,\n",
       " 34606493,\n",
       " 564207331,\n",
       " 414218319,\n",
       " 943174774154498048,\n",
       " 412708728]"
      ]
     },
     "execution_count": 323,
     "metadata": {},
     "output_type": "execute_result"
    }
   ],
   "source": [
    "conservative_starters"
   ]
  },
  {
   "cell_type": "markdown",
   "id": "51eaf11d",
   "metadata": {},
   "source": [
    "^ These are the starting nodes ^"
   ]
  },
  {
   "cell_type": "code",
   "execution_count": 324,
   "id": "04f08192",
   "metadata": {},
   "outputs": [],
   "source": [
    "t5_conservative = information_cascade(G,5,conservative_starters)"
   ]
  },
  {
   "cell_type": "code",
   "execution_count": 325,
   "id": "e58fca71",
   "metadata": {},
   "outputs": [],
   "source": [
    "experiments_conservative = []\n",
    "for i in range(1,1000):\n",
    "    t5 = information_cascade(G,5,conservative_starters)\n",
    "    experiment = pd.DataFrame.from_dict(t5, orient='index',\n",
    "                       columns=[ \"activation_time_exp_{}\".format(i)])\n",
    "    experiments_conservative.append(experiment)"
   ]
  },
  {
   "cell_type": "code",
   "execution_count": null,
   "id": "7b2a8ee0",
   "metadata": {},
   "outputs": [],
   "source": [
    "experiments_conservative_df = experiments_conservative[0]\n",
    "\n",
    "for i in range (1, 999):\n",
    "    experiments_conservative_df = pd.merge(experiments_conservative[i], experiments_conservative_df, left_index=True, right_index=True, how='outer')"
   ]
  },
  {
   "cell_type": "code",
   "execution_count": null,
   "id": "ebe95f34",
   "metadata": {},
   "outputs": [],
   "source": [
    "experiments_conservative_df['average_activation_time'] = experiments_conservative_df.mean(axis=1)\n",
    "experiments_conservative_df['average_activation_time'] = experiments_conservative_df['average_activation_time'].apply(np.ceil)"
   ]
  },
  {
   "cell_type": "code",
   "execution_count": null,
   "id": "761557e3",
   "metadata": {},
   "outputs": [],
   "source": [
    "experiments_conservative_df.describe()"
   ]
  },
  {
   "cell_type": "markdown",
   "id": "07c0dd62",
   "metadata": {},
   "source": [
    "This shows that the maxiumum steps needed after a 1000 tries of diffusing the information was 2"
   ]
  },
  {
   "cell_type": "code",
   "execution_count": null,
   "id": "666cb846",
   "metadata": {},
   "outputs": [],
   "source": [
    "experiments_conservative_df['average_activation_time']"
   ]
  },
  {
   "cell_type": "markdown",
   "id": "3b67ad64",
   "metadata": {},
   "source": [
    "Perform An Inner Join on the nodes and the experiments to get community information"
   ]
  },
  {
   "cell_type": "code",
   "execution_count": null,
   "id": "4b86d94f",
   "metadata": {},
   "outputs": [],
   "source": [
    "community_info_conservative = pd.merge(experiments_conservative_df['average_activation_time'], nodes, left_index=True, right_on=\"Id\")"
   ]
  },
  {
   "cell_type": "code",
   "execution_count": null,
   "id": "59e9cb10",
   "metadata": {},
   "outputs": [],
   "source": [
    "import matplotlib.pyplot as plt\n",
    "import numpy as np\n",
    "\n",
    "fig, ax = plt.subplots(figsize=(10, 8))\n",
    "data = community_info_conservative[\"community\"].to_numpy()\n",
    "\n",
    "N, bins, patches = ax.hist(data, edgecolor='white', bins=3, linewidth=1)\n",
    "\n",
    "\n",
    "patches[0].set_facecolor('blue')\n",
    "patches[1].set_facecolor('orange')\n",
    "patches[2].set_facecolor('red')\n",
    "\n",
    "\n",
    "plt.xlabel(\"Community\")\n",
    "plt.ylabel(\"Number of Members\")\n",
    "plt.grid(axis='y')\n",
    "plt.title(label=\"Number of People by Community Who Saw the Tweet\")\n",
    "#bins_labels(bins, fontsize=20)\n",
    "\n",
    "plt.show()"
   ]
  },
  {
   "cell_type": "code",
   "execution_count": null,
   "id": "eb3a2000",
   "metadata": {},
   "outputs": [],
   "source": [
    "import matplotlib.pyplot as plt\n",
    "import numpy as np\n",
    "\n",
    "fig, ax = plt.subplots(figsize=(6, 4\n",
    "                               ))\n",
    "data = experiments_conservative_df[\"average_activation_time\"].to_numpy()\n",
    "\n",
    "N, bins, patches = ax.hist(data, edgecolor='white', bins=3, linewidth=1 , density=False)\n",
    "plt.xlabel(\"Time t\")\n",
    "plt.ylabel(\"Number of Nodes Activated\")\n",
    "plt.grid(axis='y')\n",
    "plt.title(label=\"Distribution of Activation by Time\")\n",
    "ax.set(xticks=range(3), xlim=[0, 2])\n",
    "\n",
    "plt.show()"
   ]
  },
  {
   "cell_type": "markdown",
   "id": "1b4bd4c5",
   "metadata": {},
   "source": [
    "https://stackoverflow.com/questions/23246125/how-to-center-labels-in-histogram-plot/23246992"
   ]
  },
  {
   "cell_type": "markdown",
   "id": "1bd22cb7",
   "metadata": {},
   "source": [
    "https://www.tutorialspoint.com/how-to-plot-a-line-graph-from-histogram-data-in-matplotlib"
   ]
  },
  {
   "cell_type": "code",
   "execution_count": null,
   "id": "33c47ec0",
   "metadata": {
    "scrolled": false
   },
   "outputs": [],
   "source": [
    "import numpy as np\n",
    "from matplotlib import pyplot as plt\n",
    "plt.rcParams[\"figure.figsize\"] = [7.00, 3.50]\n",
    "plt.rcParams[\"figure.autolayout\"] = True\n",
    "plt.subplot(211)\n",
    "data = experiments_conservative_df['average_activation_time'].tolist()\n",
    "y, binEdges = np.histogram(data, bins=4)\n",
    "plt.hist(data, bins=3, edgecolor='black')\n",
    "plt.subplot(212)\n",
    "bincenters = (binEdges[1:] + binEdges[:-1])\n",
    "plt.plot(bincenters, y, '-', c='black')\n",
    "plt.show()"
   ]
  },
  {
   "cell_type": "code",
   "execution_count": null,
   "id": "fc6d6dd4",
   "metadata": {},
   "outputs": [],
   "source": [
    "experiments_conservative_df['average_activation_time'].to_csv(\"Conservative_Information_Cascade_EXP2.csv\")"
   ]
  },
  {
   "cell_type": "code",
   "execution_count": null,
   "id": "d270617f",
   "metadata": {},
   "outputs": [],
   "source": []
  },
  {
   "cell_type": "markdown",
   "id": "1fe4c35a",
   "metadata": {},
   "source": [
    "### NDP Experiment"
   ]
  },
  {
   "cell_type": "code",
   "execution_count": null,
   "id": "34d366ba",
   "metadata": {},
   "outputs": [],
   "source": [
    "len(activation_community_groups.get_group(\"NDP\")['id'].tolist())"
   ]
  },
  {
   "cell_type": "code",
   "execution_count": null,
   "id": "6d993195",
   "metadata": {},
   "outputs": [],
   "source": [
    "ndp_starters = activation_community_groups.get_group(\"NDP\")['id'].tolist()"
   ]
  },
  {
   "cell_type": "code",
   "execution_count": null,
   "id": "c4d3435e",
   "metadata": {},
   "outputs": [],
   "source": [
    "ndp_starters"
   ]
  },
  {
   "cell_type": "markdown",
   "id": "cbc66f8a",
   "metadata": {},
   "source": [
    "^ These are the starting nodes ^"
   ]
  },
  {
   "cell_type": "code",
   "execution_count": null,
   "id": "35879fe4",
   "metadata": {},
   "outputs": [],
   "source": [
    "t5_ndp = information_cascade(G,5,ndp_starters)"
   ]
  },
  {
   "cell_type": "code",
   "execution_count": null,
   "id": "e5b4d20a",
   "metadata": {},
   "outputs": [],
   "source": [
    "experiments_ndp = []\n",
    "for i in range(1,1000):\n",
    "    t5 = information_cascade(G,5,ndp_starters)\n",
    "    experiment = pd.DataFrame.from_dict(t5, orient='index',\n",
    "                       columns=[ \"activation_time_exp_{}\".format(i)])\n",
    "    experiments_ndp.append(experiment)"
   ]
  },
  {
   "cell_type": "code",
   "execution_count": null,
   "id": "5c6cf35d",
   "metadata": {},
   "outputs": [],
   "source": [
    "experiments_ndp_df = experiments_ndp[0]\n",
    "\n",
    "for i in range (1, 999):\n",
    "    experiments_ndp_df = pd.merge(experiments_ndp[i], experiments_ndp_df, left_index=True, right_index=True, how='outer')"
   ]
  },
  {
   "cell_type": "code",
   "execution_count": null,
   "id": "daf3c310",
   "metadata": {},
   "outputs": [],
   "source": [
    "experiments_ndp_df['average_activation_time'] = experiments_ndp_df.mean(axis=1)\n",
    "experiments_ndp_df['average_activation_time'] = experiments_ndp_df['average_activation_time'].apply(np.ceil)"
   ]
  },
  {
   "cell_type": "code",
   "execution_count": null,
   "id": "ef365e2b",
   "metadata": {},
   "outputs": [],
   "source": [
    "experiments_ndp_df.describe()"
   ]
  },
  {
   "cell_type": "markdown",
   "id": "e2235746",
   "metadata": {},
   "source": [
    "This shows that the maxiumum steps needed after a 1000 tries of diffusing the information was 2"
   ]
  },
  {
   "cell_type": "code",
   "execution_count": null,
   "id": "f49ff8bb",
   "metadata": {},
   "outputs": [],
   "source": [
    "experiments_ndp_df['average_activation_time']"
   ]
  },
  {
   "cell_type": "markdown",
   "id": "4ecc01d7",
   "metadata": {},
   "source": [
    "Perform An Inner Join on the nodes and the experiments to get community information"
   ]
  },
  {
   "cell_type": "code",
   "execution_count": null,
   "id": "c689618a",
   "metadata": {},
   "outputs": [],
   "source": [
    "community_info_ndp = pd.merge(experiments_ndp_df['average_activation_time'], nodes, left_index=True, right_on=\"Id\")"
   ]
  },
  {
   "cell_type": "code",
   "execution_count": null,
   "id": "b2b4b854",
   "metadata": {},
   "outputs": [],
   "source": [
    "import matplotlib.pyplot as plt\n",
    "import numpy as np\n",
    "\n",
    "fig, ax = plt.subplots(figsize=(10, 8))\n",
    "data = community_info_ndp[\"community\"].to_numpy()\n",
    "\n",
    "N, bins, patches = ax.hist(data, edgecolor='white', bins=5, linewidth=1)\n",
    "\n",
    "\n",
    "patches[0].set_facecolor('orange')\n",
    "patches[1].set_facecolor('red')\n",
    "patches[2].set_facecolor('magenta')\n",
    "patches[3].set_facecolor('blue')\n",
    "patches[4].set_facecolor('cyan')\n",
    "\n",
    "plt.xlabel(\"Community\")\n",
    "plt.ylabel(\"Number of Members\")\n",
    "plt.grid(axis='y')\n",
    "plt.title(label=\"Number of People by Community Who Saw the Tweet\")\n",
    "#bins_labels(bins, fontsize=20)\n",
    "\n",
    "plt.show()"
   ]
  },
  {
   "cell_type": "code",
   "execution_count": null,
   "id": "1bd0f04f",
   "metadata": {},
   "outputs": [],
   "source": [
    "import matplotlib.pyplot as plt\n",
    "import numpy as np\n",
    "\n",
    "fig, ax = plt.subplots(figsize=(6, 4\n",
    "                               ))\n",
    "data = experiments_ndp_df[\"average_activation_time\"].to_numpy()\n",
    "\n",
    "N, bins, patches = ax.hist(data, edgecolor='white', bins=3, linewidth=1 , density=False)\n",
    "plt.xlabel(\"Time t\")\n",
    "plt.ylabel(\"Number of Nodes Activated\")\n",
    "plt.grid(axis='y')\n",
    "plt.title(label=\"Distribution of Activation by Time\")\n",
    "ax.set(xticks=range(3), xlim=[0, 2])\n",
    "\n",
    "plt.show()"
   ]
  },
  {
   "cell_type": "markdown",
   "id": "643f7de2",
   "metadata": {},
   "source": [
    "https://stackoverflow.com/questions/23246125/how-to-center-labels-in-histogram-plot/23246992"
   ]
  },
  {
   "cell_type": "markdown",
   "id": "5732be1c",
   "metadata": {},
   "source": [
    "https://www.tutorialspoint.com/how-to-plot-a-line-graph-from-histogram-data-in-matplotlib"
   ]
  },
  {
   "cell_type": "code",
   "execution_count": null,
   "id": "6230eb60",
   "metadata": {
    "scrolled": false
   },
   "outputs": [],
   "source": [
    "import numpy as np\n",
    "from matplotlib import pyplot as plt\n",
    "plt.rcParams[\"figure.figsize\"] = [7.00, 3.50]\n",
    "plt.rcParams[\"figure.autolayout\"] = True\n",
    "plt.subplot(211)\n",
    "data = experiments_ndp_df['average_activation_time'].tolist()\n",
    "y, binEdges = np.histogram(data, bins=3)\n",
    "plt.hist(data, bins=3, edgecolor='black')\n",
    "plt.subplot(212)\n",
    "bincenters = (binEdges[1:] + binEdges[:-1])\n",
    "plt.plot(bincenters, y, '-', c='black')\n",
    "plt.show()"
   ]
  },
  {
   "cell_type": "code",
   "execution_count": null,
   "id": "cfbd1ccd",
   "metadata": {},
   "outputs": [],
   "source": [
    "experiments_ndp_df['average_activation_time'].to_csv(\"NDP_Information_Cascade_EXP2.csv\")"
   ]
  },
  {
   "cell_type": "code",
   "execution_count": null,
   "id": "c72118ef",
   "metadata": {},
   "outputs": [],
   "source": []
  },
  {
   "cell_type": "markdown",
   "id": "f9184c9c",
   "metadata": {},
   "source": [
    "### LGBTQS+ Experiment"
   ]
  },
  {
   "cell_type": "code",
   "execution_count": null,
   "id": "f0a27d9e",
   "metadata": {},
   "outputs": [],
   "source": [
    "len(activation_community_groups.get_group(\"LGBTQ2S+\")['id'].tolist())"
   ]
  },
  {
   "cell_type": "code",
   "execution_count": null,
   "id": "e9a96238",
   "metadata": {},
   "outputs": [],
   "source": [
    "LGBTQ2S_starters = activation_community_groups.get_group(\"LGBTQ2S+\")['id'].tolist()"
   ]
  },
  {
   "cell_type": "code",
   "execution_count": null,
   "id": "2f257990",
   "metadata": {},
   "outputs": [],
   "source": [
    "LGBTQ2S_starters"
   ]
  },
  {
   "cell_type": "markdown",
   "id": "c80c4966",
   "metadata": {},
   "source": [
    "^ These are the starting nodes ^"
   ]
  },
  {
   "cell_type": "code",
   "execution_count": null,
   "id": "5683d84c",
   "metadata": {},
   "outputs": [],
   "source": [
    "t5_LGBTQ2S = information_cascade(G,5,LGBTQ2S_starters)"
   ]
  },
  {
   "cell_type": "code",
   "execution_count": null,
   "id": "b838ffb8",
   "metadata": {},
   "outputs": [],
   "source": [
    "experiments_LGBTQ2S = []\n",
    "for i in range(1,1000):\n",
    "    t5 = information_cascade(G,5,LGBTQ2S_starters)\n",
    "    experiment = pd.DataFrame.from_dict(t5, orient='index',\n",
    "                       columns=[ \"activation_time_exp_{}\".format(i)])\n",
    "    experiments_LGBTQ2S.append(experiment)"
   ]
  },
  {
   "cell_type": "code",
   "execution_count": null,
   "id": "57feac06",
   "metadata": {},
   "outputs": [],
   "source": [
    "experiments_LGBTQ2S_df = experiments_LGBTQ2S[0]\n",
    "\n",
    "for i in range (1, 999):\n",
    "    experiments_LGBTQ2S_df = pd.merge(experiments_LGBTQ2S[i], experiments_LGBTQ2S_df, left_index=True, right_index=True, how='outer')"
   ]
  },
  {
   "cell_type": "code",
   "execution_count": null,
   "id": "3ac73dab",
   "metadata": {},
   "outputs": [],
   "source": [
    "experiments_LGBTQ2S_df['average_activation_time'] = experiments_LGBTQ2S_df.mean(axis=1)\n",
    "experiments_LGBTQ2S_df['average_activation_time'] = experiments_LGBTQ2S_df['average_activation_time'].apply(np.ceil)"
   ]
  },
  {
   "cell_type": "code",
   "execution_count": null,
   "id": "bcae50f7",
   "metadata": {},
   "outputs": [],
   "source": [
    "experiments_LGBTQ2S_df.describe()"
   ]
  },
  {
   "cell_type": "markdown",
   "id": "8746033d",
   "metadata": {},
   "source": [
    "This shows that the maxiumum steps needed after a 1000 tries of diffusing the information was 2"
   ]
  },
  {
   "cell_type": "code",
   "execution_count": null,
   "id": "c2f530a6",
   "metadata": {},
   "outputs": [],
   "source": [
    "experiments_LGBTQ2S_df['average_activation_time']"
   ]
  },
  {
   "cell_type": "markdown",
   "id": "4393be70",
   "metadata": {},
   "source": [
    "Perform An Inner Join on the nodes and the experiments to get community information"
   ]
  },
  {
   "cell_type": "code",
   "execution_count": null,
   "id": "5a5e91e1",
   "metadata": {},
   "outputs": [],
   "source": [
    "community_info_LGBTQ2S = pd.merge(experiments_LGBTQ2S_df['average_activation_time'], nodes, left_index=True, right_on=\"Id\")"
   ]
  },
  {
   "cell_type": "code",
   "execution_count": null,
   "id": "0b5928d2",
   "metadata": {},
   "outputs": [],
   "source": [
    "import matplotlib.pyplot as plt\n",
    "import numpy as np\n",
    "\n",
    "fig, ax = plt.subplots(figsize=(10, 8))\n",
    "data = community_info_LGBTQ2S[\"community\"].to_numpy()\n",
    "\n",
    "N, bins, patches = ax.hist(data, edgecolor='white', bins=3, linewidth=1)\n",
    "\n",
    "\n",
    "patches[0].set_facecolor('magenta')\n",
    "patches[1].set_facecolor('orange')\n",
    "patches[2].set_facecolor('red')\n",
    "\n",
    "\n",
    "plt.xlabel(\"Community\")\n",
    "plt.ylabel(\"Number of Members\")\n",
    "plt.grid(axis='y')\n",
    "plt.title(label=\"Number of People by Community Who Saw the Tweet\")\n",
    "#bins_labels(bins, fontsize=20)\n",
    "\n",
    "plt.show()"
   ]
  },
  {
   "cell_type": "code",
   "execution_count": null,
   "id": "2840a127",
   "metadata": {},
   "outputs": [],
   "source": [
    "import matplotlib.pyplot as plt\n",
    "import numpy as np\n",
    "\n",
    "fig, ax = plt.subplots(figsize=(6, 4\n",
    "                               ))\n",
    "data = experiments_LGBTQ2S_df[\"average_activation_time\"].to_numpy()\n",
    "\n",
    "N, bins, patches = ax.hist(data, edgecolor='white', bins=3, linewidth=1 , density=False)\n",
    "plt.xlabel(\"Time t\")\n",
    "plt.ylabel(\"Number of Nodes Activated\")\n",
    "plt.grid(axis='y')\n",
    "plt.title(label=\"Distribution of Activation by Time\")\n",
    "ax.set(xticks=range(3), xlim=[0, 2])\n",
    "\n",
    "plt.show()"
   ]
  },
  {
   "cell_type": "markdown",
   "id": "d6693eeb",
   "metadata": {},
   "source": [
    "https://stackoverflow.com/questions/23246125/how-to-center-labels-in-histogram-plot/23246992"
   ]
  },
  {
   "cell_type": "markdown",
   "id": "3acaf716",
   "metadata": {},
   "source": [
    "https://www.tutorialspoint.com/how-to-plot-a-line-graph-from-histogram-data-in-matplotlib"
   ]
  },
  {
   "cell_type": "code",
   "execution_count": null,
   "id": "0feef053",
   "metadata": {
    "scrolled": false
   },
   "outputs": [],
   "source": [
    "import numpy as np\n",
    "from matplotlib import pyplot as plt\n",
    "plt.rcParams[\"figure.figsize\"] = [7.00, 3.50]\n",
    "plt.rcParams[\"figure.autolayout\"] = True\n",
    "plt.subplot(211)\n",
    "data = experiments_LGBTQ2S_df['average_activation_time'].tolist()\n",
    "y, binEdges = np.histogram(data, bins=3)\n",
    "plt.hist(data, bins=3, edgecolor='black')\n",
    "plt.subplot(212)\n",
    "bincenters = (binEdges[1:] + binEdges[:-1])\n",
    "plt.plot(bincenters, y, '-', c='black')\n",
    "plt.show()"
   ]
  },
  {
   "cell_type": "code",
   "execution_count": null,
   "id": "6b5ec24a",
   "metadata": {},
   "outputs": [],
   "source": [
    "experiments_LGBTQ2S_df['average_activation_time'].to_csv(\"LGBTQ2S_Information_Cascade_EXP2.csv\")"
   ]
  },
  {
   "cell_type": "code",
   "execution_count": null,
   "id": "df59f8f2",
   "metadata": {},
   "outputs": [],
   "source": []
  },
  {
   "cell_type": "markdown",
   "id": "80f40dbd",
   "metadata": {},
   "source": [
    "### Bloc Québécois Experiment"
   ]
  },
  {
   "cell_type": "code",
   "execution_count": null,
   "id": "daacfd82",
   "metadata": {},
   "outputs": [],
   "source": [
    "len(activation_community_groups.get_group(\"Bloc Québécois\")['id'].tolist())"
   ]
  },
  {
   "cell_type": "code",
   "execution_count": null,
   "id": "201bbd1e",
   "metadata": {},
   "outputs": [],
   "source": [
    "Bloc_starters =activation_community_groups.get_group(\"Bloc Québécois\")['id'].tolist()"
   ]
  },
  {
   "cell_type": "code",
   "execution_count": null,
   "id": "439c405a",
   "metadata": {},
   "outputs": [],
   "source": [
    "Bloc_starters"
   ]
  },
  {
   "cell_type": "markdown",
   "id": "f41a1228",
   "metadata": {},
   "source": [
    "^ These are the starting nodes ^"
   ]
  },
  {
   "cell_type": "code",
   "execution_count": null,
   "id": "39d8ef84",
   "metadata": {},
   "outputs": [],
   "source": [
    "t5_Bloc = information_cascade(G,5,Bloc_starters)"
   ]
  },
  {
   "cell_type": "code",
   "execution_count": null,
   "id": "c641c8ca",
   "metadata": {},
   "outputs": [],
   "source": [
    "experiments_Bloc = []\n",
    "for i in range(1,1000):\n",
    "    t5 = information_cascade(G,5,Bloc_starters)\n",
    "    experiment = pd.DataFrame.from_dict(t5, orient='index',\n",
    "                       columns=[ \"activation_time_exp_{}\".format(i)])\n",
    "    experiments_Bloc.append(experiment)"
   ]
  },
  {
   "cell_type": "code",
   "execution_count": null,
   "id": "281d10dd",
   "metadata": {},
   "outputs": [],
   "source": [
    "experiments_Bloc_df = experiments_Bloc[0]\n",
    "\n",
    "for i in range (1, 999):\n",
    "    experiments_Bloc_df = pd.merge(experiments_Bloc[i], experiments_Bloc_df, left_index=True, right_index=True, how='outer')"
   ]
  },
  {
   "cell_type": "code",
   "execution_count": null,
   "id": "c6a60bd9",
   "metadata": {},
   "outputs": [],
   "source": [
    "experiments_Bloc_df['average_activation_time'] = experiments_Bloc_df.mean(axis=1)\n",
    "experiments_Bloc_df['average_activation_time'] = experiments_Bloc_df['average_activation_time'].apply(np.ceil)"
   ]
  },
  {
   "cell_type": "code",
   "execution_count": null,
   "id": "2d5e0bff",
   "metadata": {},
   "outputs": [],
   "source": [
    "experiments_Bloc_df.describe()"
   ]
  },
  {
   "cell_type": "markdown",
   "id": "09f36f1a",
   "metadata": {},
   "source": [
    "This shows that the maxiumum steps needed after a 1000 tries of diffusing the information was 3"
   ]
  },
  {
   "cell_type": "code",
   "execution_count": null,
   "id": "735de054",
   "metadata": {},
   "outputs": [],
   "source": [
    "experiments_Bloc_df['average_activation_time']"
   ]
  },
  {
   "cell_type": "markdown",
   "id": "efa7e120",
   "metadata": {},
   "source": [
    "Perform An Inner Join on the nodes and the experiments to get community information"
   ]
  },
  {
   "cell_type": "code",
   "execution_count": null,
   "id": "b4fc65f4",
   "metadata": {},
   "outputs": [],
   "source": [
    "community_info_Bloc = pd.merge(experiments_Bloc_df['average_activation_time'], nodes, left_index=True, right_on=\"Id\")"
   ]
  },
  {
   "cell_type": "code",
   "execution_count": null,
   "id": "5a00a8a6",
   "metadata": {},
   "outputs": [],
   "source": [
    "import matplotlib.pyplot as plt\n",
    "import numpy as np\n",
    "\n",
    "fig, ax = plt.subplots(figsize=(10, 8))\n",
    "data = community_info_Bloc[\"community\"].to_numpy()\n",
    "\n",
    "N, bins, patches = ax.hist(data, edgecolor='white', bins=5, linewidth=1)\n",
    "\n",
    "\n",
    "patches[0].set_facecolor('cyan')\n",
    "patches[2].set_facecolor('red')\n",
    "patches[4].set_facecolor('blue')\n",
    "\n",
    "\n",
    "plt.xlabel(\"Community\")\n",
    "plt.ylabel(\"Number of Members\")\n",
    "plt.grid(axis='y')\n",
    "plt.title(label=\"Number of People by Community Who Saw the Tweet\")\n",
    "#bins_labels(bins, fontsize=20)\n",
    "\n",
    "plt.show()"
   ]
  },
  {
   "cell_type": "code",
   "execution_count": null,
   "id": "845db648",
   "metadata": {},
   "outputs": [],
   "source": [
    "import matplotlib.pyplot as plt\n",
    "import numpy as np\n",
    "\n",
    "fig, ax = plt.subplots(figsize=(6, 4\n",
    "                               ))\n",
    "data = experiments_Bloc_df[\"average_activation_time\"].to_numpy()\n",
    "\n",
    "N, bins, patches = ax.hist(data, edgecolor='white', bins=4, linewidth=1 , density=False)\n",
    "plt.xlabel(\"Time t\")\n",
    "plt.ylabel(\"Number of Nodes Activated\")\n",
    "plt.grid(axis='y')\n",
    "plt.title(label=\"Distribution of Activation by Time\")\n",
    "ax.set(xticks=range(4), xlim=[0, 3])\n",
    "\n",
    "plt.show()"
   ]
  },
  {
   "cell_type": "markdown",
   "id": "afe5005a",
   "metadata": {},
   "source": [
    "https://stackoverflow.com/questions/23246125/how-to-center-labels-in-histogram-plot/23246992"
   ]
  },
  {
   "cell_type": "markdown",
   "id": "fc41cfeb",
   "metadata": {},
   "source": [
    "https://www.tutorialspoint.com/how-to-plot-a-line-graph-from-histogram-data-in-matplotlib"
   ]
  },
  {
   "cell_type": "code",
   "execution_count": null,
   "id": "fa16efbd",
   "metadata": {
    "scrolled": false
   },
   "outputs": [],
   "source": [
    "import numpy as np\n",
    "from matplotlib import pyplot as plt\n",
    "plt.rcParams[\"figure.figsize\"] = [7.00, 3.50]\n",
    "plt.rcParams[\"figure.autolayout\"] = True\n",
    "plt.subplot(211)\n",
    "data = experiments_Bloc_df['average_activation_time'].tolist()\n",
    "y, binEdges = np.histogram(data, bins=4)\n",
    "plt.hist(data, bins=4, edgecolor='black')\n",
    "plt.subplot(212)\n",
    "bincenters = (binEdges[1:] + binEdges[:-1])\n",
    "plt.plot(bincenters, y, '-', c='black')\n",
    "plt.show()"
   ]
  },
  {
   "cell_type": "code",
   "execution_count": null,
   "id": "70296045",
   "metadata": {},
   "outputs": [],
   "source": [
    "experiments_Bloc_df['average_activation_time'].to_csv(\"Bloc_Information_Cascade_EXP2.csv\")"
   ]
  },
  {
   "cell_type": "code",
   "execution_count": 261,
   "id": "09800c85",
   "metadata": {},
   "outputs": [],
   "source": [
    "def run_cascade_metrics(name, starting_nodes):\n",
    "    experiments = []\n",
    "    for i in range(1,1000):\n",
    "        t5 = information_cascade(G,5,starting_nodes)\n",
    "        experiment = pd.DataFrame.from_dict(t5, orient='index',\n",
    "                           columns=[ \"activation_time_exp_{}\".format(i)])\n",
    "        experiments.append(experiment)\n",
    "    \n",
    "    experiments_df = experiments[0]\n",
    "\n",
    "    for i in range (1, 999):\n",
    "        experiments_df = pd.merge(experiments[i], experiments_Bloc_df, left_index=True, right_index=True, how='outer')\n",
    "    \n",
    "    experiments_df['{}_average_activation_time'.format(name)] = experiments_df.mean(axis=1)\n",
    "    experiments_df['{}_average_activation_time'.format(name)] = experiments_df['{}_average_activation_time'.format(name)].apply(np.floor)\n",
    "    return experiments_df[['{}_average_activation_time'.format(name)]]"
   ]
  },
  {
   "cell_type": "code",
   "execution_count": 263,
   "id": "8212c476",
   "metadata": {},
   "outputs": [
    {
     "data": {
      "text/html": [
       "<div>\n",
       "<style scoped>\n",
       "    .dataframe tbody tr th:only-of-type {\n",
       "        vertical-align: middle;\n",
       "    }\n",
       "\n",
       "    .dataframe tbody tr th {\n",
       "        vertical-align: top;\n",
       "    }\n",
       "\n",
       "    .dataframe thead th {\n",
       "        text-align: right;\n",
       "    }\n",
       "</style>\n",
       "<table border=\"1\" class=\"dataframe\">\n",
       "  <thead>\n",
       "    <tr style=\"text-align: right;\">\n",
       "      <th></th>\n",
       "      <th>test_average_activation_time</th>\n",
       "    </tr>\n",
       "  </thead>\n",
       "  <tbody>\n",
       "    <tr>\n",
       "      <th>12220452</th>\n",
       "      <td>1.0</td>\n",
       "    </tr>\n",
       "    <tr>\n",
       "      <th>16014404</th>\n",
       "      <td>0.0</td>\n",
       "    </tr>\n",
       "    <tr>\n",
       "      <th>16213179</th>\n",
       "      <td>2.0</td>\n",
       "    </tr>\n",
       "    <tr>\n",
       "      <th>16450356</th>\n",
       "      <td>1.0</td>\n",
       "    </tr>\n",
       "    <tr>\n",
       "      <th>17721863</th>\n",
       "      <td>1.0</td>\n",
       "    </tr>\n",
       "    <tr>\n",
       "      <th>...</th>\n",
       "      <td>...</td>\n",
       "    </tr>\n",
       "    <tr>\n",
       "      <th>1435677654699675654</th>\n",
       "      <td>3.0</td>\n",
       "    </tr>\n",
       "    <tr>\n",
       "      <th>1437734637531504644</th>\n",
       "      <td>1.0</td>\n",
       "    </tr>\n",
       "    <tr>\n",
       "      <th>1439240496921161733</th>\n",
       "      <td>1.0</td>\n",
       "    </tr>\n",
       "    <tr>\n",
       "      <th>1440532151582134272</th>\n",
       "      <td>1.0</td>\n",
       "    </tr>\n",
       "    <tr>\n",
       "      <th>1440664285210767367</th>\n",
       "      <td>1.0</td>\n",
       "    </tr>\n",
       "  </tbody>\n",
       "</table>\n",
       "<p>230 rows × 1 columns</p>\n",
       "</div>"
      ],
      "text/plain": [
       "                     test_average_activation_time\n",
       "12220452                                      1.0\n",
       "16014404                                      0.0\n",
       "16213179                                      2.0\n",
       "16450356                                      1.0\n",
       "17721863                                      1.0\n",
       "...                                           ...\n",
       "1435677654699675654                           3.0\n",
       "1437734637531504644                           1.0\n",
       "1439240496921161733                           1.0\n",
       "1440532151582134272                           1.0\n",
       "1440664285210767367                           1.0\n",
       "\n",
       "[230 rows x 1 columns]"
      ]
     },
     "execution_count": 263,
     "metadata": {},
     "output_type": "execute_result"
    }
   ],
   "source": [
    "run_cascade_metrics(\"test\",Bloc_starters )"
   ]
  },
  {
   "cell_type": "markdown",
   "id": "fd7b56cb",
   "metadata": {},
   "source": [
    "## Function for null model Runs"
   ]
  },
  {
   "cell_type": "code",
   "execution_count": 266,
   "id": "143025ff",
   "metadata": {},
   "outputs": [
    {
     "data": {
      "text/html": [
       "<div>\n",
       "<style scoped>\n",
       "    .dataframe tbody tr th:only-of-type {\n",
       "        vertical-align: middle;\n",
       "    }\n",
       "\n",
       "    .dataframe tbody tr th {\n",
       "        vertical-align: top;\n",
       "    }\n",
       "\n",
       "    .dataframe thead th {\n",
       "        text-align: right;\n",
       "    }\n",
       "</style>\n",
       "<table border=\"1\" class=\"dataframe\">\n",
       "  <thead>\n",
       "    <tr style=\"text-align: right;\">\n",
       "      <th></th>\n",
       "      <th>liberal_average_activation_time</th>\n",
       "      <th>conservative_average_activation_time</th>\n",
       "      <th>ndp_average_activation_time</th>\n",
       "      <th>lgbt_average_activation_time</th>\n",
       "      <th>bloq_average_activation_time</th>\n",
       "    </tr>\n",
       "  </thead>\n",
       "  <tbody>\n",
       "    <tr>\n",
       "      <th>12220452</th>\n",
       "      <td>1.0</td>\n",
       "      <td>1.0</td>\n",
       "      <td>1.0</td>\n",
       "      <td>1.0</td>\n",
       "      <td>1.0</td>\n",
       "    </tr>\n",
       "    <tr>\n",
       "      <th>16014404</th>\n",
       "      <td>0.0</td>\n",
       "      <td>0.0</td>\n",
       "      <td>0.0</td>\n",
       "      <td>0.0</td>\n",
       "      <td>0.0</td>\n",
       "    </tr>\n",
       "    <tr>\n",
       "      <th>16213179</th>\n",
       "      <td>2.0</td>\n",
       "      <td>2.0</td>\n",
       "      <td>2.0</td>\n",
       "      <td>2.0</td>\n",
       "      <td>2.0</td>\n",
       "    </tr>\n",
       "    <tr>\n",
       "      <th>16450356</th>\n",
       "      <td>1.0</td>\n",
       "      <td>1.0</td>\n",
       "      <td>1.0</td>\n",
       "      <td>1.0</td>\n",
       "      <td>1.0</td>\n",
       "    </tr>\n",
       "    <tr>\n",
       "      <th>17721863</th>\n",
       "      <td>1.0</td>\n",
       "      <td>1.0</td>\n",
       "      <td>1.0</td>\n",
       "      <td>1.0</td>\n",
       "      <td>1.0</td>\n",
       "    </tr>\n",
       "    <tr>\n",
       "      <th>...</th>\n",
       "      <td>...</td>\n",
       "      <td>...</td>\n",
       "      <td>...</td>\n",
       "      <td>...</td>\n",
       "      <td>...</td>\n",
       "    </tr>\n",
       "    <tr>\n",
       "      <th>1435677654699675654</th>\n",
       "      <td>3.0</td>\n",
       "      <td>3.0</td>\n",
       "      <td>3.0</td>\n",
       "      <td>3.0</td>\n",
       "      <td>3.0</td>\n",
       "    </tr>\n",
       "    <tr>\n",
       "      <th>1437734637531504644</th>\n",
       "      <td>1.0</td>\n",
       "      <td>1.0</td>\n",
       "      <td>1.0</td>\n",
       "      <td>1.0</td>\n",
       "      <td>1.0</td>\n",
       "    </tr>\n",
       "    <tr>\n",
       "      <th>1439240496921161733</th>\n",
       "      <td>1.0</td>\n",
       "      <td>1.0</td>\n",
       "      <td>1.0</td>\n",
       "      <td>1.0</td>\n",
       "      <td>1.0</td>\n",
       "    </tr>\n",
       "    <tr>\n",
       "      <th>1440532151582134272</th>\n",
       "      <td>1.0</td>\n",
       "      <td>1.0</td>\n",
       "      <td>1.0</td>\n",
       "      <td>1.0</td>\n",
       "      <td>1.0</td>\n",
       "    </tr>\n",
       "    <tr>\n",
       "      <th>1440664285210767367</th>\n",
       "      <td>1.0</td>\n",
       "      <td>1.0</td>\n",
       "      <td>1.0</td>\n",
       "      <td>1.0</td>\n",
       "      <td>1.0</td>\n",
       "    </tr>\n",
       "  </tbody>\n",
       "</table>\n",
       "<p>262 rows × 5 columns</p>\n",
       "</div>"
      ],
      "text/plain": [
       "                     liberal_average_activation_time  \\\n",
       "12220452                                         1.0   \n",
       "16014404                                         0.0   \n",
       "16213179                                         2.0   \n",
       "16450356                                         1.0   \n",
       "17721863                                         1.0   \n",
       "...                                              ...   \n",
       "1435677654699675654                              3.0   \n",
       "1437734637531504644                              1.0   \n",
       "1439240496921161733                              1.0   \n",
       "1440532151582134272                              1.0   \n",
       "1440664285210767367                              1.0   \n",
       "\n",
       "                     conservative_average_activation_time  \\\n",
       "12220452                                              1.0   \n",
       "16014404                                              0.0   \n",
       "16213179                                              2.0   \n",
       "16450356                                              1.0   \n",
       "17721863                                              1.0   \n",
       "...                                                   ...   \n",
       "1435677654699675654                                   3.0   \n",
       "1437734637531504644                                   1.0   \n",
       "1439240496921161733                                   1.0   \n",
       "1440532151582134272                                   1.0   \n",
       "1440664285210767367                                   1.0   \n",
       "\n",
       "                     ndp_average_activation_time  \\\n",
       "12220452                                     1.0   \n",
       "16014404                                     0.0   \n",
       "16213179                                     2.0   \n",
       "16450356                                     1.0   \n",
       "17721863                                     1.0   \n",
       "...                                          ...   \n",
       "1435677654699675654                          3.0   \n",
       "1437734637531504644                          1.0   \n",
       "1439240496921161733                          1.0   \n",
       "1440532151582134272                          1.0   \n",
       "1440664285210767367                          1.0   \n",
       "\n",
       "                     lgbt_average_activation_time  \\\n",
       "12220452                                      1.0   \n",
       "16014404                                      0.0   \n",
       "16213179                                      2.0   \n",
       "16450356                                      1.0   \n",
       "17721863                                      1.0   \n",
       "...                                           ...   \n",
       "1435677654699675654                           3.0   \n",
       "1437734637531504644                           1.0   \n",
       "1439240496921161733                           1.0   \n",
       "1440532151582134272                           1.0   \n",
       "1440664285210767367                           1.0   \n",
       "\n",
       "                     bloq_average_activation_time  \n",
       "12220452                                      1.0  \n",
       "16014404                                      0.0  \n",
       "16213179                                      2.0  \n",
       "16450356                                      1.0  \n",
       "17721863                                      1.0  \n",
       "...                                           ...  \n",
       "1435677654699675654                           3.0  \n",
       "1437734637531504644                           1.0  \n",
       "1439240496921161733                           1.0  \n",
       "1440532151582134272                           1.0  \n",
       "1440664285210767367                           1.0  \n",
       "\n",
       "[262 rows x 5 columns]"
      ]
     },
     "execution_count": 266,
     "metadata": {},
     "output_type": "execute_result"
    }
   ],
   "source": [
    "from functools import reduce\n",
    "\n",
    "\n",
    "lib_cascade = run_cascade_metrics('liberal', [22849568, 2891740872])\n",
    "con_cascade = run_cascade_metrics('conservative', [1086084557009575936, 989311745100566529])\n",
    "ndp_cascade = run_cascade_metrics('ndp', [2715275551, 196717787])\n",
    "lgbt_cascade = run_cascade_metrics('lgbt', [294660973, 119925381])\n",
    "bloq_cascade = run_cascade_metrics('bloq', [1063494232126689280, 16014404])\n",
    "\n",
    "data_frames = [lib_cascade, con_cascade, ndp_cascade, lgbt_cascade, bloq_cascade]\n",
    "\n",
    "df_merged = reduce(lambda  left,right: pd.merge(left,right,left_index=True, right_index=True,\n",
    "                                            how='outer'), data_frames)\n",
    "\n",
    "df_merged"
   ]
  },
  {
   "cell_type": "code",
   "execution_count": 267,
   "id": "51185bb7",
   "metadata": {},
   "outputs": [
    {
     "data": {
      "text/html": [
       "<div>\n",
       "<style scoped>\n",
       "    .dataframe tbody tr th:only-of-type {\n",
       "        vertical-align: middle;\n",
       "    }\n",
       "\n",
       "    .dataframe tbody tr th {\n",
       "        vertical-align: top;\n",
       "    }\n",
       "\n",
       "    .dataframe thead th {\n",
       "        text-align: right;\n",
       "    }\n",
       "</style>\n",
       "<table border=\"1\" class=\"dataframe\">\n",
       "  <thead>\n",
       "    <tr style=\"text-align: right;\">\n",
       "      <th></th>\n",
       "      <th>liberal_average_activation_time</th>\n",
       "      <th>conservative_average_activation_time</th>\n",
       "      <th>ndp_average_activation_time</th>\n",
       "      <th>lgbt_average_activation_time</th>\n",
       "      <th>bloq_average_activation_time</th>\n",
       "    </tr>\n",
       "  </thead>\n",
       "  <tbody>\n",
       "    <tr>\n",
       "      <th>count</th>\n",
       "      <td>242.000000</td>\n",
       "      <td>234.000000</td>\n",
       "      <td>241.000000</td>\n",
       "      <td>235.000000</td>\n",
       "      <td>230.000000</td>\n",
       "    </tr>\n",
       "    <tr>\n",
       "      <th>mean</th>\n",
       "      <td>1.165289</td>\n",
       "      <td>1.170940</td>\n",
       "      <td>1.165975</td>\n",
       "      <td>1.170213</td>\n",
       "      <td>1.182609</td>\n",
       "    </tr>\n",
       "    <tr>\n",
       "      <th>std</th>\n",
       "      <td>0.452693</td>\n",
       "      <td>0.459345</td>\n",
       "      <td>0.453509</td>\n",
       "      <td>0.458498</td>\n",
       "      <td>0.449796</td>\n",
       "    </tr>\n",
       "    <tr>\n",
       "      <th>min</th>\n",
       "      <td>0.000000</td>\n",
       "      <td>0.000000</td>\n",
       "      <td>0.000000</td>\n",
       "      <td>0.000000</td>\n",
       "      <td>0.000000</td>\n",
       "    </tr>\n",
       "    <tr>\n",
       "      <th>25%</th>\n",
       "      <td>1.000000</td>\n",
       "      <td>1.000000</td>\n",
       "      <td>1.000000</td>\n",
       "      <td>1.000000</td>\n",
       "      <td>1.000000</td>\n",
       "    </tr>\n",
       "    <tr>\n",
       "      <th>50%</th>\n",
       "      <td>1.000000</td>\n",
       "      <td>1.000000</td>\n",
       "      <td>1.000000</td>\n",
       "      <td>1.000000</td>\n",
       "      <td>1.000000</td>\n",
       "    </tr>\n",
       "    <tr>\n",
       "      <th>75%</th>\n",
       "      <td>1.000000</td>\n",
       "      <td>1.000000</td>\n",
       "      <td>1.000000</td>\n",
       "      <td>1.000000</td>\n",
       "      <td>1.000000</td>\n",
       "    </tr>\n",
       "    <tr>\n",
       "      <th>max</th>\n",
       "      <td>3.000000</td>\n",
       "      <td>3.000000</td>\n",
       "      <td>3.000000</td>\n",
       "      <td>3.000000</td>\n",
       "      <td>3.000000</td>\n",
       "    </tr>\n",
       "  </tbody>\n",
       "</table>\n",
       "</div>"
      ],
      "text/plain": [
       "       liberal_average_activation_time  conservative_average_activation_time  \\\n",
       "count                       242.000000                            234.000000   \n",
       "mean                          1.165289                              1.170940   \n",
       "std                           0.452693                              0.459345   \n",
       "min                           0.000000                              0.000000   \n",
       "25%                           1.000000                              1.000000   \n",
       "50%                           1.000000                              1.000000   \n",
       "75%                           1.000000                              1.000000   \n",
       "max                           3.000000                              3.000000   \n",
       "\n",
       "       ndp_average_activation_time  lgbt_average_activation_time  \\\n",
       "count                   241.000000                    235.000000   \n",
       "mean                      1.165975                      1.170213   \n",
       "std                       0.453509                      0.458498   \n",
       "min                       0.000000                      0.000000   \n",
       "25%                       1.000000                      1.000000   \n",
       "50%                       1.000000                      1.000000   \n",
       "75%                       1.000000                      1.000000   \n",
       "max                       3.000000                      3.000000   \n",
       "\n",
       "       bloq_average_activation_time  \n",
       "count                    230.000000  \n",
       "mean                       1.182609  \n",
       "std                        0.449796  \n",
       "min                        0.000000  \n",
       "25%                        1.000000  \n",
       "50%                        1.000000  \n",
       "75%                        1.000000  \n",
       "max                        3.000000  "
      ]
     },
     "execution_count": 267,
     "metadata": {},
     "output_type": "execute_result"
    }
   ],
   "source": [
    "df_merged.describe()"
   ]
  },
  {
   "cell_type": "code",
   "execution_count": null,
   "id": "d361ddc5",
   "metadata": {},
   "outputs": [],
   "source": []
  }
 ],
 "metadata": {
  "kernelspec": {
   "display_name": "Python 3 (ipykernel)",
   "language": "python",
   "name": "python3"
  },
  "language_info": {
   "codemirror_mode": {
    "name": "ipython",
    "version": 3
   },
   "file_extension": ".py",
   "mimetype": "text/x-python",
   "name": "python",
   "nbconvert_exporter": "python",
   "pygments_lexer": "ipython3",
   "version": "3.7.9"
  }
 },
 "nbformat": 4,
 "nbformat_minor": 5
}
