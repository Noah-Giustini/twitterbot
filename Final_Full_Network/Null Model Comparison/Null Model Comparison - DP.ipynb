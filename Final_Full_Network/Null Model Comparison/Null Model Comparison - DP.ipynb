{
 "cells": [
  {
   "cell_type": "markdown",
   "id": "c1302d24",
   "metadata": {},
   "source": [
    "# Degree Preserving Model Comparison"
   ]
  },
  {
   "cell_type": "code",
   "execution_count": 13,
   "id": "9b55f2f8",
   "metadata": {},
   "outputs": [],
   "source": [
    "import numpy as np\n",
    "import networkx as nx\n",
    "import matplotlib.pyplot as plt\n",
    "import matplotlib as mpl\n",
    "%matplotlib inline\n",
    "\n",
    "import pandas as pd\n",
    "import csv"
   ]
  },
  {
   "cell_type": "code",
   "execution_count": 9,
   "id": "aa010625",
   "metadata": {},
   "outputs": [],
   "source": [
    "G = nx.read_edgelist('../networkx_format_network.txt', comments='#',\n",
    "                     create_using=nx.DiGraph(), \n",
    "                     delimiter=',', \n",
    "                     nodetype=int, \n",
    "                     encoding='utf-8')"
   ]
  },
  {
   "cell_type": "code",
   "execution_count": 24,
   "id": "d13eabfe",
   "metadata": {},
   "outputs": [],
   "source": [
    "G_undirected = nx.read_edgelist('../networkx_format_network.txt', comments='#',\n",
    "                     create_using=nx.Graph(), \n",
    "                     delimiter=',', \n",
    "                     nodetype=int, \n",
    "                     encoding='utf-8')"
   ]
  },
  {
   "cell_type": "code",
   "execution_count": 10,
   "id": "1da1bbff",
   "metadata": {},
   "outputs": [],
   "source": [
    "from networkx.generators.degree_seq import expected_degree_graph\n",
    "\n",
    "\n",
    "DP_G = expected_degree_graph([deg for (_, deg) in G.degree()], selfloops=True)"
   ]
  },
  {
   "cell_type": "code",
   "execution_count": 11,
   "id": "debb7d46",
   "metadata": {},
   "outputs": [
    {
     "name": "stdout",
     "output_type": "stream",
     "text": [
      "Number of nodes:  8954\n",
      "Number of edges:  13871\n",
      "\n",
      "Average degree:  3.098280098280098\n",
      "Average degree (alternate calculation) 3.098280098280098\n",
      "\n",
      "Minimum degree:  0\n",
      "Maximum degree:  322\n"
     ]
    }
   ],
   "source": [
    "N_DP = len(DP_G)\n",
    "L_DP = DP_G.size()\n",
    "degrees_dp = [DP_G.degree(node) for node in DP_G]\n",
    "kmin_dp = min(degrees_dp)\n",
    "kmax_dp = max(degrees_dp)\n",
    "\n",
    "print(\"Number of nodes: \", N_DP)\n",
    "print(\"Number of edges: \", L_DP)\n",
    "print()\n",
    "print(\"Average degree: \", 2*L_DP/N_DP)\n",
    "print(\"Average degree (alternate calculation)\", np.mean(degrees_dp))\n",
    "print()\n",
    "print(\"Minimum degree: \", kmin_dp)\n",
    "print(\"Maximum degree: \", kmax_dp)"
   ]
  },
  {
   "cell_type": "markdown",
   "id": "b72b214d",
   "metadata": {},
   "source": [
    "## Do This 100 times and compare"
   ]
  },
  {
   "cell_type": "code",
   "execution_count": 29,
   "id": "12e5970a",
   "metadata": {},
   "outputs": [],
   "source": [
    "clustering_coefs= []\n",
    "transitivity_metrics = []\n",
    "\n",
    "for i in range(100):    \n",
    "    DP_G = expected_degree_graph([deg for (_, deg) in G.degree()], selfloops=True)\n",
    "    degrees_dp = [DP_G.degree(node) for node in DP_G]\n",
    "    avg_k = np.mean(degrees_dp)\n",
    "\n",
    "    #Then run the calculate metrics here \n",
    "    transitivity_metrics.append(nx.transitivity(DP_G))\n",
    "    clustering_coefs.append(nx.average_clustering(DP_G))\n",
    "    # Persist the node degrees to a csv\n",
    "    degrees = [DP_G.degree(node) for node in DP_G]\n",
    "    clustering = [nx.clustering(DP_G, node) for node in DP_G]\n",
    "\n",
    "    with open('dp_degrees_1.csv', mode='a', newline='') as f:\n",
    "            csv_writer = csv.writer(f, delimiter=',', quotechar='\"', quoting=csv.QUOTE_MINIMAL)\n",
    "            csv_writer.writerow(degrees) \n",
    "            \n",
    "    with open('dp_clustering_1.csv', mode='a', newline='') as f:\n",
    "        csv_writer = csv.writer(f, delimiter=',', quotechar='\"', quoting=csv.QUOTE_MINIMAL)\n",
    "        csv_writer.writerow(clustering) \n",
    "                \n",
    "\n",
    "                "
   ]
  },
  {
   "cell_type": "code",
   "execution_count": 30,
   "id": "45530c0b",
   "metadata": {},
   "outputs": [],
   "source": [
    "c  = pd.DataFrame(clustering_coefs)\n",
    "t = pd.DataFrame(transitivity_metrics)\n",
    "\n",
    "c.to_csv(\"dp_clustering.csv\")\n",
    "t.to_csv(\"dp_transitivity.csv\")"
   ]
  },
  {
   "cell_type": "code",
   "execution_count": 31,
   "id": "261be83b",
   "metadata": {},
   "outputs": [],
   "source": [
    "#load the Data in from Pandas and average it\n",
    "c_df = pd.read_csv(\"dp_clustering.csv\")\n",
    "t_df = pd.read_csv(\"dp_transitivity.csv\")"
   ]
  },
  {
   "cell_type": "code",
   "execution_count": 32,
   "id": "a75cceb8",
   "metadata": {},
   "outputs": [
    {
     "data": {
      "text/html": [
       "<div>\n",
       "<style scoped>\n",
       "    .dataframe tbody tr th:only-of-type {\n",
       "        vertical-align: middle;\n",
       "    }\n",
       "\n",
       "    .dataframe tbody tr th {\n",
       "        vertical-align: top;\n",
       "    }\n",
       "\n",
       "    .dataframe thead th {\n",
       "        text-align: right;\n",
       "    }\n",
       "</style>\n",
       "<table border=\"1\" class=\"dataframe\">\n",
       "  <thead>\n",
       "    <tr style=\"text-align: right;\">\n",
       "      <th></th>\n",
       "      <th>Unnamed: 0</th>\n",
       "      <th>0</th>\n",
       "    </tr>\n",
       "  </thead>\n",
       "  <tbody>\n",
       "    <tr>\n",
       "      <th>0</th>\n",
       "      <td>0</td>\n",
       "      <td>0.044221</td>\n",
       "    </tr>\n",
       "    <tr>\n",
       "      <th>1</th>\n",
       "      <td>1</td>\n",
       "      <td>0.041587</td>\n",
       "    </tr>\n",
       "    <tr>\n",
       "      <th>2</th>\n",
       "      <td>2</td>\n",
       "      <td>0.045878</td>\n",
       "    </tr>\n",
       "    <tr>\n",
       "      <th>3</th>\n",
       "      <td>3</td>\n",
       "      <td>0.043583</td>\n",
       "    </tr>\n",
       "    <tr>\n",
       "      <th>4</th>\n",
       "      <td>4</td>\n",
       "      <td>0.045137</td>\n",
       "    </tr>\n",
       "  </tbody>\n",
       "</table>\n",
       "</div>"
      ],
      "text/plain": [
       "   Unnamed: 0         0\n",
       "0           0  0.044221\n",
       "1           1  0.041587\n",
       "2           2  0.045878\n",
       "3           3  0.043583\n",
       "4           4  0.045137"
      ]
     },
     "execution_count": 32,
     "metadata": {},
     "output_type": "execute_result"
    }
   ],
   "source": [
    "c_df.head()"
   ]
  },
  {
   "cell_type": "code",
   "execution_count": 33,
   "id": "ae8d7b1d",
   "metadata": {},
   "outputs": [
    {
     "data": {
      "text/plain": [
       "0.04316290458763149"
      ]
     },
     "execution_count": 33,
     "metadata": {},
     "output_type": "execute_result"
    }
   ],
   "source": [
    "c_df[\"0\"].mean()"
   ]
  },
  {
   "cell_type": "code",
   "execution_count": 34,
   "id": "d06ff06d",
   "metadata": {},
   "outputs": [
    {
     "data": {
      "text/plain": [
       "0.09435404013750476"
      ]
     },
     "execution_count": 34,
     "metadata": {},
     "output_type": "execute_result"
    }
   ],
   "source": [
    "t_df[\"0\"].mean()"
   ]
  },
  {
   "cell_type": "code",
   "execution_count": 35,
   "id": "ce11cef9",
   "metadata": {},
   "outputs": [
    {
     "data": {
      "text/plain": [
       "0.020056849493865474"
      ]
     },
     "execution_count": 35,
     "metadata": {},
     "output_type": "execute_result"
    }
   ],
   "source": [
    "#Actual Graph Transitivity\n",
    "nx.transitivity(G)"
   ]
  },
  {
   "cell_type": "code",
   "execution_count": 36,
   "id": "6ea64f67",
   "metadata": {},
   "outputs": [
    {
     "data": {
      "text/plain": [
       "0.009245250908573041"
      ]
     },
     "execution_count": 36,
     "metadata": {},
     "output_type": "execute_result"
    }
   ],
   "source": [
    "#Actual Graph Cluster Coefficient \n",
    "nx.average_clustering(G)"
   ]
  },
  {
   "cell_type": "code",
   "execution_count": 37,
   "id": "0a567699",
   "metadata": {},
   "outputs": [
    {
     "data": {
      "text/plain": [
       "0.016744035180022453"
      ]
     },
     "execution_count": 37,
     "metadata": {},
     "output_type": "execute_result"
    }
   ],
   "source": [
    "#Actual Graph Cluster Coefficient \n",
    "nx.average_clustering(G_undirected)"
   ]
  },
  {
   "cell_type": "code",
   "execution_count": 38,
   "id": "a8354f2d",
   "metadata": {},
   "outputs": [
    {
     "data": {
      "text/plain": [
       "0.004707779939921785"
      ]
     },
     "execution_count": 38,
     "metadata": {},
     "output_type": "execute_result"
    }
   ],
   "source": [
    "#Actual Graph Transitivity\n",
    "nx.transitivity(G_undirected)"
   ]
  },
  {
   "cell_type": "code",
   "execution_count": null,
   "id": "2d3f676e",
   "metadata": {},
   "outputs": [],
   "source": []
  }
 ],
 "metadata": {
  "kernelspec": {
   "display_name": "Python 3 (ipykernel)",
   "language": "python",
   "name": "python3"
  },
  "language_info": {
   "codemirror_mode": {
    "name": "ipython",
    "version": 3
   },
   "file_extension": ".py",
   "mimetype": "text/x-python",
   "name": "python",
   "nbconvert_exporter": "python",
   "pygments_lexer": "ipython3",
   "version": "3.7.9"
  }
 },
 "nbformat": 4,
 "nbformat_minor": 5
}
