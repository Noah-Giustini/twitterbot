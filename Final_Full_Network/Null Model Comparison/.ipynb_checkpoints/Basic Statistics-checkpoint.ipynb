{
 "cells": [
  {
   "cell_type": "markdown",
   "id": "f8398f65",
   "metadata": {},
   "source": [
    "# Directed Null Model Generation"
   ]
  },
  {
   "cell_type": "code",
   "execution_count": 1,
   "id": "dce84996",
   "metadata": {},
   "outputs": [],
   "source": [
    "import pandas as pd\n",
    "import networkx as nx\n",
    "import matplotlib.pyplot as plt\n",
    "import matplotlib as mpl\n",
    "import numpy as np\n",
    "\n",
    "import math\n",
    "\n",
    "%matplotlib inline"
   ]
  },
  {
   "cell_type": "code",
   "execution_count": 2,
   "id": "4606c685",
   "metadata": {},
   "outputs": [],
   "source": [
    "G = nx.read_edgelist('largest_component_networkx_format.csv', comments='#',\n",
    "                     create_using=nx.DiGraph(), \n",
    "                     delimiter=',', \n",
    "                     nodetype=int, \n",
    "                     encoding='utf-8')"
   ]
  },
  {
   "cell_type": "markdown",
   "id": "cb599b2f",
   "metadata": {},
   "source": [
    "## Basic Features of this Network"
   ]
  },
  {
   "cell_type": "code",
   "execution_count": 3,
   "id": "e5ef395f",
   "metadata": {},
   "outputs": [],
   "source": [
    "N = len(G)\n",
    "L = G.size()\n",
    "degrees = [G.degree(node) for node in G]\n",
    "kmin = min(degrees)\n",
    "kmax = max(degrees)\n",
    "\n",
    "in_degree = [G.in_degree(node) for node in G]\n",
    "out_degree = [G.out_degree(node) for node in G]\n",
    "\n",
    "kmin_in = min(in_degree)\n",
    "kmax_in = max(in_degree)\n",
    "\n",
    "kmin_out = min(out_degree)\n",
    "kmax_out = max(out_degree)\n"
   ]
  },
  {
   "cell_type": "code",
   "execution_count": 4,
   "id": "2401cf0f",
   "metadata": {},
   "outputs": [
    {
     "name": "stdout",
     "output_type": "stream",
     "text": [
      "Number of nodes:  8932\n",
      "Number of edges:  14001\n",
      "\n",
      "Average degree:  3.1350201522615317\n",
      "Average degree (alternate calculation) 3.1350201522615317\n",
      "\n",
      "Minimum degree:  1\n",
      "Maximum degree:  381\n",
      "Average in-degree  1.5675100761307659\n",
      "\n",
      "Minimum in-degree:  0\n",
      "Maximum in-degree:  378\n",
      "Average out-degree  1.5675100761307659\n",
      "\n",
      "Minimum out-degree:  0\n",
      "Maximum out-degree:  105\n"
     ]
    }
   ],
   "source": [
    "print(\"Number of nodes: \", N)\n",
    "print(\"Number of edges: \", L)\n",
    "print()\n",
    "print(\"Average degree: \", 2*L/N)\n",
    "print(\"Average degree (alternate calculation)\", np.mean(degrees))\n",
    "print()\n",
    "print(\"Minimum degree: \", kmin)\n",
    "print(\"Maximum degree: \", kmax)\n",
    "\n",
    "print(\"Average in-degree \", np.mean(in_degree))\n",
    "print()\n",
    "print(\"Minimum in-degree: \", kmin_in)\n",
    "print(\"Maximum in-degree: \", kmax_in)\n",
    "\n",
    "print(\"Average out-degree \", np.mean(out_degree))\n",
    "print()\n",
    "print(\"Minimum out-degree: \", kmin_out)\n",
    "print(\"Maximum out-degree: \", kmax_out)\n",
    "\n",
    "\n"
   ]
  },
  {
   "cell_type": "code",
   "execution_count": null,
   "id": "688c9e57",
   "metadata": {},
   "outputs": [],
   "source": []
  },
  {
   "cell_type": "code",
   "execution_count": 5,
   "id": "77100ceb",
   "metadata": {},
   "outputs": [
    {
     "data": {
      "image/png": "[encoded data removed]",
      "text/plain": [
       "<Figure size 432x288 with 1 Axes>"
      ]
     },
     "metadata": {
      "needs_background": "light"
     },
     "output_type": "display_data"
    }
   ],
   "source": [
    "# Get 10 logarithmically spaced bins between kmin and kmax\n",
    "bin_edges = np.logspace(np.log10(kmin), np.log10(kmax), num=10)\n",
    "\n",
    "# histogram the data into these bins\n",
    "density, _ = np.histogram(degrees, bins=bin_edges, density=True)\n",
    "\n",
    "fig = plt.figure(figsize=(6,4))\n",
    "\n",
    "# \"x\" should be midpoint (IN LOG SPACE) of each bin\n",
    "log_be = np.log10(bin_edges)\n",
    "x = 10**((log_be[1:] + log_be[:-1])/2)\n",
    "\n",
    "\n",
    "plt.loglog(x, density, marker='o', linestyle='none')\n",
    "plt.xlabel(r\"degree $k$\", fontsize=16)\n",
    "plt.ylabel(r\"$P(k)$\", fontsize=16)\n",
    "\n",
    "# remove right and top boundaries because they're ugly\n",
    "ax = plt.gca()\n",
    "ax.spines['right'].set_visible(False)\n",
    "ax.spines['top'].set_visible(False)\n",
    "ax.yaxis.set_ticks_position('left')\n",
    "ax.xaxis.set_ticks_position('bottom')\n",
    "\n",
    "# Show the plot\n",
    "plt.show()"
   ]
  },
  {
   "cell_type": "code",
   "execution_count": 6,
   "id": "939eb4c2",
   "metadata": {},
   "outputs": [
    {
     "data": {
      "image/png": "[encoded data removed]",
      "text/plain": [
       "<Figure size 432x288 with 1 Axes>"
      ]
     },
     "metadata": {
      "needs_background": "light"
     },
     "output_type": "display_data"
    }
   ],
   "source": [
    "# Get 10 logarithmically spaced bins between kmin and kmax\n",
    "bin_edges = np.logspace(np.log10(kmin), np.log10(kmax), num=10)\n",
    "\n",
    "# histogram the data into these bins\n",
    "in_density, _ = np.histogram(in_degree, bins=bin_edges, density=True)\n",
    "\n",
    "fig = plt.figure(figsize=(6,4))\n",
    "\n",
    "# \"x\" should be midpoint (IN LOG SPACE) of each bin\n",
    "log_be = np.log10(bin_edges)\n",
    "x = 10**((log_be[1:] + log_be[:-1])/2)\n",
    "\n",
    "\n",
    "plt.loglog(x, in_density, marker='o', linestyle='none')\n",
    "plt.xlabel(r\"in degree $k$\", fontsize=16)\n",
    "plt.ylabel(r\"$P(k)$\", fontsize=16)\n",
    "\n",
    "# remove right and top boundaries because they're ugly\n",
    "ax = plt.gca()\n",
    "ax.spines['right'].set_visible(False)\n",
    "ax.spines['top'].set_visible(False)\n",
    "ax.yaxis.set_ticks_position('left')\n",
    "ax.xaxis.set_ticks_position('bottom')\n",
    "\n",
    "# Show the plot\n",
    "plt.show()"
   ]
  },
  {
   "cell_type": "code",
   "execution_count": 7,
   "id": "d6bc58d9",
   "metadata": {},
   "outputs": [
    {
     "data": {
      "image/png": "[encoded data removed]",
      "text/plain": [
       "<Figure size 432x288 with 1 Axes>"
      ]
     },
     "metadata": {
      "needs_background": "light"
     },
     "output_type": "display_data"
    }
   ],
   "source": [
    "# Get 10 logarithmically spaced bins between kmin and kmax\n",
    "bin_edges = np.logspace(np.log10(kmin), np.log10(kmax), num=10)\n",
    "\n",
    "# histogram the data into these bins\n",
    "out_density, _ = np.histogram(out_degree, bins=bin_edges, density=True)\n",
    "\n",
    "fig = plt.figure(figsize=(6,4))\n",
    "\n",
    "# \"x\" should be midpoint (IN LOG SPACE) of each bin\n",
    "log_be = np.log10(bin_edges)\n",
    "x = 10**((log_be[1:] + log_be[:-1])/2)\n",
    "\n",
    "\n",
    "plt.loglog(x, out_density, marker='o', linestyle='none')\n",
    "plt.xlabel(r\"out degree $k$\", fontsize=16)\n",
    "plt.ylabel(r\"$P(k)$\", fontsize=16)\n",
    "\n",
    "# remove right and top boundaries because they're ugly\n",
    "ax = plt.gca()\n",
    "ax.spines['right'].set_visible(False)\n",
    "ax.spines['top'].set_visible(False)\n",
    "ax.yaxis.set_ticks_position('left')\n",
    "ax.xaxis.set_ticks_position('bottom')\n",
    "\n",
    "# Show the plot\n",
    "plt.show()"
   ]
  },
  {
   "cell_type": "code",
   "execution_count": 8,
   "id": "e7f1c8c5",
   "metadata": {},
   "outputs": [
    {
     "name": "stdout",
     "output_type": "stream",
     "text": [
      "0.0012293584044826328\n",
      "0.009608690028807564\n"
     ]
    }
   ],
   "source": [
    "def persist_first_to_csv(centrality_dict, filename,columnname):\n",
    "    curr = pd.DataFrame.from_dict(centrality_dict, orient=\"index\", columns = [columnname])\n",
    "    curr.to_csv(filename)\n",
    "    \n",
    "    \n",
    "groupname = \"RealNetwork\"\n",
    "\n",
    "clustering_filename = \"{}_avg_clustering.csv\".format(groupname)\n",
    "\n",
    "apl_filename = \"{}_apl.csv\".format(groupname)\n",
    "\n",
    "deg_cen_pd = \"{}_deg_cen_df.csv\".format(groupname)\n",
    "in_deg_cen_pd = \"{}_out_deg_cen_df.csv\".format(groupname)\n",
    "out_deg_cen_pd = \"{}_in_deg_cen_df.csv\".format(groupname)\n",
    "eigenvector_cen_pd = \"{}_eigenvector_cen_df.csv\".format(groupname)\n",
    "betweenness_cen_pd = \"{}_betweenness_cen_df.csv\".format(groupname)    \n",
    "clustering_pd = \"{}_clustering_df.csv\".format(groupname)\n",
    "\n",
    "filename = \"RealNetwork\"\n",
    "G = nx.read_edgelist(\"largest_component_networkx_format.csv\", comments='#',\n",
    "                     create_using=nx.DiGraph(), \n",
    "                     delimiter=',', \n",
    "                     nodetype=int, \n",
    "                     encoding='utf-8')\n",
    "print(nx.average_shortest_path_length(G))\n",
    "print(nx.average_clustering(G))\n",
    "\n",
    "persist_first_to_csv(nx.clustering(G),clustering_pd,filename)\n",
    "persist_first_to_csv(nx.degree_centrality(G),deg_cen_pd,filename)\n",
    "persist_first_to_csv(nx.in_degree_centrality(G),in_deg_cen_pd,filename)\n",
    "persist_first_to_csv(nx.out_degree_centrality(G),out_deg_cen_pd,filename)\n",
    "persist_first_to_csv(nx.eigenvector_centrality(G),eigenvector_cen_pd,filename)\n",
    "persist_first_to_csv(nx.betweenness_centrality(G,k=None, normalized=True),betweenness_cen_pd,filename)"
   ]
  },
  {
   "cell_type": "code",
   "execution_count": 9,
   "id": "ff78c389",
   "metadata": {},
   "outputs": [],
   "source": [
    "def degree_histogram_directed(G, in_degree=False, out_degree=False):\n",
    "    \"\"\"Return a list of the frequency of each degree value.\n",
    "\n",
    "    Parameters\n",
    "    ----------\n",
    "    G : Networkx graph\n",
    "       A graph\n",
    "    in_degree : bool\n",
    "    out_degree : bool\n",
    "\n",
    "    Returns\n",
    "    -------\n",
    "    hist : list\n",
    "       A list of frequencies of degrees.\n",
    "       The degree values are the index in the list.\n",
    "\n",
    "    Notes\n",
    "    -----\n",
    "    Note: the bins are width one, hence len(list) can be large\n",
    "    (Order(number_of_edges))\n",
    "    \"\"\"\n",
    "    nodes = G.nodes()\n",
    "    if in_degree:\n",
    "        in_degree = dict(G.in_degree())\n",
    "        degseq=[in_degree.get(k,0) for k in nodes]\n",
    "    elif out_degree:\n",
    "        out_degree = dict(G.out_degree())\n",
    "        degseq=[out_degree.get(k,0) for k in nodes]\n",
    "    else:\n",
    "        degseq=[v for k, v in G.degree()]\n",
    "    dmax=max(degseq)+1\n",
    "    freq= [ 0 for d in range(dmax) ]\n",
    "    for d in degseq:\n",
    "        freq[d] += 1\n",
    "    return freq"
   ]
  },
  {
   "cell_type": "markdown",
   "id": "6fd6880e",
   "metadata": {},
   "source": [
    "https://stackoverflow.com/questions/53958700/plotting-the-degree-distribution-of-a-graph-using-nx-degree-histogram"
   ]
  },
  {
   "cell_type": "code",
   "execution_count": 10,
   "id": "3431ff18",
   "metadata": {},
   "outputs": [
    {
     "data": {
      "text/plain": [
       "<matplotlib.legend.Legend at 0x17e1565af48>"
      ]
     },
     "execution_count": 10,
     "metadata": {},
     "output_type": "execute_result"
    },
    {
     "data": {
      "image/png": "[encoded data removed]",
      "text/plain": [
       "<Figure size 864x576 with 1 Axes>"
      ]
     },
     "metadata": {
      "needs_background": "light"
     },
     "output_type": "display_data"
    }
   ],
   "source": [
    "in_degree_freq = degree_histogram_directed(G, in_degree=True)\n",
    "out_degree_freq = degree_histogram_directed(G, out_degree=True)\n",
    "degrees = range(len(in_degree_freq))\n",
    "plt.figure(figsize=(12, 8)) \n",
    "plt.loglog(x, in_density, marker='o', linestyle='none', label=\"in degree\") \n",
    "plt.loglog(x, out_density, marker='o', linestyle='none', label = \"out_degree\")\n",
    "plt.xlabel(r\"degree $k$\", fontsize=16)\n",
    "plt.ylabel(r\"$P(k)$\", fontsize=16)\n",
    "\n",
    "\n",
    "plt.legend(loc=\"upper right\")"
   ]
  },
  {
   "cell_type": "code",
   "execution_count": 11,
   "id": "447953eb",
   "metadata": {},
   "outputs": [
    {
     "name": "stdout",
     "output_type": "stream",
     "text": [
      "0.0012293584044826328\n"
     ]
    }
   ],
   "source": [
    "print(nx.average_shortest_path_length(G))"
   ]
  },
  {
   "cell_type": "code",
   "execution_count": 12,
   "id": "e8ad9cf6",
   "metadata": {},
   "outputs": [
    {
     "name": "stdout",
     "output_type": "stream",
     "text": [
      "0.009608690028807564\n"
     ]
    }
   ],
   "source": [
    "print(nx.average_clustering(G))"
   ]
  },
  {
   "cell_type": "markdown",
   "id": "e5fb5734",
   "metadata": {},
   "source": [
    "# Plotting Betweenness "
   ]
  },
  {
   "cell_type": "code",
   "execution_count": 13,
   "id": "3d8c55a2",
   "metadata": {},
   "outputs": [
    {
     "ename": "NameError",
     "evalue": "name 'betweenness' is not defined",
     "output_type": "error",
     "traceback": [
      "\u001b[1;31m---------------------------------------------------------------------------\u001b[0m",
      "\u001b[1;31mNameError\u001b[0m                                 Traceback (most recent call last)",
      "\u001b[1;32m~\\AppData\\Local\\Temp/ipykernel_11436/4274437310.py\u001b[0m in \u001b[0;36m<module>\u001b[1;34m\u001b[0m\n\u001b[1;32m----> 1\u001b[1;33m \u001b[0mbetweenness\u001b[0m \u001b[1;33m=\u001b[0m \u001b[0mbetweenness\u001b[0m\u001b[1;33m.\u001b[0m\u001b[0mset_index\u001b[0m\u001b[1;33m(\u001b[0m\u001b[1;34m\"Unnamed: 0\"\u001b[0m\u001b[1;33m)\u001b[0m\u001b[1;33m\u001b[0m\u001b[1;33m\u001b[0m\u001b[0m\n\u001b[0m",
      "\u001b[1;31mNameError\u001b[0m: name 'betweenness' is not defined"
     ]
    }
   ],
   "source": [
    "betweenness = betweenness.set_index(\"Unnamed: 0\")"
   ]
  },
  {
   "cell_type": "code",
   "execution_count": null,
   "id": "c9ba7a92",
   "metadata": {},
   "outputs": [],
   "source": [
    "betweenness\n"
   ]
  },
  {
   "cell_type": "code",
   "execution_count": null,
   "id": "38d7ebfe",
   "metadata": {},
   "outputs": [],
   "source": [
    "betweenness['average'] = betweenness.mean(axis=1)"
   ]
  },
  {
   "cell_type": "code",
   "execution_count": null,
   "id": "9dc15701",
   "metadata": {},
   "outputs": [],
   "source": [
    "deg_dict = dict(G.degree)"
   ]
  },
  {
   "cell_type": "code",
   "execution_count": null,
   "id": "cca492fb",
   "metadata": {},
   "outputs": [],
   "source": [
    "deg_dict\n"
   ]
  },
  {
   "cell_type": "code",
   "execution_count": null,
   "id": "b2360733",
   "metadata": {},
   "outputs": [],
   "source": [
    "degrees = pd.DataFrame.from_dict(deg_dict, orient=\"index\", columns = [\"degree\"])"
   ]
  },
  {
   "cell_type": "code",
   "execution_count": null,
   "id": "c099f504",
   "metadata": {},
   "outputs": [],
   "source": [
    "degrees"
   ]
  },
  {
   "cell_type": "markdown",
   "id": "28c52c9a",
   "metadata": {},
   "source": [
    "Join this with the betweenness \n"
   ]
  },
  {
   "cell_type": "code",
   "execution_count": null,
   "id": "4973d6e5",
   "metadata": {},
   "outputs": [],
   "source": [
    "betweenness = pd.merge(betweenness, degrees, left_index=True, right_index=True)"
   ]
  },
  {
   "cell_type": "code",
   "execution_count": null,
   "id": "69743406",
   "metadata": {},
   "outputs": [],
   "source": [
    "betweenness"
   ]
  },
  {
   "cell_type": "code",
   "execution_count": null,
   "id": "14e00b70",
   "metadata": {},
   "outputs": [],
   "source": [
    "betweenness.plot.scatter(x=\"degree\", y=\"average\", alpha=0.5)"
   ]
  },
  {
   "cell_type": "code",
   "execution_count": null,
   "id": "821d7891",
   "metadata": {},
   "outputs": [],
   "source": [
    "real_betweenness = pd.read_csv('RealNetwork_betweenness_cen_df.csv')"
   ]
  },
  {
   "cell_type": "code",
   "execution_count": null,
   "id": "77395dff",
   "metadata": {},
   "outputs": [],
   "source": [
    "real_betweenness.head()"
   ]
  },
  {
   "cell_type": "code",
   "execution_count": null,
   "id": "28f826ec",
   "metadata": {},
   "outputs": [],
   "source": [
    "real_betweenness = real_betweenness.set_index(\"Unnamed: 0\")"
   ]
  },
  {
   "cell_type": "code",
   "execution_count": null,
   "id": "ecb0b2c9",
   "metadata": {},
   "outputs": [],
   "source": [
    "real_betweenness = pd.merge(real_betweenness, degrees, left_index=True, right_index=True)"
   ]
  },
  {
   "cell_type": "code",
   "execution_count": null,
   "id": "8ea58a07",
   "metadata": {},
   "outputs": [],
   "source": [
    "real_betweenness\n"
   ]
  },
  {
   "cell_type": "code",
   "execution_count": null,
   "id": "9d528631",
   "metadata": {},
   "outputs": [],
   "source": [
    "real_betweenness.plot.scatter(x=\"degree\", y=\"RealNetwork\", alpha=0.5)"
   ]
  },
  {
   "cell_type": "code",
   "execution_count": null,
   "id": "d3001dbe",
   "metadata": {},
   "outputs": [],
   "source": [
    "\n",
    "fig, ax = plt.subplots(figsize=(10, 6))\n",
    "\n",
    "ax.scatter(x = betweenness ['degree'], y = betweenness ['average'],  label = \"Random\", alpha = 0.5)\n",
    "ax.scatter(x = real_betweenness['degree'], y = real_betweenness['RealNetwork'], label = \"Real Data\", alpha = 0.5)\n",
    "\n",
    "plt.xlabel(\"Degree K\")\n",
    "plt.ylabel(\"Betweenness Centrality\")\n",
    "plt.legend(loc=\"upper left\")"
   ]
  },
  {
   "cell_type": "markdown",
   "id": "e85c3ad8",
   "metadata": {},
   "source": [
    "https://stackoverflow.com/questions/6871201/plot-two-histograms-on-single-chart-with-matplotlib"
   ]
  },
  {
   "cell_type": "markdown",
   "id": "c7703f5a",
   "metadata": {},
   "source": [
    "https://stackabuse.com/matplotlib-scatterplot-tutorial-and-examples/"
   ]
  },
  {
   "cell_type": "code",
   "execution_count": null,
   "id": "ab0651bb",
   "metadata": {},
   "outputs": [],
   "source": [
    "plt.hist([betweenness ['average'], real_betweenness['RealNetwork']],label=['random', 'real'])\n",
    "plt.legend(loc='upper right')\n",
    "plt.show()"
   ]
  },
  {
   "cell_type": "code",
   "execution_count": null,
   "id": "b9d09b87",
   "metadata": {},
   "outputs": [],
   "source": []
  },
  {
   "cell_type": "code",
   "execution_count": null,
   "id": "99c92a85",
   "metadata": {},
   "outputs": [],
   "source": [
    "betweenness = pd.read_csv('TestGroup_betweenness_cen_df.csv')\n",
    "\n",
    "all_betweenness_files = ['done_1_group_betweenness_cen_df.csv', 'Group1_5_2_betweenness_cen_df.csv', 'Group1_5_3_betweenness_cen_df.csv', 'Group1_5_betweenness_cen_df.csv','Group1_betweenness_cen_df.csv', 'Group2_betweenness_cen_df.csv', 'Group3_betweenness_cen_df.csv', 'Group4_betweenness_cen_df.csv', 'Group5_betweenness_cen_df.csv','Group2_1_betweenness_cen_df.csv']\n",
    "all_betweenness_dfs = []\n",
    "for file in all_betweenness_files:\n",
    "    all_betweenness_dfs.append(pd.read_csv(file))\n",
    "\n",
    "for df in all_betweenness_dfs:\n",
    "    df = df.set_index(\"Unnamed: 0\")\n",
    "    real_betweenness = pd.merge(real_betweenness, df, left_index=True, right_index=True)"
   ]
  },
  {
   "cell_type": "code",
   "execution_count": null,
   "id": "eb31b59d",
   "metadata": {},
   "outputs": [],
   "source": [
    "real_betweenness\n"
   ]
  },
  {
   "cell_type": "code",
   "execution_count": null,
   "id": "dd26d325",
   "metadata": {},
   "outputs": [],
   "source": [
    "random_betweenness = real_betweenness.drop('RealNetwork',axis = 1)"
   ]
  },
  {
   "cell_type": "code",
   "execution_count": null,
   "id": "988199a3",
   "metadata": {},
   "outputs": [],
   "source": [
    "random_betweenness\n"
   ]
  },
  {
   "cell_type": "code",
   "execution_count": null,
   "id": "b0e20b49",
   "metadata": {},
   "outputs": [],
   "source": [
    "random_betweenness['average_node_betweenness'] = random_betweenness.mean(axis=1)"
   ]
  },
  {
   "cell_type": "code",
   "execution_count": null,
   "id": "fe8a6f80",
   "metadata": {},
   "outputs": [],
   "source": [
    "fig, ax = plt.subplots(figsize=(10, 6))\n",
    "\n",
    "ax.scatter(x = random_betweenness['degree'], y = random_betweenness ['average_node_betweenness'],  label = \"Random\", alpha = 0.5)\n",
    "ax.scatter(x = real_betweenness['degree'], y = real_betweenness['RealNetwork'], label = \"Real Data\", alpha = 0.5)\n",
    "\n",
    "plt.xlabel(\"Degree K\")\n",
    "plt.ylabel(\"Betweenness Centrality\")\n",
    "plt.legend(loc=\"upper left\")"
   ]
  },
  {
   "cell_type": "code",
   "execution_count": null,
   "id": "5f330983",
   "metadata": {},
   "outputs": [],
   "source": [
    "plt.hist([random_betweenness['average_node_betweenness'], real_betweenness['RealNetwork']],label=['random', 'real'])\n",
    "plt.legend(loc='upper right')\n",
    "plt.show()"
   ]
  },
  {
   "cell_type": "code",
   "execution_count": null,
   "id": "6bcfc48b",
   "metadata": {},
   "outputs": [],
   "source": [
    "real = pd.read_csv('RealNetwork_clustering_df.csv')\n",
    "real = real.set_index(\"Unnamed: 0\")\n",
    "\n",
    "real = pd.merge(real, degrees, left_index=True, right_index=True)\n",
    "all_files = ['done_1_group_clustering_df.csv', 'Group1_5_2_clustering_df.csv', 'Group1_5_3_clustering_df.csv', 'Group1_5_clustering_df.csv','Group1_clustering_df.csv', 'Group2_clustering_df.csv',\n",
    "                         'Group3_clustering_df.csv', 'Group4_clustering_df.csv', 'Group5_clustering_df.csv','Group2_1_clustering_df.csv']\n",
    "all_dfs = []\n",
    "for file in all_files:\n",
    "    all_dfs.append(pd.read_csv('Directed_Unweighted_Model_Stats/'+file))\n",
    "\n",
    "for df in all_dfs:\n",
    "    df = df.set_index(\"Unnamed: 0\")\n",
    "    real = pd.merge(real, df, left_index=True, right_index=True)\n",
    "    \n",
    "    \n",
    "random_df = real_betweenness.drop('RealNetwork',axis = 1)\n",
    "\n",
    "random_df['average_node_clustering'] = random_df.mean(axis=1)\n",
    "\n",
    "fig, ax = plt.subplots(figsize=(10, 6))\n",
    "\n",
    "ax.scatter(x = random_df['degree'], bins=100, y = random_df ['average_node_clustering'],  label = \"Random\", alpha = 0.5)\n",
    "ax.scatter(x = real['degree'], y = real['RealNetwork'], label = \"Real Data\", alpha = 0.5)\n",
    "\n",
    "plt.xlabel(\"Degree K\")\n",
    "plt.ylabel(\"Clustering Coefficient\")\n",
    "plt.legend(loc=\"upper right\")"
   ]
  },
  {
   "cell_type": "code",
   "execution_count": 14,
   "id": "f16a5e3d",
   "metadata": {},
   "outputs": [
    {
     "ename": "TypeError",
     "evalue": "Can only merge Series or DataFrame objects, a <class 'range'> was passed",
     "output_type": "error",
     "traceback": [
      "\u001b[1;31m---------------------------------------------------------------------------\u001b[0m",
      "\u001b[1;31mTypeError\u001b[0m                                 Traceback (most recent call last)",
      "\u001b[1;32m~\\AppData\\Local\\Temp/ipykernel_11436/3284155542.py\u001b[0m in \u001b[0;36m<module>\u001b[1;34m\u001b[0m\n\u001b[0;32m      2\u001b[0m \u001b[0mreal\u001b[0m \u001b[1;33m=\u001b[0m \u001b[0mreal\u001b[0m\u001b[1;33m.\u001b[0m\u001b[0mset_index\u001b[0m\u001b[1;33m(\u001b[0m\u001b[1;34m\"Unnamed: 0\"\u001b[0m\u001b[1;33m)\u001b[0m\u001b[1;33m\u001b[0m\u001b[1;33m\u001b[0m\u001b[0m\n\u001b[0;32m      3\u001b[0m \u001b[1;33m\u001b[0m\u001b[0m\n\u001b[1;32m----> 4\u001b[1;33m \u001b[0mreal\u001b[0m \u001b[1;33m=\u001b[0m \u001b[0mpd\u001b[0m\u001b[1;33m.\u001b[0m\u001b[0mmerge\u001b[0m\u001b[1;33m(\u001b[0m\u001b[0mreal\u001b[0m\u001b[1;33m,\u001b[0m \u001b[0mdegrees\u001b[0m\u001b[1;33m,\u001b[0m \u001b[0mleft_index\u001b[0m\u001b[1;33m=\u001b[0m\u001b[1;32mTrue\u001b[0m\u001b[1;33m,\u001b[0m \u001b[0mright_index\u001b[0m\u001b[1;33m=\u001b[0m\u001b[1;32mTrue\u001b[0m\u001b[1;33m)\u001b[0m\u001b[1;33m\u001b[0m\u001b[1;33m\u001b[0m\u001b[0m\n\u001b[0m\u001b[0;32m      5\u001b[0m all_files = ['done_1_group_deg_cen_df.csv', 'Group1_5_2_deg_cen_df.csv', 'Group1_5_3_deg_cen_df.csv', 'Group1_5_deg_cen_df.csv','Group1_deg_cen_df.csv', 'Group2_deg_cen_df.csv',\n\u001b[0;32m      6\u001b[0m                          'Group3_deg_cen_df.csv', 'Group4_deg_cen_df.csv', 'Group5_deg_cen_df.csv','Group2_1_deg_cen_df.csv']\n",
      "\u001b[1;32mc:\\users\\kaitlin\\appdata\\local\\programs\\python\\python37\\lib\\site-packages\\pandas\\core\\reshape\\merge.py\u001b[0m in \u001b[0;36mmerge\u001b[1;34m(left, right, how, on, left_on, right_on, left_index, right_index, sort, suffixes, copy, indicator, validate)\u001b[0m\n\u001b[0;32m     85\u001b[0m         \u001b[0mcopy\u001b[0m\u001b[1;33m=\u001b[0m\u001b[0mcopy\u001b[0m\u001b[1;33m,\u001b[0m\u001b[1;33m\u001b[0m\u001b[1;33m\u001b[0m\u001b[0m\n\u001b[0;32m     86\u001b[0m         \u001b[0mindicator\u001b[0m\u001b[1;33m=\u001b[0m\u001b[0mindicator\u001b[0m\u001b[1;33m,\u001b[0m\u001b[1;33m\u001b[0m\u001b[1;33m\u001b[0m\u001b[0m\n\u001b[1;32m---> 87\u001b[1;33m         \u001b[0mvalidate\u001b[0m\u001b[1;33m=\u001b[0m\u001b[0mvalidate\u001b[0m\u001b[1;33m,\u001b[0m\u001b[1;33m\u001b[0m\u001b[1;33m\u001b[0m\u001b[0m\n\u001b[0m\u001b[0;32m     88\u001b[0m     )\n\u001b[0;32m     89\u001b[0m     \u001b[1;32mreturn\u001b[0m \u001b[0mop\u001b[0m\u001b[1;33m.\u001b[0m\u001b[0mget_result\u001b[0m\u001b[1;33m(\u001b[0m\u001b[1;33m)\u001b[0m\u001b[1;33m\u001b[0m\u001b[1;33m\u001b[0m\u001b[0m\n",
      "\u001b[1;32mc:\\users\\kaitlin\\appdata\\local\\programs\\python\\python37\\lib\\site-packages\\pandas\\core\\reshape\\merge.py\u001b[0m in \u001b[0;36m__init__\u001b[1;34m(self, left, right, how, on, left_on, right_on, axis, left_index, right_index, sort, suffixes, copy, indicator, validate)\u001b[0m\n\u001b[0;32m    592\u001b[0m     ):\n\u001b[0;32m    593\u001b[0m         \u001b[0m_left\u001b[0m \u001b[1;33m=\u001b[0m \u001b[0m_validate_operand\u001b[0m\u001b[1;33m(\u001b[0m\u001b[0mleft\u001b[0m\u001b[1;33m)\u001b[0m\u001b[1;33m\u001b[0m\u001b[1;33m\u001b[0m\u001b[0m\n\u001b[1;32m--> 594\u001b[1;33m         \u001b[0m_right\u001b[0m \u001b[1;33m=\u001b[0m \u001b[0m_validate_operand\u001b[0m\u001b[1;33m(\u001b[0m\u001b[0mright\u001b[0m\u001b[1;33m)\u001b[0m\u001b[1;33m\u001b[0m\u001b[1;33m\u001b[0m\u001b[0m\n\u001b[0m\u001b[0;32m    595\u001b[0m         \u001b[0mself\u001b[0m\u001b[1;33m.\u001b[0m\u001b[0mleft\u001b[0m \u001b[1;33m=\u001b[0m \u001b[0mself\u001b[0m\u001b[1;33m.\u001b[0m\u001b[0morig_left\u001b[0m \u001b[1;33m=\u001b[0m \u001b[0m_left\u001b[0m\u001b[1;33m\u001b[0m\u001b[1;33m\u001b[0m\u001b[0m\n\u001b[0;32m    596\u001b[0m         \u001b[0mself\u001b[0m\u001b[1;33m.\u001b[0m\u001b[0mright\u001b[0m \u001b[1;33m=\u001b[0m \u001b[0mself\u001b[0m\u001b[1;33m.\u001b[0m\u001b[0morig_right\u001b[0m \u001b[1;33m=\u001b[0m \u001b[0m_right\u001b[0m\u001b[1;33m\u001b[0m\u001b[1;33m\u001b[0m\u001b[0m\n",
      "\u001b[1;32mc:\\users\\kaitlin\\appdata\\local\\programs\\python\\python37\\lib\\site-packages\\pandas\\core\\reshape\\merge.py\u001b[0m in \u001b[0;36m_validate_operand\u001b[1;34m(obj)\u001b[0m\n\u001b[0;32m   2065\u001b[0m     \u001b[1;32melse\u001b[0m\u001b[1;33m:\u001b[0m\u001b[1;33m\u001b[0m\u001b[1;33m\u001b[0m\u001b[0m\n\u001b[0;32m   2066\u001b[0m         raise TypeError(\n\u001b[1;32m-> 2067\u001b[1;33m             \u001b[1;34mf\"Can only merge Series or DataFrame objects, a {type(obj)} was passed\"\u001b[0m\u001b[1;33m\u001b[0m\u001b[1;33m\u001b[0m\u001b[0m\n\u001b[0m\u001b[0;32m   2068\u001b[0m         )\n\u001b[0;32m   2069\u001b[0m \u001b[1;33m\u001b[0m\u001b[0m\n",
      "\u001b[1;31mTypeError\u001b[0m: Can only merge Series or DataFrame objects, a <class 'range'> was passed"
     ]
    }
   ],
   "source": [
    "real = pd.read_csv('RealNetwork_deg_cen_df.csv')\n",
    "real = real.set_index(\"Unnamed: 0\")\n",
    "\n",
    "real = pd.merge(real, degrees, left_index=True, right_index=True)\n",
    "all_files = ['done_1_group_deg_cen_df.csv', 'Group1_5_2_deg_cen_df.csv', 'Group1_5_3_deg_cen_df.csv', 'Group1_5_deg_cen_df.csv','Group1_deg_cen_df.csv', 'Group2_deg_cen_df.csv',\n",
    "                         'Group3_deg_cen_df.csv', 'Group4_deg_cen_df.csv', 'Group5_deg_cen_df.csv','Group2_1_deg_cen_df.csv']\n",
    "all_dfs = []\n",
    "for file in all_files:\n",
    "    all_dfs.append(pd.read_csv(file))\n",
    "\n",
    "for df in all_dfs:\n",
    "    df = df.set_index(\"Unnamed: 0\")\n",
    "    real = pd.merge(real, df, left_index=True, right_index=True)\n",
    "    \n",
    "    \n",
    "random_df = real_betweenness.drop('RealNetwork',axis = 1)\n",
    "\n",
    "random_df['average_node_deg_cen'] = random_df.mean(axis=1)\n",
    "\n",
    "fig, ax = plt.subplots(figsize=(10, 6))\n",
    "\n",
    "ax.scatter(x = random_df['degree'], y = random_df ['average_node_deg_cen'],  label = \"Random\", alpha = 0.5)\n",
    "ax.scatter(x = real['degree'], y = real['RealNetwork'], label = \"Real Data\", alpha = 0.5)\n",
    "\n",
    "plt.xlabel(\"Degree K\")\n",
    "plt.ylabel(\"Degree Centrality\")\n",
    "plt.legend(loc=\"upper right\")"
   ]
  },
  {
   "cell_type": "code",
   "execution_count": null,
   "id": "70ebcb74",
   "metadata": {},
   "outputs": [],
   "source": [
    "real = pd.read_csv('RealNetwork_in_deg_cen_df.csv')\n",
    "real = real.set_index(\"Unnamed: 0\")\n",
    "\n",
    "real = pd.merge(real, degrees, left_index=True, right_index=True)\n",
    "all_files = ['done_1_group_in_deg_cen_df.csv', 'Group1_5_2_in_deg_cen_df.csv', 'Group1_5_3_in_deg_cen_df.csv', 'Group1_5_in_deg_cen_df.csv','Group1_in_deg_cen_df.csv', 'Group2_in_deg_cen_df.csv',\n",
    "                         'Group3_in_deg_cen_df.csv', 'Group4_in_deg_cen_df.csv', 'Group5_in_deg_cen_df.csv','Group2_1_in_deg_cen_df.csv']\n",
    "all_dfs = []\n",
    "for file in all_files:\n",
    "    all_dfs.append(pd.read_csv(file))\n",
    "\n",
    "for df in all_dfs:\n",
    "    df = df.set_index(\"Unnamed: 0\")\n",
    "    real = pd.merge(real, df, left_index=True, right_index=True)\n",
    "    \n",
    "    \n",
    "random_df = real_betweenness.drop('RealNetwork',axis = 1)\n",
    "\n",
    "random_df['average_node_in_deg_cen'] = random_df.mean(axis=1)\n",
    "\n",
    "fig, ax = plt.subplots(figsize=(10, 6))\n",
    "\n",
    "ax.scatter(x = random_df['degree'], y = random_df ['average_node_in_deg_cen'],  label = \"Random\", alpha = 0.5)\n",
    "ax.scatter(x = real['degree'], y = real['RealNetwork'], label = \"Real Data\", alpha = 0.5)\n",
    "\n",
    "plt.xlabel(\"Degree K\")\n",
    "plt.ylabel(\"In Degree Centrality\")\n",
    "plt.legend(loc=\"upper left\")"
   ]
  },
  {
   "cell_type": "code",
   "execution_count": null,
   "id": "882e0a49",
   "metadata": {},
   "outputs": [],
   "source": [
    "real = pd.read_csv('RealNetwork_out_deg_cen_df.csv')\n",
    "real = real.set_index(\"Unnamed: 0\")\n",
    "\n",
    "real = pd.merge(real, degrees, left_index=True, right_index=True)\n",
    "all_files = ['done_1_group_out_deg_cen_df.csv', 'Group1_5_2_out_deg_cen_df.csv', 'Group1_5_3_out_deg_cen_df.csv', 'Group1_5_out_deg_cen_df.csv','Group1_out_deg_cen_df.csv', 'Group2_out_deg_cen_df.csv',\n",
    "                         'Group3_out_deg_cen_df.csv', 'Group4_out_deg_cen_df.csv', 'Group5_out_deg_cen_df.csv','Group2_1_out_deg_cen_df.csv']\n",
    "all_dfs = []\n",
    "for file in all_files:\n",
    "    all_dfs.append(pd.read_csv(file))\n",
    "\n",
    "for df in all_dfs:\n",
    "    df = df.set_index(\"Unnamed: 0\")\n",
    "    real = pd.merge(real, df, left_index=True, right_index=True)\n",
    "    \n",
    "    \n",
    "random_df = real_betweenness.drop('RealNetwork',axis = 1)\n",
    "\n",
    "random_df['average_node_out_deg_cen'] = random_df.mean(axis=1)\n",
    "\n",
    "fig, ax = plt.subplots(figsize=(10, 6))\n",
    "\n",
    "ax.scatter(x = random_df['degree'], y = random_df ['average_node_out_deg_cen'],  label = \"Random\", alpha = 0.5)\n",
    "ax.scatter(x = real['degree'], y = real['RealNetwork'], label = \"Real Data\", alpha = 0.5)\n",
    "\n",
    "plt.xlabel(\"Degree K\")\n",
    "plt.ylabel(\"Out Degree Centrality\")\n",
    "plt.legend(loc=\"upper left\")"
   ]
  },
  {
   "cell_type": "markdown",
   "id": "1eaed620",
   "metadata": {},
   "source": [
    "# Calculating average and variance of APL & Avg Clustering"
   ]
  },
  {
   "cell_type": "code",
   "execution_count": null,
   "id": "3f09bdc2",
   "metadata": {},
   "outputs": [],
   "source": [
    "nx.average_clustering(G)"
   ]
  },
  {
   "cell_type": "code",
   "execution_count": null,
   "id": "2a6e011c",
   "metadata": {},
   "outputs": [],
   "source": [
    "nx.average_shortest_path_length(G)"
   ]
  },
  {
   "cell_type": "code",
   "execution_count": null,
   "id": "264c48cd",
   "metadata": {},
   "outputs": [],
   "source": [
    "import numpy\n",
    "all_files = ['done_1_group_avg_clustering.csv', 'Group1_5_2_avg_clustering.csv', 'Group1_5_3_avg_clustering.csv', 'Group1_5_avg_clustering.csv','Group1_avg_clustering.csv', 'Group2_avg_clustering.csv',\n",
    "                         'Group3_avg_clustering.csv', 'Group4_avg_clustering.csv', 'Group5_avg_clustering.csv','Group2_1_avg_clustering.csv']\n",
    "clustering_vals = []\n",
    "for file in all_files:\n",
    "    f = open(file, \"r\")\n",
    "    clustering_vals.extend(f.readlines())\n",
    "\n",
    "for i in range(len(clustering_vals)):\n",
    "    clustering_vals[i] = float(clustering_vals[i])\n",
    "    \n",
    "arr = numpy.array(clustering_vals)\n",
    "\n",
    "print(\"Mean: {}\".format(arr.mean()))\n",
    "print(\"Variance: {}\".format(arr.std()))\n",
    "\n",
    "    "
   ]
  },
  {
   "cell_type": "code",
   "execution_count": null,
   "id": "201d263d",
   "metadata": {},
   "outputs": [],
   "source": [
    "import numpy\n",
    "all_files = ['done_1_group_apl.csv', 'Group1_5_2_apl.csv', 'Group1_5_3_apl.csv', 'Group1_5_apl.csv','Group1_apl.csv', 'Group2_apl.csv',\n",
    "                         'Group3_apl.csv', 'Group4_apl.csv', 'Group5_apl.csv','Group2_1_apl.csv']\n",
    "clustering_vals = []\n",
    "for file in all_files:\n",
    "    f = open(file, \"r\")\n",
    "    clustering_vals.extend(f.readlines())\n",
    "\n",
    "for i in range(len(clustering_vals)):\n",
    "    clustering_vals[i] = float(clustering_vals[i])\n",
    "    \n",
    "arr = numpy.array(clustering_vals)\n",
    "\n",
    "print(\"Mean: {}\".format(arr.mean()))\n",
    "print(\"Variance: {}\".format(arr.std()))"
   ]
  },
  {
   "cell_type": "code",
   "execution_count": null,
   "id": "5e72c194",
   "metadata": {},
   "outputs": [],
   "source": []
  }
 ],
 "metadata": {
  "interpreter": {
   "hash": "2be5faf79681da6f2a61fdfdd5405d65d042280f7fba6178067603e3a2925119"
  },
  "kernelspec": {
   "display_name": "Python 3 (ipykernel)",
   "language": "python",
   "name": "python3"
  },
  "language_info": {
   "codemirror_mode": {
    "name": "ipython",
    "version": 3
   },
   "file_extension": ".py",
   "mimetype": "text/x-python",
   "name": "python",
   "nbconvert_exporter": "python",
   "pygments_lexer": "ipython3",
   "version": "3.7.9"
  }
 },
 "nbformat": 4,
 "nbformat_minor": 5
}
