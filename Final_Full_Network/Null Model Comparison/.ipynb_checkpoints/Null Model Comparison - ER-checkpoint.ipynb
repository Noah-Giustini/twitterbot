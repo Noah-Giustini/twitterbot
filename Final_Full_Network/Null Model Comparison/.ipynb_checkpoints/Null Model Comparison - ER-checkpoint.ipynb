{
 "cells": [
  {
   "cell_type": "markdown",
   "id": "bad1b280",
   "metadata": {},
   "source": [
    "# ER Model Comparison"
   ]
  },
  {
   "cell_type": "code",
   "execution_count": 12,
   "id": "c5a3e31e",
   "metadata": {},
   "outputs": [],
   "source": [
    "import numpy as np\n",
    "import networkx as nx\n",
    "import matplotlib.pyplot as plt\n",
    "import matplotlib as mpl\n",
    "%matplotlib inline"
   ]
  },
  {
   "cell_type": "code",
   "execution_count": 13,
   "id": "5fac6eef",
   "metadata": {},
   "outputs": [],
   "source": [
    "G = nx.read_edgelist('../networkx_format_network.txt', comments='#',\n",
    "                     create_using=nx.DiGraph(), \n",
    "                     delimiter=',', \n",
    "                     nodetype=int, \n",
    "                     encoding='utf-8')"
   ]
  },
  {
   "cell_type": "code",
   "execution_count": 18,
   "id": "ca2d64ce",
   "metadata": {},
   "outputs": [],
   "source": [
    "G_undirected = nx.read_edgelist('../networkx_format_network.txt', comments='#',\n",
    "                     create_using=nx.Graph(), \n",
    "                     delimiter=',', \n",
    "                     nodetype=int, \n",
    "                     encoding='utf-8')"
   ]
  },
  {
   "cell_type": "markdown",
   "id": "c74f3fcc",
   "metadata": {},
   "source": [
    "## Basic Statistics of Network"
   ]
  },
  {
   "cell_type": "markdown",
   "id": "37d62379",
   "metadata": {},
   "source": [
    "### Plot Function"
   ]
  },
  {
   "cell_type": "code",
   "execution_count": null,
   "id": "eff9727e",
   "metadata": {},
   "outputs": [],
   "source": [
    "#TBD"
   ]
  },
  {
   "cell_type": "markdown",
   "id": "c860e49a",
   "metadata": {},
   "source": [
    "### Degree (in+out)"
   ]
  },
  {
   "cell_type": "code",
   "execution_count": 11,
   "id": "fe667baa",
   "metadata": {},
   "outputs": [],
   "source": [
    "N = len(G)\n",
    "L = G.size()\n",
    "degrees = [G.degree(node) for node in G]\n",
    "kmin = min(degrees)\n",
    "kmax = max(degrees)"
   ]
  },
  {
   "cell_type": "code",
   "execution_count": 12,
   "id": "aeb0cea2",
   "metadata": {},
   "outputs": [
    {
     "name": "stdout",
     "output_type": "stream",
     "text": [
      "Number of nodes:  8954\n",
      "Number of edges:  13998\n",
      "\n",
      "Average degree:  3.12664730846549\n",
      "Average degree (alternate calculation) 3.12664730846549\n",
      "\n",
      "Minimum degree:  1\n",
      "Maximum degree:  381\n"
     ]
    }
   ],
   "source": [
    "print(\"Number of nodes: \", N)\n",
    "print(\"Number of edges: \", L)\n",
    "print()\n",
    "print(\"Average degree: \", 2*L/N)\n",
    "print(\"Average degree (alternate calculation)\", np.mean(degrees))\n",
    "print()\n",
    "print(\"Minimum degree: \", kmin)\n",
    "print(\"Maximum degree: \", kmax)"
   ]
  },
  {
   "cell_type": "markdown",
   "id": "3a36235a",
   "metadata": {},
   "source": [
    "### In-Degree"
   ]
  },
  {
   "cell_type": "code",
   "execution_count": 12,
   "id": "8122fde6",
   "metadata": {},
   "outputs": [],
   "source": [
    "in_degrees = [G.in_degree(node) for node in G]\n",
    "k_in_min = min(in_degrees)\n",
    "k_in_max = max(in_degrees)"
   ]
  },
  {
   "cell_type": "code",
   "execution_count": 13,
   "id": "2d57d324",
   "metadata": {},
   "outputs": [
    {
     "name": "stdout",
     "output_type": "stream",
     "text": [
      "Average In degree (alternate calculation) 1.563323654232745\n",
      "\n",
      "Minimum degree:  0\n",
      "Maximum degree:  378\n"
     ]
    }
   ],
   "source": [
    "print(\"Average In degree (alternate calculation)\", np.mean(in_degrees))\n",
    "print()\n",
    "print(\"Minimum degree: \", k_in_min)\n",
    "print(\"Maximum degree: \", k_in_max)"
   ]
  },
  {
   "cell_type": "markdown",
   "id": "d135a924",
   "metadata": {},
   "source": [
    "### Out-Degree"
   ]
  },
  {
   "cell_type": "code",
   "execution_count": 18,
   "id": "b85a92cb",
   "metadata": {},
   "outputs": [],
   "source": [
    "out_degrees = [G.out_degree(node) for node in G]\n",
    "k_out_min = min(out_degrees)\n",
    "k_out_max = max(out_degrees)"
   ]
  },
  {
   "cell_type": "code",
   "execution_count": 19,
   "id": "c6bcdc6a",
   "metadata": {},
   "outputs": [
    {
     "name": "stdout",
     "output_type": "stream",
     "text": [
      "Average Out degree (alternate calculation) 1.563323654232745\n",
      "\n",
      "Minimum degree:  0\n",
      "Maximum degree:  105\n"
     ]
    }
   ],
   "source": [
    "print(\"Average Out degree (alternate calculation)\", np.mean(out_degrees))\n",
    "print()\n",
    "print(\"Minimum degree: \", k_out_min)\n",
    "print(\"Maximum degree: \", k_out_max)"
   ]
  },
  {
   "cell_type": "markdown",
   "id": "3f5bab26",
   "metadata": {},
   "source": [
    "## ER Network"
   ]
  },
  {
   "cell_type": "code",
   "execution_count": 47,
   "id": "b488695d",
   "metadata": {},
   "outputs": [],
   "source": [
    "ER_G = nx.gnp_random_graph(len(G),0.00036)\n",
    "# this probability is what gets us the closest average k value"
   ]
  },
  {
   "cell_type": "markdown",
   "id": "839d1421",
   "metadata": {},
   "source": [
    "### Basics"
   ]
  },
  {
   "cell_type": "code",
   "execution_count": 48,
   "id": "61f337d8",
   "metadata": {},
   "outputs": [
    {
     "name": "stdout",
     "output_type": "stream",
     "text": [
      "Number of nodes:  8954\n",
      "Number of edges:  14407\n",
      "\n",
      "Average degree:  3.218003127094036\n",
      "Average degree (alternate calculation) 3.218003127094036\n",
      "\n",
      "Minimum degree:  0\n",
      "Maximum degree:  14\n"
     ]
    }
   ],
   "source": [
    "N_ER = len(ER_G)\n",
    "L_ER = ER_G.size()\n",
    "degrees_er = [ER_G.degree(node) for node in ER_G]\n",
    "kmin_er = min(degrees_er)\n",
    "kmax_er = max(degrees_er)\n",
    "\n",
    "print(\"Number of nodes: \", N_ER)\n",
    "print(\"Number of edges: \", L_ER)\n",
    "print()\n",
    "print(\"Average degree: \", 2*L_ER/N_ER)\n",
    "print(\"Average degree (alternate calculation)\", np.mean(degrees_er))\n",
    "print()\n",
    "print(\"Minimum degree: \", kmin_er)\n",
    "print(\"Maximum degree: \", kmax_er)"
   ]
  },
  {
   "cell_type": "markdown",
   "id": "5f6a4e44",
   "metadata": {},
   "source": [
    "### Global Clustering Coefficient"
   ]
  },
  {
   "cell_type": "code",
   "execution_count": 49,
   "id": "fc85a21c",
   "metadata": {},
   "outputs": [],
   "source": [
    "clustering_coef = nx.average_clustering(ER_G)"
   ]
  },
  {
   "cell_type": "markdown",
   "id": "b82189d8",
   "metadata": {},
   "source": [
    "### Transitivity"
   ]
  },
  {
   "cell_type": "code",
   "execution_count": 50,
   "id": "8fd53aff",
   "metadata": {},
   "outputs": [],
   "source": [
    "transitivity = nx.transitivity(ER_G)"
   ]
  },
  {
   "cell_type": "markdown",
   "id": "f1842dea",
   "metadata": {},
   "source": [
    "### Average Path Length"
   ]
  },
  {
   "cell_type": "code",
   "execution_count": 51,
   "id": "7565615c",
   "metadata": {},
   "outputs": [
    {
     "ename": "NetworkXError",
     "evalue": "Graph is not connected.",
     "output_type": "error",
     "traceback": [
      "\u001b[1;31m---------------------------------------------------------------------------\u001b[0m",
      "\u001b[1;31mNetworkXError\u001b[0m                             Traceback (most recent call last)",
      "\u001b[1;32m~\\AppData\\Local\\Temp/ipykernel_10192/3337474989.py\u001b[0m in \u001b[0;36m<module>\u001b[1;34m\u001b[0m\n\u001b[1;32m----> 1\u001b[1;33m \u001b[0mavg_path_length\u001b[0m \u001b[1;33m=\u001b[0m \u001b[0mnx\u001b[0m\u001b[1;33m.\u001b[0m\u001b[0maverage_shortest_path_length\u001b[0m\u001b[1;33m(\u001b[0m\u001b[0mER_G\u001b[0m\u001b[1;33m)\u001b[0m\u001b[1;33m\u001b[0m\u001b[1;33m\u001b[0m\u001b[0m\n\u001b[0m",
      "\u001b[1;32mc:\\users\\kaitlin\\appdata\\local\\programs\\python\\python37\\lib\\site-packages\\networkx\\algorithms\\shortest_paths\\generic.py\u001b[0m in \u001b[0;36maverage_shortest_path_length\u001b[1;34m(G, weight, method)\u001b[0m\n\u001b[0;32m    387\u001b[0m         \u001b[1;32mraise\u001b[0m \u001b[0mnx\u001b[0m\u001b[1;33m.\u001b[0m\u001b[0mNetworkXError\u001b[0m\u001b[1;33m(\u001b[0m\u001b[1;34m\"Graph is not weakly connected.\"\u001b[0m\u001b[1;33m)\u001b[0m\u001b[1;33m\u001b[0m\u001b[1;33m\u001b[0m\u001b[0m\n\u001b[0;32m    388\u001b[0m     \u001b[1;32mif\u001b[0m \u001b[1;32mnot\u001b[0m \u001b[0mG\u001b[0m\u001b[1;33m.\u001b[0m\u001b[0mis_directed\u001b[0m\u001b[1;33m(\u001b[0m\u001b[1;33m)\u001b[0m \u001b[1;32mand\u001b[0m \u001b[1;32mnot\u001b[0m \u001b[0mnx\u001b[0m\u001b[1;33m.\u001b[0m\u001b[0mis_connected\u001b[0m\u001b[1;33m(\u001b[0m\u001b[0mG\u001b[0m\u001b[1;33m)\u001b[0m\u001b[1;33m:\u001b[0m\u001b[1;33m\u001b[0m\u001b[1;33m\u001b[0m\u001b[0m\n\u001b[1;32m--> 389\u001b[1;33m         \u001b[1;32mraise\u001b[0m \u001b[0mnx\u001b[0m\u001b[1;33m.\u001b[0m\u001b[0mNetworkXError\u001b[0m\u001b[1;33m(\u001b[0m\u001b[1;34m\"Graph is not connected.\"\u001b[0m\u001b[1;33m)\u001b[0m\u001b[1;33m\u001b[0m\u001b[1;33m\u001b[0m\u001b[0m\n\u001b[0m\u001b[0;32m    390\u001b[0m \u001b[1;33m\u001b[0m\u001b[0m\n\u001b[0;32m    391\u001b[0m     \u001b[1;31m# Compute all-pairs shortest paths.\u001b[0m\u001b[1;33m\u001b[0m\u001b[1;33m\u001b[0m\u001b[1;33m\u001b[0m\u001b[0m\n",
      "\u001b[1;31mNetworkXError\u001b[0m: Graph is not connected."
     ]
    }
   ],
   "source": [
    "avg_path_length = nx.average_shortest_path_length(ER_G)"
   ]
  },
  {
   "cell_type": "code",
   "execution_count": 23,
   "id": "1e886b7f",
   "metadata": {},
   "outputs": [],
   "source": [
    "import csv\n"
   ]
  },
  {
   "cell_type": "code",
   "execution_count": 26,
   "id": "685ad5f5",
   "metadata": {},
   "outputs": [
    {
     "name": "stdout",
     "output_type": "stream",
     "text": [
      "0\n",
      "1\n",
      "2\n",
      "3\n",
      "4\n",
      "5\n",
      "6\n",
      "7\n",
      "8\n",
      "9\n",
      "10\n",
      "11\n",
      "12\n",
      "13\n",
      "14\n",
      "15\n",
      "16\n",
      "17\n",
      "18\n",
      "19\n",
      "20\n",
      "21\n",
      "22\n",
      "23\n",
      "24\n",
      "25\n",
      "26\n",
      "27\n",
      "28\n",
      "29\n",
      "30\n",
      "31\n",
      "32\n",
      "33\n",
      "34\n",
      "35\n",
      "36\n",
      "37\n",
      "38\n",
      "39\n",
      "40\n",
      "41\n",
      "42\n",
      "43\n",
      "44\n",
      "45\n",
      "46\n",
      "47\n",
      "48\n",
      "49\n",
      "50\n",
      "51\n",
      "52\n",
      "53\n",
      "54\n",
      "55\n",
      "56\n",
      "57\n",
      "58\n",
      "59\n",
      "60\n",
      "61\n",
      "62\n",
      "63\n",
      "64\n",
      "65\n",
      "66\n",
      "67\n",
      "68\n",
      "69\n",
      "70\n",
      "71\n",
      "72\n",
      "73\n",
      "74\n",
      "75\n",
      "76\n",
      "77\n",
      "78\n",
      "79\n",
      "80\n",
      "81\n",
      "82\n",
      "83\n",
      "84\n",
      "85\n",
      "86\n",
      "87\n",
      "88\n",
      "89\n",
      "90\n",
      "91\n",
      "92\n",
      "93\n",
      "94\n",
      "95\n",
      "96\n",
      "97\n",
      "98\n",
      "99\n"
     ]
    }
   ],
   "source": [
    "clustering_coefs= []\n",
    "transitivity_metrics = []\n",
    "probability = 0.00036\n",
    "\n",
    "for i in range(100):   \n",
    "    print(i)\n",
    "    ER_G = nx.gnp_random_graph(len(G),probability, directed=True)\n",
    "    degrees_er = [ER_G.degree(node) for node in ER_G]\n",
    "    avg_k = np.mean(degrees_er)\n",
    "    if (avg_k >=3.08 and avg_k <=3.145):\n",
    "        #Then run the calculate metrics here \n",
    "        transitivity_metrics.append(nx.transitivity(ER_G))\n",
    "        clustering_coefs.append(nx.average_clustering(ER_G))\n",
    "        # Persist the node degrees to a csv\n",
    "        degrees = [ER_G.degree(node) for node in ER_G]\n",
    "        out_degrees = [ER_G.out_degree(node) for node in ER_G]\n",
    "        in_degrees = [ER_G.in_degree(node) for node in ER_G]\n",
    "        \n",
    "        with open('er_degrees.csv', mode='a', newline='') as f:\n",
    "                csv_writer = csv.writer(f, delimiter=',', quotechar='\"', quoting=csv.QUOTE_MINIMAL)\n",
    "                csv_writer.writerow(degrees) \n",
    "                \n",
    "        with open('er_in_degrees.csv', mode='a', newline='') as f:\n",
    "                csv_writer = csv.writer(f, delimiter=',', quotechar='\"', quoting=csv.QUOTE_MINIMAL)\n",
    "                csv_writer.writerow(out_degrees) \n",
    "                \n",
    "        with open('er_out_degrees.csv', mode='a', newline='') as f:\n",
    "                csv_writer = csv.writer(f, delimiter=',', quotechar='\"', quoting=csv.QUOTE_MINIMAL)\n",
    "                csv_writer.writerow(in_degrees) \n",
    "                \n",
    "        \n",
    "        \n",
    "    else:\n",
    "        # Find the ratio \n",
    "        ratio_change = 3.12664730846549 / avg_k\n",
    "        probability = ratio_change * probability\n"
   ]
  },
  {
   "cell_type": "code",
   "execution_count": 2,
   "id": "e7e660a7",
   "metadata": {},
   "outputs": [],
   "source": [
    "import pandas as pd"
   ]
  },
  {
   "cell_type": "code",
   "execution_count": 27,
   "id": "e711e011",
   "metadata": {},
   "outputs": [],
   "source": [
    "\n",
    "c  = pd.DataFrame(clustering_coefs)\n",
    "t = pd.DataFrame(transitivity_metrics)\n",
    "\n",
    "c.to_csv(\"er_clustering.csv\")\n",
    "t.to_csv(\"er_transitivity.csv\")"
   ]
  },
  {
   "cell_type": "code",
   "execution_count": 4,
   "id": "a1fad3df",
   "metadata": {},
   "outputs": [],
   "source": [
    "#load the Data in from Pandas and average it\n",
    "c_df = pd.read_csv(\"clustering_coef_er_models\")\n",
    "t_df = pd.read_csv(\"transitivity\")"
   ]
  },
  {
   "cell_type": "code",
   "execution_count": 6,
   "id": "f604ebff",
   "metadata": {},
   "outputs": [
    {
     "data": {
      "text/html": [
       "<div>\n",
       "<style scoped>\n",
       "    .dataframe tbody tr th:only-of-type {\n",
       "        vertical-align: middle;\n",
       "    }\n",
       "\n",
       "    .dataframe tbody tr th {\n",
       "        vertical-align: top;\n",
       "    }\n",
       "\n",
       "    .dataframe thead th {\n",
       "        text-align: right;\n",
       "    }\n",
       "</style>\n",
       "<table border=\"1\" class=\"dataframe\">\n",
       "  <thead>\n",
       "    <tr style=\"text-align: right;\">\n",
       "      <th></th>\n",
       "      <th>Unnamed: 0</th>\n",
       "      <th>0</th>\n",
       "    </tr>\n",
       "  </thead>\n",
       "  <tbody>\n",
       "    <tr>\n",
       "      <th>624</th>\n",
       "      <td>624</td>\n",
       "      <td>0.000141</td>\n",
       "    </tr>\n",
       "    <tr>\n",
       "      <th>625</th>\n",
       "      <td>625</td>\n",
       "      <td>0.000254</td>\n",
       "    </tr>\n",
       "    <tr>\n",
       "      <th>626</th>\n",
       "      <td>626</td>\n",
       "      <td>0.000264</td>\n",
       "    </tr>\n",
       "    <tr>\n",
       "      <th>627</th>\n",
       "      <td>627</td>\n",
       "      <td>0.000513</td>\n",
       "    </tr>\n",
       "    <tr>\n",
       "      <th>628</th>\n",
       "      <td>628</td>\n",
       "      <td>0.000102</td>\n",
       "    </tr>\n",
       "  </tbody>\n",
       "</table>\n",
       "</div>"
      ],
      "text/plain": [
       "     Unnamed: 0         0\n",
       "624         624  0.000141\n",
       "625         625  0.000254\n",
       "626         626  0.000264\n",
       "627         627  0.000513\n",
       "628         628  0.000102"
      ]
     },
     "execution_count": 6,
     "metadata": {},
     "output_type": "execute_result"
    }
   ],
   "source": [
    "c_df.tail()"
   ]
  },
  {
   "cell_type": "code",
   "execution_count": 7,
   "id": "4cb68e17",
   "metadata": {},
   "outputs": [
    {
     "data": {
      "text/html": [
       "<div>\n",
       "<style scoped>\n",
       "    .dataframe tbody tr th:only-of-type {\n",
       "        vertical-align: middle;\n",
       "    }\n",
       "\n",
       "    .dataframe tbody tr th {\n",
       "        vertical-align: top;\n",
       "    }\n",
       "\n",
       "    .dataframe thead th {\n",
       "        text-align: right;\n",
       "    }\n",
       "</style>\n",
       "<table border=\"1\" class=\"dataframe\">\n",
       "  <thead>\n",
       "    <tr style=\"text-align: right;\">\n",
       "      <th></th>\n",
       "      <th>Unnamed: 0</th>\n",
       "      <th>0</th>\n",
       "    </tr>\n",
       "  </thead>\n",
       "  <tbody>\n",
       "    <tr>\n",
       "      <th>624</th>\n",
       "      <td>624</td>\n",
       "      <td>0.000278</td>\n",
       "    </tr>\n",
       "    <tr>\n",
       "      <th>625</th>\n",
       "      <td>625</td>\n",
       "      <td>0.000416</td>\n",
       "    </tr>\n",
       "    <tr>\n",
       "      <th>626</th>\n",
       "      <td>626</td>\n",
       "      <td>0.000354</td>\n",
       "    </tr>\n",
       "    <tr>\n",
       "      <th>627</th>\n",
       "      <td>627</td>\n",
       "      <td>0.000631</td>\n",
       "    </tr>\n",
       "    <tr>\n",
       "      <th>628</th>\n",
       "      <td>628</td>\n",
       "      <td>0.000206</td>\n",
       "    </tr>\n",
       "  </tbody>\n",
       "</table>\n",
       "</div>"
      ],
      "text/plain": [
       "     Unnamed: 0         0\n",
       "624         624  0.000278\n",
       "625         625  0.000416\n",
       "626         626  0.000354\n",
       "627         627  0.000631\n",
       "628         628  0.000206"
      ]
     },
     "execution_count": 7,
     "metadata": {},
     "output_type": "execute_result"
    }
   ],
   "source": [
    "t_df.tail()"
   ]
  },
  {
   "cell_type": "code",
   "execution_count": 10,
   "id": "436e7366",
   "metadata": {},
   "outputs": [
    {
     "data": {
      "text/plain": [
       "0.0002902406586596367"
      ]
     },
     "execution_count": 10,
     "metadata": {},
     "output_type": "execute_result"
    }
   ],
   "source": [
    "c_df[\"0\"].mean()"
   ]
  },
  {
   "cell_type": "code",
   "execution_count": 11,
   "id": "7a389095",
   "metadata": {},
   "outputs": [
    {
     "data": {
      "text/plain": [
       "0.00034953341610985004"
      ]
     },
     "execution_count": 11,
     "metadata": {},
     "output_type": "execute_result"
    }
   ],
   "source": [
    "t_df[\"0\"].mean()"
   ]
  },
  {
   "cell_type": "code",
   "execution_count": 15,
   "id": "478d1a46",
   "metadata": {},
   "outputs": [
    {
     "data": {
      "text/plain": [
       "0.020056849493865474"
      ]
     },
     "execution_count": 15,
     "metadata": {},
     "output_type": "execute_result"
    }
   ],
   "source": [
    "#Actual Graph Transitivity\n",
    "nx.transitivity(G)"
   ]
  },
  {
   "cell_type": "code",
   "execution_count": 19,
   "id": "bc761a91",
   "metadata": {},
   "outputs": [
    {
     "data": {
      "text/plain": [
       "0.016744035180022453"
      ]
     },
     "execution_count": 19,
     "metadata": {},
     "output_type": "execute_result"
    }
   ],
   "source": [
    "#Actual Graph Cluster Coefficient \n",
    "nx.average_clustering(G_undirected)"
   ]
  },
  {
   "cell_type": "code",
   "execution_count": 21,
   "id": "e093383c",
   "metadata": {},
   "outputs": [
    {
     "ename": "NetworkXError",
     "evalue": "Graph is not connected.",
     "output_type": "error",
     "traceback": [
      "\u001b[1;31m---------------------------------------------------------------------------\u001b[0m",
      "\u001b[1;31mNetworkXError\u001b[0m                             Traceback (most recent call last)",
      "\u001b[1;32m~\\AppData\\Local\\Temp/ipykernel_6340/400131973.py\u001b[0m in \u001b[0;36m<module>\u001b[1;34m\u001b[0m\n\u001b[1;32m----> 1\u001b[1;33m \u001b[0mnx\u001b[0m\u001b[1;33m.\u001b[0m\u001b[0maverage_shortest_path_length\u001b[0m\u001b[1;33m(\u001b[0m\u001b[0mG_undirected\u001b[0m\u001b[1;33m)\u001b[0m\u001b[1;33m\u001b[0m\u001b[1;33m\u001b[0m\u001b[0m\n\u001b[0m",
      "\u001b[1;32mc:\\users\\kaitlin\\appdata\\local\\programs\\python\\python37\\lib\\site-packages\\networkx\\algorithms\\shortest_paths\\generic.py\u001b[0m in \u001b[0;36maverage_shortest_path_length\u001b[1;34m(G, weight, method)\u001b[0m\n\u001b[0;32m    387\u001b[0m         \u001b[1;32mraise\u001b[0m \u001b[0mnx\u001b[0m\u001b[1;33m.\u001b[0m\u001b[0mNetworkXError\u001b[0m\u001b[1;33m(\u001b[0m\u001b[1;34m\"Graph is not weakly connected.\"\u001b[0m\u001b[1;33m)\u001b[0m\u001b[1;33m\u001b[0m\u001b[1;33m\u001b[0m\u001b[0m\n\u001b[0;32m    388\u001b[0m     \u001b[1;32mif\u001b[0m \u001b[1;32mnot\u001b[0m \u001b[0mG\u001b[0m\u001b[1;33m.\u001b[0m\u001b[0mis_directed\u001b[0m\u001b[1;33m(\u001b[0m\u001b[1;33m)\u001b[0m \u001b[1;32mand\u001b[0m \u001b[1;32mnot\u001b[0m \u001b[0mnx\u001b[0m\u001b[1;33m.\u001b[0m\u001b[0mis_connected\u001b[0m\u001b[1;33m(\u001b[0m\u001b[0mG\u001b[0m\u001b[1;33m)\u001b[0m\u001b[1;33m:\u001b[0m\u001b[1;33m\u001b[0m\u001b[1;33m\u001b[0m\u001b[0m\n\u001b[1;32m--> 389\u001b[1;33m         \u001b[1;32mraise\u001b[0m \u001b[0mnx\u001b[0m\u001b[1;33m.\u001b[0m\u001b[0mNetworkXError\u001b[0m\u001b[1;33m(\u001b[0m\u001b[1;34m\"Graph is not connected.\"\u001b[0m\u001b[1;33m)\u001b[0m\u001b[1;33m\u001b[0m\u001b[1;33m\u001b[0m\u001b[0m\n\u001b[0m\u001b[0;32m    390\u001b[0m \u001b[1;33m\u001b[0m\u001b[0m\n\u001b[0;32m    391\u001b[0m     \u001b[1;31m# Compute all-pairs shortest paths.\u001b[0m\u001b[1;33m\u001b[0m\u001b[1;33m\u001b[0m\u001b[1;33m\u001b[0m\u001b[0m\n",
      "\u001b[1;31mNetworkXError\u001b[0m: Graph is not connected."
     ]
    }
   ],
   "source": [
    "nx.average_shortest_path_length(G_undirected)"
   ]
  },
  {
   "cell_type": "code",
   "execution_count": null,
   "id": "a8bbda85",
   "metadata": {},
   "outputs": [],
   "source": []
  }
 ],
 "metadata": {
  "kernelspec": {
   "display_name": "Python 3 (ipykernel)",
   "language": "python",
   "name": "python3"
  },
  "language_info": {
   "codemirror_mode": {
    "name": "ipython",
    "version": 3
   },
   "file_extension": ".py",
   "mimetype": "text/x-python",
   "name": "python",
   "nbconvert_exporter": "python",
   "pygments_lexer": "ipython3",
   "version": "3.7.9"
  }
 },
 "nbformat": 4,
 "nbformat_minor": 5
}
