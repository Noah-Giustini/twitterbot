{
 "cells": [
  {
   "cell_type": "markdown",
   "id": "f8398f65",
   "metadata": {},
   "source": [
    "# Directed Null Model Generation"
   ]
  },
  {
   "cell_type": "code",
   "execution_count": 1,
   "id": "dce84996",
   "metadata": {},
   "outputs": [],
   "source": [
    "import pandas as pd\n",
    "import networkx as nx\n",
    "import matplotlib.pyplot as plt\n",
    "import matplotlib as mpl\n",
    "import numpy as np\n",
    "\n",
    "import math\n",
    "\n",
    "%matplotlib inline"
   ]
  },
  {
   "cell_type": "code",
   "execution_count": 15,
   "id": "4606c685",
   "metadata": {},
   "outputs": [],
   "source": [
    "G = nx.read_edgelist('largest_component_networkx_format.csv', comments='#',\n",
    "                     create_using=nx.Graph(), \n",
    "                     delimiter=',', \n",
    "                     nodetype=int, \n",
    "                     encoding='utf-8')"
   ]
  },
  {
   "cell_type": "markdown",
   "id": "cb599b2f",
   "metadata": {},
   "source": [
    "## Basic Features of this Network"
   ]
  },
  {
   "cell_type": "code",
   "execution_count": 16,
   "id": "e5ef395f",
   "metadata": {},
   "outputs": [],
   "source": [
    "N = len(G)\n",
    "L = G.size()\n",
    "degrees = [G.degree(node) for node in G]\n",
    "kmin = min(degrees)\n",
    "kmax = max(degrees)"
   ]
  },
  {
   "cell_type": "code",
   "execution_count": 17,
   "id": "2401cf0f",
   "metadata": {},
   "outputs": [
    {
     "name": "stdout",
     "output_type": "stream",
     "text": [
      "Number of nodes:  8932\n",
      "Number of edges:  13995\n",
      "\n",
      "Average degree:  3.133676668159427\n",
      "Average degree (alternate calculation) 3.133676668159427\n",
      "\n",
      "Minimum degree:  1\n",
      "Maximum degree:  379\n"
     ]
    }
   ],
   "source": [
    "print(\"Number of nodes: \", N)\n",
    "print(\"Number of edges: \", L)\n",
    "print()\n",
    "print(\"Average degree: \", 2*L/N)\n",
    "print(\"Average degree (alternate calculation)\", np.mean(degrees))\n",
    "print()\n",
    "print(\"Minimum degree: \", kmin)\n",
    "print(\"Maximum degree: \", kmax)\n",
    "\n"
   ]
  },
  {
   "cell_type": "code",
   "execution_count": 18,
   "id": "688c9e57",
   "metadata": {},
   "outputs": [],
   "source": [
    "# Get 10 logarithmically spaced bins between kmin and kmax\n",
    "bin_edges = np.logspace(np.log10(kmin), np.log10(kmax), num=10)\n",
    "\n",
    "# histogram the data into these bins\n",
    "density, _ = np.histogram(degrees, bins=bin_edges, density=True)"
   ]
  },
  {
   "cell_type": "code",
   "execution_count": 19,
   "id": "77100ceb",
   "metadata": {},
   "outputs": [
    {
     "data": {
      "image/png": "[encoded data removed]",
      "text/plain": [
       "<Figure size 432x288 with 1 Axes>"
      ]
     },
     "metadata": {
      "needs_background": "light"
     },
     "output_type": "display_data"
    }
   ],
   "source": [
    "fig = plt.figure(figsize=(6,4))\n",
    "\n",
    "# \"x\" should be midpoint (IN LOG SPACE) of each bin\n",
    "log_be = np.log10(bin_edges)\n",
    "x = 10**((log_be[1:] + log_be[:-1])/2)\n",
    "\n",
    "plt.loglog(x, density, marker='o', linestyle='none')\n",
    "plt.xlabel(r\"degree $k$\", fontsize=16)\n",
    "plt.ylabel(r\"$P(k)$\", fontsize=16)\n",
    "\n",
    "# remove right and top boundaries because they're ugly\n",
    "ax = plt.gca()\n",
    "ax.spines['right'].set_visible(False)\n",
    "ax.spines['top'].set_visible(False)\n",
    "ax.yaxis.set_ticks_position('left')\n",
    "ax.xaxis.set_ticks_position('bottom')\n",
    "\n",
    "# Show the plot\n",
    "plt.show()"
   ]
  },
  {
   "cell_type": "code",
   "execution_count": 20,
   "id": "7c830582",
   "metadata": {},
   "outputs": [],
   "source": [
    "# Get 20 logarithmically spaced bins between kmin and kmax\n",
    "bin_edges = np.linspace(kmin, kmax, num=20)\n",
    "\n",
    "# histogram the data into these bins\n",
    "density, _ = np.histogram(degrees, bins=bin_edges, density=True)"
   ]
  },
  {
   "cell_type": "code",
   "execution_count": 21,
   "id": "6e6d3cd7",
   "metadata": {},
   "outputs": [
    {
     "data": {
      "image/png": "[encoded data removed]",
      "text/plain": [
       "<Figure size 432x288 with 1 Axes>"
      ]
     },
     "metadata": {
      "needs_background": "light"
     },
     "output_type": "display_data"
    }
   ],
   "source": [
    "fig = plt.figure(figsize=(6,4))\n",
    "\n",
    "# \"x\" should be midpoint (IN LOG SPACE) of each bin\n",
    "log_be = np.log10(bin_edges)\n",
    "x = 10**((log_be[1:] + log_be[:-1])/2)\n",
    "\n",
    "plt.plot(x, density, marker='o', linestyle='none')\n",
    "plt.xlabel(r\"degree $k$\", fontsize=16)\n",
    "plt.ylabel(r\"$P(k)$\", fontsize=16)\n",
    "\n",
    "# remove right and top boundaries because they're ugly\n",
    "ax = plt.gca()\n",
    "ax.spines['right'].set_visible(False)\n",
    "ax.spines['top'].set_visible(False)\n",
    "ax.yaxis.set_ticks_position('left')\n",
    "ax.xaxis.set_ticks_position('bottom')\n",
    "\n",
    "# Show the plot\n",
    "plt.show()"
   ]
  },
  {
   "cell_type": "code",
   "execution_count": 25,
   "id": "914cdf45",
   "metadata": {},
   "outputs": [
    {
     "data": {
      "text/plain": [
       "7528"
      ]
     },
     "execution_count": 25,
     "metadata": {},
     "output_type": "execute_result"
    }
   ],
   "source": [
    "H = G.copy()\n",
    "\n",
    "nx.connected_double_edge_swap(H, nswap=1*len( G.edges() ))"
   ]
  },
  {
   "cell_type": "code",
   "execution_count": 26,
   "id": "37ae59e0",
   "metadata": {},
   "outputs": [
    {
     "name": "stdout",
     "output_type": "stream",
     "text": [
      "Number of nodes:  8932\n",
      "Number of edges:  13995\n",
      "\n",
      "Average degree:  3.133676668159427\n",
      "Average degree (alternate calculation) 3.133676668159427\n",
      "\n",
      "Minimum degree:  1\n",
      "Maximum degree:  379\n"
     ]
    }
   ],
   "source": [
    "N_1 = len(H)\n",
    "L_1 = H.size()\n",
    "degrees_1 = [H.degree(node) for node in H]\n",
    "kmin_1 = min(degrees_1)\n",
    "kmax_1 = max(degrees_1)\n",
    "\n",
    "print(\"Number of nodes: \", N_1)\n",
    "print(\"Number of edges: \", L_1)\n",
    "print()\n",
    "print(\"Average degree: \", 2*L_1/N_1)\n",
    "print(\"Average degree (alternate calculation)\", np.mean(degrees))\n",
    "print()\n",
    "print(\"Minimum degree: \", kmin_1)\n",
    "print(\"Maximum degree: \", kmax_1)"
   ]
  },
  {
   "cell_type": "markdown",
   "id": "15532a94",
   "metadata": {},
   "source": [
    "The Degree distribution seems to be the same"
   ]
  },
  {
   "cell_type": "code",
   "execution_count": 28,
   "id": "74c90dc9",
   "metadata": {},
   "outputs": [],
   "source": [
    "H_1 = G.copy()"
   ]
  },
  {
   "cell_type": "code",
   "execution_count": 29,
   "id": "e8bc644c",
   "metadata": {},
   "outputs": [
    {
     "data": {
      "text/plain": [
       "347914"
      ]
     },
     "execution_count": 29,
     "metadata": {},
     "output_type": "execute_result"
    }
   ],
   "source": [
    "nx.connected_double_edge_swap(H_1, nswap=50*len( G.edges() ), _window_threshold=3, seed=None)"
   ]
  },
  {
   "cell_type": "code",
   "execution_count": 30,
   "id": "c5ef3ff2",
   "metadata": {},
   "outputs": [],
   "source": [
    "j = 3\n",
    "nx.write_weighted_edgelist(H_1, \"Undirected_Random_Null_Model_{}\".format(j))"
   ]
  },
  {
   "cell_type": "code",
   "execution_count": 31,
   "id": "07f28480",
   "metadata": {},
   "outputs": [],
   "source": [
    "for i in range(1,1000):\n",
    "    H = G.copy()\n",
    "    nx.connected_double_edge_swap(H, nswap=20*len( G.edges() ), _window_threshold=3, seed=None)\n",
    "    nx.write_weighted_edgelist(H, \"Undirected_Unweighted_Models/Undirected_Unweighted_Random_Null_Model_{}\".format(i))"
   ]
  }
 ],
 "metadata": {
  "kernelspec": {
   "display_name": "Python 3 (ipykernel)",
   "language": "python",
   "name": "python3"
  },
  "language_info": {
   "codemirror_mode": {
    "name": "ipython",
    "version": 3
   },
   "file_extension": ".py",
   "mimetype": "text/x-python",
   "name": "python",
   "nbconvert_exporter": "python",
   "pygments_lexer": "ipython3",
   "version": "3.9.7"
  }
 },
 "nbformat": 4,
 "nbformat_minor": 5
}
