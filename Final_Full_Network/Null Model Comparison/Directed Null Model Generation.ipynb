{
 "cells": [
  {
   "cell_type": "markdown",
   "id": "f8398f65",
   "metadata": {},
   "source": [
    "# Directed Null Model Generation"
   ]
  },
  {
   "cell_type": "code",
   "execution_count": 1,
   "id": "dce84996",
   "metadata": {},
   "outputs": [],
   "source": [
    "import pandas as pd\n",
    "import networkx as nx\n",
    "import matplotlib.pyplot as plt\n",
    "import matplotlib as mpl\n",
    "import numpy as np\n",
    "\n",
    "import math\n",
    "\n",
    "%matplotlib inline"
   ]
  },
  {
   "cell_type": "code",
   "execution_count": 3,
   "id": "2f8c0334",
   "metadata": {},
   "outputs": [],
   "source": [
    "import random\n",
    "def double_edge_swap_directed(G, nswap=1, max_tries=100, seed=None):\n",
    "    \"\"\"Swap two edges in the graph while keeping the node in degree and out degree fixed.\n",
    "\n",
    "    A double-edge swap selects two random edges\n",
    "    and creates the new edges u->y and x->v::\n",
    "\n",
    "     u-->v           u-->y\n",
    "            becomes  \n",
    "     x-->y           x-->v\n",
    "\n",
    "    If either the edge u->y or x->v already exist no swap is performed\n",
    "    and another attempt is made to find a suitable edge pair.\n",
    "\n",
    "    Parameters\n",
    "    ----------\n",
    "    G : graph\n",
    "       An undirected graph\n",
    "\n",
    "    nswap : integer (optional, default=1)\n",
    "       Number of double-edge swaps to perform\n",
    "\n",
    "    max_tries : integer (optional)\n",
    "       Maximum number of attempts to swap edges\n",
    "\n",
    "    seed : integer, random_state, or None (default)\n",
    "        Indicator of random number generation state.\n",
    "        See :ref:`Randomness<randomness>`.\n",
    "\n",
    "    Returns\n",
    "    -------\n",
    "    G : graph\n",
    "       The graph after double edge swaps.\n",
    "\n",
    "    Notes\n",
    "    -----\n",
    "    Does not enforce any connectivity constraints.\n",
    "\n",
    "    The graph G is modified in place.\n",
    "    \"\"\"\n",
    "\n",
    "    if nswap > max_tries:\n",
    "        raise nx.NetworkXError(\"Number of swaps > number of tries allowed.\")\n",
    "    if len(G) < 4:\n",
    "        raise nx.NetworkXError(\"Graph has less than four nodes.\")\n",
    "    # Instead of choosing uniformly at random from a generated edge list,\n",
    "    # this algorithm chooses nonuniformly from the set of nodes with\n",
    "    # probability weighted by degree.\n",
    "    n = 0\n",
    "    swapcount = 0\n",
    "    keys, degrees = zip(*G.degree())  # keys, degree\n",
    "    cdf = nx.utils.cumulative_distribution(degrees)  # cdf of degree\n",
    "    discrete_sequence = nx.utils.discrete_sequence\n",
    "    while swapcount < nswap:\n",
    "        #        if random.random() < 0.5: continue # trick to avoid periodicities?\n",
    "        # pick two random edges without creating edge list\n",
    "        # choose source node indices from discrete distribution\n",
    "        (ui, xi) = discrete_sequence(2, cdistribution=cdf, seed=seed)\n",
    "       # print(type(ui))\n",
    "        if ui == xi:\n",
    "            continue  # same source, skip\n",
    "            \n",
    "        u = keys[ui]  # convert index to label\n",
    "        x = keys[xi]\n",
    "\n",
    "        # choose target uniformly from neighbors\n",
    "        if(len(list(G[u])) >0 and len(list(G[x])) >0 ):\n",
    "            v = random.choice(list(G[u]))\n",
    "            y = random.choice(list(G[x]))\n",
    "        else:\n",
    "\n",
    "            continue\n",
    "        if v == y:\n",
    "\n",
    "            continue  # same target, skip\n",
    "        if (v not in G[x]) and (y not in G[u]):  # don't create parallel edges\n",
    "            if (u == y or x ==v): # dont create a self loop\n",
    "                continue\n",
    "            G.add_edge(u, y)\n",
    "            G.add_edge(x, v)\n",
    "            G.remove_edge(u, v)\n",
    "            G.remove_edge(x, y)\n",
    "\n",
    "            swapcount += 1\n",
    "        if n >= max_tries:\n",
    "            e = (\n",
    "                f\"Maximum number of swap attempts ({n}) exceeded \"\n",
    "                f\"before desired swaps achieved ({nswap}).\"\n",
    "            )\n",
    "            raise nx.NetworkXAlgorithmError(e)\n",
    "        n += 1\n",
    "    return G"
   ]
  },
  {
   "cell_type": "code",
   "execution_count": 2,
   "id": "4606c685",
   "metadata": {},
   "outputs": [],
   "source": [
    "G = nx.read_edgelist('largest_component_networkx_format.csv', comments='#',\n",
    "                     create_using=nx.DiGraph(), \n",
    "                     delimiter=',', \n",
    "                     nodetype=int, \n",
    "                     encoding='utf-8')"
   ]
  },
  {
   "cell_type": "markdown",
   "id": "cb599b2f",
   "metadata": {},
   "source": [
    "## Basic Features of this Network"
   ]
  },
  {
   "cell_type": "code",
   "execution_count": 4,
   "id": "e5ef395f",
   "metadata": {},
   "outputs": [],
   "source": [
    "N = len(G)\n",
    "L = G.size()\n",
    "degrees = [G.degree(node) for node in G]\n",
    "kmin = min(degrees)\n",
    "kmax = max(degrees)\n",
    "\n",
    "in_degree"
   ]
  },
  {
   "cell_type": "code",
   "execution_count": 5,
   "id": "2401cf0f",
   "metadata": {},
   "outputs": [
    {
     "name": "stdout",
     "output_type": "stream",
     "text": [
      "Number of nodes:  8932\n",
      "Number of edges:  14001\n",
      "\n",
      "Average degree:  3.1350201522615317\n",
      "Average degree (alternate calculation) 3.1350201522615317\n",
      "\n",
      "Minimum degree:  1\n",
      "Maximum degree:  381\n"
     ]
    }
   ],
   "source": [
    "print(\"Number of nodes: \", N)\n",
    "print(\"Number of edges: \", L)\n",
    "print()\n",
    "print(\"Average degree: \", 2*L/N)\n",
    "print(\"Average degree (alternate calculation)\", np.mean(degrees))\n",
    "print()\n",
    "print(\"Minimum degree: \", kmin)\n",
    "print(\"Maximum degree: \", kmax)\n",
    "\n"
   ]
  },
  {
   "cell_type": "code",
   "execution_count": 6,
   "id": "688c9e57",
   "metadata": {},
   "outputs": [],
   "source": [
    "# Get 10 logarithmically spaced bins between kmin and kmax\n",
    "bin_edges = np.logspace(np.log10(kmin), np.log10(kmax), num=10)\n",
    "\n",
    "# histogram the data into these bins\n",
    "density, _ = np.histogram(degrees, bins=bin_edges, density=True)"
   ]
  },
  {
   "cell_type": "code",
   "execution_count": 7,
   "id": "77100ceb",
   "metadata": {},
   "outputs": [
    {
     "data": {
      "image/png": "[encoded data removed]",
      "text/plain": [
       "<Figure size 432x288 with 1 Axes>"
      ]
     },
     "metadata": {
      "needs_background": "light"
     },
     "output_type": "display_data"
    }
   ],
   "source": [
    "fig = plt.figure(figsize=(6,4))\n",
    "\n",
    "# \"x\" should be midpoint (IN LOG SPACE) of each bin\n",
    "log_be = np.log10(bin_edges)\n",
    "x = 10**((log_be[1:] + log_be[:-1])/2)\n",
    "\n",
    "plt.loglog(x, density, marker='o', linestyle='none')\n",
    "plt.xlabel(r\"degree $k$\", fontsize=16)\n",
    "plt.ylabel(r\"$P(k)$\", fontsize=16)\n",
    "\n",
    "# remove right and top boundaries because they're ugly\n",
    "ax = plt.gca()\n",
    "ax.spines['right'].set_visible(False)\n",
    "ax.spines['top'].set_visible(False)\n",
    "ax.yaxis.set_ticks_position('left')\n",
    "ax.xaxis.set_ticks_position('bottom')\n",
    "\n",
    "# Show the plot\n",
    "plt.show()"
   ]
  },
  {
   "cell_type": "code",
   "execution_count": 8,
   "id": "7c830582",
   "metadata": {},
   "outputs": [],
   "source": [
    "# Get 20 logarithmically spaced bins between kmin and kmax\n",
    "bin_edges = np.linspace(kmin, kmax, num=20)\n",
    "\n",
    "# histogram the data into these bins\n",
    "density, _ = np.histogram(degrees, bins=bin_edges, density=True)"
   ]
  },
  {
   "cell_type": "code",
   "execution_count": 9,
   "id": "6e6d3cd7",
   "metadata": {},
   "outputs": [
    {
     "data": {
      "image/png": "[encoded data removed]",
      "text/plain": [
       "<Figure size 432x288 with 1 Axes>"
      ]
     },
     "metadata": {
      "needs_background": "light"
     },
     "output_type": "display_data"
    }
   ],
   "source": [
    "fig = plt.figure(figsize=(6,4))\n",
    "\n",
    "# \"x\" should be midpoint (IN LOG SPACE) of each bin\n",
    "log_be = np.log10(bin_edges)\n",
    "x = 10**((log_be[1:] + log_be[:-1])/2)\n",
    "\n",
    "plt.plot(x, density, marker='o', linestyle='none')\n",
    "plt.xlabel(r\"degree $k$\", fontsize=16)\n",
    "plt.ylabel(r\"$P(k)$\", fontsize=16)\n",
    "\n",
    "# remove right and top boundaries because they're ugly\n",
    "ax = plt.gca()\n",
    "ax.spines['right'].set_visible(False)\n",
    "ax.spines['top'].set_visible(False)\n",
    "ax.yaxis.set_ticks_position('left')\n",
    "ax.xaxis.set_ticks_position('bottom')\n",
    "\n",
    "# Show the plot\n",
    "plt.show()"
   ]
  },
  {
   "cell_type": "code",
   "execution_count": 13,
   "id": "914cdf45",
   "metadata": {},
   "outputs": [
    {
     "data": {
      "text/plain": [
       "<networkx.classes.digraph.DiGraph at 0x1f42b2dd648>"
      ]
     },
     "execution_count": 13,
     "metadata": {},
     "output_type": "execute_result"
    }
   ],
   "source": [
    "H = G.copy()\n",
    "\n",
    "double_edge_swap_directed(H, nswap=100*len( G.edges() ), max_tries=1e75)"
   ]
  },
  {
   "cell_type": "code",
   "execution_count": 14,
   "id": "37ae59e0",
   "metadata": {},
   "outputs": [
    {
     "name": "stdout",
     "output_type": "stream",
     "text": [
      "Number of nodes:  8932\n",
      "Number of edges:  14001\n",
      "\n",
      "Average degree:  3.1350201522615317\n",
      "Average degree (alternate calculation) 3.1350201522615317\n",
      "\n",
      "Minimum degree:  1\n",
      "Maximum degree:  381\n"
     ]
    }
   ],
   "source": [
    "N_1 = len(H)\n",
    "L_1 = H.size()\n",
    "degrees_1 = [H.degree(node) for node in H]\n",
    "kmin_1 = min(degrees_1)\n",
    "kmax_1 = max(degrees_1)\n",
    "\n",
    "print(\"Number of nodes: \", N_1)\n",
    "print(\"Number of edges: \", L_1)\n",
    "print()\n",
    "print(\"Average degree: \", 2*L_1/N_1)\n",
    "print(\"Average degree (alternate calculation)\", np.mean(degrees))\n",
    "print()\n",
    "print(\"Minimum degree: \", kmin_1)\n",
    "print(\"Maximum degree: \", kmax_1)"
   ]
  },
  {
   "cell_type": "markdown",
   "id": "15532a94",
   "metadata": {},
   "source": [
    "The Degree distribution seems to be the same"
   ]
  },
  {
   "cell_type": "code",
   "execution_count": 16,
   "id": "e4e6bdcf",
   "metadata": {},
   "outputs": [
    {
     "data": {
      "text/plain": [
       "False"
      ]
     },
     "execution_count": 16,
     "metadata": {},
     "output_type": "execute_result"
    }
   ],
   "source": [
    "nx.is_weakly_connected(H)"
   ]
  },
  {
   "cell_type": "code",
   "execution_count": 4,
   "id": "2d01836f",
   "metadata": {},
   "outputs": [],
   "source": [
    "def directed_connected_double_edge_swap(G, nswap=1, _window_threshold=3, seed=None):\n",
    "    \"\"\"Attempts the specified number of double-edge swaps in the graph `G`.\n",
    "\n",
    "    A double-edge swap selects two random edges\n",
    "    and creates the new edges u->x and v->y::\n",
    "\n",
    "     u-->v           u-->y\n",
    "            becomes  \n",
    "     x-->y           x-->v\n",
    "\n",
    "    If either `(u, x)` or `(v, y)` already exist, then no swap is performed\n",
    "    so the actual number of swapped edges is always *at most* `nswap`.\n",
    "\n",
    "    Parameters\n",
    "    ----------\n",
    "    G : graph\n",
    "       An undirected graph\n",
    "\n",
    "    nswap : integer (optional, default=1)\n",
    "       Number of double-edge swaps to perform\n",
    "\n",
    "    _window_threshold : integer\n",
    "\n",
    "       The window size below which connectedness of the graph will be checked\n",
    "       after each swap.\n",
    "\n",
    "       The \"window\" in this function is a dynamically updated integer that\n",
    "       represents the number of swap attempts to make before checking if the\n",
    "       graph remains connected. It is an optimization used to decrease the\n",
    "       running time of the algorithm in exchange for increased complexity of\n",
    "       implementation.\n",
    "\n",
    "       If the window size is below this threshold, then the algorithm checks\n",
    "       after each swap if the graph remains connected by checking if there is a\n",
    "       path joining the two nodes whose edge was just removed. If the window\n",
    "       size is above this threshold, then the algorithm performs do all the\n",
    "       swaps in the window and only then check if the graph is still connected.\n",
    "\n",
    "    seed : integer, random_state, or None (default)\n",
    "        Indicator of random number generation state.\n",
    "        See :ref:`Randomness<randomness>`.\n",
    "\n",
    "    Returns\n",
    "    -------\n",
    "    int\n",
    "       The number of successful swaps\n",
    "\n",
    "    Raises\n",
    "    ------\n",
    "\n",
    "    NetworkXError\n",
    "\n",
    "       If the input graph is not connected, or if the graph has fewer than four\n",
    "       nodes.\n",
    "\n",
    "    Notes\n",
    "    -----\n",
    "\n",
    "    The initial graph `G` must be connected, and the resulting graph is\n",
    "    connected. The graph `G` is modified in place.\n",
    "\n",
    "    References\n",
    "    ----------\n",
    "    .. [1] C. Gkantsidis and M. Mihail and E. Zegura,\n",
    "           The Markov chain simulation method for generating connected\n",
    "           power law random graphs, 2003.\n",
    "           http://citeseer.ist.psu.edu/gkantsidis03markov.html\n",
    "    \"\"\"\n",
    "    if not nx.is_weakly_connected(G):\n",
    "        raise nx.NetworkXError(\"Graph not connected\")\n",
    "\n",
    "    n = 0\n",
    "    swapcount = 0\n",
    "    deg = G.degree()\n",
    "    # Label key for nodes\n",
    "    keys, degrees = zip(*G.degree())  # keys, degree\n",
    "    cdf = nx.utils.cumulative_distribution(list(d for n, d in G.degree()))\n",
    "    discrete_sequence = nx.utils.discrete_sequence\n",
    "    window = 1\n",
    "    while n < nswap:\n",
    "#         print(\"---------------------\")\n",
    "        wcount = 0\n",
    "        swapped = []\n",
    "        # If the window is small, we just check each time whether the graph is\n",
    "        # connected by checking if the nodes that were just separated are still\n",
    "        # connected.\n",
    "        if window < _window_threshold:\n",
    "            # This Boolean keeps track of whether there was a failure or not.\n",
    "            fail = False\n",
    "            while wcount < window and n < nswap:\n",
    "                # Pick two random edges without creating the edge list. Choose\n",
    "                # source nodes from the discrete degree distribution.\n",
    "                (ui, xi) = discrete_sequence(2, cdistribution=cdf, seed=seed)\n",
    "                # If the source nodes are the same, skip this pair.\n",
    "                if ui == xi:\n",
    "                    continue\n",
    "                # Convert an index to a node label.\n",
    "                u = keys[ui]  # convert index to label\n",
    "#                 print(\"u: \")\n",
    "#                 print(u)\n",
    "                x = keys[xi]\n",
    "#                 print(\"x: \")\n",
    "#                 print(x)\n",
    "                # Choose targets uniformly from neighbors.\n",
    "                if(len(list(G[u])) >0 and len(list(G[x])) >0 ):\n",
    "#                     print(\"Outgoing edges u:\")\n",
    "#                     print(list(G[u]))\n",
    "                    v = random.choice(list(G[u]))\n",
    "                    y = random.choice(list(G[x]))\n",
    "#                     print(\"Outgoing edges x:\")\n",
    "#                     print(list(G[x]))\n",
    "#                     print(\"v:\")\n",
    "#                     print(v)\n",
    "            \n",
    "#                     print(\"y:\")\n",
    "#                     print(y)\n",
    "                else:\n",
    "                    continue\n",
    "                # If the target nodes are the same, skip this pair.\n",
    "                if v == y:\n",
    "#                     print(\"sametarget\")\n",
    "                    continue\n",
    "                if (v not in G[x]) and (y not in G[u]):  # don't create parallel edges\n",
    "                    if (u == y or x ==v): # dont create a self loop\n",
    "                        continue\n",
    "                    G.add_edge(u, y)\n",
    "#                     print(\"edge_added: \")\n",
    "#                     print(u)\n",
    "#                     print(\"->\")\n",
    "#                     print(y)\n",
    "                    G.add_edge(x, v)\n",
    "#                     print(\"edge_added: \")\n",
    "#                     print(x)\n",
    "#                     print(\"->\")\n",
    "#                     print(v)\n",
    "\n",
    "#                     print(\"_____removed Edges___\")\n",
    "                    G.remove_edge(u, v)\n",
    "#                     print(u)\n",
    "#                     print(\"->\")\n",
    "#                     print(v)\n",
    "                    G.remove_edge(x, y)\n",
    "#                     print(x)\n",
    "#                     print(\"->\")\n",
    "#                     print(y)\n",
    "#                     print(\"______________________\")\n",
    "                    swapped.append((u, v, x, y))\n",
    "                    swapcount += 1\n",
    "                n += 1\n",
    "                # If G remains connected... WHY ARE BOTH NOT CHECKED?\n",
    "                if nx.has_path(G, u, v):\n",
    "                    wcount += 1\n",
    "                # Otherwise, undo the changes.\n",
    "                else:\n",
    "                    G.add_edge(u, v)\n",
    "                    G.add_edge(x, y)\n",
    "#                     print(\"We made the Graph disconnected\")\n",
    "                    G.remove_edge(u, y)\n",
    "                    G.remove_edge(x, v)\n",
    "                    swapcount -= 1\n",
    "                    fail = True\n",
    "            # If one of the swaps failed, reduce the window size.\n",
    "            if fail:\n",
    "                window = int(math.ceil(window / 2))\n",
    "            else:\n",
    "                window += 1\n",
    "        # If the window is large, then there is a good chance that a bunch of\n",
    "        # swaps will work. It's quicker to do all those swaps first and then\n",
    "        # check if the graph remains connected.\n",
    "        else:\n",
    "            while wcount < window and n < nswap:\n",
    "                # Pick two random edges without creating the edge list. Choose\n",
    "                # source nodes from the discrete degree distribution.\n",
    "                (ui, xi) = nx.utils.discrete_sequence(2, cdistribution=cdf)\n",
    "                # If the source nodes are the same, skip this pair.\n",
    "                if ui == xi:\n",
    "                    continue\n",
    "                u = keys[ui]  # convert index to label\n",
    "#                 print(\"u: \")\n",
    "#                 print(u)\n",
    "                x = keys[xi]\n",
    "#                 print(\"x: \")\n",
    "#                 print(x)\n",
    "                # Choose targets uniformly from neighbors.\n",
    "                if(len(list(G[u])) >0 and len(list(G[x])) >0 ):\n",
    "#                     print(\"Outgoing edges u:\")\n",
    "#                     print(list(G[u]))\n",
    "                    v = random.choice(list(G[u]))\n",
    "                    y = random.choice(list(G[x]))\n",
    "#                     print(\"Outgoing edges x:\")\n",
    "#                     print(list(G[x]))\n",
    "#                     print(\"v:\")\n",
    "#                     print(v)\n",
    "            \n",
    "#                     print(\"y:\")\n",
    "#                     print(y)\n",
    "                else:\n",
    "                    continue\n",
    "                # If the target nodes are the same, skip this pair.\n",
    "                if v == y:\n",
    "                    continue\n",
    "                if (v not in G[x]) and (y not in G[u]):  # don't create parallel edges\n",
    "                    if (u == y or x ==v): # dont create a self loop\n",
    "                        continue\n",
    "                    G.add_edge(u, y)\n",
    "#                     print(\"edge_added: \")\n",
    "#                     print(u)\n",
    "#                     print(\"->\")\n",
    "#                     print(y)\n",
    "                    G.add_edge(x, v)\n",
    "#                     print(\"edge_added: \")\n",
    "#                     print(x)\n",
    "#                     print(\"->\")\n",
    "#                     print(v)\n",
    "\n",
    "#                     print(\"_____removed Edges___\")\n",
    "                    G.remove_edge(u, v)\n",
    "#                     print(u)\n",
    "#                     print(\"->\")\n",
    "#                     print(v)\n",
    "                    G.remove_edge(x, y)\n",
    "#                     print(x)\n",
    "#                     print(\"->\")\n",
    "#                     print(y)\n",
    "#                     print(\"______________________\")\n",
    "                    swapped.append((u, v, x, y))\n",
    "                    swapcount += 1\n",
    "                n += 1\n",
    "                wcount += 1\n",
    "            # If the graph remains connected, increase the window size.\n",
    "            if nx.is_weakly_connected(G):\n",
    "                window += 1\n",
    "            # Otherwise, undo the changes from the previous window and decrease\n",
    "            # the window size.\n",
    "            else:\n",
    "                while swapped:\n",
    "                    (u, v, x, y) = swapped.pop()\n",
    "                    G.add_edge(u, v)\n",
    "                    G.add_edge(x, y)\n",
    "                    G.remove_edge(u, y)\n",
    "                    G.remove_edge(x, v)\n",
    "                    swapcount -= 1\n",
    "                window = int(math.ceil(window / 2))\n",
    "    return swapcount\n"
   ]
  },
  {
   "cell_type": "code",
   "execution_count": 23,
   "id": "74c90dc9",
   "metadata": {},
   "outputs": [],
   "source": [
    "H_1 = G.copy()"
   ]
  },
  {
   "cell_type": "code",
   "execution_count": 29,
   "id": "e8bc644c",
   "metadata": {},
   "outputs": [
    {
     "data": {
      "text/plain": [
       "631878"
      ]
     },
     "execution_count": 29,
     "metadata": {},
     "output_type": "execute_result"
    }
   ],
   "source": [
    "directed_connected_double_edge_swap(H_1, nswap=50*len( G.edges() ))"
   ]
  },
  {
   "cell_type": "code",
   "execution_count": 27,
   "id": "85513afb",
   "metadata": {},
   "outputs": [
    {
     "data": {
      "text/plain": [
       "True"
      ]
     },
     "execution_count": 27,
     "metadata": {},
     "output_type": "execute_result"
    }
   ],
   "source": [
    "nx.is_weakly_connected(H_1)"
   ]
  },
  {
   "cell_type": "code",
   "execution_count": 30,
   "id": "c5ef3ff2",
   "metadata": {},
   "outputs": [],
   "source": [
    "j = 3\n",
    "nx.write_weighted_edgelist(H_1, \"Directed_Random_Null_Model_{}\".format(j))"
   ]
  },
  {
   "cell_type": "code",
   "execution_count": 6,
   "id": "07f28480",
   "metadata": {},
   "outputs": [],
   "source": [
    "for i in range(665,1000):\n",
    "    H = G.copy()\n",
    "    directed_connected_double_edge_swap(H, nswap=20*len( G.edges() ))\n",
    "    nx.write_weighted_edgelist(H, \"Directed_Unweighted_Models/Directed_Unweighted_Random_Null_Model_{}\".format(i))"
   ]
  },
  {
   "cell_type": "code",
   "execution_count": null,
   "id": "f5c92507",
   "metadata": {},
   "outputs": [],
   "source": []
  }
 ],
 "metadata": {
  "kernelspec": {
   "display_name": "Python 3",
   "language": "python",
   "name": "python3"
  },
  "language_info": {
   "codemirror_mode": {
    "name": "ipython",
    "version": 3
   },
   "file_extension": ".py",
   "mimetype": "text/x-python",
   "name": "python",
   "nbconvert_exporter": "python",
   "pygments_lexer": "ipython3",
   "version": "3.6.9"
  }
 },
 "nbformat": 4,
 "nbformat_minor": 5
}
