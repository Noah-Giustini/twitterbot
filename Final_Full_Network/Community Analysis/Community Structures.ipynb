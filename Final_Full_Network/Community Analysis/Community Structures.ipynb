{
 "cells": [
  {
   "cell_type": "code",
   "execution_count": 64,
   "id": "f4066331",
   "metadata": {},
   "outputs": [],
   "source": [
    "import pandas as pd\n",
    "import networkx as nx\n",
    "import matplotlib.pyplot as plt\n",
    "import networkx.algorithms.community as nx_comm\n",
    "from networkx.algorithms.community import greedy_modularity_communities"
   ]
  },
  {
   "cell_type": "code",
   "execution_count": 65,
   "id": "bd7a444e",
   "metadata": {},
   "outputs": [],
   "source": [
    "G = nx.read_edgelist('../networkx_format_network.txt', comments='#',\n",
    "                     create_using=nx.Graph(), \n",
    "                     delimiter=',', \n",
    "                     nodetype=int, \n",
    "                     encoding='utf-8')"
   ]
  },
  {
   "cell_type": "code",
   "execution_count": null,
   "id": "8de6aa05",
   "metadata": {},
   "outputs": [],
   "source": [
    "# resolution = []\n",
    "# modularity = []\n",
    "\n",
    "# for x in range (2, 20):\n",
    "#     buffResolution = x/10\n",
    "#     print(\"Resolution: \", buffResolution)\n",
    "#     resolution.append(x/10)\n",
    "#     community = list(nx_comm.greedy_modularity_communities(G, resolution=buffResolution))\n",
    "#     sorted(community)\n",
    "#     print(\"Length of community: \", len(community))\n",
    "#     # print(community)\n",
    "#     buffModularity = nx_comm.modularity(G, community)\n",
    "#     modularity.append(buffModularity)\n",
    "#     print(\"Modularity: \", buffModularity)\n",
    "#     print(\"\")"
   ]
  },
  {
   "cell_type": "code",
   "execution_count": 87,
   "id": "4369d724",
   "metadata": {},
   "outputs": [
    {
     "name": "stdout",
     "output_type": "stream",
     "text": [
      "Resolution:  0.131\n",
      "Length of community:  23\n",
      "Modularity:  0.3750279269849839\n",
      "\n",
      "Resolution:  0.132\n",
      "Length of community:  24\n",
      "Modularity:  0.3756574459227047\n",
      "\n",
      "Resolution:  0.133\n",
      "Length of community:  24\n",
      "Modularity:  0.3756574459227047\n",
      "\n",
      "Resolution:  0.134\n",
      "Length of community:  24\n",
      "Modularity:  0.3756574459227047\n",
      "\n",
      "Resolution:  0.135\n",
      "Length of community:  24\n",
      "Modularity:  0.3756574459227047\n",
      "\n",
      "Resolution:  0.136\n",
      "Length of community:  24\n",
      "Modularity:  0.3756574459227047\n",
      "\n",
      "Resolution:  0.137\n",
      "Length of community:  24\n",
      "Modularity:  0.3756574459227047\n",
      "\n",
      "Resolution:  0.138\n",
      "Length of community:  24\n",
      "Modularity:  0.3756574459227047\n",
      "\n",
      "Resolution:  0.139\n",
      "Length of community:  25\n",
      "Modularity:  0.3758639181510821\n",
      "\n",
      "Resolution:  0.14\n",
      "Length of community:  21\n",
      "Modularity:  0.5157181724106117\n",
      "\n"
     ]
    }
   ],
   "source": [
    "resolution = []\n",
    "modularity = []\n",
    "\n",
    "for x in range (1, 11):\n",
    "    buffResolution = x/1000+0.13\n",
    "    print(\"Resolution: \", buffResolution)\n",
    "    resolution.append(buffResolution)\n",
    "    community = list(greedy_modularity_communities(G, resolution=buffResolution))\n",
    "    sorted(community)\n",
    "    print(\"Length of community: \", len(community))\n",
    "    # print(community)\n",
    "    buffModularity = nx_comm.modularity(G, community)\n",
    "    modularity.append(buffModularity)\n",
    "    print(\"Modularity: \", buffModularity)\n",
    "    print(\"\")"
   ]
  },
  {
   "cell_type": "code",
   "execution_count": null,
   "id": "6a6ce54d",
   "metadata": {},
   "outputs": [
    {
     "ename": "NameError",
     "evalue": "name 'plt' is not defined",
     "output_type": "error",
     "traceback": [
      "\u001b[0;31m---------------------------------------------------------------------------\u001b[0m",
      "\u001b[0;31mNameError\u001b[0m                                 Traceback (most recent call last)",
      "\u001b[0;32m/var/folders/wn/1mvcpj3979n1g9j9msg3rg1h0000gn/T/ipykernel_3223/592400439.py\u001b[0m in \u001b[0;36m<module>\u001b[0;34m\u001b[0m\n\u001b[1;32m      2\u001b[0m \u001b[0mdf\u001b[0m \u001b[0;34m=\u001b[0m \u001b[0mpd\u001b[0m\u001b[0;34m.\u001b[0m\u001b[0mDataFrame\u001b[0m\u001b[0;34m(\u001b[0m\u001b[0mmodData\u001b[0m\u001b[0;34m,\u001b[0m\u001b[0mcolumns\u001b[0m\u001b[0;34m=\u001b[0m\u001b[0;34m[\u001b[0m\u001b[0;34m'Resolution'\u001b[0m\u001b[0;34m,\u001b[0m\u001b[0;34m'Modularity'\u001b[0m\u001b[0;34m]\u001b[0m\u001b[0;34m)\u001b[0m\u001b[0;34m\u001b[0m\u001b[0;34m\u001b[0m\u001b[0m\n\u001b[1;32m      3\u001b[0m \u001b[0mdf\u001b[0m\u001b[0;34m.\u001b[0m\u001b[0mplot\u001b[0m\u001b[0;34m(\u001b[0m\u001b[0mx\u001b[0m \u001b[0;34m=\u001b[0m\u001b[0;34m'Modularity'\u001b[0m\u001b[0;34m,\u001b[0m \u001b[0my\u001b[0m\u001b[0;34m=\u001b[0m\u001b[0;34m'Resolution'\u001b[0m\u001b[0;34m,\u001b[0m \u001b[0mkind\u001b[0m \u001b[0;34m=\u001b[0m \u001b[0;34m'line'\u001b[0m\u001b[0;34m)\u001b[0m\u001b[0;34m\u001b[0m\u001b[0;34m\u001b[0m\u001b[0m\n\u001b[0;32m----> 4\u001b[0;31m \u001b[0mplt\u001b[0m\u001b[0;34m.\u001b[0m\u001b[0mshow\u001b[0m\u001b[0;34m(\u001b[0m\u001b[0;34m)\u001b[0m\u001b[0;34m\u001b[0m\u001b[0;34m\u001b[0m\u001b[0m\n\u001b[0m",
      "\u001b[0;31mNameError\u001b[0m: name 'plt' is not defined"
     ]
    },
    {
     "data": {
      "image/png": "[encoded data removed]",
      "text/plain": [
       "<Figure size 432x288 with 1 Axes>"
      ]
     },
     "metadata": {
      "needs_background": "light"
     },
     "output_type": "display_data"
    }
   ],
   "source": [
    "modData = {\"Resolution\": resolution, \"Modularity\": modularity}\n",
    "df = pd.DataFrame(modData,columns=['Resolution','Modularity'])\n",
    "df.plot(x ='Modularity', y='Resolution', kind = 'line')\n",
    "plt.show()"
   ]
  }
 ],
 "metadata": {
  "interpreter": {
   "hash": "aee8b7b246df8f9039afb4144a1f6fd8d2ca17a180786b69acc140d282b71a49"
  },
  "kernelspec": {
   "display_name": "Python 3.9.7 64-bit",
   "name": "python3"
  },
  "language_info": {
   "codemirror_mode": {
    "name": "ipython",
    "version": 3
   },
   "file_extension": ".py",
   "mimetype": "text/x-python",
   "name": "python",
   "nbconvert_exporter": "python",
   "pygments_lexer": "ipython3",
   "version": "3.9.7"
  }
 },
 "nbformat": 4,
 "nbformat_minor": 5
}
