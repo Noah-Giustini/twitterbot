{
 "cells": [
  {
   "cell_type": "markdown",
   "id": "121c244f",
   "metadata": {},
   "source": [
    "# Influence and Homophily"
   ]
  },
  {
   "cell_type": "code",
   "execution_count": 1,
   "id": "9217dbfb",
   "metadata": {},
   "outputs": [],
   "source": [
    "import numpy as np\n",
    "import networkx as nx\n",
    "import matplotlib.pyplot as plt\n",
    "import matplotlib as mpl\n",
    "%matplotlib inline"
   ]
  },
  {
   "cell_type": "code",
   "execution_count": 2,
   "id": "39374be3",
   "metadata": {},
   "outputs": [],
   "source": [
    "# Read in the data and group by political party - those are the first groups "
   ]
  },
  {
   "cell_type": "code",
   "execution_count": 3,
   "id": "b6acbca8",
   "metadata": {},
   "outputs": [],
   "source": [
    "#this would be a measure of if the political mps interact with each other"
   ]
  },
  {
   "cell_type": "code",
   "execution_count": 4,
   "id": "651d4b24",
   "metadata": {},
   "outputs": [],
   "source": [
    "import pandas as pd"
   ]
  },
  {
   "cell_type": "code",
   "execution_count": null,
   "id": "08c90ec9",
   "metadata": {},
   "outputs": [],
   "source": [
    "pd.read_csv('')"
   ]
  }
 ],
 "metadata": {
  "kernelspec": {
   "display_name": "Python 3 (ipykernel)",
   "language": "python",
   "name": "python3"
  },
  "language_info": {
   "codemirror_mode": {
    "name": "ipython",
    "version": 3
   },
   "file_extension": ".py",
   "mimetype": "text/x-python",
   "name": "python",
   "nbconvert_exporter": "python",
   "pygments_lexer": "ipython3",
   "version": "3.7.9"
  }
 },
 "nbformat": 4,
 "nbformat_minor": 5
}
