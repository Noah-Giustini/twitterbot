{
 "cells": [
  {
   "cell_type": "markdown",
   "id": "9b0e3e22",
   "metadata": {},
   "source": [
    "# More Data Wrangling "
   ]
  },
  {
   "cell_type": "code",
   "execution_count": 1,
   "id": "f6bb09ef",
   "metadata": {},
   "outputs": [],
   "source": [
    "import pandas as pd\n",
    "import networkx as nx\n",
    "import matplotlib.pyplot as plt\n",
    "import matplotlib as mpl\n",
    "%matplotlib inline"
   ]
  },
  {
   "cell_type": "markdown",
   "id": "bd88f0cd",
   "metadata": {},
   "source": [
    "## Add isUser section to edges"
   ]
  },
  {
   "cell_type": "code",
   "execution_count": null,
   "id": "273ef43e",
   "metadata": {},
   "outputs": [],
   "source": []
  }
 ],
 "metadata": {
  "kernelspec": {
   "display_name": "Python 3 (ipykernel)",
   "language": "python",
   "name": "python3"
  },
  "language_info": {
   "codemirror_mode": {
    "name": "ipython",
    "version": 3
   },
   "file_extension": ".py",
   "mimetype": "text/x-python",
   "name": "python",
   "nbconvert_exporter": "python",
   "pygments_lexer": "ipython3",
   "version": "3.7.0"
  }
 },
 "nbformat": 4,
 "nbformat_minor": 5
}
