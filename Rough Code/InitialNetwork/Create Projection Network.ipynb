{
 "cells": [
  {
   "cell_type": "markdown",
   "id": "045f0fe3",
   "metadata": {},
   "source": [
    "# Create Projection Network"
   ]
  },
  {
   "cell_type": "code",
   "execution_count": 4,
   "id": "dd85bf5f",
   "metadata": {},
   "outputs": [],
   "source": [
    "import pandas as pd\n",
    "import networkx as nx\n",
    "import matplotlib.pyplot as plt\n",
    "import matplotlib as mpl\n",
    "%matplotlib inline"
   ]
  },
  {
   "cell_type": "code",
   "execution_count": 5,
   "id": "9114eefc",
   "metadata": {},
   "outputs": [],
   "source": [
    "G = nx.read_edgelist('tweet-retweet-edges.csv', comments='#',\n",
    "                     create_using=nx.Graph(), \n",
    "                     delimiter=',', \n",
    "                     nodetype=int, \n",
    "                     encoding='utf-8')"
   ]
  },
  {
   "cell_type": "code",
   "execution_count": 7,
   "id": "970e4314",
   "metadata": {},
   "outputs": [],
   "source": [
    "retweeters = pd.read_csv('retweetingUsers_nodes.csv')"
   ]
  },
  {
   "cell_type": "code",
   "execution_count": 9,
   "id": "cf353291",
   "metadata": {},
   "outputs": [],
   "source": [
    "Projection =  nx.bipartite.projected_graph(G,list(retweeters['userId']))"
   ]
  },
  {
   "cell_type": "code",
   "execution_count": 10,
   "id": "f9d16d98",
   "metadata": {},
   "outputs": [],
   "source": [
    "nx.write_edgelist(Projection, \"full_projection.csv\", data=False)\n"
   ]
  },
  {
   "cell_type": "code",
   "execution_count": null,
   "id": "cd91e0c3",
   "metadata": {},
   "outputs": [],
   "source": []
  }
 ],
 "metadata": {
  "kernelspec": {
   "display_name": "Python 3 (ipykernel)",
   "language": "python",
   "name": "python3"
  },
  "language_info": {
   "codemirror_mode": {
    "name": "ipython",
    "version": 3
   },
   "file_extension": ".py",
   "mimetype": "text/x-python",
   "name": "python",
   "nbconvert_exporter": "python",
   "pygments_lexer": "ipython3",
   "version": "3.7.0"
  }
 },
 "nbformat": 4,
 "nbformat_minor": 5
}
