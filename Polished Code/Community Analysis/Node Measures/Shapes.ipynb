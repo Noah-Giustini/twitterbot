{
 "cells": [
  {
   "cell_type": "code",
   "execution_count": 1,
   "id": "eaaf8120",
   "metadata": {},
   "outputs": [],
   "source": [
    "import pandas as pd\n",
    "import networkx as nx"
   ]
  },
  {
   "cell_type": "code",
   "execution_count": 9,
   "id": "9355207a",
   "metadata": {},
   "outputs": [],
   "source": [
    "#read in the file and strip the newlines\n",
    "lines = [x.rstrip('\\n') for x in open('Network export nodes 8.csv','r')]"
   ]
  },
  {
   "cell_type": "code",
   "execution_count": 12,
   "id": "9f22c1c9",
   "metadata": {},
   "outputs": [],
   "source": [
    "#loop through the lines in the file and assign it a shape {6,3,1} based on affiliation\n",
    "i = 0\n",
    "f = open('shapes.csv', 'w')\n",
    "for line in lines:\n",
    "    shape = 6\n",
    "    if (i != 0):\n",
    "        attrs = line.split(\",\")\n",
    "        if (attrs[6] == \"Activist Organization\"):\n",
    "            shape = 3\n",
    "        elif (attrs[6] == \"\"):\n",
    "            shape = 1\n",
    "        outstr = attrs[0] + \",\" + str(shape) + \"\\n\"\n",
    "        f.write(outstr)\n",
    "    i+=1\n",
    "        "
   ]
  },
  {
   "cell_type": "code",
   "execution_count": null,
   "id": "dc0038d1",
   "metadata": {},
   "outputs": [],
   "source": []
  }
 ],
 "metadata": {
  "kernelspec": {
   "display_name": "Python 3",
   "language": "python",
   "name": "python3"
  },
  "language_info": {
   "codemirror_mode": {
    "name": "ipython",
    "version": 3
   },
   "file_extension": ".py",
   "mimetype": "text/x-python",
   "name": "python",
   "nbconvert_exporter": "python",
   "pygments_lexer": "ipython3",
   "version": "3.5.2"
  }
 },
 "nbformat": 4,
 "nbformat_minor": 5
}
