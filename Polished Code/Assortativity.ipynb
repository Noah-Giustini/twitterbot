{
 "cells": [
  {
   "cell_type": "markdown",
   "id": "535c767c",
   "metadata": {},
   "source": [
    "# Assortativity"
   ]
  },
  {
   "cell_type": "code",
   "execution_count": 5,
   "id": "6467816f",
   "metadata": {},
   "outputs": [],
   "source": [
    "import networkx as nx\n",
    "import pandas as pd"
   ]
  },
  {
   "cell_type": "code",
   "execution_count": 6,
   "id": "a6e32226",
   "metadata": {},
   "outputs": [],
   "source": [
    "G = nx.read_edgelist('../networkx_df.csv', comments='#',\n",
    "                     create_using=nx.Graph(), \n",
    "                     delimiter=',', \n",
    "                     nodetype=int, \n",
    "                     encoding='utf-8')"
   ]
  },
  {
   "cell_type": "markdown",
   "id": "940d525a",
   "metadata": {},
   "source": [
    "## Full Network"
   ]
  },
  {
   "cell_type": "code",
   "execution_count": 14,
   "id": "ba70f5f7",
   "metadata": {},
   "outputs": [
    {
     "name": "stdout",
     "output_type": "stream",
     "text": [
      "-0.48\n"
     ]
    }
   ],
   "source": [
    "r = nx.degree_assortativity_coefficient(G)\n",
    "print(f\"{r:3.2f}\")"
   ]
  },
  {
   "cell_type": "markdown",
   "id": "d4826c71",
   "metadata": {},
   "source": [
    "Look at Subcommunities"
   ]
  },
  {
   "cell_type": "code",
   "execution_count": 8,
   "id": "2a00d4b5",
   "metadata": {},
   "outputs": [],
   "source": [
    "nodes_df = pd.read_csv('../nodes_with_metadata.csv')"
   ]
  },
  {
   "cell_type": "code",
   "execution_count": 9,
   "id": "11e9d0dd",
   "metadata": {
    "scrolled": true
   },
   "outputs": [
    {
     "data": {
      "text/html": [
       "<div>\n",
       "<style scoped>\n",
       "    .dataframe tbody tr th:only-of-type {\n",
       "        vertical-align: middle;\n",
       "    }\n",
       "\n",
       "    .dataframe tbody tr th {\n",
       "        vertical-align: top;\n",
       "    }\n",
       "\n",
       "    .dataframe thead th {\n",
       "        text-align: right;\n",
       "    }\n",
       "</style>\n",
       "<table border=\"1\" class=\"dataframe\">\n",
       "  <thead>\n",
       "    <tr style=\"text-align: right;\">\n",
       "      <th></th>\n",
       "      <th>Id</th>\n",
       "      <th>Label</th>\n",
       "      <th>timeset</th>\n",
       "      <th>communityid</th>\n",
       "      <th>twittername</th>\n",
       "      <th>first name</th>\n",
       "      <th>last name</th>\n",
       "      <th>political affiliation</th>\n",
       "      <th>indegree</th>\n",
       "      <th>outdegree</th>\n",
       "      <th>degree</th>\n",
       "      <th>eigencentrality</th>\n",
       "      <th>community</th>\n",
       "      <th>polygon</th>\n",
       "    </tr>\n",
       "  </thead>\n",
       "  <tbody>\n",
       "    <tr>\n",
       "      <th>8974</th>\n",
       "      <td>77596220</td>\n",
       "      <td>NaN</td>\n",
       "      <td>NaN</td>\n",
       "      <td>2</td>\n",
       "      <td>NaN</td>\n",
       "      <td>NaN</td>\n",
       "      <td>NaN</td>\n",
       "      <td>NaN</td>\n",
       "      <td>0</td>\n",
       "      <td>1</td>\n",
       "      <td>1</td>\n",
       "      <td>0.0</td>\n",
       "      <td>NDP</td>\n",
       "      <td>1</td>\n",
       "    </tr>\n",
       "    <tr>\n",
       "      <th>8975</th>\n",
       "      <td>891058415195303939</td>\n",
       "      <td>NaN</td>\n",
       "      <td>NaN</td>\n",
       "      <td>2</td>\n",
       "      <td>NaN</td>\n",
       "      <td>NaN</td>\n",
       "      <td>NaN</td>\n",
       "      <td>NaN</td>\n",
       "      <td>0</td>\n",
       "      <td>1</td>\n",
       "      <td>1</td>\n",
       "      <td>0.0</td>\n",
       "      <td>NDP</td>\n",
       "      <td>1</td>\n",
       "    </tr>\n",
       "    <tr>\n",
       "      <th>8976</th>\n",
       "      <td>1095768409449459712</td>\n",
       "      <td>NaN</td>\n",
       "      <td>NaN</td>\n",
       "      <td>2</td>\n",
       "      <td>NaN</td>\n",
       "      <td>NaN</td>\n",
       "      <td>NaN</td>\n",
       "      <td>NaN</td>\n",
       "      <td>0</td>\n",
       "      <td>1</td>\n",
       "      <td>1</td>\n",
       "      <td>0.0</td>\n",
       "      <td>NDP</td>\n",
       "      <td>1</td>\n",
       "    </tr>\n",
       "    <tr>\n",
       "      <th>8977</th>\n",
       "      <td>881426857</td>\n",
       "      <td>NaN</td>\n",
       "      <td>NaN</td>\n",
       "      <td>2</td>\n",
       "      <td>NaN</td>\n",
       "      <td>NaN</td>\n",
       "      <td>NaN</td>\n",
       "      <td>NaN</td>\n",
       "      <td>0</td>\n",
       "      <td>1</td>\n",
       "      <td>1</td>\n",
       "      <td>0.0</td>\n",
       "      <td>NDP</td>\n",
       "      <td>1</td>\n",
       "    </tr>\n",
       "    <tr>\n",
       "      <th>8978</th>\n",
       "      <td>17388526</td>\n",
       "      <td>NaN</td>\n",
       "      <td>NaN</td>\n",
       "      <td>2</td>\n",
       "      <td>NaN</td>\n",
       "      <td>NaN</td>\n",
       "      <td>NaN</td>\n",
       "      <td>NaN</td>\n",
       "      <td>0</td>\n",
       "      <td>1</td>\n",
       "      <td>1</td>\n",
       "      <td>0.0</td>\n",
       "      <td>NDP</td>\n",
       "      <td>1</td>\n",
       "    </tr>\n",
       "  </tbody>\n",
       "</table>\n",
       "</div>"
      ],
      "text/plain": [
       "                       Id  Label  timeset  communityid twittername first name  \\\n",
       "8974             77596220    NaN      NaN            2         NaN        NaN   \n",
       "8975   891058415195303939    NaN      NaN            2         NaN        NaN   \n",
       "8976  1095768409449459712    NaN      NaN            2         NaN        NaN   \n",
       "8977            881426857    NaN      NaN            2         NaN        NaN   \n",
       "8978             17388526    NaN      NaN            2         NaN        NaN   \n",
       "\n",
       "     last name political affiliation  indegree  outdegree  degree  \\\n",
       "8974       NaN                   NaN         0          1       1   \n",
       "8975       NaN                   NaN         0          1       1   \n",
       "8976       NaN                   NaN         0          1       1   \n",
       "8977       NaN                   NaN         0          1       1   \n",
       "8978       NaN                   NaN         0          1       1   \n",
       "\n",
       "      eigencentrality community  polygon  \n",
       "8974              0.0       NDP        1  \n",
       "8975              0.0       NDP        1  \n",
       "8976              0.0       NDP        1  \n",
       "8977              0.0       NDP        1  \n",
       "8978              0.0       NDP        1  "
      ]
     },
     "execution_count": 9,
     "metadata": {},
     "output_type": "execute_result"
    }
   ],
   "source": [
    "nodes_df.tail()"
   ]
  },
  {
   "cell_type": "markdown",
   "id": "7624f4a0",
   "metadata": {},
   "source": [
    "## Liberal Community Assortativity Coefficient"
   ]
  },
  {
   "cell_type": "code",
   "execution_count": 10,
   "id": "07b11d30",
   "metadata": {},
   "outputs": [],
   "source": [
    "#select all unique nodes from liberal community\n",
    "lib_comm_nodes = nodes_df[nodes_df['community']==\"Liberal\"]['Id'].unique()"
   ]
  },
  {
   "cell_type": "code",
   "execution_count": 11,
   "id": "544dcb87",
   "metadata": {},
   "outputs": [
    {
     "data": {
      "text/plain": [
       "array([1417929933800751104, 1052290795942731777, 1247907027650838528, ...,\n",
       "                 968892402,           361299964,           465567742],\n",
       "      dtype=int64)"
      ]
     },
     "execution_count": 11,
     "metadata": {},
     "output_type": "execute_result"
    }
   ],
   "source": [
    "lib_comm_nodes"
   ]
  },
  {
   "cell_type": "code",
   "execution_count": 12,
   "id": "b2600324",
   "metadata": {},
   "outputs": [],
   "source": [
    "#get H as a subgraph of G with those nodes\n",
    "H = G.subgraph(lib_comm_nodes)"
   ]
  },
  {
   "cell_type": "code",
   "execution_count": 13,
   "id": "fb11781f",
   "metadata": {},
   "outputs": [
    {
     "name": "stdout",
     "output_type": "stream",
     "text": [
      "-0.54\n"
     ]
    }
   ],
   "source": [
    "#compute assortativity\n",
    "r = nx.degree_assortativity_coefficient(H)\n",
    "print(f\"{r:3.2f}\")"
   ]
  },
  {
   "cell_type": "markdown",
   "id": "15b872c1",
   "metadata": {},
   "source": [
    "The rest of these follow the same process as the first one the cells but are uncommented"
   ]
  },
  {
   "cell_type": "markdown",
   "id": "409e130e",
   "metadata": {},
   "source": [
    "## NDP Community Assortativity Coefficient"
   ]
  },
  {
   "cell_type": "code",
   "execution_count": 16,
   "id": "b652d97a",
   "metadata": {},
   "outputs": [],
   "source": [
    "ndp_comm_nodes = nodes_df[nodes_df['community']==\"NDP\"]['Id'].unique()"
   ]
  },
  {
   "cell_type": "code",
   "execution_count": 17,
   "id": "63791669",
   "metadata": {},
   "outputs": [
    {
     "name": "stdout",
     "output_type": "stream",
     "text": [
      "-0.49\n"
     ]
    }
   ],
   "source": [
    "H = G.subgraph(ndp_comm_nodes)\n",
    "r = nx.degree_assortativity_coefficient(H)\n",
    "print(f\"{r:3.2f}\")"
   ]
  },
  {
   "cell_type": "markdown",
   "id": "a80c88df",
   "metadata": {},
   "source": [
    "## Conservative Community Assortativity Coefficient"
   ]
  },
  {
   "cell_type": "code",
   "execution_count": 18,
   "id": "77beb938",
   "metadata": {},
   "outputs": [
    {
     "name": "stdout",
     "output_type": "stream",
     "text": [
      "-0.46\n"
     ]
    }
   ],
   "source": [
    "con_comm_nodes = nodes_df[nodes_df['community']==\"Conservative\"]['Id'].unique()\n",
    "H = G.subgraph(con_comm_nodes)\n",
    "r = nx.degree_assortativity_coefficient(H)\n",
    "print(f\"{r:3.2f}\")"
   ]
  },
  {
   "cell_type": "markdown",
   "id": "b2338ff1",
   "metadata": {},
   "source": [
    "## LGBT Community Assortativity Coefficient"
   ]
  },
  {
   "cell_type": "code",
   "execution_count": 19,
   "id": "0cfadbe8",
   "metadata": {},
   "outputs": [
    {
     "name": "stdout",
     "output_type": "stream",
     "text": [
      "-0.77\n"
     ]
    }
   ],
   "source": [
    "lgbt_comm_nodes = nodes_df[nodes_df['community']==\"LGBTQ2S+\"]['Id'].unique()\n",
    "H = G.subgraph(lgbt_comm_nodes)\n",
    "r = nx.degree_assortativity_coefficient(H)\n",
    "print(f\"{r:3.2f}\")"
   ]
  },
  {
   "cell_type": "markdown",
   "id": "fdd1cd65",
   "metadata": {},
   "source": [
    "## Bloc Community Assortativity Coefficient"
   ]
  },
  {
   "cell_type": "code",
   "execution_count": 20,
   "id": "29089cc7",
   "metadata": {},
   "outputs": [
    {
     "name": "stdout",
     "output_type": "stream",
     "text": [
      "-0.63\n"
     ]
    }
   ],
   "source": [
    "bloc_comm_nodes = nodes_df[nodes_df['community']==\"Bloc Québécois\"]['Id'].unique()\n",
    "H = G.subgraph(bloc_comm_nodes)\n",
    "r = nx.degree_assortativity_coefficient(H)\n",
    "print(f\"{r:3.2f}\")"
   ]
  },
  {
   "cell_type": "markdown",
   "id": "843bff6a",
   "metadata": {},
   "source": [
    "## Conservative Activists Community Assortativity Coefficient"
   ]
  },
  {
   "cell_type": "code",
   "execution_count": 22,
   "id": "c5445979",
   "metadata": {},
   "outputs": [
    {
     "name": "stdout",
     "output_type": "stream",
     "text": [
      "-0.80\n"
     ]
    }
   ],
   "source": [
    "bloc_comm_nodes = nodes_df[nodes_df['community']==\"Conservative Activists\"]['Id'].unique()\n",
    "H = G.subgraph(bloc_comm_nodes)\n",
    "r = nx.degree_assortativity_coefficient(H)\n",
    "print(f\"{r:3.2f}\")"
   ]
  },
  {
   "cell_type": "code",
   "execution_count": null,
   "id": "dccfda13",
   "metadata": {},
   "outputs": [],
   "source": []
  }
 ],
 "metadata": {
  "kernelspec": {
   "display_name": "Python 3 (ipykernel)",
   "language": "python",
   "name": "python3"
  },
  "language_info": {
   "codemirror_mode": {
    "name": "ipython",
    "version": 3
   },
   "file_extension": ".py",
   "mimetype": "text/x-python",
   "name": "python",
   "nbconvert_exporter": "python",
   "pygments_lexer": "ipython3",
   "version": "3.7.9"
  }
 },
 "nbformat": 4,
 "nbformat_minor": 5
}
